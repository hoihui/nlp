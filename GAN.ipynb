{
  "nbformat": 4,
  "nbformat_minor": 0,
  "metadata": {
    "colab": {
      "name": "CNN.ipynb",
      "version": "0.3.2",
      "provenance": [],
      "include_colab_link": true
    },
    "language_info": {
      "codemirror_mode": {
        "name": "ipython",
        "version": 3
      },
      "file_extension": ".py",
      "mimetype": "text/x-python",
      "name": "python",
      "nbconvert_exporter": "python",
      "pygments_lexer": "ipython3",
      "version": "3.6.8"
    },
    "kernelspec": {
      "display_name": "Python 3",
      "language": "python",
      "name": "python3"
    },
    "accelerator": "GPU"
  },
  "cells": [
    {
      "cell_type": "markdown",
      "metadata": {
        "id": "view-in-github",
        "colab_type": "text"
      },
      "source": [
        "<a href=\"https://colab.research.google.com/github/hoihui/pkgs/blob/master/GAN.ipynb\" target=\"_parent\"><img src=\"https://colab.research.google.com/assets/colab-badge.svg\" alt=\"Open In Colab\"/></a>"
      ]
    },
    {
      "cell_type": "markdown",
      "metadata": {
        "colab_type": "text",
        "id": "4VdyRtU-07Li"
      },
      "source": [
        "<a href=\"https://colab.research.google.com/github/hoihui/pkgs/blob/master/GAN.ipynb\" target=\"_parent\"><img src=\"https://colab.research.google.com/assets/colab-badge.svg\" alt=\"Open In Colab\"/></a>"
      ]
    },
    {
      "cell_type": "code",
      "metadata": {
        "colab_type": "code",
        "id": "XUiGCMEX07Ln",
        "colab": {}
      },
      "source": [
        "import pandas as pd, numpy as np\n",
        "import matplotlib.pyplot as plt\n",
        "%matplotlib inline"
      ],
      "execution_count": 0,
      "outputs": []
    },
    {
      "cell_type": "code",
      "metadata": {
        "colab_type": "code",
        "id": "oMb1qEPX07Lw",
        "outputId": "dbc702da-b70d-45bf-ba2c-d28b4ba2684a",
        "colab": {
          "base_uri": "https://localhost:8080/",
          "height": 34
        }
      },
      "source": [
        "# !pip3 install -U torch torchvision\n",
        "import torch\n",
        "cuda = torch.cuda.is_available()\n",
        "device = torch.device(\"cuda:0\" if torch.cuda.is_available() else \"cpu\")\n",
        "torch.__version__, cuda"
      ],
      "execution_count": 2,
      "outputs": [
        {
          "output_type": "execute_result",
          "data": {
            "text/plain": [
              "('1.1.0', True)"
            ]
          },
          "metadata": {
            "tags": []
          },
          "execution_count": 2
        }
      ]
    },
    {
      "cell_type": "markdown",
      "metadata": {
        "colab_type": "text",
        "id": "Oe8ZRk9807L5"
      },
      "source": [
        "# MNIST, MLP"
      ]
    },
    {
      "cell_type": "markdown",
      "metadata": {
        "id": "j6wAxBjNKCLG",
        "colab_type": "text"
      },
      "source": [
        "https://github.com/udacity/deep-learning-v2-pytorch/blob/master/gan-mnist/MNIST_GAN_Solution.ipynb"
      ]
    },
    {
      "cell_type": "code",
      "metadata": {
        "colab_type": "code",
        "id": "7Mq0A-K_07L8",
        "colab": {}
      },
      "source": [
        "import torch\n",
        "\n",
        "imgsize = 28\n",
        "batch_size = 64  # how many samples per batch to load\n",
        "imgsize = 28\n",
        "epochs = 50\n",
        "patience = 2  #early stopping\n",
        "lr = 0.002"
      ],
      "execution_count": 0,
      "outputs": []
    },
    {
      "cell_type": "markdown",
      "metadata": {
        "colab_type": "text",
        "id": "b1OesNWv07MB"
      },
      "source": [
        "## Load Data"
      ]
    },
    {
      "cell_type": "code",
      "metadata": {
        "colab_type": "code",
        "id": "rtMy2TJD07MD",
        "outputId": "0974f6cf-b62f-429b-8c2c-d40ff1f1336d",
        "colab": {
          "base_uri": "https://localhost:8080/",
          "height": 298
        }
      },
      "source": [
        "from torchvision import datasets, transforms\n",
        "\n",
        "train_data = datasets.MNIST(root='~/.pytorch/MNIST_data/', train=True, download=True, transform=transforms.ToTensor())\n",
        "train_loader = torch.utils.data.DataLoader(train_data, batch_size=batch_size)\n",
        "print(len(train_data))"
      ],
      "execution_count": 4,
      "outputs": [
        {
          "output_type": "stream",
          "text": [
            "  0%|          | 0/9912422 [00:00<?, ?it/s]"
          ],
          "name": "stderr"
        },
        {
          "output_type": "stream",
          "text": [
            "Downloading http://yann.lecun.com/exdb/mnist/train-images-idx3-ubyte.gz to /root/.pytorch/MNIST_data/MNIST/raw/train-images-idx3-ubyte.gz\n"
          ],
          "name": "stdout"
        },
        {
          "output_type": "stream",
          "text": [
            "9920512it [00:00, 20057934.31it/s]                            \n"
          ],
          "name": "stderr"
        },
        {
          "output_type": "stream",
          "text": [
            "Extracting /root/.pytorch/MNIST_data/MNIST/raw/train-images-idx3-ubyte.gz\n"
          ],
          "name": "stdout"
        },
        {
          "output_type": "stream",
          "text": [
            "32768it [00:00, 331720.94it/s]\n",
            "0it [00:00, ?it/s]"
          ],
          "name": "stderr"
        },
        {
          "output_type": "stream",
          "text": [
            "Downloading http://yann.lecun.com/exdb/mnist/train-labels-idx1-ubyte.gz to /root/.pytorch/MNIST_data/MNIST/raw/train-labels-idx1-ubyte.gz\n",
            "Extracting /root/.pytorch/MNIST_data/MNIST/raw/train-labels-idx1-ubyte.gz\n",
            "Downloading http://yann.lecun.com/exdb/mnist/t10k-images-idx3-ubyte.gz to /root/.pytorch/MNIST_data/MNIST/raw/t10k-images-idx3-ubyte.gz\n"
          ],
          "name": "stdout"
        },
        {
          "output_type": "stream",
          "text": [
            "1654784it [00:00, 4831133.42it/s]                           \n",
            "8192it [00:00, 133010.76it/s]\n"
          ],
          "name": "stderr"
        },
        {
          "output_type": "stream",
          "text": [
            "Extracting /root/.pytorch/MNIST_data/MNIST/raw/t10k-images-idx3-ubyte.gz\n",
            "Downloading http://yann.lecun.com/exdb/mnist/t10k-labels-idx1-ubyte.gz to /root/.pytorch/MNIST_data/MNIST/raw/t10k-labels-idx1-ubyte.gz\n",
            "Extracting /root/.pytorch/MNIST_data/MNIST/raw/t10k-labels-idx1-ubyte.gz\n",
            "Processing...\n",
            "Done!\n",
            "60000\n"
          ],
          "name": "stdout"
        }
      ]
    },
    {
      "cell_type": "code",
      "metadata": {
        "colab_type": "code",
        "id": "i_siDwF807MI",
        "outputId": "a0da83d8-5a79-42d5-bf5d-fb57ac06ed78",
        "colab": {
          "base_uri": "https://localhost:8080/",
          "height": 286
        }
      },
      "source": [
        "#visualize\n",
        "images, labels = next(iter(train_loader))\n",
        "plt.imshow(np.squeeze(images[0]), cmap='gray')"
      ],
      "execution_count": 5,
      "outputs": [
        {
          "output_type": "execute_result",
          "data": {
            "text/plain": [
              "<matplotlib.image.AxesImage at 0x7f191a87c2b0>"
            ]
          },
          "metadata": {
            "tags": []
          },
          "execution_count": 5
        },
        {
          "output_type": "display_data",
          "data": {
            "image/png": "[encoded data removed]",
            "text/plain": [
              "<Figure size 432x288 with 1 Axes>"
            ]
          },
          "metadata": {
            "tags": []
          }
        }
      ]
    },
    {
      "cell_type": "markdown",
      "metadata": {
        "colab_type": "text",
        "id": "wkq7ZKG607MO"
      },
      "source": [
        "## Model"
      ]
    },
    {
      "cell_type": "markdown",
      "metadata": {
        "id": "qF6LztClKCLg",
        "colab_type": "text"
      },
      "source": [
        "### Discriminator"
      ]
    },
    {
      "cell_type": "markdown",
      "metadata": {
        "id": "v4PsoXVHKCLh",
        "colab_type": "text"
      },
      "source": [
        "linear classifier, with 3 hidden layers, using [Leaky Relu](https://pytorch.org/docs/stable/nn.html#torch.nn.LeakyReLU) activation, where for $x<0$ the slope is slightly positive\n",
        "\n",
        "outputs single number indicating *real*/*fake*"
      ]
    },
    {
      "cell_type": "code",
      "metadata": {
        "colab_type": "code",
        "id": "uTo_nhiq07MP",
        "outputId": "178d2d80-b4b8-483c-f80a-82171a4dbca4",
        "colab": {
          "base_uri": "https://localhost:8080/",
          "height": 139
        }
      },
      "source": [
        "import torch.nn as nn\n",
        "import torch.nn.functional as F\n",
        "\n",
        "class Discriminator(nn.Module):\n",
        "\n",
        "    def __init__(self, input_size, hidden_dim=32, output_size=1):\n",
        "        super(Discriminator, self).__init__()\n",
        "        \n",
        "        self.fc1 = nn.Linear(input_size, hidden_dim*4)\n",
        "        self.fc2 = nn.Linear(hidden_dim*4, hidden_dim*2)\n",
        "        self.fc3 = nn.Linear(hidden_dim*2, hidden_dim)        \n",
        "        self.fc4 = nn.Linear(hidden_dim, output_size)\n",
        "        \n",
        "        self.dropout = nn.Dropout(0.3)        \n",
        "        \n",
        "    def forward(self, x):\n",
        "        x = x.view(-1, 28*28)\n",
        "        \n",
        "        x = F.leaky_relu(self.fc1(x), 0.2) # (input, negative_slope=0.2)\n",
        "        x = self.dropout(x)\n",
        "        x = F.leaky_relu(self.fc2(x), 0.2)\n",
        "        x = self.dropout(x)\n",
        "        x = F.leaky_relu(self.fc3(x), 0.2)\n",
        "        x = self.dropout(x)\n",
        "        \n",
        "        return self.fc4(x)\n",
        "\n",
        "D = Discriminator(input_size=784, hidden_dim=32, output_size=1)\n",
        "print(D)"
      ],
      "execution_count": 6,
      "outputs": [
        {
          "output_type": "stream",
          "text": [
            "Discriminator(\n",
            "  (fc1): Linear(in_features=784, out_features=128, bias=True)\n",
            "  (fc2): Linear(in_features=128, out_features=64, bias=True)\n",
            "  (fc3): Linear(in_features=64, out_features=32, bias=True)\n",
            "  (fc4): Linear(in_features=32, out_features=1, bias=True)\n",
            "  (dropout): Dropout(p=0.3)\n",
            ")\n"
          ],
          "name": "stdout"
        }
      ]
    },
    {
      "cell_type": "code",
      "metadata": {
        "colab_type": "code",
        "id": "uKcT9JF_07MX",
        "outputId": "433f00ce-aa30-41ef-cd42-e99319772e1b",
        "scrolled": false,
        "colab": {
          "base_uri": "https://localhost:8080/",
          "height": 52
        }
      },
      "source": [
        "images, labels = next(iter(train_loader))\n",
        "print(images.shape)\n",
        "print(D(images).shape)"
      ],
      "execution_count": 7,
      "outputs": [
        {
          "output_type": "stream",
          "text": [
            "torch.Size([64, 1, 28, 28])\n",
            "torch.Size([64, 1])\n"
          ],
          "name": "stdout"
        }
      ]
    },
    {
      "cell_type": "markdown",
      "metadata": {
        "id": "TUpGDJphKCL0",
        "colab_type": "text"
      },
      "source": [
        "### Generator"
      ]
    },
    {
      "cell_type": "markdown",
      "metadata": {
        "id": "5jDc_n_cKCL1",
        "colab_type": "text"
      },
      "source": [
        "* inputs 784 random numbers, outputs 784 pixels\n",
        "* Use `torch.tanh` instead of `torch.sigmoid` for output (why?)"
      ]
    },
    {
      "cell_type": "code",
      "metadata": {
        "scrolled": true,
        "id": "oCvC1ofQKCL2",
        "colab_type": "code",
        "colab": {
          "base_uri": "https://localhost:8080/",
          "height": 139
        },
        "outputId": "3044b8d3-b4b8-4cb3-e356-e87289e89649"
      },
      "source": [
        "class Generator(nn.Module):\n",
        "\n",
        "    def __init__(self, input_size, hidden_dim=32, output_size=784):\n",
        "        super(Generator, self).__init__()\n",
        "        \n",
        "        self.fc1 = nn.Linear(input_size, hidden_dim)\n",
        "        self.fc2 = nn.Linear(hidden_dim, hidden_dim*2)\n",
        "        self.fc3 = nn.Linear(hidden_dim*2, hidden_dim*4)\n",
        "        self.fc4 = nn.Linear(hidden_dim*4, output_size)\n",
        "        \n",
        "        self.dropout = nn.Dropout(0.3)\n",
        "\n",
        "    def forward(self, x):\n",
        "        x = F.leaky_relu(self.fc1(x), 0.2) # (input, negative_slope=0.2)\n",
        "        x = self.dropout(x)\n",
        "        x = F.leaky_relu(self.fc2(x), 0.2)\n",
        "        x = self.dropout(x)\n",
        "        x = F.leaky_relu(self.fc3(x), 0.2)\n",
        "        x = self.dropout(x)\n",
        "        \n",
        "        return torch.tanh(self.fc4(x))\n",
        "\n",
        "G = Generator(input_size=784, hidden_dim=32, output_size=784)\n",
        "print(G)"
      ],
      "execution_count": 8,
      "outputs": [
        {
          "output_type": "stream",
          "text": [
            "Generator(\n",
            "  (fc1): Linear(in_features=784, out_features=32, bias=True)\n",
            "  (fc2): Linear(in_features=32, out_features=64, bias=True)\n",
            "  (fc3): Linear(in_features=64, out_features=128, bias=True)\n",
            "  (fc4): Linear(in_features=128, out_features=784, bias=True)\n",
            "  (dropout): Dropout(p=0.3)\n",
            ")\n"
          ],
          "name": "stdout"
        }
      ]
    },
    {
      "cell_type": "markdown",
      "metadata": {
        "id": "3Lv0ViyrKCMA",
        "colab_type": "text"
      },
      "source": [
        "### Losses"
      ]
    },
    {
      "cell_type": "markdown",
      "metadata": {
        "id": "ALp4BWkyKCMC",
        "colab_type": "text"
      },
      "source": [
        "* Use BCEWithLogitsLoss since D outputs just a number\n",
        "* To help D generalize better, the true labels are **reduced from 1.0 to 0.9**\n",
        "* Use different optimizer objects for Discriminator and Generator"
      ]
    },
    {
      "cell_type": "code",
      "metadata": {
        "id": "rD5OT5l6KCME",
        "colab_type": "code",
        "colab": {}
      },
      "source": [
        "criterion = nn.BCEWithLogitsLoss()\n",
        "criterion_smooth = lambda pred, true: nn.BCEWithLogitsLoss()(pred,true*0.9)\n",
        "d_optimizer = torch.optim.Adam(D.parameters(), lr)\n",
        "g_optimizer = torch.optim.Adam(G.parameters(), lr)"
      ],
      "execution_count": 0,
      "outputs": []
    },
    {
      "cell_type": "markdown",
      "metadata": {
        "colab_type": "text",
        "id": "-c4w5fH307Mh"
      },
      "source": [
        "## Train"
      ]
    },
    {
      "cell_type": "code",
      "metadata": {
        "id": "xYLA416EKCMJ",
        "colab_type": "code",
        "colab": {}
      },
      "source": [
        "print_every = 100\n",
        "epochs = 100"
      ],
      "execution_count": 0,
      "outputs": []
    },
    {
      "cell_type": "code",
      "metadata": {
        "id": "Pn3w7QDLKCMO",
        "colab_type": "code",
        "colab": {}
      },
      "source": [
        "# Get some fixed data for sampling. These are images that are held\n",
        "# constant throughout training, and allow us to inspect the model's performance\n",
        "sample_size=8\n",
        "fixed_z = np.random.uniform(-1, 1, size=(sample_size, imgsize*imgsize))\n",
        "fixed_z = torch.from_numpy(fixed_z).float()\n",
        "def view_samples(epoch, samples, nrows=2, ncols=4):\n",
        "    fig, axes = plt.subplots(figsize=(1.5*ncols,1.5*nrows), nrows=nrows, ncols=ncols, sharey=True, sharex=True)\n",
        "    for ax, img in zip(axes.flatten(), samples[epoch]):\n",
        "        img = img.detach()\n",
        "        ax.xaxis.set_visible(False)\n",
        "        ax.yaxis.set_visible(False)\n",
        "        im = ax.imshow(img.reshape((28,28)), cmap='Greys_r')\n",
        "    plt.show()"
      ],
      "execution_count": 0,
      "outputs": []
    },
    {
      "cell_type": "code",
      "metadata": {
        "colab_type": "code",
        "id": "msT93CqJ07Mj",
        "outputId": "9ac16579-a9c2-4623-b726-8c12ccc777eb",
        "colab": {
          "base_uri": "https://localhost:8080/",
          "height": 126
        }
      },
      "source": [
        "samples = []   # saves samples so visualize how the image quality improves over epochs\n",
        "\n",
        "D.train()\n",
        "G.train()\n",
        "for epoch in range(epochs):\n",
        "    for batch_i, (real_images, _) in enumerate(train_loader):                \n",
        "        batch_size = real_images.size(0)        \n",
        "        real_images = real_images*2 - 1  # rescale to [-1, 1) as G generates to this range\n",
        "        \n",
        "        # ============TRAIN THE DISCRIMINATOR=========        \n",
        "        z = np.random.uniform(-1, 1, size=(batch_size, imgsize*imgsize))  #generates fake img\n",
        "        z = torch.from_numpy(z).float()\n",
        "        fake_images = G(z).view_as(real_images)\n",
        "        \n",
        "        allimages = torch.cat((real_images, fake_images), 0)  #concat on 0th axis\n",
        "        alllabels = torch.cat((torch.ones(batch_size),torch.zeros(batch_size)), 0)\n",
        "        \n",
        "        d_optimizer.zero_grad()\n",
        "        pred = D(allimages).squeeze()\n",
        "        d_loss = criterion_smooth(pred,alllabels)\n",
        "        d_loss.backward()\n",
        "        d_optimizer.step()        \n",
        "        \n",
        "        # ===========TRAIN THE GENERATOR=============\n",
        "        z = np.random.uniform(-1, 1, size=(batch_size, imgsize*imgsize))  #generates fake img\n",
        "        z = torch.from_numpy(z).float()\n",
        "        fake_images = G(z)\n",
        "        \n",
        "        g_optimizer.zero_grad()\n",
        "        D_fake = D(fake_images)\n",
        "        g_loss = criterion(D_fake.squeeze(), torch.ones(batch_size)) #min loss -> make D think the images are real        \n",
        "        g_loss.backward()\n",
        "        g_optimizer.step()\n",
        "\n",
        "        if batch_i % print_every == 0:\n",
        "            print(f'Epoch {epoch+1:5d} | d_loss: {d_loss.item():6.4f} | g_loss: {g_loss.item():6.4f}')\n",
        "        \n",
        "    from IPython.display import clear_output\n",
        "    clear_output()\n",
        "    G.eval()  # eval mode for generating samples\n",
        "    samples += G(fixed_z),\n",
        "    G.train() # back to train mode\n",
        "    view_samples(-1,samples,1,8)"
      ],
      "execution_count": 13,
      "outputs": [
        {
          "output_type": "display_data",
          "data": {
            "image/png": "[encoded data removed]",
            "text/plain": [
              "<Figure size 1152x144 with 8 Axes>"
            ]
          },
          "metadata": {
            "tags": []
          }
        }
      ]
    },
    {
      "cell_type": "markdown",
      "metadata": {
        "colab_type": "text",
        "id": "Kp29vSDO07Mo"
      },
      "source": [
        "## Evaluate"
      ]
    },
    {
      "cell_type": "markdown",
      "metadata": {
        "id": "NXX0laq2KCMf",
        "colab_type": "text"
      },
      "source": [
        "### Visualize training progress"
      ]
    },
    {
      "cell_type": "code",
      "metadata": {
        "id": "E5XnzG8DKCMf",
        "colab_type": "code",
        "colab": {
          "base_uri": "https://localhost:8080/",
          "height": 574
        },
        "outputId": "a1d31418-64c5-4c4d-8c4e-c94bf37dc98c"
      },
      "source": [
        "nrows = 10 # split epochs into 10, so 100/10 = every 10 epochs\n",
        "ncols = 6\n",
        "fig, axes = plt.subplots(figsize=(ncols,nrows), nrows=nrows, ncols=ncols, sharex=True, sharey=True)\n",
        "\n",
        "for sample, ax_row in zip(samples[::int(len(samples)/nrows)], axes):\n",
        "    for img, ax in zip(sample[::int(len(sample)/ncols)], ax_row):\n",
        "        img = img.detach()\n",
        "        ax.imshow(img.reshape((28,28)), cmap='Greys_r')\n",
        "        ax.xaxis.set_visible(False)\n",
        "        ax.yaxis.set_visible(False)"
      ],
      "execution_count": 15,
      "outputs": [
        {
          "output_type": "display_data",
          "data": {
            "image/png": "[encoded data removed]",
            "text/plain": [
              "<Figure size 432x720 with 60 Axes>"
            ]
          },
          "metadata": {
            "tags": []
          }
        }
      ]
    },
    {
      "cell_type": "markdown",
      "metadata": {
        "id": "JHJ3f863KCMp",
        "colab_type": "text"
      },
      "source": [
        "### Generate new"
      ]
    },
    {
      "cell_type": "code",
      "metadata": {
        "colab_type": "code",
        "id": "OZSxGj3Z07Mp",
        "outputId": "4d5774ba-ba5d-45e3-9c08-7d700080dd29",
        "colab": {
          "base_uri": "https://localhost:8080/",
          "height": 247
        }
      },
      "source": [
        "G.eval()\n",
        "\n",
        "sample_size=8\n",
        "rand_z = np.random.uniform(-1, 1, size=(sample_size, imgsize*imgsize))\n",
        "rand_z = torch.from_numpy(rand_z).float()\n",
        "rand_images = G(rand_z)\n",
        "\n",
        "view_samples(0, [rand_images])"
      ],
      "execution_count": 16,
      "outputs": [
        {
          "output_type": "display_data",
          "data": {
            "image/png": "[encoded data removed]",
            "text/plain": [
              "<Figure size 576x288 with 8 Axes>"
            ]
          },
          "metadata": {
            "tags": []
          }
        }
      ]
    },
    {
      "cell_type": "code",
      "metadata": {
        "id": "nYtt9ISXKCMx",
        "colab_type": "code",
        "colab": {}
      },
      "source": [
        ""
      ],
      "execution_count": 0,
      "outputs": []
    }
  ]
}