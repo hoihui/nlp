{
  "nbformat": 4,
  "nbformat_minor": 0,
  "metadata": {
    "colab": {
      "name": "CNN.ipynb",
      "version": "0.3.2",
      "provenance": []
    },
    "language_info": {
      "codemirror_mode": {
        "name": "ipython",
        "version": 3
      },
      "file_extension": ".py",
      "mimetype": "text/x-python",
      "name": "python",
      "nbconvert_exporter": "python",
      "pygments_lexer": "ipython3",
      "version": "3.6.8"
    },
    "kernelspec": {
      "name": "python3",
      "display_name": "Python 3"
    }
  },
  "cells": [
    {
      "cell_type": "code",
      "metadata": {
        "colab_type": "code",
        "id": "XUiGCMEX07Ln",
        "colab": {}
      },
      "source": [
        "import pandas as pd, numpy as np\n",
        "import matplotlib.pyplot as plt\n",
        "%matplotlib inline"
      ],
      "execution_count": 0,
      "outputs": []
    },
    {
      "cell_type": "code",
      "metadata": {
        "colab_type": "code",
        "id": "oMb1qEPX07Lw",
        "outputId": "045085f1-705f-4531-cdcf-8ce565fd73ed",
        "colab": {
          "base_uri": "https://localhost:8080/",
          "height": 34
        }
      },
      "source": [
        "# !pip3 install -U torch torchvision\n",
        "import torch\n",
        "cuda = torch.cuda.is_available()\n",
        "device = torch.device(\"cuda:0\" if torch.cuda.is_available() else \"cpu\")\n",
        "torch.__version__, cuda"
      ],
      "execution_count": 2,
      "outputs": [
        {
          "output_type": "execute_result",
          "data": {
            "text/plain": [
              "('1.1.0', False)"
            ]
          },
          "metadata": {
            "tags": []
          },
          "execution_count": 2
        }
      ]
    },
    {
      "cell_type": "markdown",
      "metadata": {
        "colab_type": "text",
        "id": "Oe8ZRk9807L5"
      },
      "source": [
        "# MNIST, MLP"
      ]
    },
    {
      "cell_type": "markdown",
      "metadata": {
        "colab_type": "text",
        "id": "j6wAxBjNKCLG"
      },
      "source": [
        "https://github.com/udacity/deep-learning-v2-pytorch/blob/master/gan-mnist/MNIST_GAN_Solution.ipynb"
      ]
    },
    {
      "cell_type": "code",
      "metadata": {
        "colab_type": "code",
        "id": "7Mq0A-K_07L8",
        "colab": {}
      },
      "source": [
        "import torch\n",
        "\n",
        "imgsize = 28\n",
        "batch_size = 64  # how many samples per batch to load\n",
        "z_size = 28*28\n",
        "print_every=100\n",
        "epochs = 5\n",
        "patience = 2  #early stopping\n",
        "lr = 0.002"
      ],
      "execution_count": 0,
      "outputs": []
    },
    {
      "cell_type": "markdown",
      "metadata": {
        "colab_type": "text",
        "id": "b1OesNWv07MB"
      },
      "source": [
        "## Load Data"
      ]
    },
    {
      "cell_type": "code",
      "metadata": {
        "colab_type": "code",
        "id": "rtMy2TJD07MD",
        "outputId": "80b18232-240e-42f9-c51b-f530b6ccf203",
        "colab": {
          "base_uri": "https://localhost:8080/",
          "height": 278
        }
      },
      "source": [
        "from torchvision import datasets, transforms\n",
        "\n",
        "train_data = datasets.MNIST(root='~/.pytorch/MNIST_data/', train=True, download=True, transform=transforms.ToTensor())\n",
        "train_loader = torch.utils.data.DataLoader(train_data, batch_size=batch_size)\n",
        "print(len(train_data))"
      ],
      "execution_count": 4,
      "outputs": [
        {
          "output_type": "stream",
          "text": [
            "  0%|          | 0/9912422 [00:00<?, ?it/s]"
          ],
          "name": "stderr"
        },
        {
          "output_type": "stream",
          "text": [
            "Downloading http://yann.lecun.com/exdb/mnist/train-images-idx3-ubyte.gz to /root/.pytorch/MNIST_data/MNIST/raw/train-images-idx3-ubyte.gz\n"
          ],
          "name": "stdout"
        },
        {
          "output_type": "stream",
          "text": [
            "9920512it [00:00, 27111321.67it/s]                            \n"
          ],
          "name": "stderr"
        },
        {
          "output_type": "stream",
          "text": [
            "Extracting /root/.pytorch/MNIST_data/MNIST/raw/train-images-idx3-ubyte.gz\n"
          ],
          "name": "stdout"
        },
        {
          "output_type": "stream",
          "text": [
            "32768it [00:00, 439700.53it/s]\n",
            "0it [00:00, ?it/s]"
          ],
          "name": "stderr"
        },
        {
          "output_type": "stream",
          "text": [
            "Downloading http://yann.lecun.com/exdb/mnist/train-labels-idx1-ubyte.gz to /root/.pytorch/MNIST_data/MNIST/raw/train-labels-idx1-ubyte.gz\n",
            "Extracting /root/.pytorch/MNIST_data/MNIST/raw/train-labels-idx1-ubyte.gz\n",
            "Downloading http://yann.lecun.com/exdb/mnist/t10k-images-idx3-ubyte.gz to /root/.pytorch/MNIST_data/MNIST/raw/t10k-images-idx3-ubyte.gz\n"
          ],
          "name": "stdout"
        },
        {
          "output_type": "stream",
          "text": [
            "1654784it [00:00, 7262976.25it/s]                           \n",
            "8192it [00:00, 169948.80it/s]\n"
          ],
          "name": "stderr"
        },
        {
          "output_type": "stream",
          "text": [
            "Extracting /root/.pytorch/MNIST_data/MNIST/raw/t10k-images-idx3-ubyte.gz\n",
            "Downloading http://yann.lecun.com/exdb/mnist/t10k-labels-idx1-ubyte.gz to /root/.pytorch/MNIST_data/MNIST/raw/t10k-labels-idx1-ubyte.gz\n",
            "Extracting /root/.pytorch/MNIST_data/MNIST/raw/t10k-labels-idx1-ubyte.gz\n",
            "Processing...\n",
            "Done!\n",
            "60000\n"
          ],
          "name": "stdout"
        }
      ]
    },
    {
      "cell_type": "code",
      "metadata": {
        "colab_type": "code",
        "id": "i_siDwF807MI",
        "outputId": "e45b269c-f943-4968-a40a-ff9ea7adf69a",
        "colab": {
          "base_uri": "https://localhost:8080/",
          "height": 286
        }
      },
      "source": [
        "#visualize\n",
        "images, labels = next(iter(train_loader))\n",
        "plt.imshow(np.squeeze(images[0]), cmap='gray')"
      ],
      "execution_count": 5,
      "outputs": [
        {
          "output_type": "execute_result",
          "data": {
            "text/plain": [
              "<matplotlib.image.AxesImage at 0x7f13005a5320>"
            ]
          },
          "metadata": {
            "tags": []
          },
          "execution_count": 5
        },
        {
          "output_type": "display_data",
          "data": {
            "image/png": "[encoded data removed]",
            "text/plain": [
              "<Figure size 432x288 with 1 Axes>"
            ]
          },
          "metadata": {
            "tags": []
          }
        }
      ]
    },
    {
      "cell_type": "markdown",
      "metadata": {
        "colab_type": "text",
        "id": "wkq7ZKG607MO"
      },
      "source": [
        "## Model"
      ]
    },
    {
      "cell_type": "markdown",
      "metadata": {
        "colab_type": "text",
        "id": "qF6LztClKCLg"
      },
      "source": [
        "### Discriminator"
      ]
    },
    {
      "cell_type": "markdown",
      "metadata": {
        "colab_type": "text",
        "id": "v4PsoXVHKCLh"
      },
      "source": [
        "linear classifier, with 3 hidden layers, using [Leaky Relu](https://pytorch.org/docs/stable/nn.html#torch.nn.LeakyReLU) activation, where for $x<0$ the slope is slightly positive\n",
        "\n",
        "outputs single number indicating *real*/*fake*"
      ]
    },
    {
      "cell_type": "code",
      "metadata": {
        "colab_type": "code",
        "id": "uTo_nhiq07MP",
        "outputId": "e02540a7-865f-4abc-81c8-1bb7fb395bab",
        "colab": {
          "base_uri": "https://localhost:8080/",
          "height": 139
        }
      },
      "source": [
        "import torch.nn as nn\n",
        "import torch.nn.functional as F\n",
        "\n",
        "class Discriminator(nn.Module):\n",
        "\n",
        "    def __init__(self, input_size, hidden_dim=32, output_size=1):\n",
        "        super(Discriminator, self).__init__()\n",
        "        \n",
        "        self.fc1 = nn.Linear(input_size, hidden_dim*4)\n",
        "        self.fc2 = nn.Linear(hidden_dim*4, hidden_dim*2)\n",
        "        self.fc3 = nn.Linear(hidden_dim*2, hidden_dim)        \n",
        "        self.fc4 = nn.Linear(hidden_dim, output_size)\n",
        "        \n",
        "        self.dropout = nn.Dropout(0.3)        \n",
        "        \n",
        "    def forward(self, x):\n",
        "        x = x.view(-1, 28*28)\n",
        "        \n",
        "        x = F.leaky_relu(self.fc1(x), 0.2) # (input, negative_slope=0.2)\n",
        "        x = self.dropout(x)\n",
        "        x = F.leaky_relu(self.fc2(x), 0.2)\n",
        "        x = self.dropout(x)\n",
        "        x = F.leaky_relu(self.fc3(x), 0.2)\n",
        "        x = self.dropout(x)\n",
        "        \n",
        "        return self.fc4(x)\n",
        "\n",
        "D = Discriminator(input_size=784, hidden_dim=32, output_size=1).to(device)\n",
        "print(D)"
      ],
      "execution_count": 6,
      "outputs": [
        {
          "output_type": "stream",
          "text": [
            "Discriminator(\n",
            "  (fc1): Linear(in_features=784, out_features=128, bias=True)\n",
            "  (fc2): Linear(in_features=128, out_features=64, bias=True)\n",
            "  (fc3): Linear(in_features=64, out_features=32, bias=True)\n",
            "  (fc4): Linear(in_features=32, out_features=1, bias=True)\n",
            "  (dropout): Dropout(p=0.3)\n",
            ")\n"
          ],
          "name": "stdout"
        }
      ]
    },
    {
      "cell_type": "code",
      "metadata": {
        "colab_type": "code",
        "id": "uKcT9JF_07MX",
        "outputId": "0acde734-d981-4d5d-96a1-655caf413c4c",
        "scrolled": false,
        "colab": {
          "base_uri": "https://localhost:8080/",
          "height": 52
        }
      },
      "source": [
        "images, labels = next(iter(train_loader))\n",
        "print(images.shape)\n",
        "print(D(images.to(device)).shape)"
      ],
      "execution_count": 7,
      "outputs": [
        {
          "output_type": "stream",
          "text": [
            "torch.Size([64, 1, 28, 28])\n",
            "torch.Size([64, 1])\n"
          ],
          "name": "stdout"
        }
      ]
    },
    {
      "cell_type": "markdown",
      "metadata": {
        "colab_type": "text",
        "id": "TUpGDJphKCL0"
      },
      "source": [
        "### Generator"
      ]
    },
    {
      "cell_type": "markdown",
      "metadata": {
        "colab_type": "text",
        "id": "5jDc_n_cKCL1"
      },
      "source": [
        "* inputs 784 random numbers, outputs 784 pixels\n",
        "* Use `torch.tanh` instead of `torch.sigmoid` for output (why?)"
      ]
    },
    {
      "cell_type": "code",
      "metadata": {
        "colab_type": "code",
        "id": "oCvC1ofQKCL2",
        "outputId": "20676384-e3da-4400-b5e3-cc0c0c0d91e4",
        "scrolled": true,
        "colab": {
          "base_uri": "https://localhost:8080/",
          "height": 139
        }
      },
      "source": [
        "class Generator(nn.Module):\n",
        "\n",
        "    def __init__(self, input_size, hidden_dim=32, output_size=784):\n",
        "        super(Generator, self).__init__()\n",
        "        \n",
        "        self.fc1 = nn.Linear(input_size, hidden_dim)\n",
        "        self.fc2 = nn.Linear(hidden_dim, hidden_dim*2)\n",
        "        self.fc3 = nn.Linear(hidden_dim*2, hidden_dim*4)\n",
        "        self.fc4 = nn.Linear(hidden_dim*4, output_size)\n",
        "        \n",
        "        self.dropout = nn.Dropout(0.3)\n",
        "\n",
        "    def forward(self, x):\n",
        "        x = F.leaky_relu(self.fc1(x), 0.2) # (input, negative_slope=0.2)\n",
        "        x = self.dropout(x)\n",
        "        x = F.leaky_relu(self.fc2(x), 0.2)\n",
        "        x = self.dropout(x)\n",
        "        x = F.leaky_relu(self.fc3(x), 0.2)\n",
        "        x = self.dropout(x)\n",
        "        \n",
        "        return torch.tanh(self.fc4(x))\n",
        "\n",
        "G = Generator(input_size=784, hidden_dim=32, output_size=784).to(device)\n",
        "print(G)"
      ],
      "execution_count": 8,
      "outputs": [
        {
          "output_type": "stream",
          "text": [
            "Generator(\n",
            "  (fc1): Linear(in_features=784, out_features=32, bias=True)\n",
            "  (fc2): Linear(in_features=32, out_features=64, bias=True)\n",
            "  (fc3): Linear(in_features=64, out_features=128, bias=True)\n",
            "  (fc4): Linear(in_features=128, out_features=784, bias=True)\n",
            "  (dropout): Dropout(p=0.3)\n",
            ")\n"
          ],
          "name": "stdout"
        }
      ]
    },
    {
      "cell_type": "markdown",
      "metadata": {
        "colab_type": "text",
        "id": "3Lv0ViyrKCMA"
      },
      "source": [
        "### Losses"
      ]
    },
    {
      "cell_type": "markdown",
      "metadata": {
        "colab_type": "text",
        "id": "ALp4BWkyKCMC"
      },
      "source": [
        "* Use BCEWithLogitsLoss since D outputs just a number\n",
        "* To help D generalize better, the true labels are **reduced from 1.0 to 0.9**\n",
        "* Use different optimizer objects for Discriminator and Generator"
      ]
    },
    {
      "cell_type": "code",
      "metadata": {
        "colab_type": "code",
        "id": "rD5OT5l6KCME",
        "colab": {}
      },
      "source": [
        "d_criterion = lambda pred, true: nn.BCEWithLogitsLoss()(pred,true*0.9)\n",
        "g_criterion = nn.BCEWithLogitsLoss()\n",
        "d_optimizer = torch.optim.Adam(D.parameters(), lr)\n",
        "g_optimizer = torch.optim.Adam(G.parameters(), lr)"
      ],
      "execution_count": 0,
      "outputs": []
    },
    {
      "cell_type": "markdown",
      "metadata": {
        "colab_type": "text",
        "id": "-c4w5fH307Mh"
      },
      "source": [
        "## Train"
      ]
    },
    {
      "cell_type": "code",
      "metadata": {
        "colab_type": "code",
        "id": "Pn3w7QDLKCMO",
        "colab": {}
      },
      "source": [
        "# Get some fixed data for sampling. These are images that are held\n",
        "# constant throughout training, and allow us to inspect the model's performance\n",
        "sample_size=8\n",
        "fixed_z = np.random.uniform(-1, 1, size=(sample_size, z_size))\n",
        "fixed_z = torch.from_numpy(fixed_z).float()\n",
        "def view_samples(epoch, samples, nrows=2, ncols=4):\n",
        "    fig, axes = plt.subplots(figsize=(1.5*ncols,1.5*nrows), nrows=nrows, ncols=ncols, sharey=True, sharex=True)\n",
        "    for ax, img in zip(axes.flatten(), samples[epoch]):\n",
        "        img = img.cpu().detach()\n",
        "        ax.xaxis.set_visible(False)\n",
        "        ax.yaxis.set_visible(False)\n",
        "        im = ax.imshow(img.reshape((28,28)), cmap='Greys_r')\n",
        "    plt.show()"
      ],
      "execution_count": 0,
      "outputs": []
    },
    {
      "cell_type": "code",
      "metadata": {
        "colab_type": "code",
        "id": "msT93CqJ07Mj",
        "outputId": "de9e74dd-02c8-4cbf-f456-1f4d85da4907",
        "colab": {
          "base_uri": "https://localhost:8080/",
          "height": 34
        }
      },
      "source": [
        "samples = []   # saves samples so visualize how the image quality improves over epochs\n",
        "\n",
        "D.train()\n",
        "G.train()\n",
        "for epoch in range(epochs):\n",
        "    for batch_i, (real_images, _) in enumerate(train_loader):                \n",
        "        batch_size = real_images.size(0)        \n",
        "        real_images = real_images*2 - 1  # rescale to [-1, 1) as G generates to this range\n",
        "        \n",
        "        # ============TRAIN THE DISCRIMINATOR=========        \n",
        "        z = np.random.uniform(-1, 1, size=(batch_size, z_size))  #generates fake img\n",
        "        z = torch.from_numpy(z).float()\n",
        "        fake_images = G(z.to(device)).view_as(real_images)\n",
        "        \n",
        "        allimages = torch.cat((real_images.to(device), fake_images.to(device)), 0)  #concat on 0th axis\n",
        "        alllabels = torch.cat((torch.ones(batch_size),torch.zeros(batch_size)), 0).to(device)\n",
        "        \n",
        "        d_optimizer.zero_grad()\n",
        "        pred = D(allimages.to(device)).squeeze()\n",
        "        d_loss = d_criterion(pred,alllabels)\n",
        "        d_loss.backward()\n",
        "        d_optimizer.step()      \n",
        "        print(allimages.shape)\n",
        "\n",
        "        # ===========TRAIN THE GENERATOR=============\n",
        "        z = np.random.uniform(-1, 1, size=(batch_size, z_size))  #generates fake img\n",
        "        z = torch.from_numpy(z).float()\n",
        "        fake_images = G(z.to(device))\n",
        "        \n",
        "        g_optimizer.zero_grad()\n",
        "        pred = D(fake_images.to(device)).squeeze()\n",
        "        g_loss = g_criterion(pred, torch.ones(batch_size).to(device)) #min loss -> make D think the images are real        \n",
        "        g_loss.backward()\n",
        "        g_optimizer.step()\n",
        "\n",
        "        if batch_i % print_every == 0:\n",
        "            print(f'Epoch {epoch+1:5d} | d_loss: {d_loss.item():6.4f} | g_loss: {g_loss.item():6.4f}')\n",
        "\n",
        "    from IPython.display import clear_output\n",
        "    clear_output()\n",
        "    G.eval()\n",
        "    samples += G(fixed_z.to(device)),\n",
        "    G.train()\n",
        "    view_samples(-1,samples,1,8)"
      ],
      "execution_count": 86,
      "outputs": [
        {
          "output_type": "stream",
          "text": [
            "torch.Size([128, 1, 28, 28])\n"
          ],
          "name": "stdout"
        }
      ]
    },
    {
      "cell_type": "markdown",
      "metadata": {
        "colab_type": "text",
        "id": "Kp29vSDO07Mo"
      },
      "source": [
        "## Evaluate"
      ]
    },
    {
      "cell_type": "markdown",
      "metadata": {
        "colab_type": "text",
        "id": "NXX0laq2KCMf"
      },
      "source": [
        "### Visualize training progress"
      ]
    },
    {
      "cell_type": "code",
      "metadata": {
        "colab_type": "code",
        "id": "E5XnzG8DKCMf",
        "outputId": "38173894-f004-493f-95e1-02609383c0e2",
        "colab": {
          "base_uri": "https://localhost:8080/",
          "height": 248
        }
      },
      "source": [
        "nrows = 4 # split epochs into 10, so 100/10 = every 10 epochs\n",
        "ncols = 6\n",
        "fig, axes = plt.subplots(figsize=(ncols,nrows), nrows=nrows, ncols=ncols, sharex=True, sharey=True)\n",
        "\n",
        "for sample, ax_row in zip(samples[::int(len(samples)/nrows)], axes):\n",
        "    for img, ax in zip(sample[::int(len(sample)/ncols)], ax_row):\n",
        "        img = img.cpu().detach()\n",
        "        ax.imshow(img.reshape((28,28)), cmap='Greys_r')\n",
        "        ax.xaxis.set_visible(False)\n",
        "        ax.yaxis.set_visible(False)"
      ],
      "execution_count": 24,
      "outputs": [
        {
          "output_type": "display_data",
          "data": {
            "image/png": "[encoded data removed]",
            "text/plain": [
              "<Figure size 432x288 with 24 Axes>"
            ]
          },
          "metadata": {
            "tags": []
          }
        }
      ]
    },
    {
      "cell_type": "markdown",
      "metadata": {
        "colab_type": "text",
        "id": "JHJ3f863KCMp"
      },
      "source": [
        "### Generate new"
      ]
    },
    {
      "cell_type": "code",
      "metadata": {
        "colab_type": "code",
        "id": "OZSxGj3Z07Mp",
        "outputId": "82e7be4e-6943-43ab-e82d-37d5bdd9f980",
        "colab": {
          "base_uri": "https://localhost:8080/",
          "height": 193
        }
      },
      "source": [
        "G.eval()\n",
        "\n",
        "sample_size=8\n",
        "rand_z = np.random.uniform(-1, 1, size=(sample_size, imgsize*imgsize))\n",
        "rand_z = torch.from_numpy(rand_z).float()\n",
        "rand_images = G(rand_z.to(device))\n",
        "\n",
        "view_samples(0, [rand_images])"
      ],
      "execution_count": 25,
      "outputs": [
        {
          "output_type": "display_data",
          "data": {
            "image/png": "[encoded data removed]",
            "text/plain": [
              "<Figure size 432x216 with 8 Axes>"
            ]
          },
          "metadata": {
            "tags": []
          }
        }
      ]
    },
    {
      "cell_type": "markdown",
      "metadata": {
        "id": "IgpU0hpzfRL6",
        "colab_type": "text"
      },
      "source": [
        "# Street View House Number, Convolutional"
      ]
    },
    {
      "cell_type": "markdown",
      "metadata": {
        "id": "abhpkTsGeadg",
        "colab_type": "text"
      },
      "source": [
        "https://github.com/udacity/deep-learning-v2-pytorch/blob/master/dcgan-svhn/DCGAN_Solution.ipynb"
      ]
    },
    {
      "cell_type": "code",
      "metadata": {
        "id": "CDaa3X0Veadj",
        "colab_type": "code",
        "colab": {}
      },
      "source": [
        "batch_size = 128\n",
        "imgsize = [3,32,32]\n",
        "z_size = 100\n",
        "lr = 0.0002\n",
        "beta1=0.5\n",
        "beta2=0.999 # default value\n",
        "\n",
        "print_every = 300\n",
        "epochs = 50"
      ],
      "execution_count": 0,
      "outputs": []
    },
    {
      "cell_type": "markdown",
      "metadata": {
        "id": "0UOb2wjGeadn",
        "colab_type": "text"
      },
      "source": [
        "## Data"
      ]
    },
    {
      "cell_type": "code",
      "metadata": {
        "id": "NouB5XvXeado",
        "colab_type": "code",
        "colab": {
          "base_uri": "https://localhost:8080/",
          "height": 52
        },
        "outputId": "4240ec92-4694-4e7c-b383-4de6e8dc044f"
      },
      "source": [
        "from torchvision import datasets, transforms\n",
        "from itertools import chain\n",
        "\n",
        "data = datasets.SVHN(root='~/.pytorch/SVHN_data/', split='train', download=True, transform=transforms.ToTensor())\n",
        "train_loader = torch.utils.data.DataLoader(dataset=data, batch_size=batch_size, shuffle=True)"
      ],
      "execution_count": 93,
      "outputs": [
        {
          "output_type": "stream",
          "text": [
            "  0%|          | 0/182040794 [00:00<?, ?it/s]"
          ],
          "name": "stderr"
        },
        {
          "output_type": "stream",
          "text": [
            "Downloading http://ufldl.stanford.edu/housenumbers/train_32x32.mat to /root/.pytorch/SVHN_data/train_32x32.mat\n"
          ],
          "name": "stdout"
        },
        {
          "output_type": "stream",
          "text": [
            "182042624it [00:07, 24851038.07it/s]                               \n"
          ],
          "name": "stderr"
        }
      ]
    },
    {
      "cell_type": "code",
      "metadata": {
        "id": "XWwGp-yKeadt",
        "colab_type": "code",
        "colab": {
          "base_uri": "https://localhost:8080/",
          "height": 210
        },
        "outputId": "dc8813d8-6a6b-46e3-9679-e400321ec1eb"
      },
      "source": [
        "# visualize\n",
        "images, labels = next(iter(train_loader))\n",
        "\n",
        "# plot the images in the batch, along with the corresponding labels\n",
        "fig = plt.figure(figsize=(15, 3))\n",
        "plot_size=20\n",
        "for idx in np.arange(plot_size):\n",
        "    ax = fig.add_subplot(2, plot_size/2, idx+1, xticks=[], yticks=[])\n",
        "    ax.imshow(np.transpose(images[idx], (1, 2, 0)))\n",
        "    ax.set_title(str(labels[idx].item()))"
      ],
      "execution_count": 94,
      "outputs": [
        {
          "output_type": "display_data",
          "data": {
            "image/png": "[encoded data removed]",
            "text/plain": [
              "<Figure size 1080x216 with 20 Axes>"
            ]
          },
          "metadata": {
            "tags": []
          }
        }
      ]
    },
    {
      "cell_type": "code",
      "metadata": {
        "id": "St-J8Qrjeadz",
        "colab_type": "code",
        "colab": {}
      },
      "source": [
        "# Preprocessor\n",
        "def scale(x, feature_range=(-1, 1)):\n",
        "    m, M = feature_range\n",
        "    x = x * (M - m) + m  # x is originally [0,1]\n",
        "    return x"
      ],
      "execution_count": 0,
      "outputs": []
    },
    {
      "cell_type": "markdown",
      "metadata": {
        "id": "1OL5RIM4ead3",
        "colab_type": "text"
      },
      "source": [
        "## Model"
      ]
    },
    {
      "cell_type": "markdown",
      "metadata": {
        "id": "WUZX_9FOead5",
        "colab_type": "text"
      },
      "source": [
        "### Discriminator"
      ]
    },
    {
      "cell_type": "markdown",
      "metadata": {
        "id": "qXrv91wQead7",
        "colab_type": "text"
      },
      "source": [
        "<img src=\"https://raw.githubusercontent.com/udacity/deep-learning-v2-pytorch/master/dcgan-svhn/assets/conv_discriminator.png\" width=\"500px\">\n",
        "each layer should look something like convolution > batch norm > leaky ReLU, and so we'll define a function to put these layers together."
      ]
    },
    {
      "cell_type": "code",
      "metadata": {
        "id": "AsjUO1Llead7",
        "colab_type": "code",
        "colab": {
          "base_uri": "https://localhost:8080/",
          "height": 260
        },
        "outputId": "10f9770c-200d-439a-873e-8e8bbb32807c"
      },
      "source": [
        "import torch.nn as nn\n",
        "import torch.nn.functional as F\n",
        "\n",
        "def conv(in_channels, out_channels, kernel_size, stride=2, padding=1, batch_norm=True):   # helper\n",
        "    layers = [nn.Conv2d(in_channels, out_channels, kernel_size, stride, padding, bias=False)]\n",
        "    if batch_norm: layers.append(nn.BatchNorm2d(out_channels))     \n",
        "    return nn.Sequential(*layers)\n",
        "\n",
        "class Discriminator(nn.Module):\n",
        "    def __init__(self, conv_dim=32):\n",
        "        super(Discriminator, self).__init__()\n",
        "\n",
        "        self.conv_dim = conv_dim\n",
        "\n",
        "       \n",
        "        self.conv1 = conv(3, conv_dim, 4, batch_norm=False) # in 32x32; out 16x16; first layer, no batch_norm        \n",
        "        self.conv2 = conv(conv_dim, conv_dim*2, 4)          # in 16x16; out 8x8       \n",
        "        self.conv3 = conv(conv_dim*2, conv_dim*4, 4)        # in 8x8  ; out 4x4\n",
        "        \n",
        "        self.fc = nn.Linear(conv_dim*4*4*4, 1)\n",
        "\n",
        "    def forward(self, x):\n",
        "        out = F.leaky_relu(self.conv1(x), 0.2)\n",
        "        out = F.leaky_relu(self.conv2(out), 0.2)\n",
        "        out = F.leaky_relu(self.conv3(out), 0.2)\n",
        "        \n",
        "        out = out.view(-1, self.conv_dim*4*4*4)\n",
        "        out = self.fc(out)        \n",
        "        return out\n",
        "\n",
        "D = Discriminator(conv_dim=imgsize[1]).to(device)\n",
        "print(D)"
      ],
      "execution_count": 96,
      "outputs": [
        {
          "output_type": "stream",
          "text": [
            "Discriminator(\n",
            "  (conv1): Sequential(\n",
            "    (0): Conv2d(3, 32, kernel_size=(4, 4), stride=(2, 2), padding=(1, 1), bias=False)\n",
            "  )\n",
            "  (conv2): Sequential(\n",
            "    (0): Conv2d(32, 64, kernel_size=(4, 4), stride=(2, 2), padding=(1, 1), bias=False)\n",
            "    (1): BatchNorm2d(64, eps=1e-05, momentum=0.1, affine=True, track_running_stats=True)\n",
            "  )\n",
            "  (conv3): Sequential(\n",
            "    (0): Conv2d(64, 128, kernel_size=(4, 4), stride=(2, 2), padding=(1, 1), bias=False)\n",
            "    (1): BatchNorm2d(128, eps=1e-05, momentum=0.1, affine=True, track_running_stats=True)\n",
            "  )\n",
            "  (fc): Linear(in_features=2048, out_features=1, bias=True)\n",
            ")\n"
          ],
          "name": "stdout"
        }
      ]
    },
    {
      "cell_type": "markdown",
      "metadata": {
        "id": "otVfhnuOead_",
        "colab_type": "text"
      },
      "source": [
        "### Generator"
      ]
    },
    {
      "cell_type": "markdown",
      "metadata": {
        "id": "UutYleSieaeB",
        "colab_type": "text"
      },
      "source": [
        "<img src=\"https://raw.githubusercontent.com/udacity/deep-learning-v2-pytorch/master/dcgan-svhn/assets/conv_generator.png\" width=\"600px\">"
      ]
    },
    {
      "cell_type": "markdown",
      "metadata": {
        "id": "cn5xDPFgeaeC",
        "colab_type": "text"
      },
      "source": [
        "* output will be a nn.tanh output\n",
        "* series of transpose convolutional layers, where you typically halve the depth and double the width and height of the previous layer.\n",
        "* batch normalization and ReLU to all but the last of these hidden layers\n"
      ]
    },
    {
      "cell_type": "code",
      "metadata": {
        "scrolled": true,
        "id": "56GRjP5feaeD",
        "colab_type": "code",
        "colab": {
          "base_uri": "https://localhost:8080/",
          "height": 260
        },
        "outputId": "84829fc4-c69f-4953-adaf-901489dd5a8b"
      },
      "source": [
        "def deconv(in_channels, out_channels, kernel_size, stride=2, padding=1, batch_norm=True):\n",
        "    layers = [nn.ConvTranspose2d(in_channels, out_channels, \n",
        "                                 kernel_size, stride, padding, bias=False) ]\n",
        "    if batch_norm: layers.append(nn.BatchNorm2d(out_channels))\n",
        "    return nn.Sequential(*layers)\n",
        "\n",
        "class Generator(nn.Module):\n",
        "    \n",
        "    def __init__(self, z_size, conv_dim=32):\n",
        "        super(Generator, self).__init__()\n",
        "        \n",
        "        self.conv_dim = conv_dim\n",
        "        self.fc = nn.Linear(z_size, conv_dim*4*4*4)\n",
        "        \n",
        "        self.t_conv1 = deconv(conv_dim*4, conv_dim*2, 4)\n",
        "        self.t_conv2 = deconv(conv_dim*2, conv_dim, 4)\n",
        "        self.t_conv3 = deconv(conv_dim, 3, 4, batch_norm=False)\n",
        "        \n",
        "\n",
        "    def forward(self, x):\n",
        "        out = self.fc(x)\n",
        "        out = out.view(-1, self.conv_dim*4, 4, 4) # (batch_size, depth, 4, 4)\n",
        "\n",
        "        out = F.relu(self.t_conv1(out))\n",
        "        out = F.relu(self.t_conv2(out))        \n",
        "        out = torch.tanh(self.t_conv3(out))\n",
        "        \n",
        "        return out\n",
        "    \n",
        "G = Generator(z_size=z_size, conv_dim=imgsize[1]).to(device)\n",
        "print(G)"
      ],
      "execution_count": 97,
      "outputs": [
        {
          "output_type": "stream",
          "text": [
            "Generator(\n",
            "  (fc): Linear(in_features=100, out_features=2048, bias=True)\n",
            "  (t_conv1): Sequential(\n",
            "    (0): ConvTranspose2d(128, 64, kernel_size=(4, 4), stride=(2, 2), padding=(1, 1), bias=False)\n",
            "    (1): BatchNorm2d(64, eps=1e-05, momentum=0.1, affine=True, track_running_stats=True)\n",
            "  )\n",
            "  (t_conv2): Sequential(\n",
            "    (0): ConvTranspose2d(64, 32, kernel_size=(4, 4), stride=(2, 2), padding=(1, 1), bias=False)\n",
            "    (1): BatchNorm2d(32, eps=1e-05, momentum=0.1, affine=True, track_running_stats=True)\n",
            "  )\n",
            "  (t_conv3): Sequential(\n",
            "    (0): ConvTranspose2d(32, 3, kernel_size=(4, 4), stride=(2, 2), padding=(1, 1), bias=False)\n",
            "  )\n",
            ")\n"
          ],
          "name": "stdout"
        }
      ]
    },
    {
      "cell_type": "markdown",
      "metadata": {
        "id": "dj6YVZg3eaeJ",
        "colab_type": "text"
      },
      "source": [
        "### Losses"
      ]
    },
    {
      "cell_type": "markdown",
      "metadata": {
        "id": "Ni4pUgB4eaeK",
        "colab_type": "text"
      },
      "source": [
        "* Use BCEWithLogitsLoss since D outputs just a number\n",
        "* To help D generalize better, the true labels are **reduced from 1.0 to 0.9**\n",
        "* Use different optimizer objects for Discriminator and Generator\n",
        "* A lot of experimentation goes into finding the best hyperparameters such that the generator and discriminator don't overpower each other"
      ]
    },
    {
      "cell_type": "code",
      "metadata": {
        "id": "M_uqzwHkeaeL",
        "colab_type": "code",
        "colab": {}
      },
      "source": [
        "d_criterion = nn.BCEWithLogitsLoss()#lambda pred, true: fn(pred,true*0.9)\n",
        "g_criterion = nn.BCEWithLogitsLoss()\n",
        "d_optimizer = torch.optim.Adam(D.parameters(), lr, [beta1, beta2])\n",
        "g_optimizer = torch.optim.Adam(G.parameters(), lr, [beta1, beta2])"
      ],
      "execution_count": 0,
      "outputs": []
    },
    {
      "cell_type": "markdown",
      "metadata": {
        "id": "XVeMp42AeaeM",
        "colab_type": "text"
      },
      "source": [
        "## Train"
      ]
    },
    {
      "cell_type": "code",
      "metadata": {
        "id": "rI1vTN1EfbBP",
        "colab_type": "code",
        "colab": {}
      },
      "source": [
        "# Get some fixed data for sampling. These are images that are held\n",
        "# constant throughout training, and allow us to inspect the model's performance\n",
        "sample_size=8\n",
        "fixed_z = np.random.uniform(-1, 1, size=(sample_size, z_size))\n",
        "fixed_z = torch.from_numpy(fixed_z).float()\n",
        "def view_samples(epoch, samples, nrows=2, ncols=4):\n",
        "    fig, axes = plt.subplots(figsize=(1.5*ncols,1.5*nrows), nrows=nrows, ncols=ncols, sharey=True, sharex=True)\n",
        "    for ax, img in zip(axes.flatten(), samples[epoch]):\n",
        "        img = img.detach().cpu().numpy()\n",
        "        img = np.transpose(img, (1, 2, 0))\n",
        "        img = ((img +1)*255 / (2)).astype(np.uint8) # rescale to pixel range (0-255)\n",
        "        ax.xaxis.set_visible(False)\n",
        "        ax.yaxis.set_visible(False)\n",
        "        im = ax.imshow(img.reshape((32,32,3)), cmap='Greys_r')\n",
        "    plt.show()"
      ],
      "execution_count": 0,
      "outputs": []
    },
    {
      "cell_type": "code",
      "metadata": {
        "id": "Pxa_9EPyfeAS",
        "colab_type": "code",
        "colab": {
          "base_uri": "https://localhost:8080/",
          "height": 414
        },
        "outputId": "1a3b7e88-510f-4c36-ce20-402fcc60888c"
      },
      "source": [
        "samples = []   # saves samples to visualize how the image quality improves over epochs\n",
        "\n",
        "D.train()\n",
        "G.train()\n",
        "for epoch in range(epochs):\n",
        "    for batch_i, (real_images, _) in enumerate(train_loader):                \n",
        "        batch_size = real_images.size(0)        \n",
        "        real_images = scale(real_images)  # to (-1,1)\n",
        "        \n",
        "        # ============TRAIN THE DISCRIMINATOR=========        \n",
        "        z = np.random.uniform(-1, 1, size=(batch_size, z_size))  #generates fake img\n",
        "        z = torch.from_numpy(z).float()\n",
        "        fake_images = G(z.to(device)).view_as(real_images)\n",
        "        \n",
        "        allimages = torch.cat((real_images.to(device), fake_images), 0)  #concat on 0th axis\n",
        "        alllabels = torch.cat((torch.ones(batch_size),torch.zeros(batch_size)), 0).to(device)\n",
        "        \n",
        "        d_optimizer.zero_grad()\n",
        "        pred = D(allimages.to(device)).squeeze()\n",
        "        d_loss = d_criterion(pred,alllabels)\n",
        "        d_loss.backward()\n",
        "        d_optimizer.step()        \n",
        "        \n",
        "        # ===========TRAIN THE GENERATOR=============\n",
        "        z = np.random.uniform(-1, 1, size=(batch_size, z_size))  #generates fake img\n",
        "        z = torch.from_numpy(z).float()\n",
        "        fake_images = G(z.to(device))\n",
        "        \n",
        "        g_optimizer.zero_grad()\n",
        "        pred = D(fake_images.to(device)).squeeze()\n",
        "        g_loss = g_criterion(pred, torch.ones(batch_size).to(device)) #min loss -> make D think the images are real        \n",
        "        g_loss.backward()\n",
        "        g_optimizer.step()\n",
        "\n",
        "        if batch_i % print_every == 0:\n",
        "            print(f'Epoch {epoch+1:5d} | d_loss: {d_loss.item():6.4f} | g_loss: {g_loss.item():6.4f}')\n",
        "        \n",
        "    from IPython.display import clear_output\n",
        "    clear_output()\n",
        "    G.eval()\n",
        "    samples += G(fixed_z.to(device)),\n",
        "    G.train()\n",
        "    view_samples(-1,samples,1,8)"
      ],
      "execution_count": 72,
      "outputs": [
        {
          "output_type": "stream",
          "text": [
            "Epoch     1 | d_loss: 0.3837 | g_loss: 1.9198\n",
            "Epoch     1 | d_loss: 0.0065 | g_loss: 0.0074\n"
          ],
          "name": "stdout"
        },
        {
          "output_type": "error",
          "ename": "KeyboardInterrupt",
          "evalue": "ignored",
          "traceback": [
            "\u001b[0;31m---------------------------------------------------------------------------\u001b[0m",
            "\u001b[0;31mKeyboardInterrupt\u001b[0m                         Traceback (most recent call last)",
            "\u001b[0;32m<ipython-input-72-d444a7fc5451>\u001b[0m in \u001b[0;36m<module>\u001b[0;34m()\u001b[0m\n\u001b[1;32m     28\u001b[0m \u001b[0;34m\u001b[0m\u001b[0m\n\u001b[1;32m     29\u001b[0m         \u001b[0mg_optimizer\u001b[0m\u001b[0;34m.\u001b[0m\u001b[0mzero_grad\u001b[0m\u001b[0;34m(\u001b[0m\u001b[0;34m)\u001b[0m\u001b[0;34m\u001b[0m\u001b[0;34m\u001b[0m\u001b[0m\n\u001b[0;32m---> 30\u001b[0;31m         \u001b[0mpred\u001b[0m \u001b[0;34m=\u001b[0m \u001b[0mD\u001b[0m\u001b[0;34m(\u001b[0m\u001b[0mfake_images\u001b[0m\u001b[0;34m.\u001b[0m\u001b[0mto\u001b[0m\u001b[0;34m(\u001b[0m\u001b[0mdevice\u001b[0m\u001b[0;34m)\u001b[0m\u001b[0;34m)\u001b[0m\u001b[0;34m.\u001b[0m\u001b[0msqueeze\u001b[0m\u001b[0;34m(\u001b[0m\u001b[0;34m)\u001b[0m\u001b[0;34m\u001b[0m\u001b[0;34m\u001b[0m\u001b[0m\n\u001b[0m\u001b[1;32m     31\u001b[0m         \u001b[0mg_loss\u001b[0m \u001b[0;34m=\u001b[0m \u001b[0mg_criterion\u001b[0m\u001b[0;34m(\u001b[0m\u001b[0mpred\u001b[0m\u001b[0;34m,\u001b[0m \u001b[0mtorch\u001b[0m\u001b[0;34m.\u001b[0m\u001b[0mones\u001b[0m\u001b[0;34m(\u001b[0m\u001b[0mbatch_size\u001b[0m\u001b[0;34m)\u001b[0m\u001b[0;34m.\u001b[0m\u001b[0mto\u001b[0m\u001b[0;34m(\u001b[0m\u001b[0mdevice\u001b[0m\u001b[0;34m)\u001b[0m\u001b[0;34m)\u001b[0m \u001b[0;31m#min loss -> make D think the images are real\u001b[0m\u001b[0;34m\u001b[0m\u001b[0;34m\u001b[0m\u001b[0m\n\u001b[1;32m     32\u001b[0m         \u001b[0mg_loss\u001b[0m\u001b[0;34m.\u001b[0m\u001b[0mbackward\u001b[0m\u001b[0;34m(\u001b[0m\u001b[0;34m)\u001b[0m\u001b[0;34m\u001b[0m\u001b[0;34m\u001b[0m\u001b[0m\n",
            "\u001b[0;32m/usr/local/lib/python3.6/dist-packages/torch/nn/modules/module.py\u001b[0m in \u001b[0;36m__call__\u001b[0;34m(self, *input, **kwargs)\u001b[0m\n\u001b[1;32m    491\u001b[0m             \u001b[0mresult\u001b[0m \u001b[0;34m=\u001b[0m \u001b[0mself\u001b[0m\u001b[0;34m.\u001b[0m\u001b[0m_slow_forward\u001b[0m\u001b[0;34m(\u001b[0m\u001b[0;34m*\u001b[0m\u001b[0minput\u001b[0m\u001b[0;34m,\u001b[0m \u001b[0;34m**\u001b[0m\u001b[0mkwargs\u001b[0m\u001b[0;34m)\u001b[0m\u001b[0;34m\u001b[0m\u001b[0;34m\u001b[0m\u001b[0m\n\u001b[1;32m    492\u001b[0m         \u001b[0;32melse\u001b[0m\u001b[0;34m:\u001b[0m\u001b[0;34m\u001b[0m\u001b[0;34m\u001b[0m\u001b[0m\n\u001b[0;32m--> 493\u001b[0;31m             \u001b[0mresult\u001b[0m \u001b[0;34m=\u001b[0m \u001b[0mself\u001b[0m\u001b[0;34m.\u001b[0m\u001b[0mforward\u001b[0m\u001b[0;34m(\u001b[0m\u001b[0;34m*\u001b[0m\u001b[0minput\u001b[0m\u001b[0;34m,\u001b[0m \u001b[0;34m**\u001b[0m\u001b[0mkwargs\u001b[0m\u001b[0;34m)\u001b[0m\u001b[0;34m\u001b[0m\u001b[0;34m\u001b[0m\u001b[0m\n\u001b[0m\u001b[1;32m    494\u001b[0m         \u001b[0;32mfor\u001b[0m \u001b[0mhook\u001b[0m \u001b[0;32min\u001b[0m \u001b[0mself\u001b[0m\u001b[0;34m.\u001b[0m\u001b[0m_forward_hooks\u001b[0m\u001b[0;34m.\u001b[0m\u001b[0mvalues\u001b[0m\u001b[0;34m(\u001b[0m\u001b[0;34m)\u001b[0m\u001b[0;34m:\u001b[0m\u001b[0;34m\u001b[0m\u001b[0;34m\u001b[0m\u001b[0m\n\u001b[1;32m    495\u001b[0m             \u001b[0mhook_result\u001b[0m \u001b[0;34m=\u001b[0m \u001b[0mhook\u001b[0m\u001b[0;34m(\u001b[0m\u001b[0mself\u001b[0m\u001b[0;34m,\u001b[0m \u001b[0minput\u001b[0m\u001b[0;34m,\u001b[0m \u001b[0mresult\u001b[0m\u001b[0;34m)\u001b[0m\u001b[0;34m\u001b[0m\u001b[0;34m\u001b[0m\u001b[0m\n",
            "\u001b[0;32m<ipython-input-30-d9c6e70e75db>\u001b[0m in \u001b[0;36mforward\u001b[0;34m(self, x)\u001b[0m\n\u001b[1;32m     22\u001b[0m     \u001b[0;32mdef\u001b[0m \u001b[0mforward\u001b[0m\u001b[0;34m(\u001b[0m\u001b[0mself\u001b[0m\u001b[0;34m,\u001b[0m \u001b[0mx\u001b[0m\u001b[0;34m)\u001b[0m\u001b[0;34m:\u001b[0m\u001b[0;34m\u001b[0m\u001b[0;34m\u001b[0m\u001b[0m\n\u001b[1;32m     23\u001b[0m         \u001b[0mout\u001b[0m \u001b[0;34m=\u001b[0m \u001b[0mF\u001b[0m\u001b[0;34m.\u001b[0m\u001b[0mleaky_relu\u001b[0m\u001b[0;34m(\u001b[0m\u001b[0mself\u001b[0m\u001b[0;34m.\u001b[0m\u001b[0mconv1\u001b[0m\u001b[0;34m(\u001b[0m\u001b[0mx\u001b[0m\u001b[0;34m)\u001b[0m\u001b[0;34m,\u001b[0m \u001b[0;36m0.2\u001b[0m\u001b[0;34m)\u001b[0m\u001b[0;34m\u001b[0m\u001b[0;34m\u001b[0m\u001b[0m\n\u001b[0;32m---> 24\u001b[0;31m         \u001b[0mout\u001b[0m \u001b[0;34m=\u001b[0m \u001b[0mF\u001b[0m\u001b[0;34m.\u001b[0m\u001b[0mleaky_relu\u001b[0m\u001b[0;34m(\u001b[0m\u001b[0mself\u001b[0m\u001b[0;34m.\u001b[0m\u001b[0mconv2\u001b[0m\u001b[0;34m(\u001b[0m\u001b[0mout\u001b[0m\u001b[0;34m)\u001b[0m\u001b[0;34m,\u001b[0m \u001b[0;36m0.2\u001b[0m\u001b[0;34m)\u001b[0m\u001b[0;34m\u001b[0m\u001b[0;34m\u001b[0m\u001b[0m\n\u001b[0m\u001b[1;32m     25\u001b[0m         \u001b[0mout\u001b[0m \u001b[0;34m=\u001b[0m \u001b[0mF\u001b[0m\u001b[0;34m.\u001b[0m\u001b[0mleaky_relu\u001b[0m\u001b[0;34m(\u001b[0m\u001b[0mself\u001b[0m\u001b[0;34m.\u001b[0m\u001b[0mconv3\u001b[0m\u001b[0;34m(\u001b[0m\u001b[0mout\u001b[0m\u001b[0;34m)\u001b[0m\u001b[0;34m,\u001b[0m \u001b[0;36m0.2\u001b[0m\u001b[0;34m)\u001b[0m\u001b[0;34m\u001b[0m\u001b[0;34m\u001b[0m\u001b[0m\n\u001b[1;32m     26\u001b[0m \u001b[0;34m\u001b[0m\u001b[0m\n",
            "\u001b[0;32m/usr/local/lib/python3.6/dist-packages/torch/nn/modules/module.py\u001b[0m in \u001b[0;36m__call__\u001b[0;34m(self, *input, **kwargs)\u001b[0m\n\u001b[1;32m    491\u001b[0m             \u001b[0mresult\u001b[0m \u001b[0;34m=\u001b[0m \u001b[0mself\u001b[0m\u001b[0;34m.\u001b[0m\u001b[0m_slow_forward\u001b[0m\u001b[0;34m(\u001b[0m\u001b[0;34m*\u001b[0m\u001b[0minput\u001b[0m\u001b[0;34m,\u001b[0m \u001b[0;34m**\u001b[0m\u001b[0mkwargs\u001b[0m\u001b[0;34m)\u001b[0m\u001b[0;34m\u001b[0m\u001b[0;34m\u001b[0m\u001b[0m\n\u001b[1;32m    492\u001b[0m         \u001b[0;32melse\u001b[0m\u001b[0;34m:\u001b[0m\u001b[0;34m\u001b[0m\u001b[0;34m\u001b[0m\u001b[0m\n\u001b[0;32m--> 493\u001b[0;31m             \u001b[0mresult\u001b[0m \u001b[0;34m=\u001b[0m \u001b[0mself\u001b[0m\u001b[0;34m.\u001b[0m\u001b[0mforward\u001b[0m\u001b[0;34m(\u001b[0m\u001b[0;34m*\u001b[0m\u001b[0minput\u001b[0m\u001b[0;34m,\u001b[0m \u001b[0;34m**\u001b[0m\u001b[0mkwargs\u001b[0m\u001b[0;34m)\u001b[0m\u001b[0;34m\u001b[0m\u001b[0;34m\u001b[0m\u001b[0m\n\u001b[0m\u001b[1;32m    494\u001b[0m         \u001b[0;32mfor\u001b[0m \u001b[0mhook\u001b[0m \u001b[0;32min\u001b[0m \u001b[0mself\u001b[0m\u001b[0;34m.\u001b[0m\u001b[0m_forward_hooks\u001b[0m\u001b[0;34m.\u001b[0m\u001b[0mvalues\u001b[0m\u001b[0;34m(\u001b[0m\u001b[0;34m)\u001b[0m\u001b[0;34m:\u001b[0m\u001b[0;34m\u001b[0m\u001b[0;34m\u001b[0m\u001b[0m\n\u001b[1;32m    495\u001b[0m             \u001b[0mhook_result\u001b[0m \u001b[0;34m=\u001b[0m \u001b[0mhook\u001b[0m\u001b[0;34m(\u001b[0m\u001b[0mself\u001b[0m\u001b[0;34m,\u001b[0m \u001b[0minput\u001b[0m\u001b[0;34m,\u001b[0m \u001b[0mresult\u001b[0m\u001b[0;34m)\u001b[0m\u001b[0;34m\u001b[0m\u001b[0;34m\u001b[0m\u001b[0m\n",
            "\u001b[0;32m/usr/local/lib/python3.6/dist-packages/torch/nn/modules/container.py\u001b[0m in \u001b[0;36mforward\u001b[0;34m(self, input)\u001b[0m\n\u001b[1;32m     90\u001b[0m     \u001b[0;32mdef\u001b[0m \u001b[0mforward\u001b[0m\u001b[0;34m(\u001b[0m\u001b[0mself\u001b[0m\u001b[0;34m,\u001b[0m \u001b[0minput\u001b[0m\u001b[0;34m)\u001b[0m\u001b[0;34m:\u001b[0m\u001b[0;34m\u001b[0m\u001b[0;34m\u001b[0m\u001b[0m\n\u001b[1;32m     91\u001b[0m         \u001b[0;32mfor\u001b[0m \u001b[0mmodule\u001b[0m \u001b[0;32min\u001b[0m \u001b[0mself\u001b[0m\u001b[0;34m.\u001b[0m\u001b[0m_modules\u001b[0m\u001b[0;34m.\u001b[0m\u001b[0mvalues\u001b[0m\u001b[0;34m(\u001b[0m\u001b[0;34m)\u001b[0m\u001b[0;34m:\u001b[0m\u001b[0;34m\u001b[0m\u001b[0;34m\u001b[0m\u001b[0m\n\u001b[0;32m---> 92\u001b[0;31m             \u001b[0minput\u001b[0m \u001b[0;34m=\u001b[0m \u001b[0mmodule\u001b[0m\u001b[0;34m(\u001b[0m\u001b[0minput\u001b[0m\u001b[0;34m)\u001b[0m\u001b[0;34m\u001b[0m\u001b[0;34m\u001b[0m\u001b[0m\n\u001b[0m\u001b[1;32m     93\u001b[0m         \u001b[0;32mreturn\u001b[0m \u001b[0minput\u001b[0m\u001b[0;34m\u001b[0m\u001b[0;34m\u001b[0m\u001b[0m\n\u001b[1;32m     94\u001b[0m \u001b[0;34m\u001b[0m\u001b[0m\n",
            "\u001b[0;32m/usr/local/lib/python3.6/dist-packages/torch/nn/modules/module.py\u001b[0m in \u001b[0;36m__call__\u001b[0;34m(self, *input, **kwargs)\u001b[0m\n\u001b[1;32m    491\u001b[0m             \u001b[0mresult\u001b[0m \u001b[0;34m=\u001b[0m \u001b[0mself\u001b[0m\u001b[0;34m.\u001b[0m\u001b[0m_slow_forward\u001b[0m\u001b[0;34m(\u001b[0m\u001b[0;34m*\u001b[0m\u001b[0minput\u001b[0m\u001b[0;34m,\u001b[0m \u001b[0;34m**\u001b[0m\u001b[0mkwargs\u001b[0m\u001b[0;34m)\u001b[0m\u001b[0;34m\u001b[0m\u001b[0;34m\u001b[0m\u001b[0m\n\u001b[1;32m    492\u001b[0m         \u001b[0;32melse\u001b[0m\u001b[0;34m:\u001b[0m\u001b[0;34m\u001b[0m\u001b[0;34m\u001b[0m\u001b[0m\n\u001b[0;32m--> 493\u001b[0;31m             \u001b[0mresult\u001b[0m \u001b[0;34m=\u001b[0m \u001b[0mself\u001b[0m\u001b[0;34m.\u001b[0m\u001b[0mforward\u001b[0m\u001b[0;34m(\u001b[0m\u001b[0;34m*\u001b[0m\u001b[0minput\u001b[0m\u001b[0;34m,\u001b[0m \u001b[0;34m**\u001b[0m\u001b[0mkwargs\u001b[0m\u001b[0;34m)\u001b[0m\u001b[0;34m\u001b[0m\u001b[0;34m\u001b[0m\u001b[0m\n\u001b[0m\u001b[1;32m    494\u001b[0m         \u001b[0;32mfor\u001b[0m \u001b[0mhook\u001b[0m \u001b[0;32min\u001b[0m \u001b[0mself\u001b[0m\u001b[0;34m.\u001b[0m\u001b[0m_forward_hooks\u001b[0m\u001b[0;34m.\u001b[0m\u001b[0mvalues\u001b[0m\u001b[0;34m(\u001b[0m\u001b[0;34m)\u001b[0m\u001b[0;34m:\u001b[0m\u001b[0;34m\u001b[0m\u001b[0;34m\u001b[0m\u001b[0m\n\u001b[1;32m    495\u001b[0m             \u001b[0mhook_result\u001b[0m \u001b[0;34m=\u001b[0m \u001b[0mhook\u001b[0m\u001b[0;34m(\u001b[0m\u001b[0mself\u001b[0m\u001b[0;34m,\u001b[0m \u001b[0minput\u001b[0m\u001b[0;34m,\u001b[0m \u001b[0mresult\u001b[0m\u001b[0;34m)\u001b[0m\u001b[0;34m\u001b[0m\u001b[0;34m\u001b[0m\u001b[0m\n",
            "\u001b[0;32m/usr/local/lib/python3.6/dist-packages/torch/nn/modules/batchnorm.py\u001b[0m in \u001b[0;36mforward\u001b[0;34m(self, input)\u001b[0m\n\u001b[1;32m     81\u001b[0m             \u001b[0minput\u001b[0m\u001b[0;34m,\u001b[0m \u001b[0mself\u001b[0m\u001b[0;34m.\u001b[0m\u001b[0mrunning_mean\u001b[0m\u001b[0;34m,\u001b[0m \u001b[0mself\u001b[0m\u001b[0;34m.\u001b[0m\u001b[0mrunning_var\u001b[0m\u001b[0;34m,\u001b[0m \u001b[0mself\u001b[0m\u001b[0;34m.\u001b[0m\u001b[0mweight\u001b[0m\u001b[0;34m,\u001b[0m \u001b[0mself\u001b[0m\u001b[0;34m.\u001b[0m\u001b[0mbias\u001b[0m\u001b[0;34m,\u001b[0m\u001b[0;34m\u001b[0m\u001b[0;34m\u001b[0m\u001b[0m\n\u001b[1;32m     82\u001b[0m             \u001b[0mself\u001b[0m\u001b[0;34m.\u001b[0m\u001b[0mtraining\u001b[0m \u001b[0;32mor\u001b[0m \u001b[0;32mnot\u001b[0m \u001b[0mself\u001b[0m\u001b[0;34m.\u001b[0m\u001b[0mtrack_running_stats\u001b[0m\u001b[0;34m,\u001b[0m\u001b[0;34m\u001b[0m\u001b[0;34m\u001b[0m\u001b[0m\n\u001b[0;32m---> 83\u001b[0;31m             exponential_average_factor, self.eps)\n\u001b[0m\u001b[1;32m     84\u001b[0m \u001b[0;34m\u001b[0m\u001b[0m\n\u001b[1;32m     85\u001b[0m     \u001b[0;32mdef\u001b[0m \u001b[0mextra_repr\u001b[0m\u001b[0;34m(\u001b[0m\u001b[0mself\u001b[0m\u001b[0;34m)\u001b[0m\u001b[0;34m:\u001b[0m\u001b[0;34m\u001b[0m\u001b[0;34m\u001b[0m\u001b[0m\n",
            "\u001b[0;32m/usr/local/lib/python3.6/dist-packages/torch/nn/functional.py\u001b[0m in \u001b[0;36mbatch_norm\u001b[0;34m(input, running_mean, running_var, weight, bias, training, momentum, eps)\u001b[0m\n\u001b[1;32m   1695\u001b[0m     return torch.batch_norm(\n\u001b[1;32m   1696\u001b[0m         \u001b[0minput\u001b[0m\u001b[0;34m,\u001b[0m \u001b[0mweight\u001b[0m\u001b[0;34m,\u001b[0m \u001b[0mbias\u001b[0m\u001b[0;34m,\u001b[0m \u001b[0mrunning_mean\u001b[0m\u001b[0;34m,\u001b[0m \u001b[0mrunning_var\u001b[0m\u001b[0;34m,\u001b[0m\u001b[0;34m\u001b[0m\u001b[0;34m\u001b[0m\u001b[0m\n\u001b[0;32m-> 1697\u001b[0;31m         \u001b[0mtraining\u001b[0m\u001b[0;34m,\u001b[0m \u001b[0mmomentum\u001b[0m\u001b[0;34m,\u001b[0m \u001b[0meps\u001b[0m\u001b[0;34m,\u001b[0m \u001b[0mtorch\u001b[0m\u001b[0;34m.\u001b[0m\u001b[0mbackends\u001b[0m\u001b[0;34m.\u001b[0m\u001b[0mcudnn\u001b[0m\u001b[0;34m.\u001b[0m\u001b[0menabled\u001b[0m\u001b[0;34m\u001b[0m\u001b[0;34m\u001b[0m\u001b[0m\n\u001b[0m\u001b[1;32m   1698\u001b[0m     )\n\u001b[1;32m   1699\u001b[0m \u001b[0;34m\u001b[0m\u001b[0m\n",
            "\u001b[0;31mKeyboardInterrupt\u001b[0m: "
          ]
        }
      ]
    },
    {
      "cell_type": "code",
      "metadata": {
        "id": "DWXa-eM_gXgX",
        "colab_type": "code",
        "colab": {
          "base_uri": "https://localhost:8080/",
          "height": 286
        },
        "outputId": "52acd5fb-f31c-47a1-f056-57ce63c26e26"
      },
      "source": [
        "samples = []   # saves samples to visualize how the image quality improves over epochs\n",
        "\n",
        "D.train()\n",
        "G.train()\n",
        "\n",
        "for epoch in range(1):    \n",
        "    for batch_i, (real_images, _) in enumerate(train_loader):                \n",
        "        batch_size = real_images.size(0)\n",
        "        \n",
        "        # important rescaling step\n",
        "        real_images = scale(real_images)\n",
        "        \n",
        "        z = np.random.uniform(-1, 1, size=(batch_size, z_size))  #generates fake img\n",
        "        z = torch.from_numpy(z).float()\n",
        "        fake_images = G(z.to(device)).view_as(real_images)\n",
        "        \n",
        "        allimages = torch.cat((real_images.to(device), fake_images), 0)  #concat on 0th axis\n",
        "        print(allimages.shape)\n",
        "        alllabels = torch.cat((torch.ones(batch_size),torch.zeros(batch_size)), 0).to(device)\n",
        "        \n",
        "        d_optimizer.zero_grad()\n",
        "        pred = D(allimages.to(device)).squeeze()\n",
        "        d_loss = d_criterion(pred,alllabels)\n",
        "        print(d_criterion(pred[:batch_size],alllabels[:batch_size]),d_criterion(pred[batch_size:],alllabels[batch_size:]),d_loss)\n",
        "        d_loss = real_loss(D(real_images.to(device)))+fake_loss(D(fake_images.to(device)))\n",
        "        print(real_loss(D(real_images.to(device))),fake_loss(D(fake_images.to(device))),d_loss)\n",
        "        break\n",
        "        d_loss.backward()\n",
        "        d_optimizer.step()\n",
        "        \n",
        "        # =========================================\n",
        "        #            TRAIN THE GENERATOR\n",
        "        # =========================================\n",
        "        z = np.random.uniform(-1, 1, size=(batch_size, z_size))  #generates fake img\n",
        "        z = torch.from_numpy(z).float()\n",
        "        fake_images = G(z.to(device))\n",
        "        \n",
        "        g_optimizer.zero_grad()\n",
        "        pred = D(fake_images.to(device)).squeeze()\n",
        "        g_loss = g_criterion(pred, torch.ones(batch_size).to(device)) #min loss -> make D think the images are real  \n",
        "        g_loss.backward()\n",
        "        g_optimizer.step()\n",
        "        \n",
        "        # Print some loss stats\n",
        "        if batch_i % print_every == 0:\n",
        "            # append discriminator loss and generator loss\n",
        "            losses.append((d_loss.item(), g_loss.item()))\n",
        "            # print discriminator and generator loss\n",
        "            print('Epoch [{:5d}/{:5d}] | d_loss: {:6.4f} | g_loss: {:6.4f}'.format(\n",
        "                    epoch+1, num_epochs, d_loss.item(), g_loss.item()))\n",
        "\n",
        "    \n",
        "    ## AFTER EACH EPOCH##    \n",
        "    # generate and save sample, fake images\n",
        "    G.eval() # for generating samples\n",
        "    if train_on_gpu:\n",
        "        fixed_z = fixed_z.cuda()\n",
        "    samples_z = G(fixed_z)\n",
        "    samples.append(samples_z)\n",
        "    G.train() # back to training mode\n",
        "\n",
        "\n",
        "# Save training generator samples\n",
        "with open('train_samples.pkl', 'wb') as f:\n",
        "    pkl.dump(samples, f)"
      ],
      "execution_count": 99,
      "outputs": [
        {
          "output_type": "stream",
          "text": [
            "torch.Size([256, 3, 32, 32])\n",
            "tensor(0.8712, grad_fn=<BinaryCrossEntropyWithLogitsBackward>) tensor(0.5764, grad_fn=<BinaryCrossEntropyWithLogitsBackward>) tensor(0.7238, grad_fn=<BinaryCrossEntropyWithLogitsBackward>)\n",
            "tensor(0.8619, grad_fn=<BinaryCrossEntropyWithLogitsBackward>) tensor(0.5652, grad_fn=<BinaryCrossEntropyWithLogitsBackward>) tensor(1.4270, grad_fn=<AddBackward0>)\n"
          ],
          "name": "stdout"
        },
        {
          "output_type": "error",
          "ename": "NameError",
          "evalue": "ignored",
          "traceback": [
            "\u001b[0;31m---------------------------------------------------------------------------\u001b[0m",
            "\u001b[0;31mNameError\u001b[0m                                 Traceback (most recent call last)",
            "\u001b[0;32m<ipython-input-99-f76fbf2996fd>\u001b[0m in \u001b[0;36m<module>\u001b[0;34m()\u001b[0m\n\u001b[1;32m     54\u001b[0m     \u001b[0;31m# generate and save sample, fake images\u001b[0m\u001b[0;34m\u001b[0m\u001b[0;34m\u001b[0m\u001b[0;34m\u001b[0m\u001b[0m\n\u001b[1;32m     55\u001b[0m     \u001b[0mG\u001b[0m\u001b[0;34m.\u001b[0m\u001b[0meval\u001b[0m\u001b[0;34m(\u001b[0m\u001b[0;34m)\u001b[0m \u001b[0;31m# for generating samples\u001b[0m\u001b[0;34m\u001b[0m\u001b[0;34m\u001b[0m\u001b[0m\n\u001b[0;32m---> 56\u001b[0;31m     \u001b[0;32mif\u001b[0m \u001b[0mtrain_on_gpu\u001b[0m\u001b[0;34m:\u001b[0m\u001b[0;34m\u001b[0m\u001b[0;34m\u001b[0m\u001b[0m\n\u001b[0m\u001b[1;32m     57\u001b[0m         \u001b[0mfixed_z\u001b[0m \u001b[0;34m=\u001b[0m \u001b[0mfixed_z\u001b[0m\u001b[0;34m.\u001b[0m\u001b[0mcuda\u001b[0m\u001b[0;34m(\u001b[0m\u001b[0;34m)\u001b[0m\u001b[0;34m\u001b[0m\u001b[0;34m\u001b[0m\u001b[0m\n\u001b[1;32m     58\u001b[0m     \u001b[0msamples_z\u001b[0m \u001b[0;34m=\u001b[0m \u001b[0mG\u001b[0m\u001b[0;34m(\u001b[0m\u001b[0mfixed_z\u001b[0m\u001b[0;34m)\u001b[0m\u001b[0;34m\u001b[0m\u001b[0;34m\u001b[0m\u001b[0m\n",
            "\u001b[0;31mNameError\u001b[0m: name 'train_on_gpu' is not defined"
          ]
        }
      ]
    },
    {
      "cell_type": "code",
      "metadata": {
        "id": "nyLYZSg1mdDC",
        "colab_type": "code",
        "colab": {
          "base_uri": "https://localhost:8080/",
          "height": 34
        },
        "outputId": "54517c48-961a-41f3-e65d-dfca643e6c25"
      },
      "source": [
        "d_criterion(pred,alllabels)"
      ],
      "execution_count": 100,
      "outputs": [
        {
          "output_type": "execute_result",
          "data": {
            "text/plain": [
              "tensor(0.7238, grad_fn=<BinaryCrossEntropyWithLogitsBackward>)"
            ]
          },
          "metadata": {
            "tags": []
          },
          "execution_count": 100
        }
      ]
    },
    {
      "cell_type": "code",
      "metadata": {
        "id": "tjDjPcyQm56e",
        "colab_type": "code",
        "colab": {
          "base_uri": "https://localhost:8080/",
          "height": 4463
        },
        "outputId": "78b4e998-07d7-42ab-b706-a7366bb2291e"
      },
      "source": [
        "D(allimages.to(device)[:1000])"
      ],
      "execution_count": 114,
      "outputs": [
        {
          "output_type": "execute_result",
          "data": {
            "text/plain": [
              "tensor([[ 0.1008],\n",
              "        [ 0.5419],\n",
              "        [ 0.6316],\n",
              "        [ 3.1895],\n",
              "        [ 1.3012],\n",
              "        [ 1.7437],\n",
              "        [ 0.8539],\n",
              "        [ 1.7696],\n",
              "        [ 0.1352],\n",
              "        [ 3.0979],\n",
              "        [ 2.6230],\n",
              "        [ 4.2334],\n",
              "        [-1.4558],\n",
              "        [ 0.4901],\n",
              "        [-0.3194],\n",
              "        [ 1.3097],\n",
              "        [ 2.1211],\n",
              "        [ 0.5783],\n",
              "        [ 0.8592],\n",
              "        [-0.2916],\n",
              "        [-0.0772],\n",
              "        [ 2.6970],\n",
              "        [ 0.7241],\n",
              "        [ 0.2691],\n",
              "        [ 2.0524],\n",
              "        [ 1.3546],\n",
              "        [-0.4458],\n",
              "        [-1.9873],\n",
              "        [-1.4956],\n",
              "        [ 1.3029],\n",
              "        [ 4.4870],\n",
              "        [ 0.1548],\n",
              "        [ 1.7472],\n",
              "        [ 0.2810],\n",
              "        [ 2.7639],\n",
              "        [ 1.9816],\n",
              "        [ 1.0668],\n",
              "        [ 0.7955],\n",
              "        [ 3.2209],\n",
              "        [ 2.6918],\n",
              "        [-0.0673],\n",
              "        [ 3.8225],\n",
              "        [-1.8538],\n",
              "        [ 1.8332],\n",
              "        [ 1.9228],\n",
              "        [ 2.1148],\n",
              "        [ 0.8777],\n",
              "        [-0.8560],\n",
              "        [-0.2008],\n",
              "        [ 1.2765],\n",
              "        [ 0.1454],\n",
              "        [ 2.1353],\n",
              "        [ 0.7222],\n",
              "        [ 1.1610],\n",
              "        [ 1.6677],\n",
              "        [ 1.2316],\n",
              "        [ 2.5458],\n",
              "        [-0.3616],\n",
              "        [ 0.0567],\n",
              "        [-0.0612],\n",
              "        [ 2.4618],\n",
              "        [ 3.1963],\n",
              "        [ 1.1615],\n",
              "        [ 1.6079],\n",
              "        [ 2.4586],\n",
              "        [-0.3453],\n",
              "        [ 0.3761],\n",
              "        [ 0.1402],\n",
              "        [-1.5197],\n",
              "        [ 3.0473],\n",
              "        [ 2.0684],\n",
              "        [-0.5253],\n",
              "        [ 0.4120],\n",
              "        [ 1.5781],\n",
              "        [ 0.3523],\n",
              "        [ 0.2635],\n",
              "        [ 0.3061],\n",
              "        [ 0.1370],\n",
              "        [ 1.9721],\n",
              "        [ 2.4148],\n",
              "        [-0.9858],\n",
              "        [-0.5066],\n",
              "        [ 1.0480],\n",
              "        [ 0.9097],\n",
              "        [ 0.7490],\n",
              "        [ 0.2312],\n",
              "        [ 5.2231],\n",
              "        [ 0.8482],\n",
              "        [-1.7733],\n",
              "        [ 0.1953],\n",
              "        [ 2.0905],\n",
              "        [ 0.7216],\n",
              "        [ 0.9342],\n",
              "        [ 2.1311],\n",
              "        [ 0.1644],\n",
              "        [-1.1294],\n",
              "        [ 1.3912],\n",
              "        [ 3.2164],\n",
              "        [ 1.1406],\n",
              "        [-0.2355],\n",
              "        [ 0.5026],\n",
              "        [ 1.4508],\n",
              "        [ 0.1623],\n",
              "        [-0.5374],\n",
              "        [ 1.3226],\n",
              "        [ 0.2159],\n",
              "        [ 0.1756],\n",
              "        [ 1.0985],\n",
              "        [ 1.2700],\n",
              "        [ 0.5913],\n",
              "        [ 2.4347],\n",
              "        [ 1.5218],\n",
              "        [ 1.7317],\n",
              "        [ 0.0959],\n",
              "        [ 2.0682],\n",
              "        [ 1.5213],\n",
              "        [-0.4177],\n",
              "        [ 0.8509],\n",
              "        [ 0.0441],\n",
              "        [ 0.6246],\n",
              "        [-0.9827],\n",
              "        [ 1.7757],\n",
              "        [ 1.8585],\n",
              "        [ 0.7991],\n",
              "        [ 0.2635],\n",
              "        [ 2.8920],\n",
              "        [-0.5614],\n",
              "        [ 1.3791],\n",
              "        [-0.9459],\n",
              "        [-1.8398],\n",
              "        [-0.6419],\n",
              "        [-0.3606],\n",
              "        [-1.1270],\n",
              "        [-1.5204],\n",
              "        [-0.6547],\n",
              "        [ 0.2642],\n",
              "        [-1.0555],\n",
              "        [ 1.0059],\n",
              "        [-0.2778],\n",
              "        [-0.2564],\n",
              "        [ 0.2712],\n",
              "        [-0.3858],\n",
              "        [-0.2174],\n",
              "        [-2.8453],\n",
              "        [ 0.0645],\n",
              "        [-2.3458],\n",
              "        [-2.2456],\n",
              "        [-2.6175],\n",
              "        [ 0.2280],\n",
              "        [-0.4245],\n",
              "        [-1.9852],\n",
              "        [ 0.1959],\n",
              "        [-0.0686],\n",
              "        [ 0.4993],\n",
              "        [-2.1081],\n",
              "        [ 0.4126],\n",
              "        [-1.0309],\n",
              "        [-1.4115],\n",
              "        [-0.9073],\n",
              "        [ 0.8526],\n",
              "        [-5.1254],\n",
              "        [ 0.1595],\n",
              "        [ 0.1626],\n",
              "        [-0.2497],\n",
              "        [-2.2646],\n",
              "        [-2.6112],\n",
              "        [-1.1251],\n",
              "        [ 0.0941],\n",
              "        [-3.2780],\n",
              "        [-1.3110],\n",
              "        [-0.4262],\n",
              "        [-0.4108],\n",
              "        [-1.1813],\n",
              "        [-4.6074],\n",
              "        [-0.9102],\n",
              "        [-1.3036],\n",
              "        [-1.1984],\n",
              "        [ 0.1833],\n",
              "        [-0.6710],\n",
              "        [-0.3363],\n",
              "        [-1.0924],\n",
              "        [-2.0816],\n",
              "        [-0.7456],\n",
              "        [ 0.7969],\n",
              "        [-1.8603],\n",
              "        [-0.6487],\n",
              "        [ 0.4492],\n",
              "        [-0.2215],\n",
              "        [-0.0529],\n",
              "        [ 0.6277],\n",
              "        [-0.2809],\n",
              "        [-3.1294],\n",
              "        [-0.8476],\n",
              "        [-0.4606],\n",
              "        [-1.1897],\n",
              "        [ 0.0135],\n",
              "        [-0.8065],\n",
              "        [-1.9399],\n",
              "        [-0.9476],\n",
              "        [-1.3908],\n",
              "        [-4.0648],\n",
              "        [-1.5125],\n",
              "        [-1.1200],\n",
              "        [-0.4906],\n",
              "        [-0.7170],\n",
              "        [-2.9833],\n",
              "        [-0.1482],\n",
              "        [-1.2426],\n",
              "        [-0.9435],\n",
              "        [-0.6428],\n",
              "        [-1.9454],\n",
              "        [-2.4205],\n",
              "        [-2.0591],\n",
              "        [-0.3545],\n",
              "        [-2.8035],\n",
              "        [ 1.2322],\n",
              "        [-0.6325],\n",
              "        [-0.2983],\n",
              "        [-1.1721],\n",
              "        [-4.0910],\n",
              "        [-1.2241],\n",
              "        [ 1.2286],\n",
              "        [-2.8642],\n",
              "        [ 0.0547],\n",
              "        [-0.7154],\n",
              "        [-1.1489],\n",
              "        [-0.8389],\n",
              "        [-0.9672],\n",
              "        [-1.1904],\n",
              "        [ 0.6931],\n",
              "        [-2.0333],\n",
              "        [-1.2697],\n",
              "        [-0.1254],\n",
              "        [-0.5092],\n",
              "        [-1.2864],\n",
              "        [-1.4676],\n",
              "        [-2.2186],\n",
              "        [-0.6603],\n",
              "        [-0.9591],\n",
              "        [-1.6243],\n",
              "        [-1.4625],\n",
              "        [ 1.2639],\n",
              "        [-0.2437],\n",
              "        [ 0.4099],\n",
              "        [-1.6921],\n",
              "        [ 0.5028],\n",
              "        [-2.4798],\n",
              "        [-1.2116],\n",
              "        [-3.9630],\n",
              "        [ 1.6153],\n",
              "        [-2.5086],\n",
              "        [-1.9595],\n",
              "        [-1.0675],\n",
              "        [-1.3129],\n",
              "        [-0.1556],\n",
              "        [-1.4230]], device='cuda:0', grad_fn=<AddmmBackward>)"
            ]
          },
          "metadata": {
            "tags": []
          },
          "execution_count": 114
        }
      ]
    },
    {
      "cell_type": "code",
      "metadata": {
        "id": "D7jECPYunG5x",
        "colab_type": "code",
        "colab": {
          "base_uri": "https://localhost:8080/",
          "height": 434
        },
        "outputId": "84267223-f3e0-4091-8e2c-f58a6807c2c8"
      },
      "source": [
        "real_images.to(device)[0]-allimages.to(device)[0]"
      ],
      "execution_count": 93,
      "outputs": [
        {
          "output_type": "execute_result",
          "data": {
            "text/plain": [
              "tensor([[[0., 0., 0.,  ..., 0., 0., 0.],\n",
              "         [0., 0., 0.,  ..., 0., 0., 0.],\n",
              "         [0., 0., 0.,  ..., 0., 0., 0.],\n",
              "         ...,\n",
              "         [0., 0., 0.,  ..., 0., 0., 0.],\n",
              "         [0., 0., 0.,  ..., 0., 0., 0.],\n",
              "         [0., 0., 0.,  ..., 0., 0., 0.]],\n",
              "\n",
              "        [[0., 0., 0.,  ..., 0., 0., 0.],\n",
              "         [0., 0., 0.,  ..., 0., 0., 0.],\n",
              "         [0., 0., 0.,  ..., 0., 0., 0.],\n",
              "         ...,\n",
              "         [0., 0., 0.,  ..., 0., 0., 0.],\n",
              "         [0., 0., 0.,  ..., 0., 0., 0.],\n",
              "         [0., 0., 0.,  ..., 0., 0., 0.]],\n",
              "\n",
              "        [[0., 0., 0.,  ..., 0., 0., 0.],\n",
              "         [0., 0., 0.,  ..., 0., 0., 0.],\n",
              "         [0., 0., 0.,  ..., 0., 0., 0.],\n",
              "         ...,\n",
              "         [0., 0., 0.,  ..., 0., 0., 0.],\n",
              "         [0., 0., 0.,  ..., 0., 0., 0.],\n",
              "         [0., 0., 0.,  ..., 0., 0., 0.]]], device='cuda:0',\n",
              "       grad_fn=<SubBackward0>)"
            ]
          },
          "metadata": {
            "tags": []
          },
          "execution_count": 93
        }
      ]
    },
    {
      "cell_type": "code",
      "metadata": {
        "id": "z_r8x_d7mMkc",
        "colab_type": "code",
        "colab": {}
      },
      "source": [
        "def real_loss(D_out, smooth=False):\n",
        "    batch_size = D_out.size(0)\n",
        "    # label smoothing\n",
        "    if smooth:\n",
        "        # smooth, real labels = 0.9\n",
        "        labels = torch.ones(batch_size)*0.9\n",
        "    else:\n",
        "        labels = torch.ones(batch_size) # real labels = 1\n",
        "    # move labels to GPU if available     \n",
        "    if train_on_gpu:\n",
        "        labels = labels.cuda()\n",
        "    # binary cross entropy with logits loss\n",
        "    criterion = nn.BCEWithLogitsLoss()\n",
        "    # calculate loss\n",
        "    loss = criterion(D_out.squeeze(), labels)\n",
        "    return loss\n",
        "\n",
        "def fake_loss(D_out):\n",
        "    batch_size = D_out.size(0)\n",
        "    labels = torch.zeros(batch_size) # fake labels = 0\n",
        "    if train_on_gpu:\n",
        "        labels = labels.cuda()\n",
        "    criterion = nn.BCEWithLogitsLoss()\n",
        "    # calculate loss\n",
        "    loss = criterion(D_out.squeeze(), labels)\n",
        "    return loss"
      ],
      "execution_count": 0,
      "outputs": []
    },
    {
      "cell_type": "markdown",
      "metadata": {
        "id": "09kGF7IreaeU",
        "colab_type": "text"
      },
      "source": [
        "## Evaluate"
      ]
    },
    {
      "cell_type": "code",
      "metadata": {
        "id": "UN_cgdvJeaeU",
        "colab_type": "code",
        "colab": {}
      },
      "source": [
        ""
      ],
      "execution_count": 0,
      "outputs": []
    }
  ]
}