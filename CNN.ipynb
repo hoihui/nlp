{
  "nbformat": 4,
  "nbformat_minor": 0,
  "metadata": {
    "colab": {
      "name": "CNN.ipynb",
      "version": "0.3.2",
      "provenance": []
    },
    "language_info": {
      "codemirror_mode": {
        "name": "ipython",
        "version": 3
      },
      "file_extension": ".py",
      "mimetype": "text/x-python",
      "name": "python",
      "nbconvert_exporter": "python",
      "pygments_lexer": "ipython3",
      "version": "3.6.8"
    },
    "kernelspec": {
      "name": "python3",
      "display_name": "Python 3"
    },
    "accelerator": "GPU"
  },
  "cells": [
    {
      "cell_type": "markdown",
      "metadata": {
        "id": "4VdyRtU-07Li",
        "colab_type": "text"
      },
      "source": [
        "<a href=\"https://colab.research.google.com/github/hoihui/pkgs/blob/master/CNN.ipynb\" target=\"_parent\"><img src=\"https://colab.research.google.com/assets/colab-badge.svg\" alt=\"Open In Colab\"/></a>"
      ]
    },
    {
      "cell_type": "code",
      "metadata": {
        "id": "XUiGCMEX07Ln",
        "colab_type": "code",
        "colab": {}
      },
      "source": [
        "import pandas as pd, numpy as np\n",
        "import matplotlib.pyplot as plt\n",
        "%matplotlib inline"
      ],
      "execution_count": 0,
      "outputs": []
    },
    {
      "cell_type": "code",
      "metadata": {
        "id": "oMb1qEPX07Lw",
        "colab_type": "code",
        "colab": {
          "base_uri": "https://localhost:8080/",
          "height": 34
        },
        "outputId": "3bdd2d3e-f00d-49c5-fa65-9934b3511c3a"
      },
      "source": [
        "# !pip3 install -U torch torchvision\n",
        "import torch\n",
        "cuda=torch.cuda.is_available()\n",
        "torch.__version__, cuda"
      ],
      "execution_count": 2,
      "outputs": [
        {
          "output_type": "execute_result",
          "data": {
            "text/plain": [
              "('1.1.0', True)"
            ]
          },
          "metadata": {
            "tags": []
          },
          "execution_count": 2
        }
      ]
    },
    {
      "cell_type": "markdown",
      "metadata": {
        "id": "Oe8ZRk9807L5",
        "colab_type": "text"
      },
      "source": [
        "# MNIST"
      ]
    },
    {
      "cell_type": "markdown",
      "metadata": {
        "id": "1GQA3LP607L7",
        "colab_type": "text"
      },
      "source": [
        "## Torch"
      ]
    },
    {
      "cell_type": "code",
      "metadata": {
        "id": "7Mq0A-K_07L8",
        "colab_type": "code",
        "colab": {}
      },
      "source": [
        "import torch\n",
        "\n",
        "num_workers = 0  # number of subprocesses to use for data loading\n",
        "batch_size = 64  # how many samples per batch to load\n",
        "valid_size = 0.2 # percentage of training set to use as validation\n",
        "imgsize = 28\n",
        "epochs = 50\n",
        "patience = 2"
      ],
      "execution_count": 0,
      "outputs": []
    },
    {
      "cell_type": "markdown",
      "metadata": {
        "id": "b1OesNWv07MB",
        "colab_type": "text"
      },
      "source": [
        "### Load Data"
      ]
    },
    {
      "cell_type": "code",
      "metadata": {
        "id": "rtMy2TJD07MD",
        "colab_type": "code",
        "colab": {
          "base_uri": "https://localhost:8080/",
          "height": 278
        },
        "outputId": "3eaec321-f0a3-462e-8e53-e273ebd899c9"
      },
      "source": [
        "from torchvision import datasets, transforms\n",
        "from torch.utils.data.sampler import SubsetRandomSampler\n",
        "\n",
        "class ReshapeTransform:   # To conform to torch's CNN\n",
        "    def __init__(self): pass\n",
        "    def __call__(self, img):\n",
        "        return torch.unsqueeze(img, 3)\n",
        "    \n",
        "transform = transforms.Compose([transforms.ToTensor(),\n",
        "#                                 ReshapeTransform(), \n",
        "                               ])\n",
        "train_data = datasets.MNIST(root='~/.pytorch/MNIST_data/', train=True, download=True, transform=transform)\n",
        "test_data = datasets.MNIST(root='~/.pytorch/MNIST_data/', train=False, download=True, transform=transform)\n",
        "\n",
        "# build train/val indices\n",
        "numtrain = len(train_data)\n",
        "indices = list(range(numtrain))\n",
        "np.random.shuffle(indices)\n",
        "split = int(valid_size * numtrain)\n",
        "train_idx, valid_idx = indices[split:], indices[:split]\n",
        "\n",
        "train_sampler = SubsetRandomSampler(train_idx)\n",
        "valid_sampler = SubsetRandomSampler(valid_idx)\n",
        "\n",
        "train_loader = torch.utils.data.DataLoader(train_data, batch_size=batch_size, sampler=train_sampler, num_workers=num_workers)\n",
        "valid_loader = torch.utils.data.DataLoader(train_data, batch_size=batch_size, sampler=valid_sampler, num_workers=num_workers)\n",
        "test_loader = torch.utils.data.DataLoader(test_data, batch_size=batch_size, num_workers=num_workers)\n",
        "\n",
        "print(numtrain)"
      ],
      "execution_count": 4,
      "outputs": [
        {
          "output_type": "stream",
          "text": [
            "\r0it [00:00, ?it/s]"
          ],
          "name": "stderr"
        },
        {
          "output_type": "stream",
          "text": [
            "Downloading http://yann.lecun.com/exdb/mnist/train-images-idx3-ubyte.gz to /root/.pytorch/MNIST_data/MNIST/raw/train-images-idx3-ubyte.gz\n"
          ],
          "name": "stdout"
        },
        {
          "output_type": "stream",
          "text": [
            "9920512it [00:03, 3035462.26it/s]                             \n"
          ],
          "name": "stderr"
        },
        {
          "output_type": "stream",
          "text": [
            "Extracting /root/.pytorch/MNIST_data/MNIST/raw/train-images-idx3-ubyte.gz\n"
          ],
          "name": "stdout"
        },
        {
          "output_type": "stream",
          "text": [
            "\r0it [00:00, ?it/s]"
          ],
          "name": "stderr"
        },
        {
          "output_type": "stream",
          "text": [
            "Downloading http://yann.lecun.com/exdb/mnist/train-labels-idx1-ubyte.gz to /root/.pytorch/MNIST_data/MNIST/raw/train-labels-idx1-ubyte.gz\n"
          ],
          "name": "stdout"
        },
        {
          "output_type": "stream",
          "text": [
            "32768it [00:00, 48690.17it/s]                           \n",
            "0it [00:00, ?it/s]"
          ],
          "name": "stderr"
        },
        {
          "output_type": "stream",
          "text": [
            "Extracting /root/.pytorch/MNIST_data/MNIST/raw/train-labels-idx1-ubyte.gz\n",
            "Downloading http://yann.lecun.com/exdb/mnist/t10k-images-idx3-ubyte.gz to /root/.pytorch/MNIST_data/MNIST/raw/t10k-images-idx3-ubyte.gz\n"
          ],
          "name": "stdout"
        },
        {
          "output_type": "stream",
          "text": [
            "1654784it [00:02, 733361.78it/s]                             \n",
            "0it [00:00, ?it/s]"
          ],
          "name": "stderr"
        },
        {
          "output_type": "stream",
          "text": [
            "Extracting /root/.pytorch/MNIST_data/MNIST/raw/t10k-images-idx3-ubyte.gz\n",
            "Downloading http://yann.lecun.com/exdb/mnist/t10k-labels-idx1-ubyte.gz to /root/.pytorch/MNIST_data/MNIST/raw/t10k-labels-idx1-ubyte.gz\n"
          ],
          "name": "stdout"
        },
        {
          "output_type": "stream",
          "text": [
            "8192it [00:00, 18507.96it/s]            "
          ],
          "name": "stderr"
        },
        {
          "output_type": "stream",
          "text": [
            "Extracting /root/.pytorch/MNIST_data/MNIST/raw/t10k-labels-idx1-ubyte.gz\n",
            "Processing...\n",
            "Done!\n",
            "60000\n"
          ],
          "name": "stdout"
        },
        {
          "output_type": "stream",
          "text": [
            "\n"
          ],
          "name": "stderr"
        }
      ]
    },
    {
      "cell_type": "code",
      "metadata": {
        "id": "i_siDwF807MI",
        "colab_type": "code",
        "colab": {
          "base_uri": "https://localhost:8080/",
          "height": 210
        },
        "outputId": "931121f5-2fad-4113-c502-a6e1b378a115"
      },
      "source": [
        "#visualize\n",
        "images, labels = next(iter(train_loader))\n",
        "fig = plt.figure(figsize=(15, 3))\n",
        "for idx in np.arange(20):\n",
        "    ax = fig.add_subplot(2, 20/2, idx+1, xticks=[], yticks=[])\n",
        "    ax.imshow(np.squeeze(images[idx]), cmap='gray')\n",
        "    ax.set_title(str(labels[idx].item()))"
      ],
      "execution_count": 5,
      "outputs": [
        {
          "output_type": "display_data",
          "data": {
            "image/png": "[encoded data removed]",
            "text/plain": [
              "<Figure size 1080x216 with 20 Axes>"
            ]
          },
          "metadata": {
            "tags": []
          }
        }
      ]
    },
    {
      "cell_type": "markdown",
      "metadata": {
        "id": "wkq7ZKG607MO",
        "colab_type": "text"
      },
      "source": [
        "### Model"
      ]
    },
    {
      "cell_type": "code",
      "metadata": {
        "id": "uTo_nhiq07MP",
        "colab_type": "code",
        "colab": {
          "base_uri": "https://localhost:8080/",
          "height": 173
        },
        "outputId": "d0d54f10-91bc-44ec-ba42-c5af52b47aa4"
      },
      "source": [
        "import torch.nn as nn\n",
        "import torch.nn.functional as F\n",
        "\n",
        "class Net(nn.Module):\n",
        "    def __init__(self):\n",
        "        super(Net, self).__init__()\n",
        "        \n",
        "        filters = 32               # number of convolutional filters to use\n",
        "        pool_size = (2,2)          # size of pooling area for max pooling\n",
        "        kernel_size = 3            # convolution kernel size\n",
        "        self.conv1 = nn.Conv2d(1, filters, kernel_size, padding=1)       #in 1*imgsize*imgsize, out filters*imgsize*imgsize\n",
        "        self.conv2 = nn.Conv2d(filters, filters, kernel_size, padding=1) #in filters*imgsize*imgsize, out filters*imgsize*imgsize\n",
        "        self.pool = nn.MaxPool2d(*pool_size)                             #in filters*imgsize*imgsize, out filters*imgsize*imgsize/4\n",
        "        self.dropout1 = nn.Dropout(0.25)\n",
        "        \n",
        "        self.fc1 = nn.Linear(filters * imgsize*imgsize//4, 128)  #sees filters*imgsize*imgsize/4\n",
        "        self.fc2 = nn.Linear(128, 10)\n",
        "        self.dropout2 = nn.Dropout(0.5)\n",
        "        \n",
        "    def forward(self, x):\n",
        "        x = F.relu(self.conv1(x))\n",
        "        x = self.pool(F.relu(self.conv2(x)))\n",
        "        filters = 32\n",
        "        x = x.view(-1, filters * imgsize*imgsize//4)\n",
        "        x = F.relu(self.fc1(x))\n",
        "        x = self.dropout2(x)\n",
        "        x = self.fc2(x)\n",
        "        return x\n",
        "    \n",
        "\n",
        "model = Net()\n",
        "print(model)\n",
        "\n",
        "criterion = nn.CrossEntropyLoss()  # Linear output with CrossEntropyLoss\n",
        "optimizer = torch.optim.Adadelta(model.parameters())"
      ],
      "execution_count": 22,
      "outputs": [
        {
          "output_type": "stream",
          "text": [
            "Net(\n",
            "  (conv1): Conv2d(1, 32, kernel_size=(3, 3), stride=(1, 1), padding=(1, 1))\n",
            "  (conv2): Conv2d(32, 32, kernel_size=(3, 3), stride=(1, 1), padding=(1, 1))\n",
            "  (pool): MaxPool2d(kernel_size=2, stride=2, padding=0, dilation=1, ceil_mode=False)\n",
            "  (dropout1): Dropout(p=0.25)\n",
            "  (fc1): Linear(in_features=6272, out_features=128, bias=True)\n",
            "  (fc2): Linear(in_features=128, out_features=10, bias=True)\n",
            "  (dropout2): Dropout(p=0.5)\n",
            ")\n"
          ],
          "name": "stdout"
        }
      ]
    },
    {
      "cell_type": "code",
      "metadata": {
        "scrolled": false,
        "id": "uKcT9JF_07MX",
        "colab_type": "code",
        "colab": {
          "base_uri": "https://localhost:8080/",
          "height": 52
        },
        "outputId": "1bafa78d-44d1-40b2-ade4-d6de15df17f0"
      },
      "source": [
        "images, labels = next(iter(train_loader))\n",
        "print(images.shape)\n",
        "print(model(images).shape)"
      ],
      "execution_count": 23,
      "outputs": [
        {
          "output_type": "stream",
          "text": [
            "torch.Size([64, 1, 28, 28])\n",
            "torch.Size([64, 10])\n"
          ],
          "name": "stdout"
        }
      ]
    },
    {
      "cell_type": "markdown",
      "metadata": {
        "id": "-c4w5fH307Mh",
        "colab_type": "text"
      },
      "source": [
        "### Train"
      ]
    },
    {
      "cell_type": "code",
      "metadata": {
        "id": "msT93CqJ07Mj",
        "colab_type": "code",
        "colab": {
          "base_uri": "https://localhost:8080/",
          "height": 173
        },
        "outputId": "ad08e79e-7a3d-4e58-a328-4dee4da0ab23"
      },
      "source": [
        "valid_loss_min = np.Inf            # best loss so far\n",
        "epochs_without_improvement = 0\n",
        "import tempfile                    # tempfile for saving model\n",
        "_,weightsfile=tempfile.mkstemp()\n",
        "\n",
        "if cuda: model.cuda()\n",
        "for epoch in range(epochs):\n",
        "    train_loss = valid_loss = 0.\n",
        "    \n",
        "    # train\n",
        "    model.train()\n",
        "    for data, target in train_loader:\n",
        "        if cuda:  data, target = data.cuda(),target.cuda()\n",
        "        optimizer.zero_grad()\n",
        "        output = model(data)\n",
        "        loss = criterion(output, target)\n",
        "        loss.backward()\n",
        "        optimizer.step()\n",
        "        train_loss += loss.item()*data.size(0)\n",
        "    train_loss = train_loss/len(train_loader.sampler)\n",
        "        \n",
        "    # validation\n",
        "    model.eval() \n",
        "    for data, target in valid_loader:\n",
        "        if cuda:  data, target = data.cuda(),target.cuda()\n",
        "        output = model(data)\n",
        "        loss = criterion(output, target)\n",
        "        valid_loss += loss.item()*data.size(0)        \n",
        "    valid_loss = valid_loss/len(valid_loader.sampler)\n",
        "    \n",
        "    print(f'Epoch {epoch+1}: \\tTraining Loss: {train_loss:.6f} \\tValidation Loss: {valid_loss:.6f}')\n",
        "    \n",
        "    # save model if validation loss has decreased\n",
        "    if valid_loss <= valid_loss_min:\n",
        "        torch.save(model.state_dict(), weightsfile)\n",
        "        valid_loss_min = valid_loss\n",
        "    else:\n",
        "        epochs_without_improvement+=1\n",
        "    if epochs_without_improvement>patience:\n",
        "        break\n",
        "        \n",
        "model.load_state_dict(torch.load(weightsfile))"
      ],
      "execution_count": 24,
      "outputs": [
        {
          "output_type": "stream",
          "text": [
            "Epoch 1: \tTraining Loss: 0.263325 \tValidation Loss: 0.069751\n",
            "Epoch 2: \tTraining Loss: 0.086810 \tValidation Loss: 0.053018\n",
            "Epoch 3: \tTraining Loss: 0.065068 \tValidation Loss: 0.045796\n",
            "Epoch 4: \tTraining Loss: 0.054583 \tValidation Loss: 0.044609\n",
            "Epoch 5: \tTraining Loss: 0.046198 \tValidation Loss: 0.041176\n",
            "Epoch 6: \tTraining Loss: 0.040052 \tValidation Loss: 0.049903\n",
            "Epoch 7: \tTraining Loss: 0.035796 \tValidation Loss: 0.045282\n",
            "Epoch 8: \tTraining Loss: 0.033177 \tValidation Loss: 0.045073\n"
          ],
          "name": "stdout"
        },
        {
          "output_type": "execute_result",
          "data": {
            "text/plain": [
              "IncompatibleKeys(missing_keys=[], unexpected_keys=[])"
            ]
          },
          "metadata": {
            "tags": []
          },
          "execution_count": 24
        }
      ]
    },
    {
      "cell_type": "markdown",
      "metadata": {
        "id": "Kp29vSDO07Mo",
        "colab_type": "text"
      },
      "source": [
        "### Evaluate"
      ]
    },
    {
      "cell_type": "code",
      "metadata": {
        "id": "OZSxGj3Z07Mp",
        "colab_type": "code",
        "colab": {
          "base_uri": "https://localhost:8080/",
          "height": 225
        },
        "outputId": "a9aac627-1c30-459d-85ba-84f7b9237e1c"
      },
      "source": [
        "test_loss = 0.0\n",
        "class_correct = list(0. for i in range(10))  # number of correctly labeled data in each class\n",
        "class_total = list(0. for i in range(10))    # number of data in each class\n",
        "\n",
        "model.cpu()\n",
        "model.eval()\n",
        "for data, target in test_loader:\n",
        "    output = model(data)\n",
        "    loss = criterion(output, target)\n",
        "    test_loss += loss.item()*data.size(0)\n",
        "    \n",
        "    prob, pred = torch.max(output, 1)  # along the 2nd axis\n",
        "    correct = pred.eq(target)\n",
        "    \n",
        "    for i in range(len(target)):\n",
        "        label = target[i]\n",
        "        class_correct[label] += correct[i].item()\n",
        "        class_total[label] += 1\n",
        "\n",
        "test_loss = test_loss/len(test_loader.sampler)\n",
        "print(f'Test Loss: {test_loss:.6f}')\n",
        "\n",
        "for i in range(10):\n",
        "    if class_total[i] > 0:\n",
        "        print(f'Test Accuracy of {i}: {100*class_correct[i]/class_total[i]:.2f}% ({np.sum(class_correct[i]):.0f}/{np.sum(class_total[i]):.0f})')\n",
        "    else:\n",
        "        print('Test Accuracy of %5s: N/A (no training examples)' % (classes[i]))\n",
        "\n",
        "print(f'Test Accuracy (Overall): {100.*np.sum(class_correct)/np.sum(class_total):.2f}% ({np.sum(class_correct):.0f}/{np.sum(class_total):.0f})')"
      ],
      "execution_count": 27,
      "outputs": [
        {
          "output_type": "stream",
          "text": [
            "Test Loss: 0.038658\n",
            "Test Accuracy of 0: 99.18% (972/980)\n",
            "Test Accuracy of 1: 99.38% (1128/1135)\n",
            "Test Accuracy of 2: 99.52% (1027/1032)\n",
            "Test Accuracy of 3: 99.50% (1005/1010)\n",
            "Test Accuracy of 4: 99.19% (974/982)\n",
            "Test Accuracy of 5: 98.99% (883/892)\n",
            "Test Accuracy of 6: 98.54% (944/958)\n",
            "Test Accuracy of 7: 98.35% (1011/1028)\n",
            "Test Accuracy of 8: 98.46% (959/974)\n",
            "Test Accuracy of 9: 96.83% (977/1009)\n",
            "Test Accuracy (Overall): 98.80% (9880/10000)\n"
          ],
          "name": "stdout"
        }
      ]
    },
    {
      "cell_type": "markdown",
      "metadata": {
        "id": "n4vQY5og07Mu",
        "colab_type": "text"
      },
      "source": [
        "## Keras"
      ]
    },
    {
      "cell_type": "markdown",
      "metadata": {
        "id": "_eU_0zTd07Mv",
        "colab_type": "text"
      },
      "source": [
        "https://github.com/keras-team/keras/blob/master/examples/mnist_cnn.py"
      ]
    },
    {
      "cell_type": "code",
      "metadata": {
        "id": "sUorV-jX07Mw",
        "colab_type": "code",
        "colab": {}
      },
      "source": [
        "from tensorflow import keras\n",
        "from tensorflow.keras import datasets, models, layers, optimizers\n",
        "batch_size = 64\n",
        "epochs = 50\n",
        "imgsize = 28\n",
        "filters = 32                 # number of convolutional filters to use\n",
        "pool_size = (2, 2)              # size of pooling area for max pooling\n",
        "kernel_size = (3, 3)            # convolution kernel size\n",
        "patience = 2"
      ],
      "execution_count": 0,
      "outputs": []
    },
    {
      "cell_type": "markdown",
      "metadata": {
        "id": "8VqRRdX907M1",
        "colab_type": "text"
      },
      "source": [
        "### Load data"
      ]
    },
    {
      "cell_type": "code",
      "metadata": {
        "id": "QQCO2VEb07M3",
        "colab_type": "code",
        "colab": {
          "base_uri": "https://localhost:8080/",
          "height": 86
        },
        "outputId": "45001395-ece9-4077-c2cf-c99872be99ea"
      },
      "source": [
        "(X_train, y_train), (X_test, y_test0) = datasets.mnist.load_data()\n",
        "print(X_train.shape, y_train.shape)\n",
        "\n",
        "X_train = X_train.reshape(X_train.shape[0], -1)\n",
        "X_test  = X_test.reshape(X_test.shape[0], -1)\n",
        "X_train = X_train.astype('float32')/255  # normalize data from 0 to 1\n",
        "X_test  = X_test.astype('float32') /255\n",
        "\n",
        "y_train = keras.utils.to_categorical(y_train, 10) # convert class vectors to binary class matrices\n",
        "y_test = keras.utils.to_categorical(y_test0, 10)\n",
        "\n",
        "print(X_train.shape, y_train.shape)"
      ],
      "execution_count": 30,
      "outputs": [
        {
          "output_type": "stream",
          "text": [
            "Downloading data from https://storage.googleapis.com/tensorflow/tf-keras-datasets/mnist.npz\n",
            "11493376/11490434 [==============================] - 0s 0us/step\n",
            "(60000, 28, 28) (60000,)\n",
            "(60000, 784) (60000, 10)\n"
          ],
          "name": "stdout"
        }
      ]
    },
    {
      "cell_type": "code",
      "metadata": {
        "id": "Qq7LtXK807M8",
        "colab_type": "code",
        "colab": {}
      },
      "source": [
        "# To conform to tensorflow's CNN\n",
        "X_train = X_train.reshape(X_train.shape[0], imgsize, imgsize, 1)\n",
        "X_test = X_test.reshape(X_test.shape[0], imgsize, imgsize, 1)\n",
        "input_shape = (imgsize, imgsize, 1)"
      ],
      "execution_count": 0,
      "outputs": []
    },
    {
      "cell_type": "markdown",
      "metadata": {
        "id": "W1qsPOQB07NA",
        "colab_type": "text"
      },
      "source": [
        "### Model"
      ]
    },
    {
      "cell_type": "code",
      "metadata": {
        "id": "QJ6qQaem07NB",
        "colab_type": "code",
        "colab": {
          "base_uri": "https://localhost:8080/",
          "height": 541
        },
        "outputId": "b81ace9a-30d4-4b84-9782-412c83fbbe8b"
      },
      "source": [
        "model = models.Sequential()\n",
        "model.add(layers.Conv2D(filters, kernel_size,\n",
        "                        activation='relu',\n",
        "                        input_shape=input_shape))\n",
        "model.add(layers.Conv2D(filters, kernel_size, activation='relu'))\n",
        "model.add(layers.MaxPooling2D(pool_size=pool_size))\n",
        "model.add(layers.Dropout(0.25))\n",
        "\n",
        "model.add(layers.Flatten())\n",
        "model.add(layers.Dense(128, activation='relu'))\n",
        "model.add(layers.Dropout(0.5))\n",
        "model.add(layers.Dense(10, activation='softmax'))\n",
        "\n",
        "model.summary()"
      ],
      "execution_count": 32,
      "outputs": [
        {
          "output_type": "stream",
          "text": [
            "WARNING:tensorflow:From /usr/local/lib/python3.6/dist-packages/tensorflow/python/ops/resource_variable_ops.py:435: colocate_with (from tensorflow.python.framework.ops) is deprecated and will be removed in a future version.\n",
            "Instructions for updating:\n",
            "Colocations handled automatically by placer.\n",
            "WARNING:tensorflow:From /usr/local/lib/python3.6/dist-packages/tensorflow/python/keras/layers/core.py:143: calling dropout (from tensorflow.python.ops.nn_ops) with keep_prob is deprecated and will be removed in a future version.\n",
            "Instructions for updating:\n",
            "Please use `rate` instead of `keep_prob`. Rate should be set to `rate = 1 - keep_prob`.\n",
            "_________________________________________________________________\n",
            "Layer (type)                 Output Shape              Param #   \n",
            "=================================================================\n",
            "conv2d (Conv2D)              (None, 26, 26, 32)        320       \n",
            "_________________________________________________________________\n",
            "conv2d_1 (Conv2D)            (None, 24, 24, 32)        9248      \n",
            "_________________________________________________________________\n",
            "max_pooling2d (MaxPooling2D) (None, 12, 12, 32)        0         \n",
            "_________________________________________________________________\n",
            "dropout (Dropout)            (None, 12, 12, 32)        0         \n",
            "_________________________________________________________________\n",
            "flatten (Flatten)            (None, 4608)              0         \n",
            "_________________________________________________________________\n",
            "dense (Dense)                (None, 128)               589952    \n",
            "_________________________________________________________________\n",
            "dropout_1 (Dropout)          (None, 128)               0         \n",
            "_________________________________________________________________\n",
            "dense_1 (Dense)              (None, 10)                1290      \n",
            "=================================================================\n",
            "Total params: 600,810\n",
            "Trainable params: 600,810\n",
            "Non-trainable params: 0\n",
            "_________________________________________________________________\n"
          ],
          "name": "stdout"
        }
      ]
    },
    {
      "cell_type": "code",
      "metadata": {
        "id": "sa6U5jZD3BeZ",
        "colab_type": "code",
        "colab": {
          "base_uri": "https://localhost:8080/",
          "height": 52
        },
        "outputId": "a3dc40b4-c27a-47fa-fcb6-88058fe29893"
      },
      "source": [
        "print(X_train[0].shape)\n",
        "print(model(X_train).shape)"
      ],
      "execution_count": 35,
      "outputs": [
        {
          "output_type": "stream",
          "text": [
            "(28, 28, 1)\n",
            "(60000, 10)\n"
          ],
          "name": "stdout"
        }
      ]
    },
    {
      "cell_type": "markdown",
      "metadata": {
        "id": "GjJAKQEd07NI",
        "colab_type": "text"
      },
      "source": [
        "### Train"
      ]
    },
    {
      "cell_type": "code",
      "metadata": {
        "id": "Lz8VXlOi07NK",
        "colab_type": "code",
        "colab": {}
      },
      "source": [
        "from tensorflow import train\n",
        "model.compile(loss='categorical_crossentropy',           # or keras.losses.categorical_crossentropy\n",
        "              optimizer=train.AdadeltaOptimizer(),     # or keras.optimizers.Adadelta()\n",
        "              metrics=['accuracy'])\n",
        "\n",
        "import tempfile\n",
        "_,weightsfile=tempfile.mkstemp()\n",
        "from tensorflow.keras.callbacks import EarlyStopping,ModelCheckpoint\n",
        "es=EarlyStopping(monitor='val_loss', patience=patience, verbose=1)\n",
        "mc=ModelCheckpoint(weightsfile,monitor='val_loss',save_best_only=True,save_weights_only=True,verbose=0)\n",
        "\n",
        "model.fit(X_train, y_train,\n",
        "          batch_size=batch_size,\n",
        "          epochs=epochs,\n",
        "          verbose=1,callbacks=[es,mc],\n",
        "          validation_data=(X_test, y_test))\n",
        "model.load_weights(weightsfile)"
      ],
      "execution_count": 0,
      "outputs": []
    },
    {
      "cell_type": "markdown",
      "metadata": {
        "id": "8zvcflRH07NS",
        "colab_type": "text"
      },
      "source": [
        "### Evaluate"
      ]
    },
    {
      "cell_type": "code",
      "metadata": {
        "id": "dfY2NLkx07NV",
        "colab_type": "code",
        "colab": {
          "base_uri": "https://localhost:8080/",
          "height": 429
        },
        "outputId": "7b81596e-9bf8-417a-d09a-f77d5ef1f259"
      },
      "source": [
        "score = model.evaluate(X_test, y_test, verbose=0)\n",
        "print('Test loss:', score[0])\n",
        "print('Test accuracy:', score[1])\n",
        "y_hat = model.predict_classes(X_test)\n",
        "pd.crosstab(y_hat, y_test0)"
      ],
      "execution_count": 40,
      "outputs": [
        {
          "output_type": "stream",
          "text": [
            "Test loss: 0.026994537603552818\n",
            "Test accuracy: 0.9913\n"
          ],
          "name": "stdout"
        },
        {
          "output_type": "execute_result",
          "data": {
            "text/html": [
              "<div>\n",
              "<style scoped>\n",
              "    .dataframe tbody tr th:only-of-type {\n",
              "        vertical-align: middle;\n",
              "    }\n",
              "\n",
              "    .dataframe tbody tr th {\n",
              "        vertical-align: top;\n",
              "    }\n",
              "\n",
              "    .dataframe thead th {\n",
              "        text-align: right;\n",
              "    }\n",
              "</style>\n",
              "<table border=\"1\" class=\"dataframe\">\n",
              "  <thead>\n",
              "    <tr style=\"text-align: right;\">\n",
              "      <th>col_0</th>\n",
              "      <th>0</th>\n",
              "      <th>1</th>\n",
              "      <th>2</th>\n",
              "      <th>3</th>\n",
              "      <th>4</th>\n",
              "      <th>5</th>\n",
              "      <th>6</th>\n",
              "      <th>7</th>\n",
              "      <th>8</th>\n",
              "      <th>9</th>\n",
              "    </tr>\n",
              "    <tr>\n",
              "      <th>row_0</th>\n",
              "      <th></th>\n",
              "      <th></th>\n",
              "      <th></th>\n",
              "      <th></th>\n",
              "      <th></th>\n",
              "      <th></th>\n",
              "      <th></th>\n",
              "      <th></th>\n",
              "      <th></th>\n",
              "      <th></th>\n",
              "    </tr>\n",
              "  </thead>\n",
              "  <tbody>\n",
              "    <tr>\n",
              "      <th>0</th>\n",
              "      <td>977</td>\n",
              "      <td>0</td>\n",
              "      <td>2</td>\n",
              "      <td>0</td>\n",
              "      <td>0</td>\n",
              "      <td>2</td>\n",
              "      <td>4</td>\n",
              "      <td>0</td>\n",
              "      <td>2</td>\n",
              "      <td>2</td>\n",
              "    </tr>\n",
              "    <tr>\n",
              "      <th>1</th>\n",
              "      <td>0</td>\n",
              "      <td>1133</td>\n",
              "      <td>1</td>\n",
              "      <td>0</td>\n",
              "      <td>0</td>\n",
              "      <td>0</td>\n",
              "      <td>2</td>\n",
              "      <td>2</td>\n",
              "      <td>0</td>\n",
              "      <td>1</td>\n",
              "    </tr>\n",
              "    <tr>\n",
              "      <th>2</th>\n",
              "      <td>0</td>\n",
              "      <td>1</td>\n",
              "      <td>1021</td>\n",
              "      <td>2</td>\n",
              "      <td>0</td>\n",
              "      <td>0</td>\n",
              "      <td>0</td>\n",
              "      <td>6</td>\n",
              "      <td>2</td>\n",
              "      <td>0</td>\n",
              "    </tr>\n",
              "    <tr>\n",
              "      <th>3</th>\n",
              "      <td>0</td>\n",
              "      <td>1</td>\n",
              "      <td>0</td>\n",
              "      <td>1004</td>\n",
              "      <td>0</td>\n",
              "      <td>2</td>\n",
              "      <td>0</td>\n",
              "      <td>3</td>\n",
              "      <td>1</td>\n",
              "      <td>0</td>\n",
              "    </tr>\n",
              "    <tr>\n",
              "      <th>4</th>\n",
              "      <td>0</td>\n",
              "      <td>0</td>\n",
              "      <td>1</td>\n",
              "      <td>0</td>\n",
              "      <td>974</td>\n",
              "      <td>0</td>\n",
              "      <td>1</td>\n",
              "      <td>0</td>\n",
              "      <td>0</td>\n",
              "      <td>4</td>\n",
              "    </tr>\n",
              "    <tr>\n",
              "      <th>5</th>\n",
              "      <td>0</td>\n",
              "      <td>0</td>\n",
              "      <td>0</td>\n",
              "      <td>3</td>\n",
              "      <td>0</td>\n",
              "      <td>884</td>\n",
              "      <td>4</td>\n",
              "      <td>0</td>\n",
              "      <td>0</td>\n",
              "      <td>3</td>\n",
              "    </tr>\n",
              "    <tr>\n",
              "      <th>6</th>\n",
              "      <td>1</td>\n",
              "      <td>0</td>\n",
              "      <td>1</td>\n",
              "      <td>0</td>\n",
              "      <td>5</td>\n",
              "      <td>4</td>\n",
              "      <td>947</td>\n",
              "      <td>0</td>\n",
              "      <td>1</td>\n",
              "      <td>0</td>\n",
              "    </tr>\n",
              "    <tr>\n",
              "      <th>7</th>\n",
              "      <td>1</td>\n",
              "      <td>0</td>\n",
              "      <td>5</td>\n",
              "      <td>0</td>\n",
              "      <td>0</td>\n",
              "      <td>0</td>\n",
              "      <td>0</td>\n",
              "      <td>1013</td>\n",
              "      <td>1</td>\n",
              "      <td>2</td>\n",
              "    </tr>\n",
              "    <tr>\n",
              "      <th>8</th>\n",
              "      <td>1</td>\n",
              "      <td>0</td>\n",
              "      <td>1</td>\n",
              "      <td>1</td>\n",
              "      <td>0</td>\n",
              "      <td>0</td>\n",
              "      <td>0</td>\n",
              "      <td>1</td>\n",
              "      <td>966</td>\n",
              "      <td>3</td>\n",
              "    </tr>\n",
              "    <tr>\n",
              "      <th>9</th>\n",
              "      <td>0</td>\n",
              "      <td>0</td>\n",
              "      <td>0</td>\n",
              "      <td>0</td>\n",
              "      <td>3</td>\n",
              "      <td>0</td>\n",
              "      <td>0</td>\n",
              "      <td>3</td>\n",
              "      <td>1</td>\n",
              "      <td>994</td>\n",
              "    </tr>\n",
              "  </tbody>\n",
              "</table>\n",
              "</div>"
            ],
            "text/plain": [
              "col_0    0     1     2     3    4    5    6     7    8    9\n",
              "row_0                                                      \n",
              "0      977     0     2     0    0    2    4     0    2    2\n",
              "1        0  1133     1     0    0    0    2     2    0    1\n",
              "2        0     1  1021     2    0    0    0     6    2    0\n",
              "3        0     1     0  1004    0    2    0     3    1    0\n",
              "4        0     0     1     0  974    0    1     0    0    4\n",
              "5        0     0     0     3    0  884    4     0    0    3\n",
              "6        1     0     1     0    5    4  947     0    1    0\n",
              "7        1     0     5     0    0    0    0  1013    1    2\n",
              "8        1     0     1     1    0    0    0     1  966    3\n",
              "9        0     0     0     0    3    0    0     3    1  994"
            ]
          },
          "metadata": {
            "tags": []
          },
          "execution_count": 40
        }
      ]
    },
    {
      "cell_type": "markdown",
      "metadata": {
        "id": "9IrjM8Jr07Na",
        "colab_type": "text"
      },
      "source": [
        "# CIFAR-10"
      ]
    },
    {
      "cell_type": "markdown",
      "metadata": {
        "id": "fwqLQ_Ln07Nc",
        "colab_type": "text"
      },
      "source": [
        "## Torch"
      ]
    },
    {
      "cell_type": "code",
      "metadata": {
        "id": "rVsTVU2607Nd",
        "colab_type": "code",
        "colab": {}
      },
      "source": [
        "import torch\n",
        "import numpy as np"
      ],
      "execution_count": 0,
      "outputs": []
    },
    {
      "cell_type": "markdown",
      "metadata": {
        "id": "xRBRs7C507Ng",
        "colab_type": "text"
      },
      "source": [
        "# Transfer learning for cats/dogs"
      ]
    },
    {
      "cell_type": "markdown",
      "metadata": {
        "id": "8vyPMl3s07Nh",
        "colab_type": "text"
      },
      "source": [
        "https://github.com/udacity/deep-learning-v2-pytorch/blob/master/intro-to-pytorch/Part%207%20-%20Loading%20Image%20Data%20(Solution).ipynb\n",
        "\n",
        "https://github.com/udacity/deep-learning-v2-pytorch/blob/master/intro-to-pytorch/Part%208%20-%20Transfer%20Learning%20(Solution).ipynb"
      ]
    },
    {
      "cell_type": "markdown",
      "metadata": {
        "id": "D6WV4rMg07Ni",
        "colab_type": "text"
      },
      "source": [
        "## prepare data"
      ]
    },
    {
      "cell_type": "code",
      "metadata": {
        "id": "HHrjGW9L07Nl",
        "colab_type": "code",
        "colab": {}
      },
      "source": [
        "import urllib.request,zipfile\n",
        "import os,tempfile\n",
        "os.chdir(tempfile.gettempdir())\n",
        "urllib.request.urlretrieve('https://s3.amazonaws.com/content.udacity-data.com/nd089/Cat_Dog_data.zip','Cat_Dog_data.zip')\n",
        "zipfile.ZipFile('Cat_Dog_data.zip').extractall()"
      ],
      "execution_count": 0,
      "outputs": []
    },
    {
      "cell_type": "markdown",
      "metadata": {
        "id": "YyYsO_l007Nn",
        "colab_type": "text"
      },
      "source": [
        "Dataloader:"
      ]
    },
    {
      "cell_type": "code",
      "metadata": {
        "id": "ZAnf3GKG07Nq",
        "colab_type": "code",
        "colab": {}
      },
      "source": [
        "import torch\n",
        "from torchvision import datasets, transforms\n",
        "train_transforms = transforms.Compose([transforms.RandomRotation(30),     # add randomization for robustness\n",
        "                                       transforms.RandomResizedCrop(224),\n",
        "                                       transforms.RandomHorizontalFlip(),\n",
        "                                       transforms.ToTensor(),\n",
        "                                       transforms.Normalize([0.485, 0.456, 0.406],   #normalization parameters given by the model\n",
        "                                                            [0.229, 0.224, 0.225])])\n",
        "\n",
        "test_transforms = transforms.Compose([transforms.Resize(255),\n",
        "                                      transforms.CenterCrop(224),\n",
        "                                      transforms.ToTensor(),\n",
        "                                      transforms.Normalize([0.485, 0.456, 0.406],\n",
        "                                                           [0.229, 0.224, 0.225])])\n",
        "\n",
        "train_data = datasets.ImageFolder('Cat_Dog_data/train', transform=train_transforms)\n",
        "test_data = datasets.ImageFolder('Cat_Dog_data/test', transform=test_transforms)\n",
        "\n",
        "trainloader = torch.utils.data.DataLoader(train_data, batch_size=32, shuffle=True)\n",
        "testloader = torch.utils.data.DataLoader(test_data, batch_size=32)"
      ],
      "execution_count": 0,
      "outputs": []
    },
    {
      "cell_type": "markdown",
      "metadata": {
        "id": "4r8fry0B07Ns",
        "colab_type": "text"
      },
      "source": [
        "Example image/label:"
      ]
    },
    {
      "cell_type": "code",
      "metadata": {
        "id": "GvlX2n7007Nt",
        "colab_type": "code",
        "colab": {},
        "outputId": "99b5fbd6-a2ac-42d5-fa66-24212e11f5b9"
      },
      "source": [
        "import matplotlib.pyplot as plt\n",
        "images, labels = next(iter(trainloader))\n",
        "image, label = images[0], labels[0]\n",
        "image = image.numpy().transpose((1, 2, 0))\n",
        "plt.imshow(image)\n",
        "print(label)"
      ],
      "execution_count": 0,
      "outputs": [
        {
          "output_type": "stream",
          "text": [
            "Clipping input data to the valid range for imshow with RGB data ([0..1] for floats or [0..255] for integers).\n"
          ],
          "name": "stderr"
        },
        {
          "output_type": "stream",
          "text": [
            "tensor(1)\n"
          ],
          "name": "stdout"
        },
        {
          "output_type": "display_data",
          "data": {
            "image/png": "[encoded data removed]",
            "text/plain": [
              "<Figure size 432x288 with 1 Axes>"
            ]
          },
          "metadata": {
            "tags": [],
            "needs_background": "light"
          }
        }
      ]
    },
    {
      "cell_type": "markdown",
      "metadata": {
        "id": "R2APCwTY07N0",
        "colab_type": "text"
      },
      "source": [
        "## Load Densenet"
      ]
    },
    {
      "cell_type": "code",
      "metadata": {
        "id": "gKjeGadl07N0",
        "colab_type": "code",
        "colab": {}
      },
      "source": [
        "from torch import nn\n",
        "from torchvision import models"
      ],
      "execution_count": 0,
      "outputs": []
    },
    {
      "cell_type": "code",
      "metadata": {
        "id": "g5998Ozb07N3",
        "colab_type": "code",
        "colab": {},
        "outputId": "09bdfee6-9d69-4ff2-f7ac-1e7966da4ffd"
      },
      "source": [
        "model = models.densenet121(pretrained=True)\n",
        "\n",
        "for param in model.parameters():      # Freeze parameters of the feature detector\n",
        "    param.requires_grad = False\n",
        "    \n",
        "print(f\"old: {model.classifier}\")     # seeing the input is 1024, we need to match it in our own classifier\n",
        "from collections import OrderedDict   # create our own (binary) classifier\n",
        "classifier = nn.Sequential(OrderedDict([\n",
        "                          ('fc1', nn.Linear(1024, 256)),\n",
        "                          ('relu', nn.ReLU()),\n",
        "                          ('fc2', nn.Linear(256, 2)),\n",
        "                          ('output', nn.LogSoftmax(dim=1))\n",
        "                          ]))    \n",
        "model.classifier = classifier\n",
        "print(f\"new: {model.classifier}\")"
      ],
      "execution_count": 0,
      "outputs": [
        {
          "output_type": "stream",
          "text": [
            "old: Linear(in_features=1024, out_features=1000, bias=True)\n",
            "new: Sequential(\n",
            "  (fc1): Linear(in_features=1024, out_features=256, bias=True)\n",
            "  (relu): ReLU()\n",
            "  (fc2): Linear(in_features=256, out_features=2, bias=True)\n",
            "  (output): LogSoftmax()\n",
            ")\n"
          ],
          "name": "stdout"
        }
      ]
    },
    {
      "cell_type": "markdown",
      "metadata": {
        "id": "JA7AjKqP07N9",
        "colab_type": "text"
      },
      "source": [
        "## Train"
      ]
    },
    {
      "cell_type": "code",
      "metadata": {
        "id": "diS4N8QF07N9",
        "colab_type": "code",
        "colab": {}
      },
      "source": [
        "from torch import optim\n",
        "criterion = nn.NLLLoss()\n",
        "optimizer = optim.Adam(model.classifier.parameters(), lr=0.001)  # only classifier's parameters"
      ],
      "execution_count": 0,
      "outputs": []
    },
    {
      "cell_type": "markdown",
      "metadata": {
        "id": "iCS7kjjv07OA",
        "colab_type": "text"
      },
      "source": [
        "estimate time on cpu/gpu:"
      ]
    },
    {
      "cell_type": "code",
      "metadata": {
        "scrolled": true,
        "id": "bEmWrM-m07OC",
        "colab_type": "code",
        "colab": {},
        "outputId": "98a20849-3246-4048-d24c-0d7e6ad6494d"
      },
      "source": [
        "import time\n",
        "for device in ['cpu', 'cuda'][:torch.cuda.is_available()+1]:\n",
        "    criterion = nn.NLLLoss()\n",
        "    optimizer = optim.Adam(model.classifier.parameters(), lr=0.001)  # only classifier's parameters\n",
        "    model.to(device)\n",
        "    \n",
        "    (inputs, labels) = next(iter(trainloader))\n",
        "    inputs, labels = inputs.to(device), labels.to(device)\n",
        "\n",
        "    start = time.time()\n",
        "    loss = criterion( model(inputs) , labels)\n",
        "    loss.backward()\n",
        "    optimizer.step()\n",
        "        \n",
        "    print(f\"Device = {device}; First batch: {(time.time() - start):.3f} seconds\")"
      ],
      "execution_count": 0,
      "outputs": [
        {
          "output_type": "stream",
          "text": [
            "Device = cpu; First batch: 3.553 seconds\n"
          ],
          "name": "stdout"
        }
      ]
    },
    {
      "cell_type": "code",
      "metadata": {
        "id": "O8FWtsJD07OH",
        "colab_type": "code",
        "colab": {}
      },
      "source": [
        "device = torch.device(\"cuda\" if torch.cuda.is_available() else \"cpu\")  # Use GPU if it's available\n",
        "model.to(device)\n",
        "\n",
        "epochs = 1\n",
        "print_every = 5\n",
        "\n",
        "for epoch in range(epochs):\n",
        "    running_loss = 0\n",
        "    for i,(inputs, labels) in enumerate(trainloader):\n",
        "        inputs, labels = inputs.to(device), labels.to(device)\n",
        "        \n",
        "        optimizer.zero_grad()        \n",
        "        logps = model.forward(inputs)\n",
        "        loss = criterion(logps, labels)\n",
        "        loss.backward()\n",
        "        optimizer.step()\n",
        "\n",
        "        running_loss += loss.item()\n",
        "        \n",
        "        if i % print_every == 0:\n",
        "            test_loss = 0\n",
        "            accuracy = 0\n",
        "            model.eval()\n",
        "            with torch.no_grad():\n",
        "                for inputs, labels in testloader:\n",
        "                    inputs, labels = inputs.to(device), labels.to(device)\n",
        "                    logps = model.forward(inputs)\n",
        "                    batch_loss = criterion(logps, labels)    # train loss\n",
        "                    \n",
        "                    test_loss += batch_loss.item()           # test loss                   \n",
        "\n",
        "                    ps = torch.exp(logps)                    # test accuracy\n",
        "                    top_p, top_class = ps.topk(1, dim=1)\n",
        "                    equals = top_class == labels.view(*top_class.shape)\n",
        "                    accuracy += torch.mean(equals.type(torch.FloatTensor)).item()\n",
        "                    \n",
        "            print(f\"Epoch {epoch+1}/{epochs}.. Step {i} \"\n",
        "                  f\"Train loss: {running_loss/print_every:.3f}.. \"\n",
        "                  f\"Test loss: {test_loss/len(testloader):.3f}.. \"\n",
        "                  f\"Test accuracy: {accuracy/len(testloader):.3f}\")\n",
        "            model.train()"
      ],
      "execution_count": 0,
      "outputs": []
    }
  ]
}