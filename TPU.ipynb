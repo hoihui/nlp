{
  "nbformat": 4,
  "nbformat_minor": 0,
  "metadata": {
    "colab": {
      "name": "TPU.ipynb",
      "version": "0.3.2",
      "provenance": [],
      "collapsed_sections": []
    },
    "kernelspec": {
      "name": "python3",
      "display_name": "Python 3"
    }
  },
  "cells": [
    {
      "cell_type": "code",
      "metadata": {
        "id": "9PaW7aa0WSIU",
        "colab_type": "code",
        "colab": {
          "base_uri": "https://localhost:8080/",
          "height": 34
        },
        "outputId": "30eb845f-26d3-464a-df95-2a3ad705ece1"
      },
      "source": [
        "import os, time\n",
        "import numpy as np\n",
        "import tensorflow as tf\n",
        "print(tf.__version__)"
      ],
      "execution_count": 2,
      "outputs": [
        {
          "output_type": "stream",
          "text": [
            "1.14.0\n"
          ],
          "name": "stdout"
        }
      ]
    },
    {
      "cell_type": "code",
      "metadata": {
        "id": "ahsNHIGpWWrx",
        "colab_type": "code",
        "colab": {
          "base_uri": "https://localhost:8080/",
          "height": 156
        },
        "outputId": "9817aa24-ff0f-41ca-ee7d-7fc424dfbe3a"
      },
      "source": [
        "(x_train, y_train), (x_test, y_test) = tf.keras.datasets.fashion_mnist.load_data()\n",
        "\n",
        "x_train = np.expand_dims(x_train, -1) #(60000, 28, 28, 1)\n",
        "x_test = np.expand_dims(x_test, -1)"
      ],
      "execution_count": 3,
      "outputs": [
        {
          "output_type": "stream",
          "text": [
            "Downloading data from https://storage.googleapis.com/tensorflow/tf-keras-datasets/train-labels-idx1-ubyte.gz\n",
            "32768/29515 [=================================] - 0s 0us/step\n",
            "Downloading data from https://storage.googleapis.com/tensorflow/tf-keras-datasets/train-images-idx3-ubyte.gz\n",
            "26427392/26421880 [==============================] - 0s 0us/step\n",
            "Downloading data from https://storage.googleapis.com/tensorflow/tf-keras-datasets/t10k-labels-idx1-ubyte.gz\n",
            "8192/5148 [===============================================] - 0s 0us/step\n",
            "Downloading data from https://storage.googleapis.com/tensorflow/tf-keras-datasets/t10k-images-idx3-ubyte.gz\n",
            "4423680/4422102 [==============================] - 0s 0us/step\n"
          ],
          "name": "stdout"
        }
      ]
    },
    {
      "cell_type": "code",
      "metadata": {
        "id": "26siNgjqX4RE",
        "colab_type": "code",
        "colab": {}
      },
      "source": [
        "def create_model():\n",
        "  model = tf.keras.models.Sequential()\n",
        "  model.add(tf.keras.layers.BatchNormalization(input_shape=x_train.shape[1:]))\n",
        "  model.add(tf.keras.layers.Conv2D(64, (5, 5), padding='same', activation='elu'))\n",
        "  model.add(tf.keras.layers.MaxPooling2D(pool_size=(2, 2), strides=(2,2)))\n",
        "  model.add(tf.keras.layers.Dropout(0.25))\n",
        "\n",
        "  model.add(tf.keras.layers.BatchNormalization(input_shape=x_train.shape[1:]))\n",
        "  model.add(tf.keras.layers.Conv2D(128, (5, 5), padding='same', activation='elu'))\n",
        "  model.add(tf.keras.layers.MaxPooling2D(pool_size=(2, 2)))\n",
        "  model.add(tf.keras.layers.Dropout(0.25))\n",
        "\n",
        "  model.add(tf.keras.layers.BatchNormalization(input_shape=x_train.shape[1:]))\n",
        "  model.add(tf.keras.layers.Conv2D(256, (5, 5), padding='same', activation='elu'))\n",
        "  model.add(tf.keras.layers.MaxPooling2D(pool_size=(2, 2), strides=(2,2)))\n",
        "  model.add(tf.keras.layers.Dropout(0.25))\n",
        "\n",
        "  model.add(tf.keras.layers.Flatten())\n",
        "  model.add(tf.keras.layers.Dense(256))\n",
        "  model.add(tf.keras.layers.Activation('elu'))\n",
        "  model.add(tf.keras.layers.Dropout(0.5))\n",
        "  model.add(tf.keras.layers.Dense(10))\n",
        "  model.add(tf.keras.layers.Activation('softmax'))\n",
        "  return model"
      ],
      "execution_count": 0,
      "outputs": []
    },
    {
      "cell_type": "markdown",
      "metadata": {
        "id": "MdcgdRD9f80B",
        "colab_type": "text"
      },
      "source": [
        "# CPU"
      ]
    },
    {
      "cell_type": "code",
      "metadata": {
        "id": "6127BJtwgLPX",
        "colab_type": "code",
        "colab": {
          "base_uri": "https://localhost:8080/",
          "height": 34
        },
        "outputId": "bbfb1892-2f84-4f8c-9a8d-9da73815c429"
      },
      "source": [
        "os.environ['COLAB_GPU']"
      ],
      "execution_count": 6,
      "outputs": [
        {
          "output_type": "execute_result",
          "data": {
            "text/plain": [
              "'0'"
            ]
          },
          "metadata": {
            "tags": []
          },
          "execution_count": 6
        }
      ]
    },
    {
      "cell_type": "code",
      "metadata": {
        "id": "q8fr2weigOl9",
        "colab_type": "code",
        "colab": {
          "base_uri": "https://localhost:8080/",
          "height": 159
        },
        "outputId": "3c2d5a4a-8451-4e1e-812e-5ac7b3edfd32"
      },
      "source": [
        "start=time.time()\n",
        "model = create_model()\n",
        "model.compile(\n",
        "    loss='sparse_categorical_crossentropy',\n",
        "    optimizer=tf.keras.optimizers.Adam(learning_rate=1e-3, ),\n",
        "    metrics=['sparse_categorical_accuracy'])\n",
        "\n",
        "model.fit(\n",
        "    x_train[:64*60*8].astype(np.float32), y_train[:64*60*8].astype(np.float32), #fair comparison with TPU: batch of 64*8 (8 TPUs), each epoch has 60 steps\n",
        "    epochs=10,\n",
        "    batch_size=64,\n",
        "    validation_data=(x_test.astype(np.float32), y_test.astype(np.float32)),\n",
        "    validation_freq=10\n",
        ")\n",
        "\n",
        "model.save_weights('./fashion_mnist.h5', overwrite=True)\n",
        "print(f'{time.time()-start}s taken')"
      ],
      "execution_count": 0,
      "outputs": [
        {
          "output_type": "stream",
          "text": [
            "WARNING: Logging before flag parsing goes to stderr.\n",
            "W0729 20:51:59.397288 140681657165696 deprecation.py:506] From /usr/local/lib/python3.6/dist-packages/tensorflow/python/ops/init_ops.py:1251: calling VarianceScaling.__init__ (from tensorflow.python.ops.init_ops) with dtype is deprecated and will be removed in a future version.\n",
            "Instructions for updating:\n",
            "Call initializer instance with the dtype argument instead of passing it to the constructor\n"
          ],
          "name": "stderr"
        },
        {
          "output_type": "stream",
          "text": [
            "Train on 30720 samples, validate on 10000 samples\n",
            "Epoch 1/10\n",
            " 5120/30720 [====>.........................] - ETA: 5:30 - loss: 1.4247 - sparse_categorical_accuracy: 0.6197"
          ],
          "name": "stdout"
        }
      ]
    },
    {
      "cell_type": "markdown",
      "metadata": {
        "id": "DUs6bCb2Y7Lr",
        "colab_type": "text"
      },
      "source": [
        "# GPU"
      ]
    },
    {
      "cell_type": "code",
      "metadata": {
        "id": "jHfh-HOneNkY",
        "colab_type": "code",
        "colab": {
          "base_uri": "https://localhost:8080/",
          "height": 34
        },
        "outputId": "b5a129a9-f17a-4bfa-e5c7-95d7470e3c0d"
      },
      "source": [
        "os.environ['COLAB_GPU']"
      ],
      "execution_count": 6,
      "outputs": [
        {
          "output_type": "execute_result",
          "data": {
            "text/plain": [
              "'1'"
            ]
          },
          "metadata": {
            "tags": []
          },
          "execution_count": 6
        }
      ]
    },
    {
      "cell_type": "code",
      "metadata": {
        "id": "CeRCQl8ZY_m5",
        "colab_type": "code",
        "colab": {
          "base_uri": "https://localhost:8080/",
          "height": 399
        },
        "outputId": "e8d4ba95-7f48-4553-8ba6-e84ae9d6f7d6"
      },
      "source": [
        "start=time.time()\n",
        "model = create_model()\n",
        "model.compile(\n",
        "    loss='sparse_categorical_crossentropy',\n",
        "    optimizer=tf.keras.optimizers.Adam(learning_rate=1e-3, ),\n",
        "    metrics=['sparse_categorical_accuracy'])\n",
        "\n",
        "model.fit(\n",
        "    x_train[:64*60*8].astype(np.float32), y_train[:64*60*8].astype(np.float32), #fair comparison with TPU: batch of 64*8 (8 TPUs), each epoch has 60 steps\n",
        "    epochs=10,\n",
        "    batch_size=64,\n",
        "    validation_data=(x_test.astype(np.float32), y_test.astype(np.float32)),\n",
        "    validation_freq=10\n",
        ")\n",
        "\n",
        "model.save_weights('./fashion_mnist.h5', overwrite=True)\n",
        "print(f'{time.time()-start}s taken')"
      ],
      "execution_count": 10,
      "outputs": [
        {
          "output_type": "stream",
          "text": [
            "Train on 30720 samples, validate on 10000 samples\n",
            "Epoch 1/10\n",
            "30720/30720 [==============================] - 6s 185us/sample - loss: 0.8160 - sparse_categorical_accuracy: 0.7441\n",
            "Epoch 2/10\n",
            "30720/30720 [==============================] - 5s 168us/sample - loss: 0.4839 - sparse_categorical_accuracy: 0.8329\n",
            "Epoch 3/10\n",
            "30720/30720 [==============================] - 5s 168us/sample - loss: 0.3931 - sparse_categorical_accuracy: 0.8598\n",
            "Epoch 4/10\n",
            "30720/30720 [==============================] - 5s 169us/sample - loss: 0.3353 - sparse_categorical_accuracy: 0.8799\n",
            "Epoch 5/10\n",
            "30720/30720 [==============================] - 5s 170us/sample - loss: 0.3077 - sparse_categorical_accuracy: 0.8867\n",
            "Epoch 6/10\n",
            "30720/30720 [==============================] - 5s 170us/sample - loss: 0.2860 - sparse_categorical_accuracy: 0.8941\n",
            "Epoch 7/10\n",
            "30720/30720 [==============================] - 5s 170us/sample - loss: 0.2702 - sparse_categorical_accuracy: 0.8995\n",
            "Epoch 8/10\n",
            "30720/30720 [==============================] - 5s 169us/sample - loss: 0.2560 - sparse_categorical_accuracy: 0.9045\n",
            "Epoch 9/10\n",
            "30720/30720 [==============================] - 5s 169us/sample - loss: 0.2491 - sparse_categorical_accuracy: 0.9099\n",
            "Epoch 10/10\n",
            "30720/30720 [==============================] - 6s 195us/sample - loss: 0.2308 - sparse_categorical_accuracy: 0.9154 - val_loss: 0.3093 - val_sparse_categorical_accuracy: 0.8996\n",
            "55.021087408065796s taken\n"
          ],
          "name": "stdout"
        }
      ]
    },
    {
      "cell_type": "markdown",
      "metadata": {
        "id": "K2wZN5-XYrCF",
        "colab_type": "text"
      },
      "source": [
        "# TPU"
      ]
    },
    {
      "cell_type": "code",
      "metadata": {
        "id": "SsrigNcHbYXW",
        "colab_type": "code",
        "colab": {
          "base_uri": "https://localhost:8080/",
          "height": 243
        },
        "outputId": "2fa9b685-be46-49b0-a07a-7637d0dfb84a"
      },
      "source": [
        "tpu_address = 'grpc://' + os.environ['COLAB_TPU_ADDR']\n",
        "print ('TPU address is', tpu_address)\n",
        "\n",
        "with tf.Session(tpu_address) as session:\n",
        "  devices = session.list_devices()\n",
        "\n",
        "print(f'{len(devices)} devices:')\n",
        "for d in devices: print(d)"
      ],
      "execution_count": 7,
      "outputs": [
        {
          "output_type": "stream",
          "text": [
            "TPU address is grpc://10.34.100.2:8470\n",
            "11 devices:\n",
            "_DeviceAttributes(/job:tpu_worker/replica:0/task:0/device:CPU:0, CPU, -1, 9908414365363191594)\n",
            "_DeviceAttributes(/job:tpu_worker/replica:0/task:0/device:XLA_CPU:0, XLA_CPU, 17179869184, 4974917026288295601)\n",
            "_DeviceAttributes(/job:tpu_worker/replica:0/task:0/device:TPU:0, TPU, 17179869184, 7998588864879986827)\n",
            "_DeviceAttributes(/job:tpu_worker/replica:0/task:0/device:TPU:1, TPU, 17179869184, 15565643528276174813)\n",
            "_DeviceAttributes(/job:tpu_worker/replica:0/task:0/device:TPU:2, TPU, 17179869184, 17190374650284067929)\n",
            "_DeviceAttributes(/job:tpu_worker/replica:0/task:0/device:TPU:3, TPU, 17179869184, 7987109689500302738)\n",
            "_DeviceAttributes(/job:tpu_worker/replica:0/task:0/device:TPU:4, TPU, 17179869184, 2310587764381307383)\n",
            "_DeviceAttributes(/job:tpu_worker/replica:0/task:0/device:TPU:5, TPU, 17179869184, 11327104696702171434)\n",
            "_DeviceAttributes(/job:tpu_worker/replica:0/task:0/device:TPU:6, TPU, 17179869184, 14475938025564265619)\n",
            "_DeviceAttributes(/job:tpu_worker/replica:0/task:0/device:TPU:7, TPU, 17179869184, 8323258920436072247)\n",
            "_DeviceAttributes(/job:tpu_worker/replica:0/task:0/device:TPU_SYSTEM:0, TPU_SYSTEM, 8589934592, 5087062504135481413)\n"
          ],
          "name": "stdout"
        }
      ]
    },
    {
      "cell_type": "code",
      "metadata": {
        "id": "VzmfgYXbYGbU",
        "colab_type": "code",
        "colab": {
          "base_uri": "https://localhost:8080/",
          "height": 434
        },
        "outputId": "9b65da6c-fab0-4b11-812f-e8954abb46a4"
      },
      "source": [
        "start=time.time()\n",
        "resolver = tf.contrib.cluster_resolver.TPUClusterResolver('grpc://' + os.environ['COLAB_TPU_ADDR'])\n",
        "tf.contrib.distribute.initialize_tpu_system(resolver)\n",
        "strategy = tf.contrib.distribute.TPUStrategy(resolver)\n",
        "\n",
        "with strategy.scope():\n",
        "  model = create_model()\n",
        "  model.compile(\n",
        "      optimizer=tf.keras.optimizers.Adam(learning_rate=1e-3, ),\n",
        "      loss='sparse_categorical_crossentropy',\n",
        "      metrics=['sparse_categorical_accuracy'])\n",
        "\n",
        "model.fit(\n",
        "    x_train.astype(np.float32), y_train.astype(np.float32),\n",
        "    epochs=10,\n",
        "    batch_size=512,\n",
        "    steps_per_epoch=60,\n",
        "    validation_data=(x_test.astype(np.float32), y_test.astype(np.float32)),\n",
        "    validation_freq=10\n",
        ")\n",
        "\n",
        "model.save_weights('./fashion_mnist.h5', overwrite=True)\n",
        "print(f'{time.time()-start}s taken')"
      ],
      "execution_count": 9,
      "outputs": [
        {
          "output_type": "stream",
          "text": [
            "W0729 20:48:08.765688 139820351559552 tpu_strategy_util.py:56] TPU system %s has already been initialized. Reinitializing the TPU can cause previously created variables on TPU to be lost.\n"
          ],
          "name": "stderr"
        },
        {
          "output_type": "stream",
          "text": [
            "Epoch 1/10\n",
            "60/60 [==============================] - 4s 66ms/step - loss: 1.2361 - sparse_categorical_accuracy: 0.6615\n",
            "Epoch 2/10\n",
            "60/60 [==============================] - 1s 19ms/step - loss: 0.6103 - sparse_categorical_accuracy: 0.7977\n",
            "Epoch 3/10\n",
            "60/60 [==============================] - 1s 20ms/step - loss: 0.4897 - sparse_categorical_accuracy: 0.8312\n",
            "Epoch 4/10\n",
            "60/60 [==============================] - 1s 20ms/step - loss: 0.4528 - sparse_categorical_accuracy: 0.8438\n",
            "Epoch 5/10\n",
            "60/60 [==============================] - 1s 20ms/step - loss: 0.3996 - sparse_categorical_accuracy: 0.8593\n",
            "Epoch 6/10\n",
            "60/60 [==============================] - 1s 20ms/step - loss: 0.3726 - sparse_categorical_accuracy: 0.8687\n",
            "Epoch 7/10\n",
            "60/60 [==============================] - 1s 20ms/step - loss: 0.3469 - sparse_categorical_accuracy: 0.8769\n",
            "Epoch 8/10\n",
            "60/60 [==============================] - 1s 20ms/step - loss: 0.3225 - sparse_categorical_accuracy: 0.8838\n",
            "Epoch 9/10\n",
            "60/60 [==============================] - 1s 19ms/step - loss: 0.3060 - sparse_categorical_accuracy: 0.8901\n",
            "Epoch 10/10\n",
            "20/20 [==============================] - 6s 306ms/step\n",
            "20/20 [==============================] - 6s 306ms/step\n",
            "60/60 [==============================] - 12s 195ms/step - loss: 0.2856 - sparse_categorical_accuracy: 0.8961 - val_loss: 0.2715 - val_sparse_categorical_accuracy: 0.9041\n",
            "57.70007395744324s taken\n"
          ],
          "name": "stdout"
        }
      ]
    },
    {
      "cell_type": "code",
      "metadata": {
        "id": "oUW90ZuWYMgt",
        "colab_type": "code",
        "colab": {}
      },
      "source": [
        ""
      ],
      "execution_count": 0,
      "outputs": []
    }
  ]
}