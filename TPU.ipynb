{
  "nbformat": 4,
  "nbformat_minor": 0,
  "metadata": {
    "colab": {
      "name": "TPU.ipynb",
      "version": "0.3.2",
      "provenance": [],
      "collapsed_sections": []
    },
    "kernelspec": {
      "name": "python3",
      "display_name": "Python 3"
    },
    "accelerator": "TPU"
  },
  "cells": [
    {
      "cell_type": "code",
      "metadata": {
        "id": "9PaW7aa0WSIU",
        "colab_type": "code",
        "colab": {
          "base_uri": "https://localhost:8080/",
          "height": 34
        },
        "outputId": "70469da6-d1bc-4acc-a522-8ad175aa37e9"
      },
      "source": [
        "import os, time\n",
        "import numpy as np\n",
        "import tensorflow as tf\n",
        "print(tf.__version__)"
      ],
      "execution_count": 1,
      "outputs": [
        {
          "output_type": "stream",
          "text": [
            "1.14.0\n"
          ],
          "name": "stdout"
        }
      ]
    },
    {
      "cell_type": "code",
      "metadata": {
        "id": "ahsNHIGpWWrx",
        "colab_type": "code",
        "colab": {
          "base_uri": "https://localhost:8080/",
          "height": 156
        },
        "outputId": "b2bb117f-d791-4174-9c81-840b1a0400c8"
      },
      "source": [
        "(x_train, y_train), (x_test, y_test) = tf.keras.datasets.fashion_mnist.load_data()\n",
        "\n",
        "x_train = np.expand_dims(x_train, -1) #(60000, 28, 28, 1)\n",
        "x_test = np.expand_dims(x_test, -1)"
      ],
      "execution_count": 2,
      "outputs": [
        {
          "output_type": "stream",
          "text": [
            "Downloading data from https://storage.googleapis.com/tensorflow/tf-keras-datasets/train-labels-idx1-ubyte.gz\n",
            "32768/29515 [=================================] - 0s 0us/step\n",
            "Downloading data from https://storage.googleapis.com/tensorflow/tf-keras-datasets/train-images-idx3-ubyte.gz\n",
            "26427392/26421880 [==============================] - 0s 0us/step\n",
            "Downloading data from https://storage.googleapis.com/tensorflow/tf-keras-datasets/t10k-labels-idx1-ubyte.gz\n",
            "8192/5148 [===============================================] - 0s 0us/step\n",
            "Downloading data from https://storage.googleapis.com/tensorflow/tf-keras-datasets/t10k-images-idx3-ubyte.gz\n",
            "4423680/4422102 [==============================] - 0s 0us/step\n"
          ],
          "name": "stdout"
        }
      ]
    },
    {
      "cell_type": "code",
      "metadata": {
        "id": "26siNgjqX4RE",
        "colab_type": "code",
        "colab": {}
      },
      "source": [
        "def create_model():\n",
        "  model = tf.keras.models.Sequential()\n",
        "  model.add(tf.keras.layers.BatchNormalization(input_shape=x_train.shape[1:]))\n",
        "  model.add(tf.keras.layers.Conv2D(64, (5, 5), padding='same', activation='elu'))\n",
        "  model.add(tf.keras.layers.MaxPooling2D(pool_size=(2, 2), strides=(2,2)))\n",
        "  model.add(tf.keras.layers.Dropout(0.25))\n",
        "\n",
        "  model.add(tf.keras.layers.BatchNormalization(input_shape=x_train.shape[1:]))\n",
        "  model.add(tf.keras.layers.Conv2D(128, (5, 5), padding='same', activation='elu'))\n",
        "  model.add(tf.keras.layers.MaxPooling2D(pool_size=(2, 2)))\n",
        "  model.add(tf.keras.layers.Dropout(0.25))\n",
        "\n",
        "  model.add(tf.keras.layers.BatchNormalization(input_shape=x_train.shape[1:]))\n",
        "  model.add(tf.keras.layers.Conv2D(256, (5, 5), padding='same', activation='elu'))\n",
        "  model.add(tf.keras.layers.MaxPooling2D(pool_size=(2, 2), strides=(2,2)))\n",
        "  model.add(tf.keras.layers.Dropout(0.25))\n",
        "\n",
        "  model.add(tf.keras.layers.Flatten())\n",
        "  model.add(tf.keras.layers.Dense(256))\n",
        "  model.add(tf.keras.layers.Activation('elu'))\n",
        "  model.add(tf.keras.layers.Dropout(0.5))\n",
        "  model.add(tf.keras.layers.Dense(10))\n",
        "  model.add(tf.keras.layers.Activation('softmax'))\n",
        "  return model"
      ],
      "execution_count": 0,
      "outputs": []
    },
    {
      "cell_type": "markdown",
      "metadata": {
        "id": "DUs6bCb2Y7Lr",
        "colab_type": "text"
      },
      "source": [
        "# GPU"
      ]
    },
    {
      "cell_type": "code",
      "metadata": {
        "id": "CeRCQl8ZY_m5",
        "colab_type": "code",
        "colab": {
          "base_uri": "https://localhost:8080/",
          "height": 489
        },
        "outputId": "042d8388-227e-4106-e33c-c8d00845edc1"
      },
      "source": [
        "start=time.time()\n",
        "model = create_model()\n",
        "model.compile(\n",
        "    loss='sparse_categorical_crossentropy',\n",
        "    optimizer=tf.keras.optimizers.Adam(learning_rate=1e-3, ),\n",
        "    metrics=['sparse_categorical_accuracy'])\n",
        "\n",
        "model.fit(\n",
        "    x_train.astype(np.float32), y_train.astype(np.float32),\n",
        "    epochs=10,\n",
        "    validation_data=(x_test.astype(np.float32), y_test.astype(np.float32)),\n",
        "    validation_freq=10\n",
        ")\n",
        "\n",
        "model.save_weights('./fashion_mnist.h5', overwrite=True)\n",
        "print(f'{time.time()-start}s taken')"
      ],
      "execution_count": 4,
      "outputs": [
        {
          "output_type": "stream",
          "text": [
            "WARNING: Logging before flag parsing goes to stderr.\n",
            "W0729 20:27:35.704040 139799312914304 deprecation.py:506] From /usr/local/lib/python3.6/dist-packages/tensorflow/python/ops/init_ops.py:1251: calling VarianceScaling.__init__ (from tensorflow.python.ops.init_ops) with dtype is deprecated and will be removed in a future version.\n",
            "Instructions for updating:\n",
            "Call initializer instance with the dtype argument instead of passing it to the constructor\n"
          ],
          "name": "stderr"
        },
        {
          "output_type": "stream",
          "text": [
            "Train on 60000 samples, validate on 10000 samples\n",
            "Epoch 1/10\n",
            "60000/60000 [==============================] - 17s 284us/sample - loss: 0.6776 - sparse_categorical_accuracy: 0.7826 - val_loss: 0.4149 - val_sparse_categorical_accuracy: 0.8496\n",
            "Epoch 2/10\n",
            "60000/60000 [==============================] - 15s 251us/sample - loss: 0.4047 - sparse_categorical_accuracy: 0.8562 - val_loss: 0.3127 - val_sparse_categorical_accuracy: 0.8837\n",
            "Epoch 3/10\n",
            "60000/60000 [==============================] - 15s 251us/sample - loss: 0.3676 - sparse_categorical_accuracy: 0.8705 - val_loss: 0.3068 - val_sparse_categorical_accuracy: 0.8901\n",
            "Epoch 4/10\n",
            "60000/60000 [==============================] - 15s 253us/sample - loss: 0.3410 - sparse_categorical_accuracy: 0.8807 - val_loss: 0.2896 - val_sparse_categorical_accuracy: 0.8955\n",
            "Epoch 5/10\n",
            "60000/60000 [==============================] - 15s 252us/sample - loss: 0.3166 - sparse_categorical_accuracy: 0.8863 - val_loss: 0.2941 - val_sparse_categorical_accuracy: 0.8970\n",
            "Epoch 6/10\n",
            "60000/60000 [==============================] - 15s 256us/sample - loss: 0.3003 - sparse_categorical_accuracy: 0.8949 - val_loss: 0.2910 - val_sparse_categorical_accuracy: 0.8974\n",
            "Epoch 7/10\n",
            "60000/60000 [==============================] - 15s 253us/sample - loss: 0.2856 - sparse_categorical_accuracy: 0.9001 - val_loss: 0.3170 - val_sparse_categorical_accuracy: 0.8845\n",
            "Epoch 8/10\n",
            "60000/60000 [==============================] - 15s 251us/sample - loss: 0.2679 - sparse_categorical_accuracy: 0.9047 - val_loss: 0.3248 - val_sparse_categorical_accuracy: 0.8969\n",
            "Epoch 9/10\n",
            "60000/60000 [==============================] - 15s 252us/sample - loss: 0.2565 - sparse_categorical_accuracy: 0.9095 - val_loss: 0.2691 - val_sparse_categorical_accuracy: 0.9124\n",
            "Epoch 10/10\n",
            "60000/60000 [==============================] - 15s 254us/sample - loss: 0.2457 - sparse_categorical_accuracy: 0.9129 - val_loss: 0.2627 - val_sparse_categorical_accuracy: 0.9111\n",
            "155.56808304786682s taken\n"
          ],
          "name": "stdout"
        }
      ]
    },
    {
      "cell_type": "markdown",
      "metadata": {
        "id": "K2wZN5-XYrCF",
        "colab_type": "text"
      },
      "source": [
        "# TPU"
      ]
    },
    {
      "cell_type": "code",
      "metadata": {
        "id": "SsrigNcHbYXW",
        "colab_type": "code",
        "colab": {
          "base_uri": "https://localhost:8080/",
          "height": 243
        },
        "outputId": "f07228c5-6892-4fcc-b347-eec331d252ec"
      },
      "source": [
        "if 'COLAB_TPU_ADDR' not in os.environ:\n",
        "  print('Not using TPU')\n",
        "else:\n",
        "  tpu_address = 'grpc://' + os.environ['COLAB_TPU_ADDR']\n",
        "  print ('TPU address is', tpu_address)\n",
        "\n",
        "  with tf.Session(tpu_address) as session:\n",
        "    devices = session.list_devices()\n",
        "    \n",
        "  print(f'{len(devices)} devices:')\n",
        "  for d in devices: print(d)"
      ],
      "execution_count": 4,
      "outputs": [
        {
          "output_type": "stream",
          "text": [
            "TPU address is grpc://10.34.100.2:8470\n",
            "11 devices:\n",
            "_DeviceAttributes(/job:tpu_worker/replica:0/task:0/device:CPU:0, CPU, -1, 9908414365363191594)\n",
            "_DeviceAttributes(/job:tpu_worker/replica:0/task:0/device:XLA_CPU:0, XLA_CPU, 17179869184, 4974917026288295601)\n",
            "_DeviceAttributes(/job:tpu_worker/replica:0/task:0/device:TPU:0, TPU, 17179869184, 7998588864879986827)\n",
            "_DeviceAttributes(/job:tpu_worker/replica:0/task:0/device:TPU:1, TPU, 17179869184, 15565643528276174813)\n",
            "_DeviceAttributes(/job:tpu_worker/replica:0/task:0/device:TPU:2, TPU, 17179869184, 17190374650284067929)\n",
            "_DeviceAttributes(/job:tpu_worker/replica:0/task:0/device:TPU:3, TPU, 17179869184, 7987109689500302738)\n",
            "_DeviceAttributes(/job:tpu_worker/replica:0/task:0/device:TPU:4, TPU, 17179869184, 2310587764381307383)\n",
            "_DeviceAttributes(/job:tpu_worker/replica:0/task:0/device:TPU:5, TPU, 17179869184, 11327104696702171434)\n",
            "_DeviceAttributes(/job:tpu_worker/replica:0/task:0/device:TPU:6, TPU, 17179869184, 14475938025564265619)\n",
            "_DeviceAttributes(/job:tpu_worker/replica:0/task:0/device:TPU:7, TPU, 17179869184, 8323258920436072247)\n",
            "_DeviceAttributes(/job:tpu_worker/replica:0/task:0/device:TPU_SYSTEM:0, TPU_SYSTEM, 8589934592, 5087062504135481413)\n"
          ],
          "name": "stdout"
        }
      ]
    },
    {
      "cell_type": "code",
      "metadata": {
        "id": "VzmfgYXbYGbU",
        "colab_type": "code",
        "colab": {
          "base_uri": "https://localhost:8080/",
          "height": 506
        },
        "outputId": "189b5be0-1737-4329-8ef1-ddb6f09c8488"
      },
      "source": [
        "start=time.time()\n",
        "resolver = tf.contrib.cluster_resolver.TPUClusterResolver('grpc://' + os.environ['COLAB_TPU_ADDR'])\n",
        "tf.contrib.distribute.initialize_tpu_system(resolver)\n",
        "strategy = tf.contrib.distribute.TPUStrategy(resolver)\n",
        "\n",
        "with strategy.scope():\n",
        "  model = create_model()\n",
        "  model.compile(\n",
        "      optimizer=tf.keras.optimizers.Adam(learning_rate=1e-3, ),\n",
        "      loss='sparse_categorical_crossentropy',\n",
        "      metrics=['sparse_categorical_accuracy'])\n",
        "\n",
        "model.fit(\n",
        "    x_train.astype(np.float32), y_train.astype(np.float32),\n",
        "    epochs=10,\n",
        "    steps_per_epoch=60,\n",
        "    validation_data=(x_test.astype(np.float32), y_test.astype(np.float32)),\n",
        "    validation_freq=10\n",
        ")\n",
        "\n",
        "model.save_weights('./fashion_mnist.h5', overwrite=True)\n",
        "print(f'{time.time()-start}s taken')"
      ],
      "execution_count": 6,
      "outputs": [
        {
          "output_type": "stream",
          "text": [
            "W0729 20:40:27.111320 139820351559552 tpu_strategy_util.py:56] TPU system %s has already been initialized. Reinitializing the TPU can cause previously created variables on TPU to be lost.\n",
            "W0729 20:40:46.720582 139820351559552 deprecation.py:323] From /usr/local/lib/python3.6/dist-packages/tensorflow/python/keras/engine/training_distributed.py:411: Variable.load (from tensorflow.python.ops.variables) is deprecated and will be removed in a future version.\n",
            "Instructions for updating:\n",
            "Prefer Variable.assign which has equivalent behavior in 2.X.\n"
          ],
          "name": "stderr"
        },
        {
          "output_type": "stream",
          "text": [
            "Epoch 1/10\n",
            "60/60 [==============================] - 4s 70ms/step - loss: 1.0790 - sparse_categorical_accuracy: 0.6934\n",
            "Epoch 2/10\n",
            "60/60 [==============================] - 1s 23ms/step - loss: 0.5158 - sparse_categorical_accuracy: 0.8233\n",
            "Epoch 3/10\n",
            "60/60 [==============================] - 1s 23ms/step - loss: 0.4191 - sparse_categorical_accuracy: 0.8547\n",
            "Epoch 4/10\n",
            "60/60 [==============================] - 1s 23ms/step - loss: 0.3637 - sparse_categorical_accuracy: 0.8719\n",
            "Epoch 5/10\n",
            "60/60 [==============================] - 1s 23ms/step - loss: 0.3329 - sparse_categorical_accuracy: 0.8812\n",
            "Epoch 6/10\n",
            "60/60 [==============================] - 1s 23ms/step - loss: 0.3035 - sparse_categorical_accuracy: 0.8924\n",
            "Epoch 7/10\n",
            "60/60 [==============================] - 1s 23ms/step - loss: 0.2857 - sparse_categorical_accuracy: 0.8965\n",
            "Epoch 8/10\n",
            "60/60 [==============================] - 1s 23ms/step - loss: 0.2577 - sparse_categorical_accuracy: 0.9061\n",
            "Epoch 9/10\n",
            "60/60 [==============================] - 1s 24ms/step - loss: 0.2438 - sparse_categorical_accuracy: 0.9111\n",
            "Epoch 10/10\n",
            "10/10 [==============================] - 4s 395ms/step\n",
            "10/10 [==============================] - 4s 395ms/step\n",
            "60/60 [==============================] - 8s 130ms/step - loss: 0.2263 - sparse_categorical_accuracy: 0.9170 - val_loss: 0.2537 - val_sparse_categorical_accuracy: 0.9042\n",
            "45.42830729484558s taken\n"
          ],
          "name": "stdout"
        }
      ]
    },
    {
      "cell_type": "code",
      "metadata": {
        "id": "oUW90ZuWYMgt",
        "colab_type": "code",
        "colab": {}
      },
      "source": [
        ""
      ],
      "execution_count": 0,
      "outputs": []
    }
  ]
}