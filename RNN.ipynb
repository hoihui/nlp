{
 "cells": [
  {
   "cell_type": "markdown",
   "metadata": {
    "colab_type": "text",
    "id": "R1g44JvFNDv6"
   },
   "source": [
    "<a href=\"https://colab.research.google.com/github/hoihui/tutorial/blob/master/RNN.ipynb\" target=\"_parent\"><img src=\"https://colab.research.google.com/assets/colab-badge.svg\" alt=\"Open In Colab\"/></a>"
   ]
  },
  {
   "cell_type": "code",
   "execution_count": 0,
   "metadata": {
    "colab": {},
    "colab_type": "code",
    "id": "9Lv9DZt6NDwA"
   },
   "outputs": [],
   "source": [
    "# !pip3 install -U torch torchvision\n",
    "import numpy as np\n",
    "import matplotlib.pyplot as plt\n",
    "%matplotlib inline"
   ]
  },
  {
   "cell_type": "markdown",
   "metadata": {
    "colab_type": "text",
    "id": "hHIsOZBjNDwL"
   },
   "source": [
    "# Sine Curve"
   ]
  },
  {
   "cell_type": "markdown",
   "metadata": {
    "colab_type": "text",
    "id": "2y5M5iiDNDwM"
   },
   "source": [
    "## Torch"
   ]
  },
  {
   "cell_type": "code",
   "execution_count": 0,
   "metadata": {
    "colab": {
     "base_uri": "https://localhost:8080/",
     "height": 34
    },
    "colab_type": "code",
    "id": "D14tST-eNDwR",
    "outputId": "c2c6dd45-3698-4cc6-98bd-ae24792faf0f"
   },
   "outputs": [
    {
     "data": {
      "text/plain": [
       "('1.1.0', True)"
      ]
     },
     "execution_count": 1,
     "metadata": {
      "tags": []
     },
     "output_type": "execute_result"
    }
   ],
   "source": [
    "import torch\n",
    "cuda=torch.cuda.is_available()\n",
    "torch.__version__, cuda"
   ]
  },
  {
   "cell_type": "markdown",
   "metadata": {
    "colab_type": "text",
    "id": "JGTqcfbvNDwd"
   },
   "source": [
    "https://github.com/udacity/deep-learning-v2-pytorch/blob/master/recurrent-neural-networks/time-series/Simple_RNN.ipynb"
   ]
  },
  {
   "cell_type": "markdown",
   "metadata": {
    "colab_type": "text",
    "id": "80PpOnlcNDwg"
   },
   "source": [
    "### Generate Data"
   ]
  },
  {
   "cell_type": "code",
   "execution_count": 0,
   "metadata": {
    "colab": {},
    "colab_type": "code",
    "id": "5_FpO7kxNDwh"
   },
   "outputs": [],
   "source": [
    "time_steps = np.linspace(0, np.pi, 21)\n",
    "data = np.sin(time_steps).reshape((21,1))  #last dim of 1 is the number of features at each time instance (just a number here)\n",
    "inp, tar = data[:-1], data[1:]\n",
    "\n",
    "# illustration\n",
    "plt.plot(time_steps[1:], inp, 'r.', label='input, x')\n",
    "plt.plot(time_steps[1:], tar, 'b.', label='target, y')"
   ]
  },
  {
   "cell_type": "markdown",
   "metadata": {
    "colab_type": "text",
    "id": "XSJRScA9NDwo"
   },
   "source": [
    "### Constructing 1-layer Model"
   ]
  },
  {
   "cell_type": "markdown",
   "metadata": {
    "colab_type": "text",
    "id": "lfyY_fiONDwq"
   },
   "source": [
    "Recall: RNN unit:\n",
    "* input: previous hidden state (could have layers) and current input\n",
    "* output: next hidden state (could have layers) and current output features (to be fed to a dense layer to generate final output)\n",
    "\n",
    "https://pytorch.org/docs/stable/nn.html#rnn\n",
    "* **input_size** - # features at each time instance (=1, a number)\n",
    "* **output_size** - # output dim at each time instance (=1, a number)\n",
    "* **hidden_dim** - # dimension in the hidden state\n",
    "* **n_layers** - # layers making up the RNN, typically 1-3; > 1 means stacked RNN\n",
    "* **batch_first** - whether batch_size as the first dimension `(batch_size, seq_length, hidden_dim)`\n",
    "\n",
    "**nn.RNN is not a single-time instance**.  Fed in full sequence `(batch_size, seq_length, input_size)` with hidden states `(n_layers,batch_size,hidden_dim)`, outputs `(batch_size, seq_length, hidden_dim)` and next hidden state `(n_layers,batch_size,hidden_dim)`"
   ]
  },
  {
   "cell_type": "code",
   "execution_count": 0,
   "metadata": {
    "colab": {},
    "colab_type": "code",
    "id": "oq8q86gqNDwr"
   },
   "outputs": [],
   "source": [
    "from torch import nn\n",
    "class RNN(nn.Module):\n",
    "    def __init__(self, input_size, output_size, hidden_dim, n_layers):\n",
    "        super(RNN, self).__init__()\n",
    "        \n",
    "        self.hidden_dim=hidden_dim\n",
    "        self.rnn = nn.RNN(input_size, hidden_dim, n_layers, batch_first=True)\n",
    "        # in.shape =(batch_size, seq_length, input_size),(n_layers,batch_size,hidden_dim)\n",
    "        # out.shape=(batch_size, seq_length, hidden_dim),(n_layers,batch_size,hidden_dim)\n",
    "        self.fc = nn.Linear(hidden_dim, output_size)  # in (batch_size*seq_length, hidden_dim), out (batch_size*seq_length, 1)\n",
    "\n",
    "    def forward(self, x, hidden):   # x.shape = (batch_size, seq_length, input_size)\n",
    "                                    # hidden.shape = (n_layers, batch_size, hidden_dim)\n",
    "                                    # r_out.shape = (batch_size, time_step, hidden_size)\n",
    "        batch_size = x.size(0)\n",
    "        \n",
    "        r_out, hidden = self.rnn(x, hidden)\n",
    "        r_out = r_out.view(-1, self.hidden_dim)   # reshape to pass to fc layer\n",
    "        \n",
    "        output = self.fc(r_out)     # out (batch_size*seq_length, 1)\n",
    "        \n",
    "        return output, hidden"
   ]
  },
  {
   "cell_type": "code",
   "execution_count": 0,
   "metadata": {
    "colab": {},
    "colab_type": "code",
    "id": "jnjnDrBFNDwy",
    "outputId": "0f8587cf-2e8a-42a2-a272-47728b216dfd"
   },
   "outputs": [
    {
     "name": "stdout",
     "output_type": "stream",
     "text": [
      "Input size:  torch.Size([1, 22, 1])\n",
      "Output size:  torch.Size([22, 1])\n",
      "Hidden state size:  torch.Size([2, 1, 12])\n"
     ]
    }
   ],
   "source": [
    "# dimensions test\n",
    "rnn = RNN(input_size=1, output_size=1, hidden_dim=12, n_layers=2)\n",
    "\n",
    "test_input = torch.rand((1,22,1)) # batch_size of 1 as first dimension, feature dim of 1 as last dimension\n",
    "print('Input size: ', test_input.shape)\n",
    "\n",
    "pred, hidden = rnn(x=test_input, hidden=torch.rand((2,1,12)))\n",
    "print('Output size: ', pred.shape)\n",
    "print('Hidden state size: ', hidden.shape)"
   ]
  },
  {
   "cell_type": "markdown",
   "metadata": {
    "colab_type": "text",
    "id": "BlcflwmCNDw8"
   },
   "source": [
    "### Train"
   ]
  },
  {
   "cell_type": "code",
   "execution_count": 0,
   "metadata": {
    "colab": {},
    "colab_type": "code",
    "id": "b7zXkTtKNDw9",
    "outputId": "0fcb283b-0b5c-43eb-d75b-364e3927421e"
   },
   "outputs": [
    {
     "name": "stdout",
     "output_type": "stream",
     "text": [
      "RNN(\n",
      "  (rnn): RNN(1, 32, batch_first=True)\n",
      "  (fc): Linear(in_features=32, out_features=1, bias=True)\n",
      ")\n"
     ]
    }
   ],
   "source": [
    "seq_length=20\n",
    "input_size=1 \n",
    "output_size=1\n",
    "hidden_dim=32\n",
    "n_layers=1\n",
    "n_steps = 90\n",
    "print_every = 30\n",
    "\n",
    "rnn = RNN(input_size, output_size, hidden_dim, n_layers)\n",
    "print(rnn)\n",
    "criterion = nn.MSELoss()\n",
    "optimizer = torch.optim.Adam(rnn.parameters(), lr=0.01)"
   ]
  },
  {
   "cell_type": "code",
   "execution_count": 0,
   "metadata": {
    "colab": {},
    "colab_type": "code",
    "id": "74fWCfqJNDxK",
    "outputId": "899983d8-e5c9-4c34-8399-0acaa1c0582f",
    "scrolled": false
   },
   "outputs": [
    {
     "name": "stdout",
     "output_type": "stream",
     "text": [
      "Loss:  0.0034269089810550213\n"
     ]
    },
    {
     "data": {
      "image/png": "[encoded data removed]",
      "text/plain": [
       "<Figure size 432x288 with 1 Axes>"
      ]
     },
     "metadata": {
      "needs_background": "light",
      "tags": []
     },
     "output_type": "display_data"
    },
    {
     "name": "stdout",
     "output_type": "stream",
     "text": [
      "Loss:  4.2462361307116225e-05\n"
     ]
    },
    {
     "data": {
      "image/png": "[encoded data removed]",
      "text/plain": [
       "<Figure size 432x288 with 1 Axes>"
      ]
     },
     "metadata": {
      "needs_background": "light",
      "tags": []
     },
     "output_type": "display_data"
    },
    {
     "name": "stdout",
     "output_type": "stream",
     "text": [
      "Loss:  3.917669459951867e-07\n"
     ]
    },
    {
     "data": {
      "image/png": "[encoded data removed]",
      "text/plain": [
       "<Figure size 432x288 with 1 Axes>"
      ]
     },
     "metadata": {
      "needs_background": "light",
      "tags": []
     },
     "output_type": "display_data"
    }
   ],
   "source": [
    "hidden = None\n",
    "for step in range(n_steps):\n",
    "    # training data = sine curve (continues from previous)\n",
    "    time_steps = np.linspace(step*np.pi, (step+1)*np.pi, seq_length + 1)\n",
    "    data = np.sin(time_steps)\n",
    "    X = torch.Tensor(data[:-1]).view(1,seq_length,1) # gives batch_size dim of 1\n",
    "    y = torch.Tensor(data[1:]).view(seq_length,1)\n",
    "    \n",
    "    prediction, hidden = rnn(X, hidden) # forward\n",
    "    hidden = hidden.detach()            # don't backpropagate through the entire history\n",
    "\n",
    "    loss = criterion(prediction, y)\n",
    "    optimizer.zero_grad()\n",
    "    loss.backward()\n",
    "    optimizer.step()\n",
    "\n",
    "    if step%print_every == 0:        \n",
    "        print('Loss: ', loss.item())\n",
    "        plt.plot(time_steps[1:], X.numpy().flatten(), 'r.') # input\n",
    "        plt.plot(time_steps[1:], prediction.detach().numpy().flatten(), 'b.') # predictions\n",
    "        plt.show()"
   ]
  },
  {
   "cell_type": "markdown",
   "metadata": {
    "colab_type": "text",
    "id": "pzIJfJZ7NDxX"
   },
   "source": [
    "### Generate"
   ]
  },
  {
   "cell_type": "code",
   "execution_count": 0,
   "metadata": {
    "colab": {},
    "colab_type": "code",
    "id": "dTVVPTA0NDxY",
    "outputId": "bccf0ef2-c628-4ca1-e4d8-d50a4cd8a2cc"
   },
   "outputs": [
    {
     "data": {
      "text/plain": [
       "[<matplotlib.lines.Line2D at 0x12d8ea828>]"
      ]
     },
     "execution_count": 97,
     "metadata": {
      "tags": []
     },
     "output_type": "execute_result"
    },
    {
     "data": {
      "image/png": "[encoded data removed]",
      "text/plain": [
       "<Figure size 432x288 with 1 Axes>"
      ]
     },
     "metadata": {
      "needs_background": "light",
      "tags": []
     },
     "output_type": "display_data"
    }
   ],
   "source": [
    "y=[]\n",
    "for _ in range(100):\n",
    "    with torch.no_grad():\n",
    "        y+=X.numpy().flatten()[-1],\n",
    "        X=torch.Tensor([y[-1]]).view(1,1,1)  # batchsize, seqlen, feature dim\n",
    "        X, hidden = rnn(X, hidden)\n",
    "plt.plot(range(len(y)),y,'.')"
   ]
  },
  {
   "cell_type": "markdown",
   "metadata": {
    "colab_type": "text",
    "id": "hqKxv0cnNDxf"
   },
   "source": [
    "# char-rnn"
   ]
  },
  {
   "cell_type": "markdown",
   "metadata": {
    "colab_type": "text",
    "id": "Sr4bTm67NDxh"
   },
   "source": [
    "## Torch"
   ]
  },
  {
   "cell_type": "markdown",
   "metadata": {
    "colab_type": "text",
    "id": "z2Zw495VNDxj"
   },
   "source": [
    "https://github.com/udacity/deep-learning-v2-pytorch/blob/master/recurrent-neural-networks/char-rnn/Character_Level_RNN_Solution.ipynb\n",
    "\n",
    "https://classroom.udacity.com/courses/ud188/lessons/a8fc0724-37ed-40d9-a226-57175b8bb8cc/concepts/6538eb14-1ec2-4a25-bc73-5942a48b1141"
   ]
  },
  {
   "cell_type": "code",
   "execution_count": 0,
   "metadata": {
    "colab": {},
    "colab_type": "code",
    "id": "H-2yJ3HINDxl"
   },
   "outputs": [],
   "source": [
    "import torch\n",
    "cuda=torch.cuda.is_available()\n",
    "torch.__version__, cuda\n",
    "device = torch.device(\"cuda:0\" if torch.cuda.is_available() else \"cpu\")\n",
    "seqlen = 20"
   ]
  },
  {
   "cell_type": "markdown",
   "metadata": {
    "colab_type": "text",
    "id": "2l0WEEWTNDxs"
   },
   "source": [
    "### Data"
   ]
  },
  {
   "cell_type": "code",
   "execution_count": 0,
   "metadata": {
    "colab": {
     "base_uri": "https://localhost:8080/",
     "height": 34
    },
    "colab_type": "code",
    "id": "pS4CcFlLNDxt",
    "outputId": "e55f423e-ac79-47d1-f79c-1fbd4ce558aa"
   },
   "outputs": [
    {
     "data": {
      "text/plain": [
       "'Chapter 1\\n\\n\\nHap'"
      ]
     },
     "execution_count": 4,
     "metadata": {
      "tags": []
     },
     "output_type": "execute_result"
    }
   ],
   "source": [
    "import os,urllib,tempfile\n",
    "os.chdir(tempfile.gettempdir())\n",
    "url='https://github.com/udacity/deep-learning-v2-pytorch/raw/master/recurrent-neural-networks/char-rnn/data/anna.txt'\n",
    "urllib.request.urlretrieve(url,'anna.txt')\n",
    "with open('anna.txt', 'r') as f:\n",
    "    text = f.read()\n",
    "text[:15]"
   ]
  },
  {
   "cell_type": "markdown",
   "metadata": {
    "colab_type": "text",
    "id": "Gcux4g5-NDx0"
   },
   "source": [
    "#### Preprocess"
   ]
  },
  {
   "cell_type": "code",
   "execution_count": 0,
   "metadata": {
    "colab": {
     "base_uri": "https://localhost:8080/",
     "height": 34
    },
    "colab_type": "code",
    "id": "vsFh5tEcNDx1",
    "outputId": "11360506-6bd9-4c95-a75c-3c2855921b3c",
    "scrolled": false
   },
   "outputs": [
    {
     "data": {
      "text/plain": [
       "array([81, 66, 17,  1, 64, 33, 13, 25, 48, 73, 73, 73,  9, 17,  1])"
      ]
     },
     "execution_count": 5,
     "metadata": {
      "tags": []
     },
     "output_type": "execute_result"
    }
   ],
   "source": [
    "# Construct int mapping; will be built into Network Module\n",
    "chars=set(text)\n",
    "int2char = dict(enumerate(chars))\n",
    "char2int = {v: k for k,v in int2char.items()}\n",
    "encoded = np.array([char2int[ch] for ch in text])\n",
    "nchars = len(set(int2char))\n",
    "encoded[:15]"
   ]
  },
  {
   "cell_type": "markdown",
   "metadata": {
    "colab_type": "text",
    "id": "xQL8stikLQ-3"
   },
   "source": [
    "<img src=\"data:image/png;base64,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\">"
   ]
  },
  {
   "cell_type": "code",
   "execution_count": 0,
   "metadata": {
    "colab": {
     "base_uri": "https://localhost:8080/",
     "height": 225
    },
    "colab_type": "code",
    "id": "YXUOM5HZNDx-",
    "outputId": "2c98194d-21cf-411d-f778-4aacdad1ba44"
   },
   "outputs": [
    {
     "name": "stdout",
     "output_type": "stream",
     "text": [
      "x: [[ 0  1  2  3  4]\n",
      " [10 11 12 13 14]\n",
      " [20 21 22 23 24]]\n",
      "y: [[ 1  2  3  4  5]\n",
      " [11 12 13 14 15]\n",
      " [21 22 23 24 25]]\n",
      "x: [[ 5  6  7  8  9]\n",
      " [15 16 17 18 19]\n",
      " [25 26 27 28 29]]\n",
      "y: [[ 6  7  8  9 10]\n",
      " [16 17 18 19 20]\n",
      " [26 27 28 29 30]]\n"
     ]
    }
   ],
   "source": [
    "# batch loader: in (N,); out generates (batch_size, seqlen)x2   ##NON-OVERLAPPING\n",
    "def Batch_Loader(arr, batch_size, seqlen):    \n",
    "    batch_size_total = batch_size * seqlen\n",
    "    n_batches = len(arr)//batch_size_total     # number of batches\n",
    "    X_size_total = n_batches * batch_size_total\n",
    "    \n",
    "    if len(arr) > X_size_total:                # special treatment for the last batch's target so it doesn't wrap around; not important\n",
    "        arr_ = arr[:X_size_total].reshape((batch_size, -1))\n",
    "        arr  = np.hstack((arr_,np.vstack((arr_[1:,:1],[arr[X_size_total]]))))\n",
    "    else:\n",
    "        arr = arr[:X_size_total].reshape((batch_size, -1))\n",
    "    \n",
    "    for n in range(0, arr.shape[1], seqlen):\n",
    "        x = arr[:, n:n+seqlen]\n",
    "        y = np.zeros_like(x)\n",
    "        try:\n",
    "            y[:, :-1], y[:, -1] = x[:, 1:], arr[:, n+seqlen]\n",
    "        except IndexError:\n",
    "            break\n",
    "#             y[:, :-1], y[:, -1] = x[:, 1:], arr[:, 0]\n",
    "        yield x, y\n",
    "for x,y in Batch_Loader(np.array(range(31)),3,5):\n",
    "    print('x:',x)\n",
    "    print('y:',y)"
   ]
  },
  {
   "cell_type": "code",
   "execution_count": 0,
   "metadata": {
    "colab": {
     "base_uri": "https://localhost:8080/",
     "height": 139
    },
    "colab_type": "code",
    "id": "oIJuq30pNDyJ",
    "outputId": "c9aef7d4-4c8b-4747-8ade-4b7813536bda"
   },
   "outputs": [
    {
     "data": {
      "text/plain": [
       "array([[[0., 0., 0., 1., 0., 0., 0., 0.],\n",
       "        [0., 0., 0., 0., 0., 1., 0., 0.],\n",
       "        [0., 1., 0., 0., 0., 0., 0., 0.]],\n",
       "\n",
       "       [[0., 0., 0., 0., 1., 0., 0., 0.],\n",
       "        [0., 0., 1., 0., 0., 0., 0., 0.],\n",
       "        [0., 0., 0., 0., 0., 0., 0., 1.]]], dtype=float32)"
      ]
     },
     "execution_count": 7,
     "metadata": {
      "tags": []
     },
     "output_type": "execute_result"
    }
   ],
   "source": [
    "# One-Hot Encoding: in (batch_size, seqlen); out (batch_size, seqlen, nchars)\n",
    "def One_Hot_Encode(arr, nchars=nchars):\n",
    "    one_hot = np.zeros((arr.size, nchars), dtype=np.float32)\n",
    "    one_hot[np.arange(one_hot.shape[0]), arr.flatten()] = 1.\n",
    "    one_hot = one_hot.reshape((*arr.shape, nchars))\n",
    "    return one_hot\n",
    "One_Hot_Encode(np.array([[3,5,1],[4,2,7]]), 8)"
   ]
  },
  {
   "cell_type": "markdown",
   "metadata": {
    "colab_type": "text",
    "id": "hCxIp_anNDyS"
   },
   "source": [
    "### Model"
   ]
  },
  {
   "cell_type": "markdown",
   "metadata": {
    "colab_type": "text",
    "id": "m3DhWh9VLQ_h"
   },
   "source": [
    "<img src=\"data:image/png;base64,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\">"
   ]
  },
  {
   "cell_type": "markdown",
   "metadata": {
    "colab_type": "text",
    "id": "Uh6M1zECNDyX"
   },
   "source": [
    "`nn.LSTM(input_size, n_hidden, n_layers, dropout=drop_prob, batch_first=True)`:\n",
    "* input_size: number of characters as sequential input,\n",
    "* n_hidden: number of units in the hidden layers\n",
    "* n_layers: Number of LSTM units in each time instance\n",
    "* dropout: dropout to the inputs or outputs and in-between the layers"
   ]
  },
  {
   "cell_type": "code",
   "execution_count": 0,
   "metadata": {
    "colab": {},
    "colab_type": "code",
    "id": "wCSMfzLQNDyY"
   },
   "outputs": [],
   "source": [
    "from torch import nn\n",
    "class CharRNN(nn.Module):    \n",
    "    def __init__(self, tokens, n_hidden=512, n_layers=2, drop_prob=0.5):\n",
    "        super().__init__()\n",
    "        self.drop_prob = drop_prob\n",
    "        self.n_layers = n_layers\n",
    "        self.n_hidden = n_hidden\n",
    "        \n",
    "        # int mappings\n",
    "        self.chars = tokens\n",
    "        self.int2char = dict(enumerate(self.chars))\n",
    "        self.char2int = {ch: ii for ii, ch in self.int2char.items()}\n",
    "        \n",
    "        # net structure\n",
    "        self.lstm = nn.LSTM(len(self.chars), n_hidden, n_layers,    \n",
    "                            dropout=drop_prob, batch_first=True)   # in: (batch_size, seqlen, nchars), out: (batch_size,seqlen,n_hidden), hidden\n",
    "        self.dropout = nn.Dropout(drop_prob)        \n",
    "        self.fc = nn.Linear(n_hidden, len(self.chars))\n",
    "      \n",
    "    \n",
    "    def forward(self, x, hidden):\n",
    "        r_output, hidden = self.lstm(x, hidden)\n",
    "        out = self.dropout(r_output)\n",
    "        \n",
    "        out = out.contiguous().view(-1, self.n_hidden) # contiguous: makes a copy of tensor so the order of elements would be same as if tensor of same shape created from scratch\n",
    "        out = self.fc(out)\n",
    "        \n",
    "        return out, hidden\n",
    "    \n",
    "    \n",
    "    def init_hidden(self, batch_size):  # produce hidden & cell state conforming with the LSTM (n_layers , batch_size , n_hidden), \n",
    "        weight = next(self.parameters()).data   #get the LSTM parameters (for its datatype)\n",
    "        hidden = (weight.new(self.n_layers, batch_size, self.n_hidden).zero_().to(device),\n",
    "                  weight.new(self.n_layers, batch_size, self.n_hidden).zero_().to(device))        \n",
    "        return hidden"
   ]
  },
  {
   "cell_type": "code",
   "execution_count": 0,
   "metadata": {
    "colab": {
     "base_uri": "https://localhost:8080/",
     "height": 104
    },
    "colab_type": "code",
    "id": "ihH89MLWNDyf",
    "outputId": "88a3b9d2-e4a2-4ef7-a62d-a6e751398d59"
   },
   "outputs": [
    {
     "name": "stdout",
     "output_type": "stream",
     "text": [
      "CharRNN(\n",
      "  (lstm): LSTM(83, 512, num_layers=2, batch_first=True, dropout=0.5)\n",
      "  (dropout): Dropout(p=0.5)\n",
      "  (fc): Linear(in_features=512, out_features=83, bias=True)\n",
      ")\n"
     ]
    }
   ],
   "source": [
    "net = CharRNN(chars)\n",
    "print(net)\n",
    "opt = torch.optim.Adam(net.parameters(), lr=.001)\n",
    "criterion = nn.CrossEntropyLoss()"
   ]
  },
  {
   "cell_type": "markdown",
   "metadata": {
    "colab_type": "text",
    "id": "_fxWJFsgNDyl"
   },
   "source": [
    "### Train"
   ]
  },
  {
   "cell_type": "code",
   "execution_count": 0,
   "metadata": {
    "colab": {},
    "colab_type": "code",
    "id": "8-qCvBhVNDym"
   },
   "outputs": [],
   "source": [
    "batch_size = 128\n",
    "seqlen = 100\n",
    "epochs = 20\n",
    "clip=5          #max gradient allowed\n",
    "val_frac=0.1"
   ]
  },
  {
   "cell_type": "markdown",
   "metadata": {
    "colab_type": "text",
    "id": "tuNdMCKGNDyw"
   },
   "source": [
    "* use `clip_grad_norm_` to help prevent exploding gradients\n",
    "* detach hidden state to not backprop the entire history"
   ]
  },
  {
   "cell_type": "code",
   "execution_count": 0,
   "metadata": {
    "colab": {
     "base_uri": "https://localhost:8080/",
     "height": 34
    },
    "colab_type": "code",
    "id": "0GbbVrkdNDyy",
    "outputId": "1f50193a-cbc6-4ffc-d887-72c9f538ef5a",
    "scrolled": true
   },
   "outputs": [
    {
     "name": "stdout",
     "output_type": "stream",
     "text": [
      "Epoch 19 Step 100: Loss: 1.1761, Val Loss: 1.2611"
     ]
    }
   ],
   "source": [
    "if cuda: net.cuda()\n",
    "\n",
    "# create train/val; each of them must be contiguous\n",
    "val_idx = int(len(encoded)*(1-val_frac))\n",
    "train, val = encoded[:val_idx], encoded[val_idx:]\n",
    "\n",
    "for e in range(epochs):\n",
    "    h = net.init_hidden(batch_size)    # initialize hidden state\n",
    "    \n",
    "    for i, (x, y) in enumerate(Batch_Loader(train, batch_size, seqlen)):\n",
    "        net.train()\n",
    "\n",
    "        # prepare training sample: 1Hot, to torch, to cuda\n",
    "        x = One_Hot_Encode(x)\n",
    "        x, y = torch.from_numpy(x), torch.from_numpy(y)\n",
    "        if cuda: x, y = x.cuda(), y.cuda()\n",
    "\n",
    "        h = tuple([e.data for e in h]) #detach (to not backprop history)\n",
    "\n",
    "        net.zero_grad()\n",
    "        output, h = net(x, h)\n",
    "        loss = criterion(output, y.view(y.numel()).long())\n",
    "        loss.backward()        \n",
    "        nn.utils.clip_grad_norm_(net.parameters(), clip)# prevent exploding gradient\n",
    "        opt.step()\n",
    "\n",
    "        if i % 50 == 0:      #validation stats\n",
    "            val_h = net.init_hidden(batch_size)\n",
    "            val_losses = []\n",
    "            net.eval()\n",
    "            for x, y in Batch_Loader(val, batch_size, seqlen):\n",
    "                x = One_Hot_Encode(x)\n",
    "                x, y = torch.from_numpy(x), torch.from_numpy(y)\n",
    "                if cuda: x, y = x.cuda(), y.cuda()\n",
    "\n",
    "                val_h = tuple([e.data for e in val_h])\n",
    "\n",
    "                output, val_h = net(x, val_h)\n",
    "                val_loss = criterion(output, y.view(y.numel()).long())\n",
    "                val_losses += val_loss.item(),\n",
    "\n",
    "            print(f\"\\rEpoch {e}\",\n",
    "                  f\"Step {i}:\",\n",
    "                  f\"Loss: {loss.item():.4f},\",\n",
    "                  f\"Val Loss: {np.mean(val_losses):.4f}\",end='')"
   ]
  },
  {
   "cell_type": "markdown",
   "metadata": {
    "colab_type": "text",
    "id": "XwBe_p2rNDy3"
   },
   "source": [
    "### Prediction / Text generation"
   ]
  },
  {
   "cell_type": "code",
   "execution_count": 0,
   "metadata": {
    "colab": {},
    "colab_type": "code",
    "id": "XtlRmXYDNDy3"
   },
   "outputs": [],
   "source": [
    "import torch.nn.functional as F\n",
    "\n",
    "def predict(net, char, h):   # model, 1 char, hidden_state        \n",
    "    x = np.array([[net.char2int[char]]])\n",
    "    x = One_Hot_Encode(x)\n",
    "    x = torch.from_numpy(x)        \n",
    "    if cuda: x = x.cuda()\n",
    "\n",
    "    h = [e.data for e in h]\n",
    "    out, h = net(x, h)\n",
    "\n",
    "    p = F.softmax(out, dim=1).data    # probabilities\n",
    "    if cuda: p = p.cpu()\n",
    "\n",
    "    p = p.numpy().squeeze()  \n",
    "    char = np.random.choice(range(nchars), p=p/p.sum()) # select char according to p\n",
    "\n",
    "    return net.int2char[char], h"
   ]
  },
  {
   "cell_type": "code",
   "execution_count": 0,
   "metadata": {
    "colab": {
     "base_uri": "https://localhost:8080/",
     "height": 816
    },
    "colab_type": "code",
    "id": "zTF7feFJNDy7",
    "outputId": "503835e5-1c2f-4281-f767-5acc2b3e164b"
   },
   "outputs": [
    {
     "name": "stdout",
     "output_type": "stream",
     "text": [
      "Humants\n",
      "kiffered by his. She arranged this affairs to him. She had the commission might\n",
      "gave love.\n",
      "\n",
      "\"Birch persapt is it?\" said Kitty, giving incaparitial catching his\n",
      "figure; in the great beginning to was the modest papes had never\n",
      "meet harrly dainer. He knew hes something with it was so could have not to\n",
      "go up, and was like thaising that seemed to the members of the\n",
      "morning sent to understand that he had come at done to watch to its brown back\n",
      "from his place.\n",
      "\n",
      "\"Who's I see that yesterday. Ah, with Ged at miserable sweep...\"\n",
      "\n",
      "\"She gares her the prica. That's not to think you it's to do,\" said he was\n",
      "looking with out of the troussea,\n",
      "of the table, his forehead, in a tiely tried to profly chain. The\n",
      "family other bard a moment failing to Darya Alexandrovna's hand on whom Levin\n",
      "began to grand the buckingrees heart, that not in these relations\n",
      "birachess.\n",
      "\n",
      "\"If I tell you--that's the reely.\"\n",
      "\n",
      "\"That's my hinllow business and your childness that is calagient for it.\n",
      "But \"Capitale, now di nothing in which say was worling\n",
      "that you imagined me doesn't; so ammorming.\"\n",
      "\n",
      "\"Dor you will tell you the master to resuse and denititely.\"\n",
      "\n",
      "\"When you can't very much not walk without you.\n",
      "I have not been used about a man breath, and then in\n",
      "fonger one. But made Karenins, a sense of it, against a Iwal most\n",
      "of the bosiciances as the first meal of man must tell you?\" he said, capital\n",
      "yinging vitwory and meaning, still hearing the architect out at her.\n",
      "\n",
      "\"No, sleep at the bodilies,\" she thought, siding in the saming into the\n",
      "hall), suddenly improved like out which was now now to broke firmless for her truth,\n",
      "that Stepan Arkadyevitch always misted her.\n",
      "\n",
      "\"Come, I suppose it's berous, and I could say. I've told you for\n",
      "indevery of Kitty.\" Ask Anna quickly ceated a long agoted and a past in conviction and loseet\n",
      "in this booking back, and passing her hand right. The longs mounned he made\n",
      "came into his prosen-back, and writing his head.\n",
      "\n",
      "\"Here is more...\"\n",
      "\n",
      "Sergey Ivanovitch came into the corner, and uttent\n"
     ]
    }
   ],
   "source": [
    "start = 'Human'\n",
    "size = 2000\n",
    "\n",
    "if cuda: net.cuda()\n",
    "else:    net.cpu()\n",
    "net.eval()\n",
    "\n",
    "s = start\n",
    "\n",
    "h = net.init_hidden(batch_size=1)\n",
    "for ch in start:       # feed the first word through without making predictions\n",
    "    char, h = predict(net, ch, h)\n",
    "s+=char\n",
    "\n",
    "for ii in range(size):\n",
    "    char, h = predict(net, s[-1], h)\n",
    "    s+=char\n",
    "\n",
    "print(s)"
   ]
  },
  {
   "cell_type": "markdown",
   "metadata": {
    "colab_type": "text",
    "id": "HUdyw1jUNDzG"
   },
   "source": [
    "## Keras"
   ]
  },
  {
   "cell_type": "markdown",
   "metadata": {
    "colab_type": "text",
    "id": "Wgd1R5bSNDzP"
   },
   "source": [
    "* https://github.com/mineshmathew/char_rnn_karpathy_keras\n",
    "* https://www.tensorflow.org/alpha/tutorials/text/text_generation"
   ]
  },
  {
   "cell_type": "code",
   "execution_count": 0,
   "metadata": {
    "colab": {
     "base_uri": "https://localhost:8080/",
     "height": 34
    },
    "colab_type": "code",
    "id": "6dh-TgWUNDzP",
    "outputId": "ff1bc8dd-03e7-4ce4-b1e8-db17dbe43b23"
   },
   "outputs": [
    {
     "data": {
      "text/plain": [
       "('2.0.0-alpha0', '2.2.4-tf')"
      ]
     },
     "execution_count": 11,
     "metadata": {
      "tags": []
     },
     "output_type": "execute_result"
    }
   ],
   "source": [
    "# !pip install -q tensorflow-gpu==2.0.0-alpha0\n",
    "import numpy as np\n",
    "import tensorflow as tf\n",
    "from tensorflow import keras\n",
    "tf.__version__, keras.__version__"
   ]
  },
  {
   "cell_type": "markdown",
   "metadata": {
    "colab_type": "text",
    "id": "bOgl-PMoNDzU"
   },
   "source": [
    "### Data"
   ]
  },
  {
   "cell_type": "code",
   "execution_count": 0,
   "metadata": {
    "colab": {
     "base_uri": "https://localhost:8080/",
     "height": 34
    },
    "colab_type": "code",
    "id": "j1bktPRXNDzV",
    "outputId": "cfc3102b-560a-4a87-8b0a-c4387e5f0163"
   },
   "outputs": [
    {
     "name": "stdout",
     "output_type": "stream",
     "text": [
      "Downloading data from https://storage.googleapis.com/download.tensorflow.org/data/shakespeare.txt\n",
      "1122304/1115394 [==============================] - 0s 0us/step\n",
      "Length of text: 1115394 characters\n"
     ]
    }
   ],
   "source": [
    "import os, tempfile\n",
    "os.chdir(tempfile.gettempdir())\n",
    "# path = tf.keras.utils.get_file('nietzsche.txt', origin=\"https://s3.amazonaws.com/text-datasets/nietzsche.txt\")\n",
    "path = tf.keras.utils.get_file('shakespeare.txt', origin=\"https://storage.googleapis.com/download.tensorflow.org/data/shakespeare.txt\")\n",
    "text = open(path).read().lower()\n",
    "print (f'Length of text: {len(text)} characters')"
   ]
  },
  {
   "cell_type": "code",
   "execution_count": 0,
   "metadata": {
    "colab": {
     "base_uri": "https://localhost:8080/",
     "height": 34
    },
    "colab_type": "code",
    "id": "6camTAKbbyuV",
    "outputId": "2ffcb154-7e5f-4281-adf6-2a295a4fc64f"
   },
   "outputs": [
    {
     "name": "stdout",
     "output_type": "stream",
     "text": [
      "total chars: 39\n"
     ]
    }
   ],
   "source": [
    "vocab = sorted(list(set(text)))\n",
    "print('total chars:', len(vocab))\n",
    "char2int = dict((c, i) for i, c in enumerate(vocab))\n",
    "int2char = np.array(vocab)  #dict((i, c) for i, c in enumerate(vocab))"
   ]
  },
  {
   "cell_type": "markdown",
   "metadata": {
    "colab_type": "text",
    "id": "alyp7_5Mb7PK"
   },
   "source": [
    "#### Building training set"
   ]
  },
  {
   "cell_type": "code",
   "execution_count": 0,
   "metadata": {
    "colab": {
     "base_uri": "https://localhost:8080/",
     "height": 52
    },
    "colab_type": "code",
    "id": "2UvQoZuJNDzh",
    "outputId": "066ed20c-9ce4-413c-9286-7b166365b726"
   },
   "outputs": [
    {
     "name": "stdout",
     "output_type": "stream",
     "text": [
      "total chars: 57\n",
      "number of sequences: 600854\n"
     ]
    }
   ],
   "source": [
    "# (1) explicitly build batches [a,b,c,d] --> [b,c,d], [b,c,d]--->[c,d,e]....and so on\n",
    "seqlen, step = 40, 1\n",
    "sentences = []\n",
    "next_chars = []\n",
    "for i in range(0, len(text) - seqlen+1, step):\n",
    "    sentences.append(text[i: i + seqlen])\n",
    "    next_chars.append(text[i+1:i +1+ seqlen])\n",
    "print('number of sequences:', len(sentences))\n",
    "\n",
    "import numpy as np\n",
    "X = np.zeros((len(sentences),seqlen,len(vocab)),dtype=np.bool)#dataSize x seqLength x vocabSize\n",
    "y = np.zeros((len(sentences),seqlen,len(vocab)),dtype=np.bool)\n",
    "for i, sentence in enumerate(sentences):\n",
    "    for t, char in enumerate(sentence):\n",
    "        X[i, t, char2int[char]] = 1\n",
    "\n",
    "for i, sentence in enumerate(next_chars):\n",
    "    for t, char in enumerate(sentence):\n",
    "        y[i, t, char2int[char]] = 1"
   ]
  },
  {
   "cell_type": "code",
   "execution_count": 0,
   "metadata": {
    "colab": {
     "base_uri": "https://localhost:8080/",
     "height": 228
    },
    "colab_type": "code",
    "id": "cGSS48vBb4XG",
    "outputId": "db72f2fa-ad10-406c-db44-096ee953175b"
   },
   "outputs": [
    {
     "name": "stdout",
     "output_type": "stream",
     "text": [
      "first citizen:\n",
      "before we 'first citizen:\\nbefore we proceed any further, hear me speak.\\n\\nall:\\nspeak, speak.\\n\\nfirst citizen:\\nyou '\n",
      "'are all resolved rather to die than to famish?\\n\\nall:\\nresolved. resolved.\\n\\nfirst citizen:\\nfirst, you k'\n",
      "\"now caius marcius is chief enemy to the people.\\n\\nall:\\nwe know't, we know't.\\n\\nfirst citizen:\\nlet us ki\"\n",
      "\"ll him, and we'll have corn at our own price.\\nis't a verdict?\\n\\nall:\\nno more talking on't; let it be d\"\n",
      "'one: away, away!\\n\\nsecond citizen:\\none word, good citizens.\\n\\nfirst citizen:\\nwe are accounted poor citi'\n",
      "X:  'first citizen:\\nbefore we proceed any further, hear me speak.\\n\\nall:\\nspeak, speak.\\n\\nfirst citizen:\\nyou'\n",
      "y:  'irst citizen:\\nbefore we proceed any further, hear me speak.\\n\\nall:\\nspeak, speak.\\n\\nfirst citizen:\\nyou '\n",
      "X:  'are all resolved rather to die than to famish?\\n\\nall:\\nresolved. resolved.\\n\\nfirst citizen:\\nfirst, you '\n",
      "y:  're all resolved rather to die than to famish?\\n\\nall:\\nresolved. resolved.\\n\\nfirst citizen:\\nfirst, you k'\n"
     ]
    },
    {
     "data": {
      "text/plain": [
       "<BatchDataset shapes: ((64, 100), (64, 100)), types: (tf.int32, tf.int32)>"
      ]
     },
     "execution_count": 14,
     "metadata": {
      "tags": []
     },
     "output_type": "execute_result"
    }
   ],
   "source": [
    "# (2) generator\n",
    "seqlen = 100\n",
    "examples_per_epoch = len(text)//seqlen\n",
    "text_as_int = [char2int[c] for c in text]\n",
    "\n",
    "char_dataset = tf.data.Dataset.from_tensor_slices(text_as_int)  # individual chars\n",
    "for i in char_dataset.take(25):\n",
    "    print(int2char[i.numpy()],end='')\n",
    "\n",
    "sequences = char_dataset.batch(seqlen+1, drop_remainder=True) # sequences\n",
    "for seq in sequences.take(5):\n",
    "    print(repr(''.join(int2char[seq.numpy()])))\n",
    "    \n",
    "Xy = sequences.map(lambda chunk:(chunk[:-1],chunk[1:]) )  # X,y (both are sequences)\n",
    "for X, y in  Xy.take(2):   # not shifted by step=1\n",
    "    print('X: ', repr(''.join(int2char[X.numpy()])) )\n",
    "    print('y: ', repr(''.join(int2char[y.numpy()])) )\n",
    "\n",
    "Xy = Xy.shuffle(buffer_size=10000).batch(batch_size=64, drop_remainder=True) #shuffle and batch\n",
    "Xy"
   ]
  },
  {
   "cell_type": "markdown",
   "metadata": {
    "colab_type": "text",
    "id": "JtghwnP_NDzk"
   },
   "source": [
    "### Model"
   ]
  },
  {
   "cell_type": "code",
   "execution_count": 0,
   "metadata": {
    "colab": {
     "base_uri": "https://localhost:8080/",
     "height": 350
    },
    "colab_type": "code",
    "id": "fgA-E-FNNDzl",
    "outputId": "49613b52-16a5-460e-8801-06b2349c6d08"
   },
   "outputs": [
    {
     "name": "stderr",
     "output_type": "stream",
     "text": [
      "W0526 22:51:18.541334 140072895281024 tf_logging.py:161] <tensorflow.python.keras.layers.recurrent.UnifiedLSTM object at 0x7f64c0207860>: Note that this layer is not optimized for performance. Please use tf.keras.layers.CuDNNLSTM for better performance on GPU.\n",
      "W0526 22:51:18.545431 140072895281024 tf_logging.py:161] <tensorflow.python.keras.layers.recurrent.UnifiedLSTM object at 0x7f64c0207dd8>: Note that this layer is not optimized for performance. Please use tf.keras.layers.CuDNNLSTM for better performance on GPU.\n"
     ]
    },
    {
     "name": "stdout",
     "output_type": "stream",
     "text": [
      "Model: \"sequential\"\n",
      "_________________________________________________________________\n",
      "Layer (type)                 Output Shape              Param #   \n",
      "=================================================================\n",
      "unified_lstm_2 (UnifiedLSTM) (None, 40, 512)           1167360   \n",
      "_________________________________________________________________\n",
      "unified_lstm_3 (UnifiedLSTM) (None, 40, 512)           2099200   \n",
      "_________________________________________________________________\n",
      "dropout_1 (Dropout)          (None, 40, 512)           0         \n",
      "_________________________________________________________________\n",
      "time_distributed (TimeDistri (None, 40, 57)            29241     \n",
      "=================================================================\n",
      "Total params: 3,295,801\n",
      "Trainable params: 3,295,801\n",
      "Non-trainable params: 0\n",
      "_________________________________________________________________\n"
     ]
    }
   ],
   "source": [
    "# (1) no embedding; LSTM is NOT stateful (training corpus have huge repetitions with step=1)\n",
    "hiddenSizes = [512,512]\n",
    "dropoutProb = 0.2\n",
    "\n",
    "model = keras.models.Sequential([\n",
    "    keras.layers.LSTM(hiddenSizes[0], return_sequences=True, input_shape=(seqlen, len(vocab))),\n",
    "    keras.layers.LSTM(hiddenSizes[1], return_sequences=True),\n",
    "    keras.layers.Dropout(dropoutProb),\n",
    "    keras.layers.TimeDistributed(keras.layers.Dense(len(vocab),activation='softmax')),\n",
    "])\n",
    "\n",
    "model.compile(loss='categorical_crossentropy', optimizer='rmsprop')\n",
    "model.summary()"
   ]
  },
  {
   "cell_type": "code",
   "execution_count": 0,
   "metadata": {
    "colab": {
     "base_uri": "https://localhost:8080/",
     "height": 298
    },
    "colab_type": "code",
    "id": "8MEa7-dme8Pm",
    "outputId": "ef22851e-92fb-4a84-dae9-3fa2a5e3f1f8"
   },
   "outputs": [
    {
     "name": "stdout",
     "output_type": "stream",
     "text": [
      "Model: \"sequential_7\"\n",
      "_________________________________________________________________\n",
      "Layer (type)                 Output Shape              Param #   \n",
      "=================================================================\n",
      "embedding_7 (Embedding)      (64, None, 256)           9984      \n",
      "_________________________________________________________________\n",
      "unified_lstm_7 (UnifiedLSTM) (64, None, 1024)          5246976   \n",
      "_________________________________________________________________\n",
      "dense_9 (Dense)              (64, None, 39)            39975     \n",
      "=================================================================\n",
      "Total params: 5,296,935\n",
      "Trainable params: 5,296,935\n",
      "Non-trainable params: 0\n",
      "_________________________________________________________________\n"
     ]
    }
   ],
   "source": [
    "# (2) with embedding; LSTM is stateful, requires batchsize input. corpus has no repetition\n",
    "vocab_size = len(vocab)\n",
    "embedding_dim = 256\n",
    "rnn_units = 1024\n",
    "batch_size = 64\n",
    "\n",
    "model = tf.keras.Sequential([\n",
    "    tf.keras.layers.Embedding(vocab_size, embedding_dim,\n",
    "                              batch_input_shape=[batch_size, None]),  #batchsize input\n",
    "    tf.keras.layers.LSTM(rnn_units,\n",
    "                         return_sequences=True,\n",
    "                         stateful=True,\n",
    "                         recurrent_initializer='glorot_uniform'),\n",
    "    tf.keras.layers.Dense(vocab_size, activation='softmax')\n",
    "  ])\n",
    "model.compile(optimizer='adam', loss='sparse_categorical_crossentropy')\n",
    "model.summary()"
   ]
  },
  {
   "cell_type": "markdown",
   "metadata": {
    "colab_type": "text",
    "id": "ZwTlFoC8NDzp"
   },
   "source": [
    "### Train"
   ]
  },
  {
   "cell_type": "code",
   "execution_count": 0,
   "metadata": {
    "colab": {
     "base_uri": "https://localhost:8080/",
     "height": 139
    },
    "colab_type": "code",
    "id": "YRHVgaqONDzp",
    "outputId": "2a4d0eef-ee48-453e-871e-c1c7cea579e0"
   },
   "outputs": [
    {
     "name": "stdout",
     "output_type": "stream",
     "text": [
      "Epoch 1/3\n",
      "600854/600854 [==============================] - 189s 315us/sample - loss: 1.1020\n",
      "Epoch 2/3\n",
      "600854/600854 [==============================] - 189s 315us/sample - loss: 0.6808\n",
      "Epoch 3/3\n",
      "600854/600854 [==============================] - 190s 316us/sample - loss: 0.5654\n",
      "loss is 1.1020105174576489\n"
     ]
    }
   ],
   "source": [
    "# (1)\n",
    "history=model.fit(X, y, batch_size=128, epochs=3,verbose=1)\n",
    "print ('loss is',history.history['loss'][0])"
   ]
  },
  {
   "cell_type": "code",
   "execution_count": 0,
   "metadata": {
    "colab": {},
    "colab_type": "code",
    "id": "Lv71_RiJfukP"
   },
   "outputs": [],
   "source": [
    "# (2a)\n",
    "import tempfile\n",
    "_,weightsfile=tempfile.mkstemp()\n",
    "mc=tf.keras.callbacks.ModelCheckpoint(weightsfile,  # save_best_only=True,\n",
    "                                      save_weights_only=True)\n",
    "history = model.fit(Xy, epochs=3, callbacks=[mc])"
   ]
  },
  {
   "cell_type": "code",
   "execution_count": 0,
   "metadata": {
    "colab": {},
    "colab_type": "code",
    "id": "nSj-G53OTsqI"
   },
   "outputs": [],
   "source": [
    "# (2b) custom training\n",
    "tf.keras.optimizers.Adam()\n",
    "\n",
    "@tf.function\n",
    "def train_step(inp, target):\n",
    "    with tf.GradientTape() as tape:\n",
    "        predictions = model(inp)\n",
    "        loss = tf.reduce_mean(\n",
    "            tf.keras.losses.sparse_categorical_crossentropy(\n",
    "                target, predictions, from_logits=True))\n",
    "    grads = tape.gradient(loss, model.trainable_variables)\n",
    "    optimizer.apply_gradients(zip(grads, model.trainable_variables))\n",
    "\n",
    "    return loss\n",
    "\n",
    "for _ in range(10): #epochs\n",
    "    for (inp, target) in dataset:\n",
    "        loss = train_step(inp, target)\n",
    "\n",
    "import tempfile\n",
    "_,weightsfile=tempfile.mkstemp()\n",
    "model.save_weights(weightsfile)"
   ]
  },
  {
   "cell_type": "markdown",
   "metadata": {
    "colab_type": "text",
    "id": "ZZlkOWTVNDzt"
   },
   "source": [
    "### Generate"
   ]
  },
  {
   "cell_type": "code",
   "execution_count": 0,
   "metadata": {
    "colab": {},
    "colab_type": "code",
    "id": "NMdC0W7nNDzu"
   },
   "outputs": [],
   "source": [
    "# (1)\n",
    "seed=\"this is\"\n",
    "print(seed,end='')\n",
    "for i in range(1000):\n",
    "    x=np.zeros((1, seqlen, len(vocab)))\n",
    "    for t, char in enumerate(seed[-seqlen:]):\n",
    "        x[0, t, char2int[char]] = 1.\n",
    "    preds = model.predict(x, verbose=0)[0]\n",
    "    next_index = np.random.choice(range(len(vocab)),p=preds[-1])  #np.argmax(preds[-1])\n",
    "    next_char = int2char[next_index]\n",
    "    seed = seed + next_char\n",
    "    print(next_char,end='')"
   ]
  },
  {
   "cell_type": "code",
   "execution_count": 0,
   "metadata": {
    "colab": {},
    "colab_type": "code",
    "id": "rfPgHEzhkD14"
   },
   "outputs": [],
   "source": [
    "# (2) need to rebuild the model with batchsize=1\n",
    "model = tf.keras.Sequential([\n",
    "    tf.keras.layers.Embedding(vocab_size, embedding_dim,\n",
    "                              batch_input_shape=[1, None]),  #batchsize 1\n",
    "    tf.keras.layers.LSTM(rnn_units,\n",
    "                         return_sequences=True,\n",
    "                         stateful=True,\n",
    "                         recurrent_initializer='glorot_uniform'),\n",
    "    tf.keras.layers.Dense(vocab_size, activation='softmax')\n",
    "  ])\n",
    "model.load_weights(weightsfile)\n",
    "model.build(tf.TensorShape([1, None]))  #batchsize=1 ?\n",
    "# model.summary()"
   ]
  },
  {
   "cell_type": "code",
   "execution_count": 0,
   "metadata": {
    "colab": {
     "base_uri": "https://localhost:8080/",
     "height": 278
    },
    "colab_type": "code",
    "id": "DZy4E5wogGnA",
    "outputId": "1e28daad-e557-46cc-ebf5-126d75974403"
   },
   "outputs": [
    {
     "name": "stdout",
     "output_type": "stream",
     "text": [
      "brutus: this aint right. you should be going rowi:\n",
      "i in to sich bior canull thating-e wind chand,\n",
      "buigh, thiigh thous of nour buon woo nomary ma"
     ]
    }
   ],
   "source": [
    "# (2)\n",
    "seed=\"this is\"\n",
    "print(seed,end='')\n",
    "model.reset_states()\n",
    "x = tf.expand_dims([char2int[s] for s in seed], 0)  #shape 1*len(seed)\n",
    "\n",
    "for i in range(100):\n",
    "    preds = tf.squeeze(model(x), 0)[-1].numpy()\n",
    "    chosenid = np.random.choice(range(len(vocab)),p=preds)\n",
    "\n",
    "#     temperature=1 #https://www.tensorflow.org/alpha/tutorials/text/text_generation\n",
    "#     predictions = model(input_eval)\n",
    "#     predictions = tf.squeeze(predictions, 0)\n",
    "#     predictions = predictions / temperature\n",
    "#     chosenid = tf.random.categorical(predictions, num_samples=1)[-1,0].numpy()\n",
    "\n",
    "    print(int2char[chosenid],end='')\n",
    "    x = tf.expand_dims([chosenid], 0)  #hidden state is in the model"
   ]
  },
  {
   "cell_type": "markdown",
   "metadata": {
    "colab_type": "text",
    "id": "5jgt-FdbLRBH"
   },
   "source": [
    "# IMDB Sentiment w/ torch"
   ]
  },
  {
   "cell_type": "markdown",
   "metadata": {
    "colab_type": "text",
    "id": "LQTymv17LRBK"
   },
   "source": [
    "https://github.com/udacity/deep-learning-v2-pytorch/blob/master/sentiment-rnn/Sentiment_RNN_Solution.ipynb"
   ]
  },
  {
   "cell_type": "code",
   "execution_count": 0,
   "metadata": {
    "colab": {},
    "colab_type": "code",
    "id": "WWjuru71LRBL",
    "outputId": "ff404a46-e1eb-48f4-cfce-3281371a6834"
   },
   "outputs": [
    {
     "data": {
      "text/plain": [
       "('1.1.0', False)"
      ]
     },
     "execution_count": 59,
     "metadata": {
      "tags": []
     },
     "output_type": "execute_result"
    }
   ],
   "source": [
    "# !pip3 install -U torch torchvision\n",
    "import torch\n",
    "cuda = torch.cuda.is_available()\n",
    "device = torch.device(\"cuda:0\" if torch.cuda.is_available() else \"cpu\")\n",
    "torch.__version__, cuda"
   ]
  },
  {
   "cell_type": "markdown",
   "metadata": {
    "colab_type": "text",
    "id": "pC1OLIHBLRBZ"
   },
   "source": [
    "## Data"
   ]
  },
  {
   "cell_type": "code",
   "execution_count": 0,
   "metadata": {
    "colab": {},
    "colab_type": "code",
    "id": "RcrWMDWlLRBZ",
    "outputId": "50c6594f-7883-4ab0-98a3-c31eb33b0a4a",
    "scrolled": true
   },
   "outputs": [
    {
     "name": "stdout",
     "output_type": "stream",
     "text": [
      "bromwell high is a cartoon comedy . it ran at the same time as some other programs about school life  such as  teachers  . my   years in the teaching profession lead me to believe that bromwell high  s satire is much closer to reality than is  teachers  . the scramble to survive financially  the insightful students who can see right through their pathetic teachers  pomp  the pettiness of the whole situation  all remind me of the schools i knew and their students . when i saw the episode in which a student repeatedly tried to burn down the school  i immediately recalled . . . . . . . . . at . . . . . . . . . . high . a classic line inspector i  m here to sack one of your teachers . student welcome to bromwell high . i expect that many adults of my age think that bromwell high is far fetched . what a pity that it isn  t   \n",
      "story of a man who has unnatural feelings for a pig . starts out with a opening scene that is a terrific example of absurd comedy . a formal orchestra audience is turn\n",
      "positive\n",
      "negative\n",
      "po\n"
     ]
    }
   ],
   "source": [
    "import os,urllib,tempfile\n",
    "os.chdir(tempfile.gettempdir())\n",
    "urllib.request.urlretrieve('https://github.com/udacity/deep-learning-v2-pytorch/raw/master/sentiment-rnn/data/reviews.txt','reviews.txt')\n",
    "urllib.request.urlretrieve('https://github.com/udacity/deep-learning-v2-pytorch/raw/master/sentiment-rnn/data/labels.txt','labels.txt')\n",
    "with open('reviews.txt', 'r') as f: reviews = f.read().strip()\n",
    "with open('labels.txt', 'r') as f:  labels = f.read().strip()\n",
    "print(reviews[:1000])\n",
    "print(labels[:20])"
   ]
  },
  {
   "cell_type": "markdown",
   "metadata": {
    "colab_type": "text",
    "id": "tgX94ecsLRBf"
   },
   "source": [
    "### Preprocess"
   ]
  },
  {
   "cell_type": "code",
   "execution_count": 0,
   "metadata": {
    "colab": {},
    "colab_type": "code",
    "id": "ugpXuW3KLRBi"
   },
   "outputs": [],
   "source": [
    "# encode labels\n",
    "labels = np.array([int(l[0]=='p') for l in labels.split('\\n')]) #now list of int"
   ]
  },
  {
   "cell_type": "code",
   "execution_count": 0,
   "metadata": {
    "colab": {},
    "colab_type": "code",
    "id": "5JSt_n5ZLRBo"
   },
   "outputs": [],
   "source": [
    "# tokenize\n",
    "from string import punctuation\n",
    "reviews = ''.join(c for c in reviews if c not in punctuation)\n",
    "reviews = reviews.lower().split('\\n')  #now list of strings\n",
    "\n",
    "words = [w for sent in reviews for w in sent.split()]\n",
    "Nw = len(words)"
   ]
  },
  {
   "cell_type": "code",
   "execution_count": 0,
   "metadata": {
    "colab": {},
    "colab_type": "code",
    "id": "L3t-oRDSLRBs"
   },
   "outputs": [],
   "source": [
    "# encode reviews\n",
    "from collections import Counter\n",
    "\n",
    "counts = Counter(words)\n",
    "vocab = sorted(counts, key=counts.get, reverse=True)\n",
    "vocab2int = {word: ii+1 for ii, word in enumerate(vocab)}\n",
    "Nv = len(vocab2int)\n",
    "\n",
    "reviews = [[vocab2int[word] for word in r.split()] for r in reviews]  #now list of list of int"
   ]
  },
  {
   "cell_type": "code",
   "execution_count": 0,
   "metadata": {
    "colab": {},
    "colab_type": "code",
    "id": "4j7TmrVkLRBw"
   },
   "outputs": [],
   "source": [
    "# pad/truncate reviews to constant length\n",
    "seqlen =  200\n",
    "reviews = np.asarray([([0]*(seqlen-len(r))+r)[:200] for r in reviews])"
   ]
  },
  {
   "cell_type": "markdown",
   "metadata": {
    "colab_type": "text",
    "id": "EP1F80sqLRBy"
   },
   "source": [
    "### train/val/test"
   ]
  },
  {
   "cell_type": "code",
   "execution_count": 0,
   "metadata": {
    "colab": {},
    "colab_type": "code",
    "id": "KdmeQYqCLRBz",
    "outputId": "3b0376d8-e86c-4725-b1b7-5a5339b2ab09"
   },
   "outputs": [
    {
     "name": "stdout",
     "output_type": "stream",
     "text": [
      "Feature Shapes:\n",
      " (20000, 200) (2500, 200) (2500, 200)\n"
     ]
    }
   ],
   "source": [
    "train_frac = 0.8\n",
    "val_frac = 0.1\n",
    "\n",
    "val_start  = int(len(reviews)*train_frac)\n",
    "test_start = val_start + int(len(reviews)*val_frac)\n",
    "train_x, val_x, test_x = reviews[:val_start], reviews[val_start:test_start], reviews[test_start:]\n",
    "train_y, val_y, test_y = labels[:val_start],  labels[val_start:test_start],  labels[test_start:]\n",
    "\n",
    "print(\"Feature Shapes:\\n\",\n",
    "      train_x.shape, \n",
    "      val_x.shape,\n",
    "      test_x.shape)"
   ]
  },
  {
   "cell_type": "markdown",
   "metadata": {
    "colab_type": "text",
    "id": "sdGU4fCCLRB5"
   },
   "source": [
    "### Batch Loader"
   ]
  },
  {
   "cell_type": "code",
   "execution_count": 0,
   "metadata": {
    "colab": {},
    "colab_type": "code",
    "id": "GJznX3U3LRB5"
   },
   "outputs": [],
   "source": [
    "import torch\n",
    "from torch.utils.data import TensorDataset, DataLoader\n",
    "\n",
    "train_data = TensorDataset(torch.from_numpy(train_x), torch.from_numpy(train_y))\n",
    "valid_data = TensorDataset(torch.from_numpy(val_x), torch.from_numpy(val_y))\n",
    "test_data = TensorDataset(torch.from_numpy(test_x), torch.from_numpy(test_y))\n",
    "\n",
    "batch_size = 50\n",
    "\n",
    "train_loader = DataLoader(train_data, shuffle=True, batch_size=batch_size)\n",
    "valid_loader = DataLoader(valid_data, shuffle=True, batch_size=batch_size)\n",
    "test_loader = DataLoader(test_data, shuffle=True, batch_size=batch_size)"
   ]
  },
  {
   "cell_type": "code",
   "execution_count": 0,
   "metadata": {
    "colab": {},
    "colab_type": "code",
    "id": "8XdBJnvvLRB8",
    "outputId": "f66ee831-04a2-4aee-be0d-74c0bacf4c9f"
   },
   "outputs": [
    {
     "name": "stdout",
     "output_type": "stream",
     "text": [
      "Sample input size:  torch.Size([50, 200])\n",
      "Sample input: \n",
      " tensor([[   40,    26,   106,  ...,   674,   332,    32],\n",
      "        [    8,   552,    71,  ...,    42,    24,   142],\n",
      "        [   10,   139,   329,  ...,  2771,  5770,   282],\n",
      "        ...,\n",
      "        [   10,    14,  9088,  ...,    64,  2443,     4],\n",
      "        [    0,     0,     0,  ...,     7,     7, 54291],\n",
      "        [    0,     0,     0,  ...,     5,    75,     8]])\n",
      "\n",
      "Sample label size:  torch.Size([50])\n",
      "Sample label: \n",
      " tensor([1, 1, 0, 0, 1, 0, 0, 1, 1, 0, 1, 1, 0, 1, 1, 1, 0, 0, 1, 1, 0, 1, 1, 1,\n",
      "        0, 1, 0, 0, 0, 0, 1, 0, 0, 0, 0, 1, 1, 1, 1, 1, 0, 1, 1, 0, 0, 1, 0, 0,\n",
      "        0, 1])\n"
     ]
    }
   ],
   "source": [
    "sample_x, sample_y = next(iter(train_loader))\n",
    "\n",
    "print('Sample input size: ', sample_x.size()) # batch_size, seq_length\n",
    "print('Sample input: \\n', sample_x)\n",
    "print()\n",
    "print('Sample label size: ', sample_y.size()) # batch_size\n",
    "print('Sample label: \\n', sample_y)"
   ]
  },
  {
   "cell_type": "markdown",
   "metadata": {
    "colab_type": "text",
    "id": "KzfUV_-0LRCC"
   },
   "source": [
    "## Model"
   ]
  },
  {
   "cell_type": "markdown",
   "metadata": {
    "colab_type": "text",
    "id": "jjI1p_PQLRCD"
   },
   "source": [
    "<img src=\"data:image/png;base64,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\" width=\"200px\"/>"
   ]
  },
  {
   "cell_type": "code",
   "execution_count": 0,
   "metadata": {
    "colab": {},
    "colab_type": "code",
    "id": "OB3CYtm8LRCE"
   },
   "outputs": [],
   "source": [
    "lr=0.001\n",
    "epochs = 4 # 3-4 is approx where I noticed the validation loss stop decreasing\n",
    "print_every = 100\n",
    "clip=5 # gradient clipping"
   ]
  },
  {
   "cell_type": "code",
   "execution_count": 0,
   "metadata": {
    "colab": {},
    "colab_type": "code",
    "id": "E98LTGplLRCI",
    "outputId": "a81f0bfd-945d-42b9-f23e-d603def0abd0"
   },
   "outputs": [
    {
     "name": "stdout",
     "output_type": "stream",
     "text": [
      "SentimentRNN(\n",
      "  (embedding): Embedding(74073, 400)\n",
      "  (lstm): LSTM(400, 256, num_layers=2, batch_first=True, dropout=0.5)\n",
      "  (dropout): Dropout(p=0.3)\n",
      "  (fc): Linear(in_features=256, out_features=1, bias=True)\n",
      "  (sig): Sigmoid()\n",
      ")\n"
     ]
    }
   ],
   "source": [
    "import torch.nn as nn\n",
    "\n",
    "class SentimentRNN(nn.Module):\n",
    "\n",
    "    def __init__(self, vocab_size, output_size, embedding_dim, hidden_dim, n_layers, drop_prob=0.5):\n",
    "        super(SentimentRNN, self).__init__()\n",
    "\n",
    "        self.output_size = output_size\n",
    "        self.n_layers = n_layers\n",
    "        self.hidden_dim = hidden_dim\n",
    "        \n",
    "        self.embedding = nn.Embedding(vocab_size, embedding_dim)\n",
    "        self.lstm = nn.LSTM(embedding_dim, hidden_dim, n_layers, \n",
    "                            dropout=drop_prob, batch_first=True)        \n",
    "        self.dropout = nn.Dropout(0.3)\n",
    "        self.fc = nn.Linear(hidden_dim, output_size)\n",
    "        self.sig = nn.Sigmoid()\n",
    "        \n",
    "    def forward(self, x, hidden):\n",
    "        batch_size = x.size(0)\n",
    "        x = x.long()\n",
    "        embeds = self.embedding(x)\n",
    "        lstm_out, hidden = self.lstm(embeds, hidden)\n",
    "    \n",
    "        lstm_out = lstm_out.contiguous().view(-1, self.hidden_dim)\n",
    "        out = self.dropout(lstm_out)\n",
    "        out = self.fc(out)\n",
    "        sig_out = self.sig(out)\n",
    "        \n",
    "        sig_out = sig_out.view(batch_size, -1)\n",
    "        sig_out = sig_out[:, -1]\n",
    "        return sig_out, hidden\n",
    "    \n",
    "    \n",
    "    def init_hidden(self, batch_size):\n",
    "        # Helper init hidden & cell states of size (n_layers, batch_size, hidden_dim)\n",
    "        weight = next(self.parameters()).data\n",
    "        \n",
    "        hidden = (weight.new(self.n_layers, batch_size, self.hidden_dim).zero_().to(device),\n",
    "                  weight.new(self.n_layers, batch_size, self.hidden_dim).zero_().to(device))\n",
    "        \n",
    "        return hidden\n",
    "    \n",
    "vocab_size = Nv + 1 # for 0 padding\n",
    "output_size = 1\n",
    "embedding_dim = 400\n",
    "hidden_dim = 256\n",
    "n_layers = 2\n",
    "net = SentimentRNN(vocab_size, output_size, embedding_dim, hidden_dim, n_layers)\n",
    "print(net)"
   ]
  },
  {
   "cell_type": "code",
   "execution_count": 0,
   "metadata": {
    "colab": {},
    "colab_type": "code",
    "id": "2x8fb1hRLRCM"
   },
   "outputs": [],
   "source": [
    "criterion = nn.BCELoss()\n",
    "optimizer = torch.optim.Adam(net.parameters(), lr=lr)"
   ]
  },
  {
   "cell_type": "markdown",
   "metadata": {
    "colab_type": "text",
    "id": "-T2X9-w6LRCP"
   },
   "source": [
    "## Train"
   ]
  },
  {
   "cell_type": "code",
   "execution_count": 0,
   "metadata": {
    "colab": {},
    "colab_type": "code",
    "id": "ITKL8tkVLRCQ"
   },
   "outputs": [],
   "source": [
    "if cuda: net.cuda()\n",
    "net.train()\n",
    "for e in range(epochs):\n",
    "    h = net.init_hidden(batch_size)\n",
    "    for i, (inputs, labels) in enumerate(train_loader):\n",
    "\n",
    "        if cuda: inputs, labels = inputs.cuda(), labels.cuda()\n",
    "        h = tuple([each.data for each in h])  # so as not to backprop to past\n",
    "\n",
    "        net.zero_grad()\n",
    "        output, h = net(inputs, h)\n",
    "        loss = criterion(output.squeeze(), labels.float())\n",
    "        loss.backward()\n",
    "        nn.utils.clip_grad_norm_(net.parameters(), clip)\n",
    "        optimizer.step()\n",
    "\n",
    "        if i % print_every == 0:\n",
    "            val_h = net.init_hidden(batch_size)\n",
    "            val_losses = []\n",
    "            net.eval()\n",
    "            for inputs, labels in valid_loader:\n",
    "                if cuda: inputs, labels = inputs.cuda(), labels.cuda()\n",
    "                val_h = tuple([each.data for each in val_h]) # so as not to backprop to past\n",
    "\n",
    "                output, val_h = net(inputs, val_h)\n",
    "                val_loss = criterion(output.squeeze(), labels.float())\n",
    "                val_losses.append(val_loss.item())\n",
    "\n",
    "            net.train()\n",
    "            print(f\"Epoch: {e+1}/{epochs}...\",\n",
    "                  f\"Step: {counter}...\",\n",
    "                  f\"Loss: {loss.item():.6f}...\",\n",
    "                  f\"Val Loss: {np.mean(val_losses):.6f}\")"
   ]
  },
  {
   "cell_type": "markdown",
   "metadata": {
    "colab_type": "text",
    "id": "5JdiyjKBLRCa"
   },
   "source": [
    "## Evaluate"
   ]
  },
  {
   "cell_type": "markdown",
   "metadata": {
    "colab_type": "text",
    "id": "7al49hwwLRCb"
   },
   "source": [
    "### on test set"
   ]
  },
  {
   "cell_type": "code",
   "execution_count": 0,
   "metadata": {
    "colab": {},
    "colab_type": "code",
    "id": "6Nbp5iNtLRCc"
   },
   "outputs": [],
   "source": [
    "test_losses = [] # track loss\n",
    "num_correct = 0\n",
    "\n",
    "h = net.init_hidden(batch_size)\n",
    "net.eval()\n",
    "for inputs, labels in test_loader:\n",
    "    h = tuple([each.data for each in h])\n",
    "\n",
    "    if cuda:   inputs, labels = inputs.cuda(), labels.cuda()\n",
    "    \n",
    "    output, h = net(inputs, h)\n",
    "    test_loss = criterion(output.squeeze(), labels.float())\n",
    "    test_losses.append(test_loss.item())\n",
    "    pred = torch.round(output.squeeze())   # to either 0 or 1\n",
    "    \n",
    "    correct_tensor = pred.eq(labels.float().view_as(pred))\n",
    "    if cuda: correct_tensor=correct_tensor.cpu()\n",
    "    correct = np.squeeze(correct_tensor.numpy())\n",
    "    num_correct += np.sum(correct)\n",
    "\n",
    "\n",
    "print(f\"Test loss: {np.mean(test_losses):.3f}\")\n",
    "print(f\"Test accuracy: {num_correct/len(test_loader.dataset):.3f}\")"
   ]
  },
  {
   "cell_type": "markdown",
   "metadata": {
    "colab_type": "text",
    "id": "7zULoelyLRCf"
   },
   "source": [
    "### on new data"
   ]
  },
  {
   "cell_type": "markdown",
   "metadata": {
    "colab_type": "text",
    "id": "QOcKnr3SLRCi"
   },
   "source": [
    "# IMDB sentiment w/ keras"
   ]
  },
  {
   "cell_type": "markdown",
   "metadata": {
    "colab_type": "text",
    "id": "yevQUOE1LRCi"
   },
   "source": [
    "https://www.tensorflow.org/alpha/tutorials/text/text_classification_rnn"
   ]
  },
  {
   "cell_type": "code",
   "execution_count": 4,
   "metadata": {
    "colab": {
     "base_uri": "https://localhost:8080/",
     "height": 86
    },
    "colab_type": "code",
    "id": "I99kcC4ZLRCj",
    "outputId": "1973615d-35fc-4b46-9101-f02a0197c6c4"
   },
   "outputs": [],
   "source": [
    "# !pip install -q tensorflow-gpu==2.0.0-alpha0\n",
    "import tensorflow_datasets as tfds\n",
    "import tensorflow as tf\n",
    "from tensorflow import keras"
   ]
  },
  {
   "cell_type": "markdown",
   "metadata": {
    "colab_type": "text",
    "id": "yG-8ipamLRCr"
   },
   "source": [
    "## Load Data"
   ]
  },
  {
   "cell_type": "markdown",
   "metadata": {},
   "source": [
    "### Tensorflow dataset"
   ]
  },
  {
   "cell_type": "code",
   "execution_count": 17,
   "metadata": {
    "colab": {},
    "colab_type": "code",
    "id": "4Frx1deGLRCs"
   },
   "outputs": [],
   "source": [
    "dataset, info = tfds.load('imdb_reviews/subwords8k',\n",
    "                          with_info=True, as_supervised=True)\n",
    "train_dataset, test_dataset = dataset['train'], dataset['test']"
   ]
  },
  {
   "cell_type": "code",
   "execution_count": 14,
   "metadata": {
    "colab": {
     "base_uri": "https://localhost:8080/",
     "height": 52
    },
    "colab_type": "code",
    "id": "phw-x7-TLRC1",
    "outputId": "959e4624-be10-4c32-d476-9ddbb94d2969",
    "scrolled": true
   },
   "outputs": [
    {
     "name": "stdout",
     "output_type": "stream",
     "text": [
      "[460, 4568, 49, 5875]\n",
      "sample string\n"
     ]
    }
   ],
   "source": [
    "tokenizer = info.features['text'].encoder\n",
    "print(tokenizer.encode('sample string'))\n",
    "print(tokenizer.decode(tokenizer.encode('sample string')))"
   ]
  },
  {
   "cell_type": "code",
   "execution_count": 15,
   "metadata": {
    "colab": {},
    "colab_type": "code",
    "id": "LJXcYcMILRDD"
   },
   "outputs": [],
   "source": [
    "BUFFER_SIZE = 10000\n",
    "BATCH_SIZE = 64\n",
    "\n",
    "train_dataset = train_dataset.shuffle(BUFFER_SIZE)\n",
    "train_dataset = train_dataset.padded_batch(BATCH_SIZE, train_dataset.output_shapes)  # if 2nd arg is None, dimensions are respectively padded to max dimension during each batch\n",
    "test_dataset = test_dataset.padded_batch(BATCH_SIZE, test_dataset.output_shapes)"
   ]
  },
  {
   "cell_type": "code",
   "execution_count": 38,
   "metadata": {},
   "outputs": [
    {
     "name": "stdout",
     "output_type": "stream",
     "text": [
      "(<tf.Tensor: id=2017269, shape=(392,), dtype=int64, numpy=\n",
      "array([4951, 7961, 7683,    2, 2481, 1535, 7248,  568, 8001, 5441,   49,\n",
      "          5,  916,  464, 8045,    2,   18,    4,  193,   27,  144,   12,\n",
      "       7896,    3,  147,  823,    2,   12,   18,   67, 4270,    5,   15,\n",
      "       3193, 1436,   45,    6,   82,  784,  323,   24,   10,   16,   10,\n",
      "         17,  713,   21,   11, 2115,  428,  913,    2,    1,   98, 2494,\n",
      "          4, 1038,    6, 4177,  317, 3310, 8044,    2, 1720,    2, 1720,\n",
      "       7968,    8, 1656, 2196, 8039, 3192,    2,    5,  789, 1639, 7961,\n",
      "         46, 4908, 7961,    5, 1486,    7,  115,    4, 7755,  269,    3,\n",
      "        866,   45,    6, 6444, 1425, 8044,    2, 1720, 7961, 3205,    8,\n",
      "       8001, 5441, 8030, 7968,    8, 6908, 7961, 5704, 2250,   34,   11,\n",
      "          1, 2365, 1085,    3, 6225, 7961,    1, 1925, 2084, 7961,    6,\n",
      "       1385, 6908, 7968,    8,  461, 2108,    9,  355, 8039,    2,  419,\n",
      "         84,   45,  632, 2251, 7961,  138, 1155,   24,   10,   16,   10,\n",
      "         17,   19,  101, 5481,    8,    5, 7061,  112,   13,    1, 2875,\n",
      "       1206,  375,    2, 7105, 7974, 7612, 7961, 6908, 7961,   57, 2592,\n",
      "         40, 1720,    2,    5,    1,  146,   31,    4,   41,  841, 1011,\n",
      "       5772,    3, 1720, 7961,    5, 6908, 7961,  144, 3205, 7961, 2977,\n",
      "       7961,   11,   41, 6361,  339, 3107, 3287,    2,    5,   53,  544,\n",
      "       5161, 1773,    3, 3266, 6908, 7961,    5, 8001, 5441,   49, 1256,\n",
      "         11,  174,   22, 2977, 7968,    8, 2182,    2, 8018, 8034, 7974,\n",
      "        805,   24,   10,   16,   10,   17, 3216, 7961, 4365,    8, 5082,\n",
      "        477,    5,  410,    4, 6415, 1720,    2,   14,  101,  874, 1700,\n",
      "          6, 6908,    3,   69,  114, 7836, 7961,   13, 1720, 7961,    5,\n",
      "       2977, 7961,   31,  544, 4786,  737,   24,   10,   16,   10,   17,\n",
      "       6225, 7961, 6962,  148, 6962,   14,   27, 4695,  112,   94,    1,\n",
      "       1649,    6,  219,    5,   51,   39, 7968,    8, 1682, 2183, 8044,\n",
      "          2, 3276,   34,   25, 3992, 7961,    5,  583,    3,   69,    9,\n",
      "          4,  485, 3686,   27,   13,    9, 1420,  419,  486,   44,    1,\n",
      "        226,  166,   24,   10,   16,   10,   17,  249,   23,    1,  443,\n",
      "          2,   12,  129,  916,  464,   21,  162,    4, 5095, 7961, 1457,\n",
      "          3, 8001, 5441,   49,  162,   41, 1006,  497,   23,    4,  118,\n",
      "        166, 8043,   24,   10,   16,   10,   17,   19, 1388,   85, 2055,\n",
      "          2,   26,    1,   27,  162,   31,   39, 7968,    8, 2904,    5,\n",
      "        631, 6978,   63, 5381,   24,   10,   16,   10,   17,  404,   11,\n",
      "        208,    2,   12,  279,  202,   14,   27,    9, 2266,    2, 6605,\n",
      "          2,    5,   12,  937,  505,   39, 7975])>, <tf.Tensor: id=2017270, shape=(), dtype=int64, numpy=1>)\n"
     ]
    }
   ],
   "source": [
    "for Xy in train_dataset.take(1): print(Xy)"
   ]
  },
  {
   "cell_type": "markdown",
   "metadata": {},
   "source": [
    "### keras"
   ]
  },
  {
   "cell_type": "code",
   "execution_count": 45,
   "metadata": {},
   "outputs": [],
   "source": [
    "#http://androidkt.com/text-classification-using-attention-mechanism-in-keras/\n",
    "from keras_preprocessing import sequence\n",
    "vocab_size = 8000\n",
    "\n",
    "pad_id = 0\n",
    "start_id = 1\n",
    "oov_id = 2\n",
    "index_offset = 2\n",
    "\n",
    "(X_train, y_train), (X_test, y_test) = tf.keras.datasets.imdb.load_data(num_words=vocab_size,\n",
    "                                                                        start_char=start_id,\n",
    "                                                                        oov_char=oov_id,\n",
    "                                                                        index_from=index_offset)\n",
    "word2idx = tf.keras.datasets.imdb.get_word_index()\n",
    "idx2word = {v + index_offset: k for k, v in word2idx.items()}\n",
    "idx2word[pad_id] = '<PAD>'\n",
    "idx2word[start_id] = '<START>'\n",
    "idx2word[oov_id] = '<OOV>'\n",
    "\n",
    "max_len = 200\n",
    "\n",
    "X_train = sequence.pad_sequences(X_train,\n",
    "                                 maxlen=max_len,\n",
    "                                 truncating='post',\n",
    "                                 padding='post',\n",
    "                                 value=pad_id)\n",
    "X_test = sequence.pad_sequences(X_test, maxlen=max_len,\n",
    "                                truncating='post',\n",
    "                                padding='post',\n",
    "                                value=pad_id)"
   ]
  },
  {
   "cell_type": "code",
   "execution_count": 39,
   "metadata": {},
   "outputs": [
    {
     "name": "stdout",
     "output_type": "stream",
     "text": [
      "[   1   13   21   15   42  529  972 1621 1384   64  457 4467   65 3940\n",
      "    3  172   35  255    4   24   99   42  837  111   49  669    2    8\n",
      "   34  479  283    4  149    3  171  111  166    2  335  384   38    3\n",
      "  171 4535 1110   16  545   37   12  446    3  191   49   15    5  146\n",
      " 2024   18   13   21    3 1919 4612  468    3   21   70   86   11   15\n",
      "   42  529   37   75   14   12 1246    3   21   16  514   16   11   15\n",
      "  625   17    2    4   61  385   11    7  315    7  105    4    3 2222\n",
      " 5243   15  479   65 3784   32    3  129   11   15   37  618    4   24\n",
      "  123   50   35  134   47   24 1414   32    5   21   11  214   27   76\n",
      "   51    4   13  406   15   81    2    7    3  106  116 5951   14  255\n",
      "    3    2    6 3765    4  722   35   70   42  529  475   25  399  316\n",
      "   45    6    3    2 1028   12  103   87    3  380   14  296   97   31\n",
      " 2070   55   25  140    5  193 7485   17    3  225   21   20  133  475\n",
      "   25  479    4  143   29 5534   17   50   35   27  223   91   24  103\n",
      "    3  225   64   15] 1\n"
     ]
    }
   ],
   "source": [
    "print(X_train[0],y_train[0])"
   ]
  },
  {
   "cell_type": "markdown",
   "metadata": {
    "colab_type": "text",
    "id": "1WL5FVPdLRDH"
   },
   "source": [
    "## Model w/o Attention"
   ]
  },
  {
   "cell_type": "code",
   "execution_count": 19,
   "metadata": {
    "colab": {},
    "colab_type": "code",
    "id": "uMTDtkGWLRDJ"
   },
   "outputs": [],
   "source": [
    "embed_dim=64\n",
    "model = keras.Sequential([\n",
    "    keras.layers.Embedding(tokenizer.vocab_size, embed_dim),\n",
    "    keras.layers.Bidirectional(tf.keras.layers.LSTM(embed_dim)),\n",
    "    keras.layers.Dense(64, activation='relu'),\n",
    "    keras.layers.Dense(1, activation='sigmoid')\n",
    "])\n",
    "model.compile(loss='binary_crossentropy',\n",
    "              optimizer='adam',\n",
    "              metrics=['accuracy'])"
   ]
  },
  {
   "cell_type": "code",
   "execution_count": 43,
   "metadata": {
    "colab": {},
    "colab_type": "code",
    "id": "vB3LFxgbTKlX"
   },
   "outputs": [],
   "source": [
    "# 2 layers\n",
    "embed_dim=64\n",
    "hiddenSize1=64\n",
    "hideenSize2=32\n",
    "hideenSize3=64\n",
    "model = tf.keras.Sequential([\n",
    "    tf.keras.layers.Embedding(tokenizer.vocab_size, embed_dim),\n",
    "    tf.keras.layers.Bidirectional(tf.keras.layers.LSTM(hiddenSize1, return_sequences=True)),\n",
    "    tf.keras.layers.Bidirectional(tf.keras.layers.LSTM(hideenSize2)),  #return only 1 time slice\n",
    "    tf.keras.layers.Dense(hideenSize3, activation='relu'),\n",
    "    tf.keras.layers.Dense(1, activation='sigmoid')\n",
    "])\n",
    "model.compile(loss='binary_crossentropy',\n",
    "              optimizer='adam',\n",
    "              metrics=['accuracy'])"
   ]
  },
  {
   "cell_type": "markdown",
   "metadata": {
    "colab_type": "text",
    "id": "OTSwHswOLRDO"
   },
   "source": [
    "### Train"
   ]
  },
  {
   "cell_type": "code",
   "execution_count": null,
   "metadata": {
    "colab": {},
    "colab_type": "code",
    "id": "CL7UyYuELRDP"
   },
   "outputs": [],
   "source": [
    "history = model.fit(train_dataset, epochs=10,\n",
    "                    validation_data=test_dataset)"
   ]
  },
  {
   "cell_type": "code",
   "execution_count": null,
   "metadata": {},
   "outputs": [],
   "source": [
    "history = model.fit(X_train,\n",
    "                    y_train,\n",
    "                    epochs=10,\n",
    "                    batch_size=200,\n",
    "                    validation_split=.3)"
   ]
  },
  {
   "cell_type": "markdown",
   "metadata": {
    "colab_type": "text",
    "id": "smheVKwLQ5w6"
   },
   "source": [
    "### Evaluate"
   ]
  },
  {
   "cell_type": "code",
   "execution_count": 48,
   "metadata": {
    "colab": {
     "base_uri": "https://localhost:8080/",
     "height": 52
    },
    "colab_type": "code",
    "id": "HtoY3WiCQ5K3",
    "outputId": "9b2dfbb3-f8e2-4d0c-cef4-79777c7b9b51"
   },
   "outputs": [
    {
     "name": "stdout",
     "output_type": "stream",
     "text": [
      "25000/25000 [==============================] - 26s 1ms/sample - loss: 0.4144 - accuracy: 0.8458\n",
      "Test Loss: 0.4144303987121582\n",
      "Test Accuracy: 0.84579998254776\n"
     ]
    }
   ],
   "source": [
    "test_loss, test_acc = model.evaluate(X_test,y_test) #model.evaluate(test_dataset)\n",
    "\n",
    "print(f'Test Loss: {test_loss}')\n",
    "print(f'Test Accuracy: {test_acc}')"
   ]
  },
  {
   "cell_type": "code",
   "execution_count": 0,
   "metadata": {
    "colab": {
     "base_uri": "https://localhost:8080/",
     "height": 34
    },
    "colab_type": "code",
    "id": "qS8mp5AASP0h",
    "outputId": "38a9d661-a6e4-4e09-c2f0-9c1396df834f"
   },
   "outputs": [
    {
     "data": {
      "text/plain": [
       "array([[0.3861948]], dtype=float32)"
      ]
     },
     "execution_count": 15,
     "metadata": {
      "tags": []
     },
     "output_type": "execute_result"
    }
   ],
   "source": [
    "# New data\n",
    "s = \"I used to hate his move. This is out of expectation\"\n",
    "tokenized = tokenizer.encode(s)\n",
    "model.predict(tf.expand_dims(tokenized,0))"
   ]
  },
  {
   "cell_type": "markdown",
   "metadata": {
    "colab_type": "text",
    "id": "JXcDBDlTTsrl"
   },
   "source": [
    "## Models w/ Attention"
   ]
  },
  {
   "cell_type": "markdown",
   "metadata": {},
   "source": [
    "* https://www.youtube.com/watch?v=oaV_Fv5DwUM , https://github.com/keras-team/keras/issues/4962\n",
    "* only 1 Bidirectional-LSTM layer; its output (activations $a_t$) are used to form attention $\\alpha_{t}$ to pay to time step $t$\n",
    "* hidden states are not involved in attention\n",
    "\n",
    "$$\\begin{aligned}\n",
    "{\\rm output} &= \\sigma\\left({\\rm Dense}(c)\\right) \\\\\n",
    "c &= \\sum_t\\alpha_t a_t \\\\\n",
    "\\alpha_t &= {\\rm softmax}\\left[{\\rm Dense}\\left(\\left\\{a_t\\right\\}\\right)\\right]\n",
    "\\end{aligned}$$\n",
    "<img src=\"data:image/png;base64,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\" width=\"150px\">"
   ]
  },
  {
   "cell_type": "code",
   "execution_count": 41,
   "metadata": {
    "colab": {
     "base_uri": "https://localhost:8080/",
     "height": 662
    },
    "colab_type": "code",
    "id": "0OQxhYhyTsrl",
    "outputId": "3ca80285-8092-4e0a-a51c-6d1df19a5894"
   },
   "outputs": [
    {
     "name": "stdout",
     "output_type": "stream",
     "text": [
      "Model: \"model_1\"\n",
      "__________________________________________________________________________________________________\n",
      "Layer (type)                    Output Shape         Param #     Connected to                     \n",
      "==================================================================================================\n",
      "input_2 (InputLayer)            [(None, None)]       0                                            \n",
      "__________________________________________________________________________________________________\n",
      "embedding_2 (Embedding)         (None, None, 64)     523840      input_2[0][0]                    \n",
      "__________________________________________________________________________________________________\n",
      "bidirectional_2 (Bidirectional) (None, None, 128)    66048       embedding_2[0][0]                \n",
      "__________________________________________________________________________________________________\n",
      "dense_4 (Dense)                 (None, None, 1)      129         bidirectional_2[0][0]            \n",
      "__________________________________________________________________________________________________\n",
      "flatten_1 (Flatten)             (None, None)         0           dense_4[0][0]                    \n",
      "__________________________________________________________________________________________________\n",
      "activation_1 (Activation)       (None, None)         0           flatten_1[0][0]                  \n",
      "__________________________________________________________________________________________________\n",
      "repeat_vector_1 (RepeatVector)  (None, 128, None)    0           activation_1[0][0]               \n",
      "__________________________________________________________________________________________________\n",
      "permute_1 (Permute)             (None, None, 128)    0           repeat_vector_1[0][0]            \n",
      "__________________________________________________________________________________________________\n",
      "multiply_1 (Multiply)           (None, None, 128)    0           bidirectional_2[0][0]            \n",
      "                                                                 permute_1[0][0]                  \n",
      "__________________________________________________________________________________________________\n",
      "lambda_1 (Lambda)               (None, 128)          0           multiply_1[0][0]                 \n",
      "__________________________________________________________________________________________________\n",
      "dense_5 (Dense)                 (None, 1)            129         lambda_1[0][0]                   \n",
      "==================================================================================================\n",
      "Total params: 590,146\n",
      "Trainable params: 590,146\n",
      "Non-trainable params: 0\n",
      "__________________________________________________________________________________________________\n"
     ]
    }
   ],
   "source": [
    "embed_dim=64\n",
    "units=64\n",
    "sequence_input = tf.keras.Input(shape=(None,), dtype='int32')\n",
    "embedded = tf.keras.layers.Embedding(tokenizer.vocab_size, embed_dim)(sequence_input)\n",
    "activations = tf.keras.layers.Bidirectional(tf.keras.layers.LSTM(units, return_sequences=True,\n",
    "                                                                 dropout=0.2, recurrent_dropout=0.2))(embedded)\n",
    "attention = tf.keras.layers.Dense(1, activation='tanh')(activations)\n",
    "attention = tf.keras.layers.Flatten()(attention)   # flatten over time-steps\n",
    "attention = tf.keras.layers.Activation('softmax')(attention)\n",
    "attention = tf.keras.layers.RepeatVector(units*2)(attention)\n",
    "attention = tf.keras.layers.Permute([2,1])(attention) # transpose time and RepeatVector's dimensions\n",
    "\n",
    "sent_representation = tf.keras.layers.Multiply()([activations, attention])\n",
    "sent_representation = tf.keras.layers.Lambda(lambda xin: tf.keras.backend.sum(xin, axis=-2), output_shape=(units*2,))(sent_representation)\n",
    "\n",
    "output = tf.keras.layers.Dense(1, activation='sigmoid')(sent_representation)\n",
    "\n",
    "model = keras.Model(inputs=sequence_input, outputs=output) \n",
    "model.compile(optimizer=tf.keras.optimizers.Adam(),\n",
    "              loss='binary_crossentropy',\n",
    "              metrics=['accuracy'])\n",
    "model.summary()"
   ]
  },
  {
   "cell_type": "markdown",
   "metadata": {
    "colab_type": "text",
    "id": "IGjUTu8zTsrl"
   },
   "source": [
    "* http://androidkt.com/text-classification-using-attention-mechanism-in-keras/\n",
    "* 2 Bidirectional-LSTM layers. 2nd layer's activations $a_t$ and hidden states $h_t$ are passed to a Dense layer to get attention $\\alpha_{tt'}$\n",
    "$$\\begin{aligned}\n",
    "{\\rm output} &= \\sigma\\left({\\rm Dense}(c)\\right) \\\\\n",
    "c &= \\sum_t \\alpha_t a_t \\\\\n",
    "\\alpha_t &= {\\rm softmax}\\left[{\\rm Dense}\\left(\\left\\{a_t,h_t\\right\\}\\right)\\right]\n",
    "\\end{aligned}$$\n",
    "<img src=\"data:image/png;base64,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\" width=\"500px\"/>"
   ]
  },
  {
   "cell_type": "code",
   "execution_count": 50,
   "metadata": {
    "colab": {
     "base_uri": "https://localhost:8080/",
     "height": 593
    },
    "colab_type": "code",
    "id": "4sZgyhwRTsrp",
    "outputId": "a2b9bbc2-3ba4-4bc6-ba99-9e6b144a8e4c",
    "scrolled": false
   },
   "outputs": [
    {
     "name": "stdout",
     "output_type": "stream",
     "text": [
      "Model: \"model_3\"\n",
      "__________________________________________________________________________________________________\n",
      "Layer (type)                    Output Shape         Param #     Connected to                     \n",
      "==================================================================================================\n",
      "input_4 (InputLayer)            [(None, None)]       0                                            \n",
      "__________________________________________________________________________________________________\n",
      "embedding_5 (Embedding)         (None, None, 64)     523840      input_4[0][0]                    \n",
      "__________________________________________________________________________________________________\n",
      "bi_lstm_0 (Bidirectional)       [(None, None, 128),  66048       embedding_5[0][0]                \n",
      "__________________________________________________________________________________________________\n",
      "bidirectional_6 (Bidirectional) [(None, None, 128),  98816       bi_lstm_0[0][0]                  \n",
      "                                                                 bi_lstm_0[0][1]                  \n",
      "                                                                 bi_lstm_0[0][2]                  \n",
      "                                                                 bi_lstm_0[0][3]                  \n",
      "                                                                 bi_lstm_0[0][4]                  \n",
      "__________________________________________________________________________________________________\n",
      "concatenate_2 (Concatenate)     (None, 128)          0           bidirectional_6[0][1]            \n",
      "                                                                 bidirectional_6[0][3]            \n",
      "__________________________________________________________________________________________________\n",
      "attention_1 (Attention)         (None, 128)          16577       bidirectional_6[0][0]            \n",
      "                                                                 concatenate_2[0][0]              \n",
      "__________________________________________________________________________________________________\n",
      "dense_15 (Dense)                (None, 1)            129         attention_1[0][0]                \n",
      "==================================================================================================\n",
      "Total params: 705,410\n",
      "Trainable params: 705,410\n",
      "Non-trainable params: 0\n",
      "__________________________________________________________________________________________________\n"
     ]
    }
   ],
   "source": [
    "# uses activation + hidden states to form attention\n",
    "embed_dim=64\n",
    "rnn_cell_size = 64\n",
    "units=64\n",
    "\n",
    "class Attention(tf.keras.Model):\n",
    "    def __init__(self, units):\n",
    "        super(Attention, self).__init__()\n",
    "        self.W1 = tf.keras.layers.Dense(units)\n",
    "        self.W2 = tf.keras.layers.Dense(units)\n",
    "        self.V = tf.keras.layers.Dense(1)\n",
    " \n",
    "    def call(self, features, hidden):\n",
    "        hidden_with_time_axis = tf.expand_dims(hidden, 1)\n",
    "        score = tf.tanh(self.W1(features) + self.W2(hidden_with_time_axis))\n",
    "        attention_weights = tf.nn.softmax(self.V(score), axis=1)\n",
    "        context_vector = attention_weights * features\n",
    "        context_vector = tf.reduce_sum(context_vector, axis=1) \n",
    "        return context_vector\n",
    "    \n",
    "attention = Attention(units)\n",
    "\n",
    "sequence_input = tf.keras.Input(shape=(None,), dtype='int32')\n",
    "embedded = tf.keras.layers.Embedding(tokenizer.vocab_size, embed_dim)(sequence_input)\n",
    "lstm = tf.keras.layers.Bidirectional(tf.keras.layers.LSTM(rnn_cell_size,\n",
    "                                                          dropout=0.3,\n",
    "                                                          return_sequences=True,\n",
    "                                                          return_state=True,\n",
    "                                                          recurrent_activation='relu',\n",
    "                                                          recurrent_initializer='glorot_uniform'),\n",
    "                                     name=\"bi_lstm_0\")(embedded)\n",
    " \n",
    "lstm, forward_h, forward_c, backward_h, backward_c = tf.keras.layers.Bidirectional \\\n",
    "    (tf.keras.layers.LSTM(rnn_cell_size,\n",
    "                          dropout=0.2,\n",
    "                          return_sequences=True,\n",
    "                          return_state=True,    # => returns 5 objects\n",
    "                          recurrent_activation='relu',\n",
    "                          recurrent_initializer='glorot_uniform'))(lstm)\n",
    "state_h = tf.keras.layers.Concatenate()([forward_h, backward_h])\n",
    "state_c = tf.keras.layers.Concatenate()([forward_c, backward_c])\n",
    " \n",
    "context_vector = attention(lstm, state_h) \n",
    "output = keras.layers.Dense(1, activation='sigmoid')(context_vector) \n",
    "model = keras.Model(inputs=sequence_input, outputs=output) \n",
    "\n",
    "model.compile(optimizer=tf.keras.optimizers.Adam(),\n",
    "              loss='binary_crossentropy',\n",
    "              metrics=['accuracy'])\n",
    "model.summary()"
   ]
  },
  {
   "cell_type": "markdown",
   "metadata": {
    "colab_type": "text",
    "id": "7fmS-jGpTsrq"
   },
   "source": [
    "### Train"
   ]
  },
  {
   "cell_type": "code",
   "execution_count": 0,
   "metadata": {
    "colab": {
     "base_uri": "https://localhost:8080/",
     "height": 34
    },
    "colab_type": "code",
    "id": "ngSAJmAaTsrr",
    "outputId": "c490829f-b1a6-4c99-e9d8-19bb333f873e"
   },
   "outputs": [
    {
     "name": "stdout",
     "output_type": "stream",
     "text": [
      "Epoch 1/10\n"
     ]
    }
   ],
   "source": [
    "history = model.fit(train_dataset, epochs=10,\n",
    "                    validation_data=test_dataset)"
   ]
  },
  {
   "cell_type": "code",
   "execution_count": null,
   "metadata": {},
   "outputs": [
    {
     "name": "stdout",
     "output_type": "stream",
     "text": [
      "Train on 17500 samples, validate on 7500 samples\n",
      "Epoch 1/10\n",
      " 5600/17500 [========>.....................] - ETA: 1:25 - loss: 0.6928 - accuracy: 0.5054"
     ]
    }
   ],
   "source": [
    "history = model.fit(X_train,\n",
    "                    y_train,\n",
    "                    epochs=10,\n",
    "                    batch_size=200,\n",
    "                    validation_split=.3)"
   ]
  },
  {
   "cell_type": "markdown",
   "metadata": {
    "colab_type": "text",
    "id": "smheVKwLQ5w6"
   },
   "source": [
    "### Evaluate"
   ]
  },
  {
   "cell_type": "code",
   "execution_count": 0,
   "metadata": {
    "colab": {
     "base_uri": "https://localhost:8080/",
     "height": 52
    },
    "colab_type": "code",
    "id": "HtoY3WiCQ5K3",
    "outputId": "9b2dfbb3-f8e2-4d0c-cef4-79777c7b9b51"
   },
   "outputs": [
    {
     "name": "stdout",
     "output_type": "stream",
     "text": [
      "    391/Unknown - 23s 58ms/step - loss: 0.5491 - accuracy: 0.8158Test Loss: 0.5490736904199166\n",
      "Test Accuracy: 0.8158000111579895\n"
     ]
    }
   ],
   "source": [
    "test_loss, test_acc = model.evaluate(X_test,y_test) #model.evaluate(test_dataset)\n",
    "\n",
    "print(f'Test Loss: {test_loss}')\n",
    "print(f'Test Accuracy: {test_acc}')"
   ]
  },
  {
   "cell_type": "code",
   "execution_count": 0,
   "metadata": {
    "colab": {
     "base_uri": "https://localhost:8080/",
     "height": 34
    },
    "colab_type": "code",
    "id": "qS8mp5AASP0h",
    "outputId": "38a9d661-a6e4-4e09-c2f0-9c1396df834f"
   },
   "outputs": [
    {
     "data": {
      "text/plain": [
       "array([[0.3861948]], dtype=float32)"
      ]
     },
     "execution_count": 15,
     "metadata": {
      "tags": []
     },
     "output_type": "execute_result"
    }
   ],
   "source": [
    "# New data\n",
    "s = \"I used to hate his move. This is out of expectation\"\n",
    "tokenized = tokenizer.encode(s)\n",
    "model.predict(tf.expand_dims(tokenized,0))"
   ]
  },
  {
   "cell_type": "markdown",
   "metadata": {
    "colab_type": "text",
    "collapsed": true,
    "id": "CutEUFmoNDzx"
   },
   "source": [
    "# [HRNN](https://github.com/fchollet/keras/blob/master/examples/mnist_hierarchical_rnn.py)"
   ]
  },
  {
   "cell_type": "code",
   "execution_count": 0,
   "metadata": {
    "colab": {},
    "colab_type": "code",
    "id": "HHoSJsT7NDzy"
   },
   "outputs": [],
   "source": [
    "from keras.models import Sequential, Model\n",
    "from keras.layers import Input, Dense, TimeDistributed\n",
    "from keras.layers import LSTM\n",
    "batch_size = 32\n",
    "nb_epochs = 5\n",
    "row_hidden = 128\n",
    "col_hidden = 128"
   ]
  },
  {
   "cell_type": "markdown",
   "metadata": {
    "colab_type": "text",
    "id": "BKSs95M1NDz1"
   },
   "source": [
    "## Data"
   ]
  },
  {
   "cell_type": "code",
   "execution_count": 0,
   "metadata": {
    "colab": {},
    "colab_type": "code",
    "id": "cXODV9YjNDz2"
   },
   "outputs": [],
   "source": [
    "X_train_ = X_train.reshape(X_train.shape[0], img_rows, img_cols, 1)\n",
    "X_test_ = X_test.reshape(X_test.shape[0], img_rows, img_cols, 1)\n",
    "row, col, pixel = X_train_.shape[1:]"
   ]
  },
  {
   "cell_type": "markdown",
   "metadata": {
    "colab_type": "text",
    "id": "Z0TObzULNDz6"
   },
   "source": [
    "## Model"
   ]
  },
  {
   "cell_type": "code",
   "execution_count": 0,
   "metadata": {
    "colab": {},
    "colab_type": "code",
    "id": "cztvwuvzNDz7"
   },
   "outputs": [],
   "source": [
    "x = Input(shape=(row, col, pixel))\n",
    "encoded_rows = TimeDistributed(LSTM(output_dim=row_hidden))(x)\n",
    "encoded_columns = LSTM(col_hidden)(encoded_rows)\n",
    "prediction = Dense(10, activation='softmax')(encoded_columns)\n",
    "model = Model(input=x, output=prediction)\n",
    "model.compile(loss='categorical_crossentropy',\n",
    "              optimizer='rmsprop',\n",
    "              metrics=['accuracy'])\n",
    "model.summary()"
   ]
  },
  {
   "cell_type": "code",
   "execution_count": 0,
   "metadata": {
    "colab": {},
    "colab_type": "code",
    "id": "AyBjnd2GND0E"
   },
   "outputs": [],
   "source": [
    "model.fit(X_train_, Y_train, batch_size=batch_size, nb_epoch=nb_epochs,verbose=1,validation_data=(X_test_, Y_test))\n",
    "\n",
    "scores = model.evaluate(X_test_, Y_test, verbose=0)\n",
    "print('Test loss:', scores[0])\n",
    "print('Test accuracy:', scores[1])"
   ]
  },
  {
   "cell_type": "code",
   "execution_count": 0,
   "metadata": {
    "colab": {},
    "colab_type": "code",
    "id": "JkmggX_SLRD-"
   },
   "outputs": [],
   "source": []
  }
 ],
 "metadata": {
  "accelerator": "GPU",
  "colab": {
   "name": "RNN.ipynb",
   "provenance": [],
   "toc_visible": true,
   "version": "0.3.2"
  },
  "kernelspec": {
   "display_name": "Python 3",
   "language": "python",
   "name": "python3"
  },
  "language_info": {
   "codemirror_mode": {
    "name": "ipython",
    "version": 3
   },
   "file_extension": ".py",
   "mimetype": "text/x-python",
   "name": "python",
   "nbconvert_exporter": "python",
   "pygments_lexer": "ipython3",
   "version": "3.6.5"
  },
  "toc": {
   "base_numbering": 1,
   "nav_menu": {},
   "number_sections": true,
   "sideBar": true,
   "skip_h1_title": false,
   "title_cell": "Table of Contents",
   "title_sidebar": "Contents",
   "toc_cell": false,
   "toc_position": {
    "height": "calc(100% - 180px)",
    "left": "10px",
    "top": "150px",
    "width": "231.8px"
   },
   "toc_section_display": true,
   "toc_window_display": true
  }
 },
 "nbformat": 4,
 "nbformat_minor": 1
}
