{
  "nbformat": 4,
  "nbformat_minor": 0,
  "metadata": {
    "colab": {
      "name": "RNN.ipynb",
      "version": "0.3.2",
      "provenance": [],
      "toc_visible": true
    },
    "language_info": {
      "codemirror_mode": {
        "name": "ipython",
        "version": 3
      },
      "file_extension": ".py",
      "mimetype": "text/x-python",
      "name": "python",
      "nbconvert_exporter": "python",
      "pygments_lexer": "ipython3",
      "version": "3.6.8"
    },
    "kernelspec": {
      "display_name": "Python 3",
      "language": "python",
      "name": "python3"
    },
    "accelerator": "GPU"
  },
  "cells": [
    {
      "cell_type": "markdown",
      "metadata": {
        "colab_type": "text",
        "id": "R1g44JvFNDv6"
      },
      "source": [
        "<a href=\"https://colab.research.google.com/github/hoihui/pkgs/blob/master/RNN.ipynb\" target=\"_parent\"><img src=\"https://colab.research.google.com/assets/colab-badge.svg\" alt=\"Open In Colab\"/></a>"
      ]
    },
    {
      "cell_type": "code",
      "metadata": {
        "colab_type": "code",
        "id": "9Lv9DZt6NDwA",
        "colab": {}
      },
      "source": [
        "# !pip3 install -U torch torchvision\n",
        "import numpy as np\n",
        "import matplotlib.pyplot as plt\n",
        "%matplotlib inline"
      ],
      "execution_count": 0,
      "outputs": []
    },
    {
      "cell_type": "markdown",
      "metadata": {
        "colab_type": "text",
        "id": "hHIsOZBjNDwL"
      },
      "source": [
        "# Sine Curve"
      ]
    },
    {
      "cell_type": "markdown",
      "metadata": {
        "colab_type": "text",
        "id": "2y5M5iiDNDwM"
      },
      "source": [
        "## Torch"
      ]
    },
    {
      "cell_type": "code",
      "metadata": {
        "colab_type": "code",
        "id": "D14tST-eNDwR",
        "outputId": "c2c6dd45-3698-4cc6-98bd-ae24792faf0f",
        "colab": {
          "base_uri": "https://localhost:8080/",
          "height": 34
        }
      },
      "source": [
        "import torch\n",
        "cuda=torch.cuda.is_available()\n",
        "torch.__version__, cuda"
      ],
      "execution_count": 0,
      "outputs": [
        {
          "output_type": "execute_result",
          "data": {
            "text/plain": [
              "('1.1.0', True)"
            ]
          },
          "metadata": {
            "tags": []
          },
          "execution_count": 1
        }
      ]
    },
    {
      "cell_type": "markdown",
      "metadata": {
        "colab_type": "text",
        "id": "JGTqcfbvNDwd"
      },
      "source": [
        "https://github.com/udacity/deep-learning-v2-pytorch/blob/master/recurrent-neural-networks/time-series/Simple_RNN.ipynb"
      ]
    },
    {
      "cell_type": "markdown",
      "metadata": {
        "colab_type": "text",
        "id": "80PpOnlcNDwg"
      },
      "source": [
        "### Generate Data"
      ]
    },
    {
      "cell_type": "code",
      "metadata": {
        "colab_type": "code",
        "id": "5_FpO7kxNDwh",
        "colab": {}
      },
      "source": [
        "time_steps = np.linspace(0, np.pi, 21)\n",
        "data = np.sin(time_steps).reshape((21,1))  #last dim of 1 is the number of features at each time instance (just a number here)\n",
        "inp, tar = data[:-1], data[1:]\n",
        "\n",
        "# illustration\n",
        "plt.plot(time_steps[1:], inp, 'r.', label='input, x')\n",
        "plt.plot(time_steps[1:], tar, 'b.', label='target, y')"
      ],
      "execution_count": 0,
      "outputs": []
    },
    {
      "cell_type": "markdown",
      "metadata": {
        "colab_type": "text",
        "id": "XSJRScA9NDwo"
      },
      "source": [
        "### Constructing 1-layer Model"
      ]
    },
    {
      "cell_type": "markdown",
      "metadata": {
        "colab_type": "text",
        "id": "lfyY_fiONDwq"
      },
      "source": [
        "Recall: RNN unit:\n",
        "* input: previous hidden state (could have layers) and current input\n",
        "* output: next hidden state (could have layers) and current output features (to be fed to a dense layer to generate final output)\n",
        "\n",
        "https://pytorch.org/docs/stable/nn.html#rnn\n",
        "* **input_size** - # features at each time instance (=1, a number)\n",
        "* **output_size** - # output dim at each time instance (=1, a number)\n",
        "* **hidden_dim** - # dimension in the hidden state\n",
        "* **n_layers** - # layers making up the RNN, typically 1-3; > 1 means stacked RNN\n",
        "* **batch_first** - whether batch_size as the first dimension `(batch_size, seq_length, hidden_dim)`\n",
        "\n",
        "**nn.RNN is not a single-time instance**.  Fed in full sequence `(batch_size, seq_length, input_size)` with hidden states `(n_layers,batch_size,hidden_dim)`, outputs `(batch_size, seq_length, hidden_dim)` and next hidden state `(n_layers,batch_size,hidden_dim)`"
      ]
    },
    {
      "cell_type": "code",
      "metadata": {
        "colab_type": "code",
        "id": "oq8q86gqNDwr",
        "colab": {}
      },
      "source": [
        "from torch import nn\n",
        "class RNN(nn.Module):\n",
        "    def __init__(self, input_size, output_size, hidden_dim, n_layers):\n",
        "        super(RNN, self).__init__()\n",
        "        \n",
        "        self.hidden_dim=hidden_dim\n",
        "        self.rnn = nn.RNN(input_size, hidden_dim, n_layers, batch_first=True)\n",
        "        # in.shape =(batch_size, seq_length, input_size),(n_layers,batch_size,hidden_dim)\n",
        "        # out.shape=(batch_size, seq_length, hidden_dim),(n_layers,batch_size,hidden_dim)\n",
        "        self.fc = nn.Linear(hidden_dim, output_size)  # in (batch_size*seq_length, hidden_dim), out (batch_size*seq_length, 1)\n",
        "\n",
        "    def forward(self, x, hidden):   # x.shape = (batch_size, seq_length, input_size)\n",
        "                                    # hidden.shape = (n_layers, batch_size, hidden_dim)\n",
        "                                    # r_out.shape = (batch_size, time_step, hidden_size)\n",
        "        batch_size = x.size(0)\n",
        "        \n",
        "        r_out, hidden = self.rnn(x, hidden)\n",
        "        r_out = r_out.view(-1, self.hidden_dim)   # reshape to pass to fc layer\n",
        "        \n",
        "        output = self.fc(r_out)     # out (batch_size*seq_length, 1)\n",
        "        \n",
        "        return output, hidden"
      ],
      "execution_count": 0,
      "outputs": []
    },
    {
      "cell_type": "code",
      "metadata": {
        "colab_type": "code",
        "id": "jnjnDrBFNDwy",
        "outputId": "0f8587cf-2e8a-42a2-a272-47728b216dfd",
        "colab": {}
      },
      "source": [
        "# dimensions test\n",
        "rnn = RNN(input_size=1, output_size=1, hidden_dim=12, n_layers=2)\n",
        "\n",
        "test_input = torch.rand((1,22,1)) # batch_size of 1 as first dimension, feature dim of 1 as last dimension\n",
        "print('Input size: ', test_input.shape)\n",
        "\n",
        "pred, hidden = rnn(x=test_input, hidden=torch.rand((2,1,12)))\n",
        "print('Output size: ', pred.shape)\n",
        "print('Hidden state size: ', hidden.shape)"
      ],
      "execution_count": 0,
      "outputs": [
        {
          "output_type": "stream",
          "text": [
            "Input size:  torch.Size([1, 22, 1])\n",
            "Output size:  torch.Size([22, 1])\n",
            "Hidden state size:  torch.Size([2, 1, 12])\n"
          ],
          "name": "stdout"
        }
      ]
    },
    {
      "cell_type": "markdown",
      "metadata": {
        "colab_type": "text",
        "id": "BlcflwmCNDw8"
      },
      "source": [
        "### Train"
      ]
    },
    {
      "cell_type": "code",
      "metadata": {
        "colab_type": "code",
        "id": "b7zXkTtKNDw9",
        "outputId": "0fcb283b-0b5c-43eb-d75b-364e3927421e",
        "colab": {}
      },
      "source": [
        "seq_length=20\n",
        "input_size=1 \n",
        "output_size=1\n",
        "hidden_dim=32\n",
        "n_layers=1\n",
        "n_steps = 90\n",
        "print_every = 30\n",
        "\n",
        "rnn = RNN(input_size, output_size, hidden_dim, n_layers)\n",
        "print(rnn)\n",
        "criterion = nn.MSELoss()\n",
        "optimizer = torch.optim.Adam(rnn.parameters(), lr=0.01)"
      ],
      "execution_count": 0,
      "outputs": [
        {
          "output_type": "stream",
          "text": [
            "RNN(\n",
            "  (rnn): RNN(1, 32, batch_first=True)\n",
            "  (fc): Linear(in_features=32, out_features=1, bias=True)\n",
            ")\n"
          ],
          "name": "stdout"
        }
      ]
    },
    {
      "cell_type": "code",
      "metadata": {
        "colab_type": "code",
        "id": "74fWCfqJNDxK",
        "outputId": "899983d8-e5c9-4c34-8399-0acaa1c0582f",
        "scrolled": false,
        "colab": {}
      },
      "source": [
        "hidden = None\n",
        "for step in range(n_steps):\n",
        "    # training data = sine curve (continues from previous)\n",
        "    time_steps = np.linspace(step*np.pi, (step+1)*np.pi, seq_length + 1)\n",
        "    data = np.sin(time_steps)\n",
        "    X = torch.Tensor(data[:-1]).view(1,seq_length,1) # gives batch_size dim of 1\n",
        "    y = torch.Tensor(data[1:]).view(seq_length,1)\n",
        "    \n",
        "    prediction, hidden = rnn(X, hidden) # forward\n",
        "    hidden = hidden.detach()            # don't backpropagate through the entire history\n",
        "\n",
        "    loss = criterion(prediction, y)\n",
        "    optimizer.zero_grad()\n",
        "    loss.backward()\n",
        "    optimizer.step()\n",
        "\n",
        "    if step%print_every == 0:        \n",
        "        print('Loss: ', loss.item())\n",
        "        plt.plot(time_steps[1:], X.numpy().flatten(), 'r.') # input\n",
        "        plt.plot(time_steps[1:], prediction.detach().numpy().flatten(), 'b.') # predictions\n",
        "        plt.show()"
      ],
      "execution_count": 0,
      "outputs": [
        {
          "output_type": "stream",
          "text": [
            "Loss:  0.0034269089810550213\n"
          ],
          "name": "stdout"
        },
        {
          "output_type": "display_data",
          "data": {
            "image/png": "[encoded data removed]",
            "text/plain": [
              "<Figure size 432x288 with 1 Axes>"
            ]
          },
          "metadata": {
            "tags": [],
            "needs_background": "light"
          }
        },
        {
          "output_type": "stream",
          "text": [
            "Loss:  4.2462361307116225e-05\n"
          ],
          "name": "stdout"
        },
        {
          "output_type": "display_data",
          "data": {
            "image/png": "[encoded data removed]",
            "text/plain": [
              "<Figure size 432x288 with 1 Axes>"
            ]
          },
          "metadata": {
            "tags": [],
            "needs_background": "light"
          }
        },
        {
          "output_type": "stream",
          "text": [
            "Loss:  3.917669459951867e-07\n"
          ],
          "name": "stdout"
        },
        {
          "output_type": "display_data",
          "data": {
            "image/png": "[encoded data removed]",
            "text/plain": [
              "<Figure size 432x288 with 1 Axes>"
            ]
          },
          "metadata": {
            "tags": [],
            "needs_background": "light"
          }
        }
      ]
    },
    {
      "cell_type": "markdown",
      "metadata": {
        "colab_type": "text",
        "id": "pzIJfJZ7NDxX"
      },
      "source": [
        "### Generate"
      ]
    },
    {
      "cell_type": "code",
      "metadata": {
        "colab_type": "code",
        "id": "dTVVPTA0NDxY",
        "outputId": "bccf0ef2-c628-4ca1-e4d8-d50a4cd8a2cc",
        "colab": {}
      },
      "source": [
        "y=[]\n",
        "for _ in range(100):\n",
        "    with torch.no_grad():\n",
        "        y+=X.numpy().flatten()[-1],\n",
        "        X=torch.Tensor([y[-1]]).view(1,1,1)  # batchsize, seqlen, feature dim\n",
        "        X, hidden = rnn(X, hidden)\n",
        "plt.plot(range(len(y)),y,'.')"
      ],
      "execution_count": 0,
      "outputs": [
        {
          "output_type": "execute_result",
          "data": {
            "text/plain": [
              "[<matplotlib.lines.Line2D at 0x12d8ea828>]"
            ]
          },
          "metadata": {
            "tags": []
          },
          "execution_count": 97
        },
        {
          "output_type": "display_data",
          "data": {
            "image/png": "[encoded data removed]",
            "text/plain": [
              "<Figure size 432x288 with 1 Axes>"
            ]
          },
          "metadata": {
            "tags": [],
            "needs_background": "light"
          }
        }
      ]
    },
    {
      "cell_type": "markdown",
      "metadata": {
        "colab_type": "text",
        "id": "hqKxv0cnNDxf"
      },
      "source": [
        "# char-rnn"
      ]
    },
    {
      "cell_type": "markdown",
      "metadata": {
        "colab_type": "text",
        "id": "Sr4bTm67NDxh"
      },
      "source": [
        "## Torch"
      ]
    },
    {
      "cell_type": "markdown",
      "metadata": {
        "colab_type": "text",
        "id": "z2Zw495VNDxj"
      },
      "source": [
        "https://github.com/udacity/deep-learning-v2-pytorch/blob/master/recurrent-neural-networks/char-rnn/Character_Level_RNN_Solution.ipynb\n",
        "\n",
        "https://classroom.udacity.com/courses/ud188/lessons/a8fc0724-37ed-40d9-a226-57175b8bb8cc/concepts/6538eb14-1ec2-4a25-bc73-5942a48b1141"
      ]
    },
    {
      "cell_type": "code",
      "metadata": {
        "colab_type": "code",
        "id": "H-2yJ3HINDxl",
        "colab": {}
      },
      "source": [
        "import torch\n",
        "cuda=torch.cuda.is_available()\n",
        "torch.__version__, cuda\n",
        "device = torch.device(\"cuda:0\" if torch.cuda.is_available() else \"cpu\")\n",
        "seqlen = 20"
      ],
      "execution_count": 0,
      "outputs": []
    },
    {
      "cell_type": "markdown",
      "metadata": {
        "colab_type": "text",
        "id": "2l0WEEWTNDxs"
      },
      "source": [
        "### Data"
      ]
    },
    {
      "cell_type": "code",
      "metadata": {
        "colab_type": "code",
        "id": "pS4CcFlLNDxt",
        "outputId": "e55f423e-ac79-47d1-f79c-1fbd4ce558aa",
        "colab": {
          "base_uri": "https://localhost:8080/",
          "height": 34
        }
      },
      "source": [
        "import os,urllib,tempfile\n",
        "os.chdir(tempfile.gettempdir())\n",
        "url='https://github.com/udacity/deep-learning-v2-pytorch/raw/master/recurrent-neural-networks/char-rnn/data/anna.txt'\n",
        "urllib.request.urlretrieve(url,'anna.txt')\n",
        "with open('anna.txt', 'r') as f:\n",
        "    text = f.read()\n",
        "text[:15]"
      ],
      "execution_count": 0,
      "outputs": [
        {
          "output_type": "execute_result",
          "data": {
            "text/plain": [
              "'Chapter 1\\n\\n\\nHap'"
            ]
          },
          "metadata": {
            "tags": []
          },
          "execution_count": 4
        }
      ]
    },
    {
      "cell_type": "markdown",
      "metadata": {
        "colab_type": "text",
        "id": "Gcux4g5-NDx0"
      },
      "source": [
        "#### Preprocess"
      ]
    },
    {
      "cell_type": "code",
      "metadata": {
        "colab_type": "code",
        "id": "vsFh5tEcNDx1",
        "outputId": "11360506-6bd9-4c95-a75c-3c2855921b3c",
        "scrolled": true,
        "colab": {
          "base_uri": "https://localhost:8080/",
          "height": 34
        }
      },
      "source": [
        "# Construct int mapping; will be built into Network Module\n",
        "chars=set(text)\n",
        "int2char = dict(enumerate(chars))\n",
        "char2int = {v: k for k,v in int2char.items()}\n",
        "encoded = np.array([char2int[ch] for ch in text])\n",
        "nchars = len(set(int2char))\n",
        "encoded[:15]"
      ],
      "execution_count": 0,
      "outputs": [
        {
          "output_type": "execute_result",
          "data": {
            "text/plain": [
              "array([81, 66, 17,  1, 64, 33, 13, 25, 48, 73, 73, 73,  9, 17,  1])"
            ]
          },
          "metadata": {
            "tags": []
          },
          "execution_count": 5
        }
      ]
    },
    {
      "cell_type": "markdown",
      "metadata": {
        "id": "xQL8stikLQ-3",
        "colab_type": "text"
      },
      "source": [
        "<img src=\"https://raw.githubusercontent.com/udacity/deep-learning-v2-pytorch/master/recurrent-neural-networks/char-rnn/assets/sequence_batching.png\">"
      ]
    },
    {
      "cell_type": "code",
      "metadata": {
        "colab_type": "code",
        "id": "YXUOM5HZNDx-",
        "outputId": "2c98194d-21cf-411d-f778-4aacdad1ba44",
        "colab": {
          "base_uri": "https://localhost:8080/",
          "height": 225
        }
      },
      "source": [
        "# batch loader: in (N,); out generates (batch_size, seqlen)x2   ##NON-OVERLAPPING\n",
        "def Batch_Loader(arr, batch_size, seqlen):    \n",
        "    batch_size_total = batch_size * seqlen\n",
        "    n_batches = len(arr)//batch_size_total     # number of batches\n",
        "    X_size_total = n_batches * batch_size_total\n",
        "    \n",
        "    if len(arr) > X_size_total:                # special treatment for the last batch's target so it doesn't wrap around; not important\n",
        "        arr_ = arr[:X_size_total].reshape((batch_size, -1))\n",
        "        arr  = np.hstack((arr_,np.vstack((arr_[1:,:1],[arr[X_size_total]]))))\n",
        "    else:\n",
        "        arr = arr[:X_size_total].reshape((batch_size, -1))\n",
        "    \n",
        "    for n in range(0, arr.shape[1], seqlen):\n",
        "        x = arr[:, n:n+seqlen]\n",
        "        y = np.zeros_like(x)\n",
        "        try:\n",
        "            y[:, :-1], y[:, -1] = x[:, 1:], arr[:, n+seqlen]\n",
        "        except IndexError:\n",
        "            break\n",
        "#             y[:, :-1], y[:, -1] = x[:, 1:], arr[:, 0]\n",
        "        yield x, y\n",
        "for x,y in Batch_Loader(np.array(range(31)),3,5):\n",
        "    print('x:',x)\n",
        "    print('y:',y)"
      ],
      "execution_count": 0,
      "outputs": [
        {
          "output_type": "stream",
          "text": [
            "x: [[ 0  1  2  3  4]\n",
            " [10 11 12 13 14]\n",
            " [20 21 22 23 24]]\n",
            "y: [[ 1  2  3  4  5]\n",
            " [11 12 13 14 15]\n",
            " [21 22 23 24 25]]\n",
            "x: [[ 5  6  7  8  9]\n",
            " [15 16 17 18 19]\n",
            " [25 26 27 28 29]]\n",
            "y: [[ 6  7  8  9 10]\n",
            " [16 17 18 19 20]\n",
            " [26 27 28 29 30]]\n"
          ],
          "name": "stdout"
        }
      ]
    },
    {
      "cell_type": "code",
      "metadata": {
        "colab_type": "code",
        "id": "oIJuq30pNDyJ",
        "outputId": "c9aef7d4-4c8b-4747-8ade-4b7813536bda",
        "colab": {
          "base_uri": "https://localhost:8080/",
          "height": 139
        }
      },
      "source": [
        "# One-Hot Encoding: in (batch_size, seqlen); out (batch_size, seqlen, nchars)\n",
        "def One_Hot_Encode(arr, nchars=nchars):\n",
        "    one_hot = np.zeros((arr.size, nchars), dtype=np.float32)\n",
        "    one_hot[np.arange(one_hot.shape[0]), arr.flatten()] = 1.\n",
        "    one_hot = one_hot.reshape((*arr.shape, nchars))\n",
        "    return one_hot\n",
        "One_Hot_Encode(np.array([[3,5,1],[4,2,7]]), 8)"
      ],
      "execution_count": 0,
      "outputs": [
        {
          "output_type": "execute_result",
          "data": {
            "text/plain": [
              "array([[[0., 0., 0., 1., 0., 0., 0., 0.],\n",
              "        [0., 0., 0., 0., 0., 1., 0., 0.],\n",
              "        [0., 1., 0., 0., 0., 0., 0., 0.]],\n",
              "\n",
              "       [[0., 0., 0., 0., 1., 0., 0., 0.],\n",
              "        [0., 0., 1., 0., 0., 0., 0., 0.],\n",
              "        [0., 0., 0., 0., 0., 0., 0., 1.]]], dtype=float32)"
            ]
          },
          "metadata": {
            "tags": []
          },
          "execution_count": 7
        }
      ]
    },
    {
      "cell_type": "markdown",
      "metadata": {
        "colab_type": "text",
        "id": "hCxIp_anNDyS"
      },
      "source": [
        "### Model"
      ]
    },
    {
      "cell_type": "markdown",
      "metadata": {
        "id": "m3DhWh9VLQ_h",
        "colab_type": "text"
      },
      "source": [
        "<img src=\"https://raw.githubusercontent.com/udacity/deep-learning-v2-pytorch/master/recurrent-neural-networks/char-rnn/assets/charRNN%400.5x.png\">"
      ]
    },
    {
      "cell_type": "markdown",
      "metadata": {
        "colab_type": "text",
        "id": "Uh6M1zECNDyX"
      },
      "source": [
        "`nn.LSTM(input_size, n_hidden, n_layers, dropout=drop_prob, batch_first=True)`:\n",
        "* input_size: number of characters as sequential input,\n",
        "* n_hidden: number of units in the hidden layers\n",
        "* n_layers: Number of LSTM units in each time instance\n",
        "* dropout: dropout to the inputs or outputs and in-between the layers"
      ]
    },
    {
      "cell_type": "code",
      "metadata": {
        "colab_type": "code",
        "id": "wCSMfzLQNDyY",
        "colab": {}
      },
      "source": [
        "from torch import nn\n",
        "class CharRNN(nn.Module):    \n",
        "    def __init__(self, tokens, n_hidden=512, n_layers=2, drop_prob=0.5):\n",
        "        super().__init__()\n",
        "        self.drop_prob = drop_prob\n",
        "        self.n_layers = n_layers\n",
        "        self.n_hidden = n_hidden\n",
        "        \n",
        "        # int mappings\n",
        "        self.chars = tokens\n",
        "        self.int2char = dict(enumerate(self.chars))\n",
        "        self.char2int = {ch: ii for ii, ch in self.int2char.items()}\n",
        "        \n",
        "        # net structure\n",
        "        self.lstm = nn.LSTM(len(self.chars), n_hidden, n_layers,    \n",
        "                            dropout=drop_prob, batch_first=True)   # in: (batch_size, seqlen, nchars), out: (batch_size,seqlen,n_hidden), hidden\n",
        "        self.dropout = nn.Dropout(drop_prob)        \n",
        "        self.fc = nn.Linear(n_hidden, len(self.chars))\n",
        "      \n",
        "    \n",
        "    def forward(self, x, hidden):\n",
        "        r_output, hidden = self.lstm(x, hidden)\n",
        "        out = self.dropout(r_output)\n",
        "        \n",
        "        out = out.contiguous().view(-1, self.n_hidden) # contiguous: makes a copy of tensor so the order of elements would be same as if tensor of same shape created from scratch\n",
        "        out = self.fc(out)\n",
        "        \n",
        "        return out, hidden\n",
        "    \n",
        "    \n",
        "    def init_hidden(self, batch_size):  # produce hidden & cell state conforming with the LSTM (n_layers , batch_size , n_hidden), \n",
        "        weight = next(self.parameters()).data   #get the LSTM parameters (for its datatype)\n",
        "        hidden = (weight.new(self.n_layers, batch_size, self.n_hidden).zero_().to(device),\n",
        "                  weight.new(self.n_layers, batch_size, self.n_hidden).zero_().to(device))        \n",
        "        return hidden"
      ],
      "execution_count": 0,
      "outputs": []
    },
    {
      "cell_type": "code",
      "metadata": {
        "colab_type": "code",
        "id": "ihH89MLWNDyf",
        "outputId": "88a3b9d2-e4a2-4ef7-a62d-a6e751398d59",
        "colab": {
          "base_uri": "https://localhost:8080/",
          "height": 104
        }
      },
      "source": [
        "net = CharRNN(chars)\n",
        "print(net)\n",
        "opt = torch.optim.Adam(net.parameters(), lr=.001)\n",
        "criterion = nn.CrossEntropyLoss()"
      ],
      "execution_count": 0,
      "outputs": [
        {
          "output_type": "stream",
          "text": [
            "CharRNN(\n",
            "  (lstm): LSTM(83, 512, num_layers=2, batch_first=True, dropout=0.5)\n",
            "  (dropout): Dropout(p=0.5)\n",
            "  (fc): Linear(in_features=512, out_features=83, bias=True)\n",
            ")\n"
          ],
          "name": "stdout"
        }
      ]
    },
    {
      "cell_type": "markdown",
      "metadata": {
        "colab_type": "text",
        "id": "_fxWJFsgNDyl"
      },
      "source": [
        "### Train"
      ]
    },
    {
      "cell_type": "code",
      "metadata": {
        "colab_type": "code",
        "id": "8-qCvBhVNDym",
        "colab": {}
      },
      "source": [
        "batch_size = 128\n",
        "seqlen = 100\n",
        "epochs = 20\n",
        "clip=5          #max gradient allowed\n",
        "val_frac=0.1"
      ],
      "execution_count": 0,
      "outputs": []
    },
    {
      "cell_type": "markdown",
      "metadata": {
        "colab_type": "text",
        "id": "tuNdMCKGNDyw"
      },
      "source": [
        "* use `clip_grad_norm_` to help prevent exploding gradients\n",
        "* detach hidden state to not backprop the entire history"
      ]
    },
    {
      "cell_type": "code",
      "metadata": {
        "colab_type": "code",
        "id": "0GbbVrkdNDyy",
        "outputId": "1f50193a-cbc6-4ffc-d887-72c9f538ef5a",
        "scrolled": true,
        "colab": {
          "base_uri": "https://localhost:8080/",
          "height": 34
        }
      },
      "source": [
        "if cuda: net.cuda()\n",
        "\n",
        "# create train/val; each of them must be contiguous\n",
        "val_idx = int(len(encoded)*(1-val_frac))\n",
        "train, val = encoded[:val_idx], encoded[val_idx:]\n",
        "\n",
        "for e in range(epochs):\n",
        "    h = net.init_hidden(batch_size)    # initialize hidden state\n",
        "    \n",
        "    for i, (x, y) in enumerate(Batch_Loader(train, batch_size, seqlen)):\n",
        "        net.train()\n",
        "\n",
        "        # prepare training sample: 1Hot, to torch, to cuda\n",
        "        x = One_Hot_Encode(x)\n",
        "        x, y = torch.from_numpy(x), torch.from_numpy(y)\n",
        "        if cuda: x, y = x.cuda(), y.cuda()\n",
        "\n",
        "        h = tuple([e.data for e in h]) #detach (to not backprop history)\n",
        "\n",
        "        net.zero_grad()\n",
        "        output, h = net(x, h)\n",
        "        loss = criterion(output, y.view(y.numel()).long())\n",
        "        loss.backward()        \n",
        "        nn.utils.clip_grad_norm_(net.parameters(), clip)# prevent exploding gradient\n",
        "        opt.step()\n",
        "\n",
        "        if i % 50 == 0:      #validation stats\n",
        "            val_h = net.init_hidden(batch_size)\n",
        "            val_losses = []\n",
        "            net.eval()\n",
        "            for x, y in Batch_Loader(val, batch_size, seqlen):\n",
        "                x = One_Hot_Encode(x)\n",
        "                x, y = torch.from_numpy(x), torch.from_numpy(y)\n",
        "                if cuda: x, y = x.cuda(), y.cuda()\n",
        "\n",
        "                val_h = tuple([e.data for e in val_h])\n",
        "\n",
        "                output, val_h = net(x, val_h)\n",
        "                val_loss = criterion(output, y.view(y.numel()).long())\n",
        "                val_losses += val_loss.item(),\n",
        "\n",
        "            print(f\"\\rEpoch {e}\",\n",
        "                  f\"Step {i}:\",\n",
        "                  f\"Loss: {loss.item():.4f},\",\n",
        "                  f\"Val Loss: {np.mean(val_losses):.4f}\",end='')"
      ],
      "execution_count": 0,
      "outputs": [
        {
          "output_type": "stream",
          "text": [
            "Epoch 19 Step 100: Loss: 1.1761, Val Loss: 1.2611"
          ],
          "name": "stdout"
        }
      ]
    },
    {
      "cell_type": "markdown",
      "metadata": {
        "colab_type": "text",
        "id": "XwBe_p2rNDy3"
      },
      "source": [
        "### Prediction / Text generation"
      ]
    },
    {
      "cell_type": "code",
      "metadata": {
        "colab_type": "code",
        "id": "XtlRmXYDNDy3",
        "colab": {}
      },
      "source": [
        "import torch.nn.functional as F\n",
        "\n",
        "def predict(net, char, h):   # model, 1 char, hidden_state        \n",
        "    x = np.array([[net.char2int[char]]])\n",
        "    x = One_Hot_Encode(x)\n",
        "    x = torch.from_numpy(x)        \n",
        "    if cuda: x = x.cuda()\n",
        "\n",
        "    h = [e.data for e in h]\n",
        "    out, h = net(x, h)\n",
        "\n",
        "    p = F.softmax(out, dim=1).data    # probabilities\n",
        "    if cuda: p = p.cpu()\n",
        "\n",
        "    p = p.numpy().squeeze()  \n",
        "    char = np.random.choice(range(nchars), p=p/p.sum()) # select char according to p\n",
        "\n",
        "    return net.int2char[char], h"
      ],
      "execution_count": 0,
      "outputs": []
    },
    {
      "cell_type": "code",
      "metadata": {
        "colab_type": "code",
        "id": "zTF7feFJNDy7",
        "outputId": "503835e5-1c2f-4281-f767-5acc2b3e164b",
        "colab": {
          "base_uri": "https://localhost:8080/",
          "height": 816
        }
      },
      "source": [
        "start = 'Human'\n",
        "size = 2000\n",
        "\n",
        "if cuda: net.cuda()\n",
        "else:    net.cpu()\n",
        "net.eval()\n",
        "\n",
        "s = start\n",
        "\n",
        "h = net.init_hidden(batch_size=1)\n",
        "for ch in start:       # feed the first word through without making predictions\n",
        "    char, h = predict(net, ch, h)\n",
        "s+=char\n",
        "\n",
        "for ii in range(size):\n",
        "    char, h = predict(net, s[-1], h)\n",
        "    s+=char\n",
        "\n",
        "print(s)"
      ],
      "execution_count": 0,
      "outputs": [
        {
          "output_type": "stream",
          "text": [
            "Humants\n",
            "kiffered by his. She arranged this affairs to him. She had the commission might\n",
            "gave love.\n",
            "\n",
            "\"Birch persapt is it?\" said Kitty, giving incaparitial catching his\n",
            "figure; in the great beginning to was the modest papes had never\n",
            "meet harrly dainer. He knew hes something with it was so could have not to\n",
            "go up, and was like thaising that seemed to the members of the\n",
            "morning sent to understand that he had come at done to watch to its brown back\n",
            "from his place.\n",
            "\n",
            "\"Who's I see that yesterday. Ah, with Ged at miserable sweep...\"\n",
            "\n",
            "\"She gares her the prica. That's not to think you it's to do,\" said he was\n",
            "looking with out of the troussea,\n",
            "of the table, his forehead, in a tiely tried to profly chain. The\n",
            "family other bard a moment failing to Darya Alexandrovna's hand on whom Levin\n",
            "began to grand the buckingrees heart, that not in these relations\n",
            "birachess.\n",
            "\n",
            "\"If I tell you--that's the reely.\"\n",
            "\n",
            "\"That's my hinllow business and your childness that is calagient for it.\n",
            "But \"Capitale, now di nothing in which say was worling\n",
            "that you imagined me doesn't; so ammorming.\"\n",
            "\n",
            "\"Dor you will tell you the master to resuse and denititely.\"\n",
            "\n",
            "\"When you can't very much not walk without you.\n",
            "I have not been used about a man breath, and then in\n",
            "fonger one. But made Karenins, a sense of it, against a Iwal most\n",
            "of the bosiciances as the first meal of man must tell you?\" he said, capital\n",
            "yinging vitwory and meaning, still hearing the architect out at her.\n",
            "\n",
            "\"No, sleep at the bodilies,\" she thought, siding in the saming into the\n",
            "hall), suddenly improved like out which was now now to broke firmless for her truth,\n",
            "that Stepan Arkadyevitch always misted her.\n",
            "\n",
            "\"Come, I suppose it's berous, and I could say. I've told you for\n",
            "indevery of Kitty.\" Ask Anna quickly ceated a long agoted and a past in conviction and loseet\n",
            "in this booking back, and passing her hand right. The longs mounned he made\n",
            "came into his prosen-back, and writing his head.\n",
            "\n",
            "\"Here is more...\"\n",
            "\n",
            "Sergey Ivanovitch came into the corner, and uttent\n"
          ],
          "name": "stdout"
        }
      ]
    },
    {
      "cell_type": "markdown",
      "metadata": {
        "colab_type": "text",
        "id": "HUdyw1jUNDzG"
      },
      "source": [
        "## Keras"
      ]
    },
    {
      "cell_type": "markdown",
      "metadata": {
        "colab_type": "text",
        "id": "Wgd1R5bSNDzP"
      },
      "source": [
        "* https://github.com/mineshmathew/char_rnn_karpathy_keras\n",
        "* https://www.tensorflow.org/alpha/tutorials/text/text_generation"
      ]
    },
    {
      "cell_type": "code",
      "metadata": {
        "colab_type": "code",
        "id": "6dh-TgWUNDzP",
        "colab": {
          "base_uri": "https://localhost:8080/",
          "height": 34
        },
        "outputId": "ff1bc8dd-03e7-4ce4-b1e8-db17dbe43b23"
      },
      "source": [
        "# !pip install -q tensorflow-gpu==2.0.0-alpha0\n",
        "import numpy as np\n",
        "import tensorflow as tf\n",
        "from tensorflow import keras\n",
        "tf.__version__, keras.__version__"
      ],
      "execution_count": 4,
      "outputs": [
        {
          "output_type": "execute_result",
          "data": {
            "text/plain": [
              "('2.0.0-alpha0', '2.2.4-tf')"
            ]
          },
          "metadata": {
            "tags": []
          },
          "execution_count": 4
        }
      ]
    },
    {
      "cell_type": "markdown",
      "metadata": {
        "colab_type": "text",
        "id": "bOgl-PMoNDzU"
      },
      "source": [
        "### Data"
      ]
    },
    {
      "cell_type": "code",
      "metadata": {
        "colab_type": "code",
        "id": "j1bktPRXNDzV",
        "outputId": "cfc3102b-560a-4a87-8b0a-c4387e5f0163",
        "colab": {
          "base_uri": "https://localhost:8080/",
          "height": 34
        }
      },
      "source": [
        "import os, tempfile\n",
        "os.chdir(tempfile.gettempdir())\n",
        "# path = tf.keras.utils.get_file('nietzsche.txt', origin=\"https://s3.amazonaws.com/text-datasets/nietzsche.txt\")\n",
        "path = tf.keras.utils.get_file('shakespeare.txt', origin=\"https://storage.googleapis.com/download.tensorflow.org/data/shakespeare.txt\")\n",
        "text = open(path).read().lower()\n",
        "print (f'Length of text: {len(text)} characters')"
      ],
      "execution_count": 23,
      "outputs": [
        {
          "output_type": "stream",
          "text": [
            "Length of text: 1115394 characters\n"
          ],
          "name": "stdout"
        }
      ]
    },
    {
      "cell_type": "code",
      "metadata": {
        "id": "6camTAKbbyuV",
        "colab_type": "code",
        "colab": {
          "base_uri": "https://localhost:8080/",
          "height": 34
        },
        "outputId": "2ffcb154-7e5f-4281-adf6-2a295a4fc64f"
      },
      "source": [
        "vocab = sorted(list(set(text)))\n",
        "print('total chars:', len(vocab))\n",
        "char2int = dict((c, i) for i, c in enumerate(vocab))\n",
        "int2char = np.array(vocab)  #dict((i, c) for i, c in enumerate(vocab))"
      ],
      "execution_count": 30,
      "outputs": [
        {
          "output_type": "stream",
          "text": [
            "total chars: 39\n"
          ],
          "name": "stdout"
        }
      ]
    },
    {
      "cell_type": "markdown",
      "metadata": {
        "id": "alyp7_5Mb7PK",
        "colab_type": "text"
      },
      "source": [
        "#### Building training set"
      ]
    },
    {
      "cell_type": "code",
      "metadata": {
        "colab_type": "code",
        "id": "2UvQoZuJNDzh",
        "outputId": "066ed20c-9ce4-413c-9286-7b166365b726",
        "colab": {
          "base_uri": "https://localhost:8080/",
          "height": 52
        }
      },
      "source": [
        "# (1) explicitly build batches [a,b,c,d] --> [b,c,d], [b,c,d]--->[c,d,e]....and so on\n",
        "seqlen, step = 40, 1\n",
        "sentences = []\n",
        "next_chars = []\n",
        "for i in range(0, len(text) - seqlen+1, step):\n",
        "    sentences.append(text[i: i + seqlen])\n",
        "    next_chars.append(text[i+1:i +1+ seqlen])\n",
        "print('number of sequences:', len(sentences))\n",
        "\n",
        "import numpy as np\n",
        "X = np.zeros((len(sentences),seqlen,len(vocab)),dtype=np.bool)#dataSize x seqLength x vocabSize\n",
        "y = np.zeros((len(sentences),seqlen,len(vocab)),dtype=np.bool)\n",
        "for i, sentence in enumerate(sentences):\n",
        "    for t, char in enumerate(sentence):\n",
        "        X[i, t, char2int[char]] = 1\n",
        "\n",
        "for i, sentence in enumerate(next_chars):\n",
        "    for t, char in enumerate(sentence):\n",
        "        y[i, t, char2int[char]] = 1"
      ],
      "execution_count": 12,
      "outputs": [
        {
          "output_type": "stream",
          "text": [
            "total chars: 57\n",
            "number of sequences: 600854\n"
          ],
          "name": "stdout"
        }
      ]
    },
    {
      "cell_type": "code",
      "metadata": {
        "id": "cGSS48vBb4XG",
        "colab_type": "code",
        "colab": {
          "base_uri": "https://localhost:8080/",
          "height": 228
        },
        "outputId": "db72f2fa-ad10-406c-db44-096ee953175b"
      },
      "source": [
        "# (2) generator\n",
        "seqlen = 100\n",
        "examples_per_epoch = len(text)//seqlen\n",
        "text_as_int = [char2int[c] for c in text]\n",
        "\n",
        "char_dataset = tf.data.Dataset.from_tensor_slices(text_as_int)  # individual chars\n",
        "for i in char_dataset.take(25):\n",
        "  print(int2char[i.numpy()],end='')\n",
        "\n",
        "sequences = char_dataset.batch(seqlen+1, drop_remainder=True) # sequences\n",
        "for seq in sequences.take(5):\n",
        "  print(repr(''.join(int2char[seq.numpy()])))\n",
        "  \n",
        "Xy = sequences.map(lambda chunk:(chunk[:-1],chunk[1:]) )  # X,y (both are sequences)\n",
        "for X, y in  Xy.take(2):   # not shifted by step=1\n",
        "  print('X: ', repr(''.join(int2char[X.numpy()])) )\n",
        "  print('y: ', repr(''.join(int2char[y.numpy()])) )\n",
        "  \n",
        "Xy = Xy.shuffle(buffer_size=10000).batch(batch_size=64, drop_remainder=True) #shuffle and batch\n",
        "Xy"
      ],
      "execution_count": 46,
      "outputs": [
        {
          "output_type": "stream",
          "text": [
            "first citizen:\n",
            "before we 'first citizen:\\nbefore we proceed any further, hear me speak.\\n\\nall:\\nspeak, speak.\\n\\nfirst citizen:\\nyou '\n",
            "'are all resolved rather to die than to famish?\\n\\nall:\\nresolved. resolved.\\n\\nfirst citizen:\\nfirst, you k'\n",
            "\"now caius marcius is chief enemy to the people.\\n\\nall:\\nwe know't, we know't.\\n\\nfirst citizen:\\nlet us ki\"\n",
            "\"ll him, and we'll have corn at our own price.\\nis't a verdict?\\n\\nall:\\nno more talking on't; let it be d\"\n",
            "'one: away, away!\\n\\nsecond citizen:\\none word, good citizens.\\n\\nfirst citizen:\\nwe are accounted poor citi'\n",
            "X:  'first citizen:\\nbefore we proceed any further, hear me speak.\\n\\nall:\\nspeak, speak.\\n\\nfirst citizen:\\nyou'\n",
            "y:  'irst citizen:\\nbefore we proceed any further, hear me speak.\\n\\nall:\\nspeak, speak.\\n\\nfirst citizen:\\nyou '\n",
            "X:  'are all resolved rather to die than to famish?\\n\\nall:\\nresolved. resolved.\\n\\nfirst citizen:\\nfirst, you '\n",
            "y:  're all resolved rather to die than to famish?\\n\\nall:\\nresolved. resolved.\\n\\nfirst citizen:\\nfirst, you k'\n"
          ],
          "name": "stdout"
        },
        {
          "output_type": "execute_result",
          "data": {
            "text/plain": [
              "<BatchDataset shapes: ((64, 100), (64, 100)), types: (tf.int32, tf.int32)>"
            ]
          },
          "metadata": {
            "tags": []
          },
          "execution_count": 46
        }
      ]
    },
    {
      "cell_type": "markdown",
      "metadata": {
        "colab_type": "text",
        "id": "JtghwnP_NDzk"
      },
      "source": [
        "### Model"
      ]
    },
    {
      "cell_type": "code",
      "metadata": {
        "colab_type": "code",
        "id": "fgA-E-FNNDzl",
        "outputId": "49613b52-16a5-460e-8801-06b2349c6d08",
        "colab": {
          "base_uri": "https://localhost:8080/",
          "height": 350
        }
      },
      "source": [
        "# (1) no embedding; LSTM is NOT stateful (training corpus have huge repetitions with step=1)\n",
        "hiddenSizes = [512,512]\n",
        "dropoutProb = 0.2\n",
        "\n",
        "model = keras.models.Sequential([\n",
        "    keras.layers.LSTM(hiddenSizes[0], return_sequences=True, input_shape=(seqlen, len(vocab))),\n",
        "    keras.layers.LSTM(hiddenSizes[1], return_sequences=True),\n",
        "    keras.layers.Dropout(dropoutProb),\n",
        "    keras.layers.TimeDistributed(keras.layers.Dense(len(vocab),activation='softmax')),\n",
        "])\n",
        "\n",
        "model.compile(loss='categorical_crossentropy', optimizer='rmsprop')\n",
        "model.summary()"
      ],
      "execution_count": 7,
      "outputs": [
        {
          "output_type": "stream",
          "text": [
            "W0526 22:51:18.541334 140072895281024 tf_logging.py:161] <tensorflow.python.keras.layers.recurrent.UnifiedLSTM object at 0x7f64c0207860>: Note that this layer is not optimized for performance. Please use tf.keras.layers.CuDNNLSTM for better performance on GPU.\n",
            "W0526 22:51:18.545431 140072895281024 tf_logging.py:161] <tensorflow.python.keras.layers.recurrent.UnifiedLSTM object at 0x7f64c0207dd8>: Note that this layer is not optimized for performance. Please use tf.keras.layers.CuDNNLSTM for better performance on GPU.\n"
          ],
          "name": "stderr"
        },
        {
          "output_type": "stream",
          "text": [
            "Model: \"sequential\"\n",
            "_________________________________________________________________\n",
            "Layer (type)                 Output Shape              Param #   \n",
            "=================================================================\n",
            "unified_lstm_2 (UnifiedLSTM) (None, 40, 512)           1167360   \n",
            "_________________________________________________________________\n",
            "unified_lstm_3 (UnifiedLSTM) (None, 40, 512)           2099200   \n",
            "_________________________________________________________________\n",
            "dropout_1 (Dropout)          (None, 40, 512)           0         \n",
            "_________________________________________________________________\n",
            "time_distributed (TimeDistri (None, 40, 57)            29241     \n",
            "=================================================================\n",
            "Total params: 3,295,801\n",
            "Trainable params: 3,295,801\n",
            "Non-trainable params: 0\n",
            "_________________________________________________________________\n"
          ],
          "name": "stdout"
        }
      ]
    },
    {
      "cell_type": "code",
      "metadata": {
        "id": "8MEa7-dme8Pm",
        "colab_type": "code",
        "colab": {
          "base_uri": "https://localhost:8080/",
          "height": 298
        },
        "outputId": "e9ce1ea4-0533-4bc3-fe9e-5c508ffe239a"
      },
      "source": [
        "# (2) with embedding; LSTM is stateful, requires batchsize input. corpus has no repetition\n",
        "vocab_size = len(vocab)\n",
        "embedding_dim = 256\n",
        "rnn_units = 1024\n",
        "batch_size = 64\n",
        "\n",
        "model = tf.keras.Sequential([\n",
        "    tf.keras.layers.Embedding(vocab_size, embedding_dim,\n",
        "                              batch_input_shape=[batch_size, None]),  #batchsize input\n",
        "    tf.keras.layers.LSTM(rnn_units,\n",
        "                         return_sequences=True,\n",
        "                         stateful=True,\n",
        "                         recurrent_initializer='glorot_uniform'),\n",
        "    tf.keras.layers.Dense(vocab_size, activation='softmax')\n",
        "  ])\n",
        "model.compile(optimizer='adam', loss='sparse_categorical_crossentropy')\n",
        "model.summary()"
      ],
      "execution_count": 47,
      "outputs": [
        {
          "output_type": "stream",
          "text": [
            "W0526 23:43:51.554454 140072895281024 tf_logging.py:161] <tensorflow.python.keras.layers.recurrent.UnifiedLSTM object at 0x7f641e795e48>: Note that this layer is not optimized for performance. Please use tf.keras.layers.CuDNNLSTM for better performance on GPU.\n"
          ],
          "name": "stderr"
        },
        {
          "output_type": "stream",
          "text": [
            "Model: \"sequential_5\"\n",
            "_________________________________________________________________\n",
            "Layer (type)                 Output Shape              Param #   \n",
            "=================================================================\n",
            "embedding_4 (Embedding)      (64, None, 256)           9984      \n",
            "_________________________________________________________________\n",
            "unified_lstm_8 (UnifiedLSTM) (64, None, 1024)          5246976   \n",
            "_________________________________________________________________\n",
            "dense_6 (Dense)              (64, None, 39)            39975     \n",
            "=================================================================\n",
            "Total params: 5,296,935\n",
            "Trainable params: 5,296,935\n",
            "Non-trainable params: 0\n",
            "_________________________________________________________________\n"
          ],
          "name": "stdout"
        }
      ]
    },
    {
      "cell_type": "markdown",
      "metadata": {
        "colab_type": "text",
        "id": "ZwTlFoC8NDzp"
      },
      "source": [
        "### Train"
      ]
    },
    {
      "cell_type": "code",
      "metadata": {
        "colab_type": "code",
        "id": "YRHVgaqONDzp",
        "outputId": "2a4d0eef-ee48-453e-871e-c1c7cea579e0",
        "colab": {
          "base_uri": "https://localhost:8080/",
          "height": 139
        }
      },
      "source": [
        "# (1)\n",
        "history=model.fit(X, y, batch_size=128, epochs=3,verbose=1)\n",
        "print ('loss is',history.history['loss'][0])"
      ],
      "execution_count": 9,
      "outputs": [
        {
          "output_type": "stream",
          "text": [
            "Epoch 1/3\n",
            "600854/600854 [==============================] - 189s 315us/sample - loss: 1.1020\n",
            "Epoch 2/3\n",
            "600854/600854 [==============================] - 189s 315us/sample - loss: 0.6808\n",
            "Epoch 3/3\n",
            "600854/600854 [==============================] - 190s 316us/sample - loss: 0.5654\n",
            "loss is 1.1020105174576489\n"
          ],
          "name": "stdout"
        }
      ]
    },
    {
      "cell_type": "code",
      "metadata": {
        "id": "Lv71_RiJfukP",
        "colab_type": "code",
        "colab": {
          "base_uri": "https://localhost:8080/",
          "height": 121
        },
        "outputId": "4815792f-c60d-4c4b-d461-d345eaf24d76"
      },
      "source": [
        "# (2)\n",
        "history = model.fit(Xy, epochs=3)"
      ],
      "execution_count": 48,
      "outputs": [
        {
          "output_type": "stream",
          "text": [
            "Epoch 1/3\n",
            "172/172 [==============================] - 16s 93ms/step - loss: 2.4768\n",
            "Epoch 2/3\n",
            "172/172 [==============================] - 15s 88ms/step - loss: 1.8201\n",
            "Epoch 3/3\n",
            "172/172 [==============================] - 14s 82ms/step - loss: 1.5714\n"
          ],
          "name": "stdout"
        }
      ]
    },
    {
      "cell_type": "markdown",
      "metadata": {
        "colab_type": "text",
        "id": "ZZlkOWTVNDzt"
      },
      "source": [
        "### Generate"
      ]
    },
    {
      "cell_type": "code",
      "metadata": {
        "colab_type": "code",
        "id": "NMdC0W7nNDzu",
        "colab": {}
      },
      "source": [
        "# (1)\n",
        "seed=\"brutus: this aint right. you should be going\"\n",
        "print(seed,end='')\n",
        "for i in range(1000):\n",
        "    x=np.zeros((1, seqlen, len(vocab)))\n",
        "    for t, char in enumerate(seed[-seqlen:]):\n",
        "        x[0, t, char2int[char]] = 1.\n",
        "    preds = model.predict(x, verbose=0)[0]\n",
        "    next_index = np.random.choice(range(len(vocab)),p=preds[-1])  #np.argmax(preds[-1])\n",
        "    next_char = int2char[next_index]\n",
        "    seed = seed + next_char\n",
        "    print(next_char,end='')"
      ],
      "execution_count": 0,
      "outputs": []
    },
    {
      "cell_type": "code",
      "metadata": {
        "id": "DZy4E5wogGnA",
        "colab_type": "code",
        "colab": {
          "base_uri": "https://localhost:8080/",
          "height": 313
        },
        "outputId": "caf4e186-4cb9-423b-944d-eb9f5ea262cd"
      },
      "source": [
        "# (2)\n",
        "seed=\"brutus: this aint right. you should be going\"\n",
        "print(seed,end='')\n",
        "# model.reset_states()\n",
        "# model.build(tf.TensorShape([1, None]))  # reset batchsize=1 here\n",
        "\n",
        "x = [char2int[s] for s in seed]\n",
        "x = tf.expand_dims(x, 0)\n",
        "model(x)\n",
        "# for i in range(100):\n",
        "#     predictions = model(input_eval)\n",
        "#     predictions = tf.squeeze(predictions, 0)\n",
        "\n",
        "#     predictions = predictions / temperature\n",
        "#     predicted_id = tf.random.categorical(predictions, num_samples=1)[-1,0].numpy()\n",
        "\n",
        "#     # along with the previous hidden state\n",
        "#     input_eval = tf.expand_dims([predicted_id], 0)\n",
        "\n",
        "#     text_generated.append(idx2char[predicted_id])\n"
      ],
      "execution_count": 51,
      "outputs": [
        {
          "output_type": "stream",
          "text": [
            "brutus: this aint right. you should be going"
          ],
          "name": "stdout"
        },
        {
          "output_type": "error",
          "ename": "InvalidArgumentError",
          "evalue": "ignored",
          "traceback": [
            "\u001b[0;31m---------------------------------------------------------------------------\u001b[0m",
            "\u001b[0;31mInvalidArgumentError\u001b[0m                      Traceback (most recent call last)",
            "\u001b[0;32m<ipython-input-51-da678a848d7a>\u001b[0m in \u001b[0;36m<module>\u001b[0;34m()\u001b[0m\n\u001b[1;32m      6\u001b[0m \u001b[0mx\u001b[0m \u001b[0;34m=\u001b[0m \u001b[0;34m[\u001b[0m\u001b[0mchar2int\u001b[0m\u001b[0;34m[\u001b[0m\u001b[0ms\u001b[0m\u001b[0;34m]\u001b[0m \u001b[0;32mfor\u001b[0m \u001b[0ms\u001b[0m \u001b[0;32min\u001b[0m \u001b[0mseed\u001b[0m\u001b[0;34m]\u001b[0m\u001b[0;34m\u001b[0m\u001b[0;34m\u001b[0m\u001b[0m\n\u001b[1;32m      7\u001b[0m \u001b[0mx\u001b[0m \u001b[0;34m=\u001b[0m \u001b[0mtf\u001b[0m\u001b[0;34m.\u001b[0m\u001b[0mexpand_dims\u001b[0m\u001b[0;34m(\u001b[0m\u001b[0mx\u001b[0m\u001b[0;34m,\u001b[0m \u001b[0;36m0\u001b[0m\u001b[0;34m)\u001b[0m\u001b[0;34m\u001b[0m\u001b[0;34m\u001b[0m\u001b[0m\n\u001b[0;32m----> 8\u001b[0;31m \u001b[0mmodel\u001b[0m\u001b[0;34m(\u001b[0m\u001b[0mx\u001b[0m\u001b[0;34m)\u001b[0m\u001b[0;34m\u001b[0m\u001b[0;34m\u001b[0m\u001b[0m\n\u001b[0m\u001b[1;32m      9\u001b[0m \u001b[0;31m# for i in range(100):\u001b[0m\u001b[0;34m\u001b[0m\u001b[0;34m\u001b[0m\u001b[0;34m\u001b[0m\u001b[0m\n\u001b[1;32m     10\u001b[0m \u001b[0;31m#     predictions = model(input_eval)\u001b[0m\u001b[0;34m\u001b[0m\u001b[0;34m\u001b[0m\u001b[0;34m\u001b[0m\u001b[0m\n",
            "\u001b[0;32m/usr/local/lib/python3.6/dist-packages/tensorflow/python/keras/engine/base_layer.py\u001b[0m in \u001b[0;36m__call__\u001b[0;34m(self, inputs, *args, **kwargs)\u001b[0m\n\u001b[1;32m    658\u001b[0m           with base_layer_utils.autocast_context_manager(\n\u001b[1;32m    659\u001b[0m               input_list, self._mixed_precision_policy.should_cast_variables):\n\u001b[0;32m--> 660\u001b[0;31m             \u001b[0moutputs\u001b[0m \u001b[0;34m=\u001b[0m \u001b[0mself\u001b[0m\u001b[0;34m.\u001b[0m\u001b[0mcall\u001b[0m\u001b[0;34m(\u001b[0m\u001b[0minputs\u001b[0m\u001b[0;34m,\u001b[0m \u001b[0;34m*\u001b[0m\u001b[0margs\u001b[0m\u001b[0;34m,\u001b[0m \u001b[0;34m**\u001b[0m\u001b[0mkwargs\u001b[0m\u001b[0;34m)\u001b[0m\u001b[0;34m\u001b[0m\u001b[0;34m\u001b[0m\u001b[0m\n\u001b[0m\u001b[1;32m    661\u001b[0m           \u001b[0mself\u001b[0m\u001b[0;34m.\u001b[0m\u001b[0m_handle_activity_regularization\u001b[0m\u001b[0;34m(\u001b[0m\u001b[0minputs\u001b[0m\u001b[0;34m,\u001b[0m \u001b[0moutputs\u001b[0m\u001b[0;34m)\u001b[0m\u001b[0;34m\u001b[0m\u001b[0;34m\u001b[0m\u001b[0m\n\u001b[1;32m    662\u001b[0m           \u001b[0mself\u001b[0m\u001b[0;34m.\u001b[0m\u001b[0m_set_mask_metadata\u001b[0m\u001b[0;34m(\u001b[0m\u001b[0minputs\u001b[0m\u001b[0;34m,\u001b[0m \u001b[0moutputs\u001b[0m\u001b[0;34m,\u001b[0m \u001b[0mprevious_mask\u001b[0m\u001b[0;34m)\u001b[0m\u001b[0;34m\u001b[0m\u001b[0;34m\u001b[0m\u001b[0m\n",
            "\u001b[0;32m/usr/local/lib/python3.6/dist-packages/tensorflow/python/keras/engine/sequential.py\u001b[0m in \u001b[0;36mcall\u001b[0;34m(self, inputs, training, mask)\u001b[0m\n\u001b[1;32m    240\u001b[0m       \u001b[0;32mif\u001b[0m \u001b[0;32mnot\u001b[0m \u001b[0mself\u001b[0m\u001b[0;34m.\u001b[0m\u001b[0mbuilt\u001b[0m\u001b[0;34m:\u001b[0m\u001b[0;34m\u001b[0m\u001b[0;34m\u001b[0m\u001b[0m\n\u001b[1;32m    241\u001b[0m         \u001b[0mself\u001b[0m\u001b[0;34m.\u001b[0m\u001b[0m_init_graph_network\u001b[0m\u001b[0;34m(\u001b[0m\u001b[0mself\u001b[0m\u001b[0;34m.\u001b[0m\u001b[0minputs\u001b[0m\u001b[0;34m,\u001b[0m \u001b[0mself\u001b[0m\u001b[0;34m.\u001b[0m\u001b[0moutputs\u001b[0m\u001b[0;34m,\u001b[0m \u001b[0mname\u001b[0m\u001b[0;34m=\u001b[0m\u001b[0mself\u001b[0m\u001b[0;34m.\u001b[0m\u001b[0mname\u001b[0m\u001b[0;34m)\u001b[0m\u001b[0;34m\u001b[0m\u001b[0;34m\u001b[0m\u001b[0m\n\u001b[0;32m--> 242\u001b[0;31m       \u001b[0;32mreturn\u001b[0m \u001b[0msuper\u001b[0m\u001b[0;34m(\u001b[0m\u001b[0mSequential\u001b[0m\u001b[0;34m,\u001b[0m \u001b[0mself\u001b[0m\u001b[0;34m)\u001b[0m\u001b[0;34m.\u001b[0m\u001b[0mcall\u001b[0m\u001b[0;34m(\u001b[0m\u001b[0minputs\u001b[0m\u001b[0;34m,\u001b[0m \u001b[0mtraining\u001b[0m\u001b[0;34m=\u001b[0m\u001b[0mtraining\u001b[0m\u001b[0;34m,\u001b[0m \u001b[0mmask\u001b[0m\u001b[0;34m=\u001b[0m\u001b[0mmask\u001b[0m\u001b[0;34m)\u001b[0m\u001b[0;34m\u001b[0m\u001b[0;34m\u001b[0m\u001b[0m\n\u001b[0m\u001b[1;32m    243\u001b[0m \u001b[0;34m\u001b[0m\u001b[0m\n\u001b[1;32m    244\u001b[0m     \u001b[0moutputs\u001b[0m \u001b[0;34m=\u001b[0m \u001b[0minputs\u001b[0m  \u001b[0;31m# handle the corner case where self.layers is empty\u001b[0m\u001b[0;34m\u001b[0m\u001b[0;34m\u001b[0m\u001b[0m\n",
            "\u001b[0;32m/usr/local/lib/python3.6/dist-packages/tensorflow/python/keras/engine/network.py\u001b[0m in \u001b[0;36mcall\u001b[0;34m(self, inputs, training, mask)\u001b[0m\n\u001b[1;32m    868\u001b[0m                                 ' implement a `call` method.')\n\u001b[1;32m    869\u001b[0m \u001b[0;34m\u001b[0m\u001b[0m\n\u001b[0;32m--> 870\u001b[0;31m     \u001b[0;32mreturn\u001b[0m \u001b[0mself\u001b[0m\u001b[0;34m.\u001b[0m\u001b[0m_run_internal_graph\u001b[0m\u001b[0;34m(\u001b[0m\u001b[0minputs\u001b[0m\u001b[0;34m,\u001b[0m \u001b[0mtraining\u001b[0m\u001b[0;34m=\u001b[0m\u001b[0mtraining\u001b[0m\u001b[0;34m,\u001b[0m \u001b[0mmask\u001b[0m\u001b[0;34m=\u001b[0m\u001b[0mmask\u001b[0m\u001b[0;34m)\u001b[0m\u001b[0;34m\u001b[0m\u001b[0;34m\u001b[0m\u001b[0m\n\u001b[0m\u001b[1;32m    871\u001b[0m \u001b[0;34m\u001b[0m\u001b[0m\n\u001b[1;32m    872\u001b[0m   \u001b[0;32mdef\u001b[0m \u001b[0mcompute_output_shape\u001b[0m\u001b[0;34m(\u001b[0m\u001b[0mself\u001b[0m\u001b[0;34m,\u001b[0m \u001b[0minput_shape\u001b[0m\u001b[0;34m)\u001b[0m\u001b[0;34m:\u001b[0m\u001b[0;34m\u001b[0m\u001b[0;34m\u001b[0m\u001b[0m\n",
            "\u001b[0;32m/usr/local/lib/python3.6/dist-packages/tensorflow/python/keras/engine/network.py\u001b[0m in \u001b[0;36m_run_internal_graph\u001b[0;34m(self, inputs, training, mask)\u001b[0m\n\u001b[1;32m   1009\u001b[0m \u001b[0;34m\u001b[0m\u001b[0m\n\u001b[1;32m   1010\u001b[0m           \u001b[0;31m# Compute outputs.\u001b[0m\u001b[0;34m\u001b[0m\u001b[0;34m\u001b[0m\u001b[0;34m\u001b[0m\u001b[0m\n\u001b[0;32m-> 1011\u001b[0;31m           \u001b[0moutput_tensors\u001b[0m \u001b[0;34m=\u001b[0m \u001b[0mlayer\u001b[0m\u001b[0;34m(\u001b[0m\u001b[0mcomputed_tensors\u001b[0m\u001b[0;34m,\u001b[0m \u001b[0;34m**\u001b[0m\u001b[0mkwargs\u001b[0m\u001b[0;34m)\u001b[0m\u001b[0;34m\u001b[0m\u001b[0;34m\u001b[0m\u001b[0m\n\u001b[0m\u001b[1;32m   1012\u001b[0m \u001b[0;34m\u001b[0m\u001b[0m\n\u001b[1;32m   1013\u001b[0m           \u001b[0;31m# Update tensor_dict.\u001b[0m\u001b[0;34m\u001b[0m\u001b[0;34m\u001b[0m\u001b[0;34m\u001b[0m\u001b[0m\n",
            "\u001b[0;32m/usr/local/lib/python3.6/dist-packages/tensorflow/python/keras/layers/recurrent.py\u001b[0m in \u001b[0;36m__call__\u001b[0;34m(self, inputs, initial_state, constants, **kwargs)\u001b[0m\n\u001b[1;32m    656\u001b[0m \u001b[0;34m\u001b[0m\u001b[0m\n\u001b[1;32m    657\u001b[0m     \u001b[0;32mif\u001b[0m \u001b[0minitial_state\u001b[0m \u001b[0;32mis\u001b[0m \u001b[0;32mNone\u001b[0m \u001b[0;32mand\u001b[0m \u001b[0mconstants\u001b[0m \u001b[0;32mis\u001b[0m \u001b[0;32mNone\u001b[0m\u001b[0;34m:\u001b[0m\u001b[0;34m\u001b[0m\u001b[0;34m\u001b[0m\u001b[0m\n\u001b[0;32m--> 658\u001b[0;31m       \u001b[0;32mreturn\u001b[0m \u001b[0msuper\u001b[0m\u001b[0;34m(\u001b[0m\u001b[0mRNN\u001b[0m\u001b[0;34m,\u001b[0m \u001b[0mself\u001b[0m\u001b[0;34m)\u001b[0m\u001b[0;34m.\u001b[0m\u001b[0m__call__\u001b[0m\u001b[0;34m(\u001b[0m\u001b[0minputs\u001b[0m\u001b[0;34m,\u001b[0m \u001b[0;34m**\u001b[0m\u001b[0mkwargs\u001b[0m\u001b[0;34m)\u001b[0m\u001b[0;34m\u001b[0m\u001b[0;34m\u001b[0m\u001b[0m\n\u001b[0m\u001b[1;32m    659\u001b[0m \u001b[0;34m\u001b[0m\u001b[0m\n\u001b[1;32m    660\u001b[0m     \u001b[0;31m# If any of `initial_state` or `constants` are specified and are Keras\u001b[0m\u001b[0;34m\u001b[0m\u001b[0;34m\u001b[0m\u001b[0;34m\u001b[0m\u001b[0m\n",
            "\u001b[0;32m/usr/local/lib/python3.6/dist-packages/tensorflow/python/keras/engine/base_layer.py\u001b[0m in \u001b[0;36m__call__\u001b[0;34m(self, inputs, *args, **kwargs)\u001b[0m\n\u001b[1;32m    658\u001b[0m           with base_layer_utils.autocast_context_manager(\n\u001b[1;32m    659\u001b[0m               input_list, self._mixed_precision_policy.should_cast_variables):\n\u001b[0;32m--> 660\u001b[0;31m             \u001b[0moutputs\u001b[0m \u001b[0;34m=\u001b[0m \u001b[0mself\u001b[0m\u001b[0;34m.\u001b[0m\u001b[0mcall\u001b[0m\u001b[0;34m(\u001b[0m\u001b[0minputs\u001b[0m\u001b[0;34m,\u001b[0m \u001b[0;34m*\u001b[0m\u001b[0margs\u001b[0m\u001b[0;34m,\u001b[0m \u001b[0;34m**\u001b[0m\u001b[0mkwargs\u001b[0m\u001b[0;34m)\u001b[0m\u001b[0;34m\u001b[0m\u001b[0;34m\u001b[0m\u001b[0m\n\u001b[0m\u001b[1;32m    661\u001b[0m           \u001b[0mself\u001b[0m\u001b[0;34m.\u001b[0m\u001b[0m_handle_activity_regularization\u001b[0m\u001b[0;34m(\u001b[0m\u001b[0minputs\u001b[0m\u001b[0;34m,\u001b[0m \u001b[0moutputs\u001b[0m\u001b[0;34m)\u001b[0m\u001b[0;34m\u001b[0m\u001b[0;34m\u001b[0m\u001b[0m\n\u001b[1;32m    662\u001b[0m           \u001b[0mself\u001b[0m\u001b[0;34m.\u001b[0m\u001b[0m_set_mask_metadata\u001b[0m\u001b[0;34m(\u001b[0m\u001b[0minputs\u001b[0m\u001b[0;34m,\u001b[0m \u001b[0moutputs\u001b[0m\u001b[0;34m,\u001b[0m \u001b[0mprevious_mask\u001b[0m\u001b[0;34m)\u001b[0m\u001b[0;34m\u001b[0m\u001b[0;34m\u001b[0m\u001b[0m\n",
            "\u001b[0;32m/usr/local/lib/python3.6/dist-packages/tensorflow/python/keras/layers/recurrent.py\u001b[0m in \u001b[0;36mcall\u001b[0;34m(self, inputs, mask, training, initial_state)\u001b[0m\n\u001b[1;32m   3264\u001b[0m           last_output, outputs, new_h, new_c, runtime = cudnn_lstm(\n\u001b[1;32m   3265\u001b[0m               \u001b[0minputs\u001b[0m\u001b[0;34m,\u001b[0m \u001b[0minitial_state\u001b[0m\u001b[0;34m[\u001b[0m\u001b[0;36m0\u001b[0m\u001b[0;34m]\u001b[0m\u001b[0;34m,\u001b[0m \u001b[0minitial_state\u001b[0m\u001b[0;34m[\u001b[0m\u001b[0;36m1\u001b[0m\u001b[0;34m]\u001b[0m\u001b[0;34m,\u001b[0m \u001b[0mself\u001b[0m\u001b[0;34m.\u001b[0m\u001b[0mcell\u001b[0m\u001b[0;34m.\u001b[0m\u001b[0mkernel\u001b[0m\u001b[0;34m,\u001b[0m\u001b[0;34m\u001b[0m\u001b[0;34m\u001b[0m\u001b[0m\n\u001b[0;32m-> 3266\u001b[0;31m               self.cell.recurrent_kernel, self.cell.bias, self.time_major)\n\u001b[0m\u001b[1;32m   3267\u001b[0m         \u001b[0;32melse\u001b[0m\u001b[0;34m:\u001b[0m\u001b[0;34m\u001b[0m\u001b[0;34m\u001b[0m\u001b[0m\n\u001b[1;32m   3268\u001b[0m           last_output, outputs, new_h, new_c, runtime = standard_lstm(\n",
            "\u001b[0;32m/usr/local/lib/python3.6/dist-packages/tensorflow/python/keras/layers/recurrent.py\u001b[0m in \u001b[0;36mcudnn_lstm\u001b[0;34m(inputs, input_h, input_c, kernel, recurrent_kernel, bias, time_major)\u001b[0m\n\u001b[1;32m   3436\u001b[0m \u001b[0;34m\u001b[0m\u001b[0m\n\u001b[1;32m   3437\u001b[0m   outputs, h, c, _ = gen_cudnn_rnn_ops.cudnn_rnn(\n\u001b[0;32m-> 3438\u001b[0;31m       inputs, input_h=input_h, input_c=input_c, params=params, is_training=True)\n\u001b[0m\u001b[1;32m   3439\u001b[0m   \u001b[0mlast_output\u001b[0m \u001b[0;34m=\u001b[0m \u001b[0moutputs\u001b[0m\u001b[0;34m[\u001b[0m\u001b[0;34m-\u001b[0m\u001b[0;36m1\u001b[0m\u001b[0;34m]\u001b[0m\u001b[0;34m\u001b[0m\u001b[0;34m\u001b[0m\u001b[0m\n\u001b[1;32m   3440\u001b[0m   \u001b[0;32mif\u001b[0m \u001b[0;32mnot\u001b[0m \u001b[0mtime_major\u001b[0m\u001b[0;34m:\u001b[0m\u001b[0;34m\u001b[0m\u001b[0;34m\u001b[0m\u001b[0m\n",
            "\u001b[0;32m/usr/local/lib/python3.6/dist-packages/tensorflow/python/ops/gen_cudnn_rnn_ops.py\u001b[0m in \u001b[0;36mcudnn_rnn\u001b[0;34m(input, input_h, input_c, params, rnn_mode, input_mode, direction, dropout, seed, seed2, is_training, name)\u001b[0m\n\u001b[1;32m    107\u001b[0m             \u001b[0minput_mode\u001b[0m\u001b[0;34m=\u001b[0m\u001b[0minput_mode\u001b[0m\u001b[0;34m,\u001b[0m \u001b[0mdirection\u001b[0m\u001b[0;34m=\u001b[0m\u001b[0mdirection\u001b[0m\u001b[0;34m,\u001b[0m \u001b[0mdropout\u001b[0m\u001b[0;34m=\u001b[0m\u001b[0mdropout\u001b[0m\u001b[0;34m,\u001b[0m\u001b[0;34m\u001b[0m\u001b[0;34m\u001b[0m\u001b[0m\n\u001b[1;32m    108\u001b[0m             \u001b[0mseed\u001b[0m\u001b[0;34m=\u001b[0m\u001b[0mseed\u001b[0m\u001b[0;34m,\u001b[0m \u001b[0mseed2\u001b[0m\u001b[0;34m=\u001b[0m\u001b[0mseed2\u001b[0m\u001b[0;34m,\u001b[0m \u001b[0mis_training\u001b[0m\u001b[0;34m=\u001b[0m\u001b[0mis_training\u001b[0m\u001b[0;34m,\u001b[0m \u001b[0mname\u001b[0m\u001b[0;34m=\u001b[0m\u001b[0mname\u001b[0m\u001b[0;34m,\u001b[0m\u001b[0;34m\u001b[0m\u001b[0;34m\u001b[0m\u001b[0m\n\u001b[0;32m--> 109\u001b[0;31m             ctx=_ctx)\n\u001b[0m\u001b[1;32m    110\u001b[0m       \u001b[0;32mexcept\u001b[0m \u001b[0m_core\u001b[0m\u001b[0;34m.\u001b[0m\u001b[0m_SymbolicException\u001b[0m\u001b[0;34m:\u001b[0m\u001b[0;34m\u001b[0m\u001b[0;34m\u001b[0m\u001b[0m\n\u001b[1;32m    111\u001b[0m         \u001b[0;32mpass\u001b[0m  \u001b[0;31m# Add nodes to the TensorFlow graph.\u001b[0m\u001b[0;34m\u001b[0m\u001b[0;34m\u001b[0m\u001b[0m\n",
            "\u001b[0;32m/usr/local/lib/python3.6/dist-packages/tensorflow/python/ops/gen_cudnn_rnn_ops.py\u001b[0m in \u001b[0;36mcudnn_rnn_eager_fallback\u001b[0;34m(input, input_h, input_c, params, rnn_mode, input_mode, direction, dropout, seed, seed2, is_training, name, ctx)\u001b[0m\n\u001b[1;32m    195\u001b[0m   \"is_training\", is_training)\n\u001b[1;32m    196\u001b[0m   _result = _execute.execute(b\"CudnnRNN\", 4, inputs=_inputs_flat,\n\u001b[0;32m--> 197\u001b[0;31m                              attrs=_attrs, ctx=_ctx, name=name)\n\u001b[0m\u001b[1;32m    198\u001b[0m   _execute.record_gradient(\n\u001b[1;32m    199\u001b[0m       \"CudnnRNN\", _inputs_flat, _attrs, _result, name)\n",
            "\u001b[0;32m/usr/local/lib/python3.6/dist-packages/tensorflow/python/eager/execute.py\u001b[0m in \u001b[0;36mquick_execute\u001b[0;34m(op_name, num_outputs, inputs, attrs, ctx, name)\u001b[0m\n\u001b[1;32m     64\u001b[0m     \u001b[0;32melse\u001b[0m\u001b[0;34m:\u001b[0m\u001b[0;34m\u001b[0m\u001b[0;34m\u001b[0m\u001b[0m\n\u001b[1;32m     65\u001b[0m       \u001b[0mmessage\u001b[0m \u001b[0;34m=\u001b[0m \u001b[0me\u001b[0m\u001b[0;34m.\u001b[0m\u001b[0mmessage\u001b[0m\u001b[0;34m\u001b[0m\u001b[0;34m\u001b[0m\u001b[0m\n\u001b[0;32m---> 66\u001b[0;31m     \u001b[0msix\u001b[0m\u001b[0;34m.\u001b[0m\u001b[0mraise_from\u001b[0m\u001b[0;34m(\u001b[0m\u001b[0mcore\u001b[0m\u001b[0;34m.\u001b[0m\u001b[0m_status_to_exception\u001b[0m\u001b[0;34m(\u001b[0m\u001b[0me\u001b[0m\u001b[0;34m.\u001b[0m\u001b[0mcode\u001b[0m\u001b[0;34m,\u001b[0m \u001b[0mmessage\u001b[0m\u001b[0;34m)\u001b[0m\u001b[0;34m,\u001b[0m \u001b[0;32mNone\u001b[0m\u001b[0;34m)\u001b[0m\u001b[0;34m\u001b[0m\u001b[0;34m\u001b[0m\u001b[0m\n\u001b[0m\u001b[1;32m     67\u001b[0m   \u001b[0;32mexcept\u001b[0m \u001b[0mTypeError\u001b[0m \u001b[0;32mas\u001b[0m \u001b[0me\u001b[0m\u001b[0;34m:\u001b[0m\u001b[0;34m\u001b[0m\u001b[0;34m\u001b[0m\u001b[0m\n\u001b[1;32m     68\u001b[0m     \u001b[0;32mif\u001b[0m \u001b[0many\u001b[0m\u001b[0;34m(\u001b[0m\u001b[0mops\u001b[0m\u001b[0;34m.\u001b[0m\u001b[0m_is_keras_symbolic_tensor\u001b[0m\u001b[0;34m(\u001b[0m\u001b[0mx\u001b[0m\u001b[0;34m)\u001b[0m \u001b[0;32mfor\u001b[0m \u001b[0mx\u001b[0m \u001b[0;32min\u001b[0m \u001b[0minputs\u001b[0m\u001b[0;34m)\u001b[0m\u001b[0;34m:\u001b[0m\u001b[0;34m\u001b[0m\u001b[0;34m\u001b[0m\u001b[0m\n",
            "\u001b[0;32m/usr/local/lib/python3.6/dist-packages/six.py\u001b[0m in \u001b[0;36mraise_from\u001b[0;34m(value, from_value)\u001b[0m\n",
            "\u001b[0;31mInvalidArgumentError\u001b[0m: Invalid input_h shape: [1,64,1024] [1,1,1024] [Op:CudnnRNN]"
          ]
        }
      ]
    },
    {
      "cell_type": "markdown",
      "metadata": {
        "id": "5jgt-FdbLRBH",
        "colab_type": "text"
      },
      "source": [
        "# IMDB Sentiment by RNN with LSTM"
      ]
    },
    {
      "cell_type": "markdown",
      "metadata": {
        "id": "LQTymv17LRBK",
        "colab_type": "text"
      },
      "source": [
        "https://github.com/udacity/deep-learning-v2-pytorch/blob/master/sentiment-rnn/Sentiment_RNN_Solution.ipynb"
      ]
    },
    {
      "cell_type": "code",
      "metadata": {
        "id": "WWjuru71LRBL",
        "colab_type": "code",
        "outputId": "ff404a46-e1eb-48f4-cfce-3281371a6834",
        "colab": {}
      },
      "source": [
        "# !pip3 install -U torch torchvision\n",
        "import torch\n",
        "cuda = torch.cuda.is_available()\n",
        "device = torch.device(\"cuda:0\" if torch.cuda.is_available() else \"cpu\")\n",
        "torch.__version__, cuda"
      ],
      "execution_count": 0,
      "outputs": [
        {
          "output_type": "execute_result",
          "data": {
            "text/plain": [
              "('1.1.0', False)"
            ]
          },
          "metadata": {
            "tags": []
          },
          "execution_count": 59
        }
      ]
    },
    {
      "cell_type": "markdown",
      "metadata": {
        "id": "pC1OLIHBLRBZ",
        "colab_type": "text"
      },
      "source": [
        "## Data"
      ]
    },
    {
      "cell_type": "code",
      "metadata": {
        "scrolled": true,
        "id": "RcrWMDWlLRBZ",
        "colab_type": "code",
        "outputId": "50c6594f-7883-4ab0-98a3-c31eb33b0a4a",
        "colab": {}
      },
      "source": [
        "# import os,urllib,tempfile\n",
        "# os.chdir(tempfile.gettempdir())\n",
        "# urllib.request.urlretrieve('https://github.com/udacity/deep-learning-v2-pytorch/raw/master/sentiment-rnn/data/reviews.txt','reviews.txt')\n",
        "# urllib.request.urlretrieve('https://github.com/udacity/deep-learning-v2-pytorch/raw/master/sentiment-rnn/data/labels.txt','labels.txt')\n",
        "with open('reviews.txt', 'r') as f: reviews = f.read().strip()\n",
        "with open('labels.txt', 'r') as f:  labels = f.read().strip()\n",
        "print(reviews[:1000])\n",
        "print(labels[:20])"
      ],
      "execution_count": 0,
      "outputs": [
        {
          "output_type": "stream",
          "text": [
            "bromwell high is a cartoon comedy . it ran at the same time as some other programs about school life  such as  teachers  . my   years in the teaching profession lead me to believe that bromwell high  s satire is much closer to reality than is  teachers  . the scramble to survive financially  the insightful students who can see right through their pathetic teachers  pomp  the pettiness of the whole situation  all remind me of the schools i knew and their students . when i saw the episode in which a student repeatedly tried to burn down the school  i immediately recalled . . . . . . . . . at . . . . . . . . . . high . a classic line inspector i  m here to sack one of your teachers . student welcome to bromwell high . i expect that many adults of my age think that bromwell high is far fetched . what a pity that it isn  t   \n",
            "story of a man who has unnatural feelings for a pig . starts out with a opening scene that is a terrific example of absurd comedy . a formal orchestra audience is turn\n",
            "positive\n",
            "negative\n",
            "po\n"
          ],
          "name": "stdout"
        }
      ]
    },
    {
      "cell_type": "markdown",
      "metadata": {
        "id": "tgX94ecsLRBf",
        "colab_type": "text"
      },
      "source": [
        "### Preprocess"
      ]
    },
    {
      "cell_type": "code",
      "metadata": {
        "id": "ugpXuW3KLRBi",
        "colab_type": "code",
        "colab": {}
      },
      "source": [
        "# encode labels\n",
        "labels = np.array([int(l[0]=='p') for l in labels.split('\\n')]) #now list of int"
      ],
      "execution_count": 0,
      "outputs": []
    },
    {
      "cell_type": "code",
      "metadata": {
        "id": "5JSt_n5ZLRBo",
        "colab_type": "code",
        "colab": {}
      },
      "source": [
        "# tokenize\n",
        "from string import punctuation\n",
        "reviews = ''.join(c for c in reviews if c not in punctuation)\n",
        "reviews = reviews.lower().split('\\n')  #now list of strings\n",
        "\n",
        "words = [w for sent in reviews for w in sent.split()]\n",
        "Nw = len(words)"
      ],
      "execution_count": 0,
      "outputs": []
    },
    {
      "cell_type": "code",
      "metadata": {
        "id": "L3t-oRDSLRBs",
        "colab_type": "code",
        "colab": {}
      },
      "source": [
        "# encode reviews\n",
        "from collections import Counter\n",
        "\n",
        "counts = Counter(words)\n",
        "vocab = sorted(counts, key=counts.get, reverse=True)\n",
        "vocab2int = {word: ii+1 for ii, word in enumerate(vocab)}\n",
        "Nv = len(vocab2int)\n",
        "\n",
        "reviews = [[vocab2int[word] for word in r.split()] for r in reviews]  #now list of list of int"
      ],
      "execution_count": 0,
      "outputs": []
    },
    {
      "cell_type": "code",
      "metadata": {
        "id": "4j7TmrVkLRBw",
        "colab_type": "code",
        "colab": {}
      },
      "source": [
        "# pad/truncate reviews to constant length\n",
        "seqlen =  200\n",
        "reviews = np.asarray([([0]*(seqlen-len(r))+r)[:200] for r in reviews])"
      ],
      "execution_count": 0,
      "outputs": []
    },
    {
      "cell_type": "markdown",
      "metadata": {
        "id": "EP1F80sqLRBy",
        "colab_type": "text"
      },
      "source": [
        "### train/val/test"
      ]
    },
    {
      "cell_type": "code",
      "metadata": {
        "id": "KdmeQYqCLRBz",
        "colab_type": "code",
        "outputId": "3b0376d8-e86c-4725-b1b7-5a5339b2ab09",
        "colab": {}
      },
      "source": [
        "train_frac = 0.8\n",
        "val_frac = 0.1\n",
        "\n",
        "val_start  = int(len(reviews)*train_frac)\n",
        "test_start = val_start + int(len(reviews)*val_frac)\n",
        "train_x, val_x, test_x = reviews[:val_start], reviews[val_start:test_start], reviews[test_start:]\n",
        "train_y, val_y, test_y = labels[:val_start],  labels[val_start:test_start],  labels[test_start:]\n",
        "\n",
        "print(\"Feature Shapes:\\n\",\n",
        "      train_x.shape, \n",
        "      val_x.shape,\n",
        "      test_x.shape)"
      ],
      "execution_count": 0,
      "outputs": [
        {
          "output_type": "stream",
          "text": [
            "Feature Shapes:\n",
            " (20000, 200) (2500, 200) (2500, 200)\n"
          ],
          "name": "stdout"
        }
      ]
    },
    {
      "cell_type": "markdown",
      "metadata": {
        "id": "sdGU4fCCLRB5",
        "colab_type": "text"
      },
      "source": [
        "### Batch Loader"
      ]
    },
    {
      "cell_type": "code",
      "metadata": {
        "id": "GJznX3U3LRB5",
        "colab_type": "code",
        "colab": {}
      },
      "source": [
        "import torch\n",
        "from torch.utils.data import TensorDataset, DataLoader\n",
        "\n",
        "train_data = TensorDataset(torch.from_numpy(train_x), torch.from_numpy(train_y))\n",
        "valid_data = TensorDataset(torch.from_numpy(val_x), torch.from_numpy(val_y))\n",
        "test_data = TensorDataset(torch.from_numpy(test_x), torch.from_numpy(test_y))\n",
        "\n",
        "batch_size = 50\n",
        "\n",
        "train_loader = DataLoader(train_data, shuffle=True, batch_size=batch_size)\n",
        "valid_loader = DataLoader(valid_data, shuffle=True, batch_size=batch_size)\n",
        "test_loader = DataLoader(test_data, shuffle=True, batch_size=batch_size)"
      ],
      "execution_count": 0,
      "outputs": []
    },
    {
      "cell_type": "code",
      "metadata": {
        "id": "8XdBJnvvLRB8",
        "colab_type": "code",
        "outputId": "f66ee831-04a2-4aee-be0d-74c0bacf4c9f",
        "colab": {}
      },
      "source": [
        "sample_x, sample_y = next(iter(train_loader))\n",
        "\n",
        "print('Sample input size: ', sample_x.size()) # batch_size, seq_length\n",
        "print('Sample input: \\n', sample_x)\n",
        "print()\n",
        "print('Sample label size: ', sample_y.size()) # batch_size\n",
        "print('Sample label: \\n', sample_y)"
      ],
      "execution_count": 0,
      "outputs": [
        {
          "output_type": "stream",
          "text": [
            "Sample input size:  torch.Size([50, 200])\n",
            "Sample input: \n",
            " tensor([[   40,    26,   106,  ...,   674,   332,    32],\n",
            "        [    8,   552,    71,  ...,    42,    24,   142],\n",
            "        [   10,   139,   329,  ...,  2771,  5770,   282],\n",
            "        ...,\n",
            "        [   10,    14,  9088,  ...,    64,  2443,     4],\n",
            "        [    0,     0,     0,  ...,     7,     7, 54291],\n",
            "        [    0,     0,     0,  ...,     5,    75,     8]])\n",
            "\n",
            "Sample label size:  torch.Size([50])\n",
            "Sample label: \n",
            " tensor([1, 1, 0, 0, 1, 0, 0, 1, 1, 0, 1, 1, 0, 1, 1, 1, 0, 0, 1, 1, 0, 1, 1, 1,\n",
            "        0, 1, 0, 0, 0, 0, 1, 0, 0, 0, 0, 1, 1, 1, 1, 1, 0, 1, 1, 0, 0, 1, 0, 0,\n",
            "        0, 1])\n"
          ],
          "name": "stdout"
        }
      ]
    },
    {
      "cell_type": "markdown",
      "metadata": {
        "id": "KzfUV_-0LRCC",
        "colab_type": "text"
      },
      "source": [
        "## Model"
      ]
    },
    {
      "cell_type": "markdown",
      "metadata": {
        "id": "jjI1p_PQLRCD",
        "colab_type": "text"
      },
      "source": [
        "<img src=\"https://raw.githubusercontent.com/udacity/deep-learning-v2-pytorch/master/sentiment-rnn/assets/network_diagram.png\" width=\"200px\"/>"
      ]
    },
    {
      "cell_type": "code",
      "metadata": {
        "id": "OB3CYtm8LRCE",
        "colab_type": "code",
        "colab": {}
      },
      "source": [
        "lr=0.001\n",
        "epochs = 4 # 3-4 is approx where I noticed the validation loss stop decreasing\n",
        "print_every = 100\n",
        "clip=5 # gradient clipping"
      ],
      "execution_count": 0,
      "outputs": []
    },
    {
      "cell_type": "code",
      "metadata": {
        "id": "E98LTGplLRCI",
        "colab_type": "code",
        "outputId": "a81f0bfd-945d-42b9-f23e-d603def0abd0",
        "colab": {}
      },
      "source": [
        "import torch.nn as nn\n",
        "\n",
        "class SentimentRNN(nn.Module):\n",
        "\n",
        "    def __init__(self, vocab_size, output_size, embedding_dim, hidden_dim, n_layers, drop_prob=0.5):\n",
        "        super(SentimentRNN, self).__init__()\n",
        "\n",
        "        self.output_size = output_size\n",
        "        self.n_layers = n_layers\n",
        "        self.hidden_dim = hidden_dim\n",
        "        \n",
        "        self.embedding = nn.Embedding(vocab_size, embedding_dim)\n",
        "        self.lstm = nn.LSTM(embedding_dim, hidden_dim, n_layers, \n",
        "                            dropout=drop_prob, batch_first=True)        \n",
        "        self.dropout = nn.Dropout(0.3)\n",
        "        self.fc = nn.Linear(hidden_dim, output_size)\n",
        "        self.sig = nn.Sigmoid()\n",
        "        \n",
        "    def forward(self, x, hidden):\n",
        "        batch_size = x.size(0)\n",
        "        x = x.long()\n",
        "        embeds = self.embedding(x)\n",
        "        lstm_out, hidden = self.lstm(embeds, hidden)\n",
        "    \n",
        "        lstm_out = lstm_out.contiguous().view(-1, self.hidden_dim)\n",
        "        out = self.dropout(lstm_out)\n",
        "        out = self.fc(out)\n",
        "        sig_out = self.sig(out)\n",
        "        \n",
        "        sig_out = sig_out.view(batch_size, -1)\n",
        "        sig_out = sig_out[:, -1]\n",
        "        return sig_out, hidden\n",
        "    \n",
        "    \n",
        "    def init_hidden(self, batch_size):\n",
        "        # Helper init hidden & cell states of size (n_layers, batch_size, hidden_dim)\n",
        "        weight = next(self.parameters()).data\n",
        "        \n",
        "        hidden = (weight.new(self.n_layers, batch_size, self.hidden_dim).zero_().to(device),\n",
        "                  weight.new(self.n_layers, batch_size, self.hidden_dim).zero_().to(device))\n",
        "        \n",
        "        return hidden\n",
        "    \n",
        "vocab_size = Nv + 1 # for 0 padding\n",
        "output_size = 1\n",
        "embedding_dim = 400\n",
        "hidden_dim = 256\n",
        "n_layers = 2\n",
        "net = SentimentRNN(vocab_size, output_size, embedding_dim, hidden_dim, n_layers)\n",
        "print(net)"
      ],
      "execution_count": 0,
      "outputs": [
        {
          "output_type": "stream",
          "text": [
            "SentimentRNN(\n",
            "  (embedding): Embedding(74073, 400)\n",
            "  (lstm): LSTM(400, 256, num_layers=2, batch_first=True, dropout=0.5)\n",
            "  (dropout): Dropout(p=0.3)\n",
            "  (fc): Linear(in_features=256, out_features=1, bias=True)\n",
            "  (sig): Sigmoid()\n",
            ")\n"
          ],
          "name": "stdout"
        }
      ]
    },
    {
      "cell_type": "code",
      "metadata": {
        "id": "2x8fb1hRLRCM",
        "colab_type": "code",
        "colab": {}
      },
      "source": [
        "criterion = nn.BCELoss()\n",
        "optimizer = torch.optim.Adam(net.parameters(), lr=lr)"
      ],
      "execution_count": 0,
      "outputs": []
    },
    {
      "cell_type": "markdown",
      "metadata": {
        "id": "-T2X9-w6LRCP",
        "colab_type": "text"
      },
      "source": [
        "## Train"
      ]
    },
    {
      "cell_type": "code",
      "metadata": {
        "id": "ITKL8tkVLRCQ",
        "colab_type": "code",
        "colab": {}
      },
      "source": [
        "if cuda: net.cuda()\n",
        "net.train()\n",
        "for e in range(epochs):\n",
        "    h = net.init_hidden(batch_size)\n",
        "    for i, (inputs, labels) in enumerate(train_loader):\n",
        "\n",
        "        if cuda: inputs, labels = inputs.cuda(), labels.cuda()\n",
        "        h = tuple([each.data for each in h])  # so as not to backprop to past\n",
        "\n",
        "        net.zero_grad()\n",
        "        output, h = net(inputs, h)\n",
        "        loss = criterion(output.squeeze(), labels.float())\n",
        "        loss.backward()\n",
        "        nn.utils.clip_grad_norm_(net.parameters(), clip)\n",
        "        optimizer.step()\n",
        "\n",
        "        if i % print_every == 0:\n",
        "            val_h = net.init_hidden(batch_size)\n",
        "            val_losses = []\n",
        "            net.eval()\n",
        "            for inputs, labels in valid_loader:\n",
        "                if cuda: inputs, labels = inputs.cuda(), labels.cuda()\n",
        "                val_h = tuple([each.data for each in val_h]) # so as not to backprop to past\n",
        "\n",
        "                output, val_h = net(inputs, val_h)\n",
        "                val_loss = criterion(output.squeeze(), labels.float())\n",
        "                val_losses.append(val_loss.item())\n",
        "\n",
        "            net.train()\n",
        "            print(f\"Epoch: {e+1}/{epochs}...\",\n",
        "                  f\"Step: {counter}...\",\n",
        "                  f\"Loss: {loss.item():.6f}...\",\n",
        "                  f\"Val Loss: {np.mean(val_losses):.6f}\")"
      ],
      "execution_count": 0,
      "outputs": []
    },
    {
      "cell_type": "markdown",
      "metadata": {
        "id": "5JdiyjKBLRCa",
        "colab_type": "text"
      },
      "source": [
        "## Evaluate"
      ]
    },
    {
      "cell_type": "markdown",
      "metadata": {
        "id": "7al49hwwLRCb",
        "colab_type": "text"
      },
      "source": [
        "### on test set"
      ]
    },
    {
      "cell_type": "code",
      "metadata": {
        "id": "6Nbp5iNtLRCc",
        "colab_type": "code",
        "colab": {}
      },
      "source": [
        "test_losses = [] # track loss\n",
        "num_correct = 0\n",
        "\n",
        "h = net.init_hidden(batch_size)\n",
        "net.eval()\n",
        "for inputs, labels in test_loader:\n",
        "    h = tuple([each.data for each in h])\n",
        "\n",
        "    if cuda:   inputs, labels = inputs.cuda(), labels.cuda()\n",
        "    \n",
        "    output, h = net(inputs, h)\n",
        "    test_loss = criterion(output.squeeze(), labels.float())\n",
        "    test_losses.append(test_loss.item())\n",
        "    pred = torch.round(output.squeeze())   # to either 0 or 1\n",
        "    \n",
        "    correct_tensor = pred.eq(labels.float().view_as(pred))\n",
        "    if cuda: correct_tensor=correct_tensor.cpu()\n",
        "    correct = np.squeeze(correct_tensor.numpy())\n",
        "    num_correct += np.sum(correct)\n",
        "\n",
        "\n",
        "print(f\"Test loss: {np.mean(test_losses):.3f}\")\n",
        "print(f\"Test accuracy: {num_correct/len(test_loader.dataset):.3f}\")"
      ],
      "execution_count": 0,
      "outputs": []
    },
    {
      "cell_type": "markdown",
      "metadata": {
        "id": "7zULoelyLRCf",
        "colab_type": "text"
      },
      "source": [
        "### on new data"
      ]
    },
    {
      "cell_type": "code",
      "metadata": {
        "id": "DXJObFXcLRCg",
        "colab_type": "code",
        "colab": {}
      },
      "source": [
        ""
      ],
      "execution_count": 0,
      "outputs": []
    },
    {
      "cell_type": "markdown",
      "metadata": {
        "id": "QOcKnr3SLRCi",
        "colab_type": "text"
      },
      "source": [
        "# IMDB large sentiment by Bidirectional LSTM"
      ]
    },
    {
      "cell_type": "markdown",
      "metadata": {
        "id": "yevQUOE1LRCi",
        "colab_type": "text"
      },
      "source": [
        "https://www.tensorflow.org/alpha/tutorials/text/text_classification_rnn"
      ]
    },
    {
      "cell_type": "code",
      "metadata": {
        "id": "I99kcC4ZLRCj",
        "colab_type": "code",
        "colab": {}
      },
      "source": [
        "!pip install -q tensorflow-gpu==2.0.0-alpha0\n",
        "import tensorflow_datasets as tfds\n",
        "import tensorflow as tf\n",
        "from tensorflow import keras"
      ],
      "execution_count": 0,
      "outputs": []
    },
    {
      "cell_type": "markdown",
      "metadata": {
        "id": "yG-8ipamLRCr",
        "colab_type": "text"
      },
      "source": [
        "## Load Data"
      ]
    },
    {
      "cell_type": "code",
      "metadata": {
        "id": "4Frx1deGLRCs",
        "colab_type": "code",
        "colab": {}
      },
      "source": [
        "dataset, info = tfds.load('imdb_reviews/subwords8k', with_info=True,\n",
        "                          as_supervised=True)\n",
        "train_dataset, test_dataset = dataset['train'], dataset['test']"
      ],
      "execution_count": 0,
      "outputs": []
    },
    {
      "cell_type": "code",
      "metadata": {
        "scrolled": true,
        "id": "phw-x7-TLRC1",
        "colab_type": "code",
        "outputId": "d0e71c48-2121-4c0b-8e13-2b16b7a73030",
        "colab": {
          "base_uri": "https://localhost:8080/",
          "height": 52
        }
      },
      "source": [
        "tokenizer = info.features['text'].encoder\n",
        "print(tokenizer.encode('sample string'))\n",
        "print(tokenizer.decode(tokenizer.encode('sample string')))"
      ],
      "execution_count": 0,
      "outputs": [
        {
          "output_type": "stream",
          "text": [
            "[460, 4568, 49, 5875]\n",
            "sample string\n"
          ],
          "name": "stdout"
        }
      ]
    },
    {
      "cell_type": "code",
      "metadata": {
        "id": "LJXcYcMILRDD",
        "colab_type": "code",
        "colab": {}
      },
      "source": [
        "BUFFER_SIZE = 10000\n",
        "BATCH_SIZE = 64\n",
        "\n",
        "train_dataset = train_dataset.shuffle(BUFFER_SIZE)\n",
        "train_dataset = train_dataset.padded_batch(BATCH_SIZE, train_dataset.output_shapes)\n",
        "test_dataset = test_dataset.padded_batch(BATCH_SIZE, test_dataset.output_shapes)"
      ],
      "execution_count": 0,
      "outputs": []
    },
    {
      "cell_type": "markdown",
      "metadata": {
        "id": "1WL5FVPdLRDH",
        "colab_type": "text"
      },
      "source": [
        "## Model"
      ]
    },
    {
      "cell_type": "code",
      "metadata": {
        "id": "uMTDtkGWLRDJ",
        "colab_type": "code",
        "outputId": "de454b41-cd8c-4560-b88e-dfd2c61410b0",
        "colab": {
          "base_uri": "https://localhost:8080/",
          "height": 72
        }
      },
      "source": [
        "embed_dim=64\n",
        "model = keras.Sequential([\n",
        "    keras.layers.Embedding(tokenizer.vocab_size, embed_dim),\n",
        "    keras.layers.Bidirectional(tf.keras.layers.LSTM(embed_dim)),\n",
        "    keras.layers.Dense(64, activation='relu'),\n",
        "    keras.layers.Dense(1, activation='sigmoid')\n",
        "])\n",
        "model.compile(loss='binary_crossentropy',\n",
        "              optimizer='adam',\n",
        "              metrics=['accuracy'])"
      ],
      "execution_count": 0,
      "outputs": [
        {
          "output_type": "stream",
          "text": [
            "W0525 13:38:09.723803 140406638167936 tf_logging.py:161] <tensorflow.python.keras.layers.recurrent.UnifiedLSTM object at 0x7fb2704078d0>: Note that this layer is not optimized for performance. Please use tf.keras.layers.CuDNNLSTM for better performance on GPU.\n",
            "W0525 13:38:09.729490 140406638167936 tf_logging.py:161] <tensorflow.python.keras.layers.recurrent.UnifiedLSTM object at 0x7fb270310978>: Note that this layer is not optimized for performance. Please use tf.keras.layers.CuDNNLSTM for better performance on GPU.\n"
          ],
          "name": "stderr"
        }
      ]
    },
    {
      "cell_type": "code",
      "metadata": {
        "id": "vB3LFxgbTKlX",
        "colab_type": "code",
        "colab": {}
      },
      "source": [
        "# 2 layers\n",
        "embed_dim=64\n",
        "model = tf.keras.Sequential([\n",
        "    tf.keras.layers.Embedding(tokenizer.vocab_size, embed_dim),\n",
        "    tf.keras.layers.Bidirectional(tf.keras.layers.LSTM(embed_dim, return_sequences=True)),\n",
        "    tf.keras.layers.Bidirectional(tf.keras.layers.LSTM(32)),  #???\n",
        "    tf.keras.layers.Dense(embed_dim, activation='relu'),\n",
        "    tf.keras.layers.Dense(1, activation='sigmoid')\n",
        "])\n",
        "model.compile(loss='binary_crossentropy',\n",
        "              optimizer='adam',\n",
        "              metrics=['accuracy'])"
      ],
      "execution_count": 0,
      "outputs": []
    },
    {
      "cell_type": "markdown",
      "metadata": {
        "id": "OTSwHswOLRDO",
        "colab_type": "text"
      },
      "source": [
        "## Train"
      ]
    },
    {
      "cell_type": "code",
      "metadata": {
        "id": "CL7UyYuELRDP",
        "colab_type": "code",
        "outputId": "ff83d4fa-2aec-4a8f-d687-a450ffca0dbe",
        "colab": {
          "base_uri": "https://localhost:8080/",
          "height": 364
        }
      },
      "source": [
        "history = model.fit(train_dataset, epochs=10,\n",
        "                    validation_data=test_dataset)"
      ],
      "execution_count": 0,
      "outputs": [
        {
          "output_type": "stream",
          "text": [
            "Epoch 1/10\n",
            "391/391 [==============================] - 73s 187ms/step - loss: 0.5591 - accuracy: 0.7080 - val_loss: 0.0000e+00 - val_accuracy: 0.0000e+00\n",
            "Epoch 2/10\n",
            "391/391 [==============================] - 68s 173ms/step - loss: 0.4943 - accuracy: 0.7756 - val_loss: 0.5828 - val_accuracy: 0.7039\n",
            "Epoch 3/10\n",
            "391/391 [==============================] - 68s 173ms/step - loss: 0.4360 - accuracy: 0.8133 - val_loss: 0.4864 - val_accuracy: 0.7809\n",
            "Epoch 4/10\n",
            "391/391 [==============================] - 67s 172ms/step - loss: 0.3825 - accuracy: 0.8386 - val_loss: 0.4843 - val_accuracy: 0.8057\n",
            "Epoch 5/10\n",
            "391/391 [==============================] - 67s 172ms/step - loss: 0.2997 - accuracy: 0.8796 - val_loss: 0.4464 - val_accuracy: 0.7953\n",
            "Epoch 6/10\n",
            "391/391 [==============================] - 68s 174ms/step - loss: 0.2444 - accuracy: 0.9071 - val_loss: 0.4224 - val_accuracy: 0.8240\n",
            "Epoch 7/10\n",
            "391/391 [==============================] - 67s 172ms/step - loss: 0.2104 - accuracy: 0.9230 - val_loss: 0.4450 - val_accuracy: 0.8179\n",
            "Epoch 8/10\n",
            "391/391 [==============================] - 67s 171ms/step - loss: 0.1728 - accuracy: 0.9380 - val_loss: 0.4583 - val_accuracy: 0.8360\n",
            "Epoch 9/10\n",
            "391/391 [==============================] - 67s 172ms/step - loss: 0.1360 - accuracy: 0.9538 - val_loss: 0.5049 - val_accuracy: 0.8322\n",
            "Epoch 10/10\n",
            "391/391 [==============================] - 68s 173ms/step - loss: 0.1175 - accuracy: 0.9600 - val_loss: 0.5491 - val_accuracy: 0.8158\n"
          ],
          "name": "stdout"
        }
      ]
    },
    {
      "cell_type": "markdown",
      "metadata": {
        "id": "smheVKwLQ5w6",
        "colab_type": "text"
      },
      "source": [
        "## Evaluate"
      ]
    },
    {
      "cell_type": "code",
      "metadata": {
        "id": "HtoY3WiCQ5K3",
        "colab_type": "code",
        "outputId": "9b2dfbb3-f8e2-4d0c-cef4-79777c7b9b51",
        "colab": {
          "base_uri": "https://localhost:8080/",
          "height": 52
        }
      },
      "source": [
        "test_loss, test_acc = model.evaluate(test_dataset)\n",
        "\n",
        "print(f'Test Loss: {test_loss}')\n",
        "print(f'Test Accuracy: {test_acc}')"
      ],
      "execution_count": 0,
      "outputs": [
        {
          "output_type": "stream",
          "text": [
            "    391/Unknown - 23s 58ms/step - loss: 0.5491 - accuracy: 0.8158Test Loss: 0.5490736904199166\n",
            "Test Accuracy: 0.8158000111579895\n"
          ],
          "name": "stdout"
        }
      ]
    },
    {
      "cell_type": "code",
      "metadata": {
        "id": "qS8mp5AASP0h",
        "colab_type": "code",
        "outputId": "38a9d661-a6e4-4e09-c2f0-9c1396df834f",
        "colab": {
          "base_uri": "https://localhost:8080/",
          "height": 34
        }
      },
      "source": [
        "# New data\n",
        "s = \"I used to hate his move. This is out of expectation\"\n",
        "tokenized = tokenizer.encode(s)\n",
        "model.predict(tf.expand_dims(tokenized,0))"
      ],
      "execution_count": 0,
      "outputs": [
        {
          "output_type": "execute_result",
          "data": {
            "text/plain": [
              "array([[0.3861948]], dtype=float32)"
            ]
          },
          "metadata": {
            "tags": []
          },
          "execution_count": 15
        }
      ]
    },
    {
      "cell_type": "markdown",
      "metadata": {
        "colab_type": "text",
        "collapsed": true,
        "id": "CutEUFmoNDzx"
      },
      "source": [
        "# [HRNN](https://github.com/fchollet/keras/blob/master/examples/mnist_hierarchical_rnn.py)"
      ]
    },
    {
      "cell_type": "code",
      "metadata": {
        "colab_type": "code",
        "id": "HHoSJsT7NDzy",
        "colab": {}
      },
      "source": [
        "from keras.models import Sequential, Model\n",
        "from keras.layers import Input, Dense, TimeDistributed\n",
        "from keras.layers import LSTM\n",
        "batch_size = 32\n",
        "nb_epochs = 5\n",
        "row_hidden = 128\n",
        "col_hidden = 128"
      ],
      "execution_count": 0,
      "outputs": []
    },
    {
      "cell_type": "markdown",
      "metadata": {
        "colab_type": "text",
        "id": "BKSs95M1NDz1"
      },
      "source": [
        "## Data"
      ]
    },
    {
      "cell_type": "code",
      "metadata": {
        "colab_type": "code",
        "id": "cXODV9YjNDz2",
        "colab": {}
      },
      "source": [
        "X_train_ = X_train.reshape(X_train.shape[0], img_rows, img_cols, 1)\n",
        "X_test_ = X_test.reshape(X_test.shape[0], img_rows, img_cols, 1)\n",
        "row, col, pixel = X_train_.shape[1:]"
      ],
      "execution_count": 0,
      "outputs": []
    },
    {
      "cell_type": "markdown",
      "metadata": {
        "colab_type": "text",
        "id": "Z0TObzULNDz6"
      },
      "source": [
        "## Model"
      ]
    },
    {
      "cell_type": "code",
      "metadata": {
        "colab_type": "code",
        "id": "cztvwuvzNDz7",
        "colab": {}
      },
      "source": [
        "x = Input(shape=(row, col, pixel))\n",
        "encoded_rows = TimeDistributed(LSTM(output_dim=row_hidden))(x)\n",
        "encoded_columns = LSTM(col_hidden)(encoded_rows)\n",
        "prediction = Dense(10, activation='softmax')(encoded_columns)\n",
        "model = Model(input=x, output=prediction)\n",
        "model.compile(loss='categorical_crossentropy',\n",
        "              optimizer='rmsprop',\n",
        "              metrics=['accuracy'])\n",
        "model.summary()"
      ],
      "execution_count": 0,
      "outputs": []
    },
    {
      "cell_type": "code",
      "metadata": {
        "colab_type": "code",
        "id": "AyBjnd2GND0E",
        "colab": {}
      },
      "source": [
        "model.fit(X_train_, Y_train, batch_size=batch_size, nb_epoch=nb_epochs,verbose=1,validation_data=(X_test_, Y_test))\n",
        "\n",
        "scores = model.evaluate(X_test_, Y_test, verbose=0)\n",
        "print('Test loss:', scores[0])\n",
        "print('Test accuracy:', scores[1])"
      ],
      "execution_count": 0,
      "outputs": []
    },
    {
      "cell_type": "code",
      "metadata": {
        "id": "JkmggX_SLRD-",
        "colab_type": "code",
        "colab": {}
      },
      "source": [
        ""
      ],
      "execution_count": 0,
      "outputs": []
    }
  ]
}