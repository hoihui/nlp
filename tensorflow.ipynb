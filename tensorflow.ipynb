{
 "cells": [
  {
   "cell_type": "markdown",
   "metadata": {
    "colab_type": "text",
    "id": "view-in-github"
   },
   "source": [
    "<a href=\"https://colab.research.google.com/github/hoihui/pkgs/blob/master/tensorflow.ipynb\" target=\"_parent\"><img src=\"https://colab.research.google.com/assets/colab-badge.svg\" alt=\"Open In Colab\"/></a>"
   ]
  },
  {
   "cell_type": "code",
   "execution_count": 3,
   "metadata": {
    "colab": {
     "base_uri": "https://localhost:8080/",
     "height": 593
    },
    "colab_type": "code",
    "id": "GrHIlcRWiEmj",
    "outputId": "d21350c7-76d2-4ecb-9cac-2711cfdd963f"
   },
   "outputs": [
    {
     "data": {
      "text/plain": [
       "'2.0.0-alpha0'"
      ]
     },
     "execution_count": 3,
     "metadata": {},
     "output_type": "execute_result"
    }
   ],
   "source": [
    "# !pip install tensorflow==2.0.0-alpha0\n",
    "import tensorflow as tf\n",
    "tf.__version__"
   ]
  },
  {
   "cell_type": "markdown",
   "metadata": {
    "colab_type": "text",
    "id": "8euRlSD7nz1L"
   },
   "source": [
    "# Keras from tf"
   ]
  },
  {
   "cell_type": "code",
   "execution_count": 8,
   "metadata": {
    "colab": {},
    "colab_type": "code",
    "id": "iVFwJRU6n1E0"
   },
   "outputs": [],
   "source": [
    "(x_train, y_train), (x_test, y_test) = tf.keras.datasets.mnist.load_data()\n",
    "x_train, x_test = x_train / 255.0, x_test / 255.0"
   ]
  },
  {
   "cell_type": "code",
   "execution_count": 6,
   "metadata": {},
   "outputs": [
    {
     "name": "stdout",
     "output_type": "stream",
     "text": [
      "Epoch 1/5\n",
      "60000/60000 [==============================] - 3s 48us/sample - loss: 0.2983 - accuracy: 0.9136\n",
      "Epoch 2/5\n",
      "60000/60000 [==============================] - 3s 44us/sample - loss: 0.1445 - accuracy: 0.9571\n",
      "Epoch 3/5\n",
      "60000/60000 [==============================] - 3s 50us/sample - loss: 0.1097 - accuracy: 0.9677\n",
      "Epoch 4/5\n",
      "60000/60000 [==============================] - 3s 53us/sample - loss: 0.0878 - accuracy: 0.9732\n",
      "Epoch 5/5\n",
      "60000/60000 [==============================] - 3s 54us/sample - loss: 0.0735 - accuracy: 0.9770\n",
      "10000/10000 [==============================] - 0s 34us/sample - loss: 0.0741 - accuracy: 0.9772\n"
     ]
    },
    {
     "data": {
      "text/plain": [
       "[0.07413896776521578, 0.9772]"
      ]
     },
     "execution_count": 6,
     "metadata": {},
     "output_type": "execute_result"
    }
   ],
   "source": [
    "model = tf.keras.models.Sequential([\n",
    "  tf.keras.layers.Flatten(input_shape=(28, 28)),\n",
    "  tf.keras.layers.Dense(128, activation='relu'),\n",
    "  tf.keras.layers.Dropout(0.2),\n",
    "  tf.keras.layers.Dense(10, activation='softmax')\n",
    "])\n",
    "\n",
    "model.compile(optimizer='adam',\n",
    "              loss='sparse_categorical_crossentropy',\n",
    "              metrics=['accuracy'])\n",
    "\n",
    "model.fit(x_train, y_train, epochs=5)\n",
    "model.evaluate(x_test, y_test) #outputs"
   ]
  },
  {
   "cell_type": "markdown",
   "metadata": {},
   "source": [
    "# sklearn interface"
   ]
  },
  {
   "cell_type": "code",
   "execution_count": null,
   "metadata": {},
   "outputs": [],
   "source": [
    "import tensorflow.estimator as skflow\n",
    "from sklearn import datasets, metrics\n",
    "\n",
    "iris = datasets.load_iris()\n",
    "classifier = skflow.LinearClassifier(n_classes=3)\n",
    "classifier.fit(iris.data, iris.target)\n",
    "score = metrics.accuracy_score(iris.target, classifier.predict(iris.data))\n",
    "print(\"Accuracy: %f\" % score)"
   ]
  },
  {
   "cell_type": "code",
   "execution_count": null,
   "metadata": {},
   "outputs": [],
   "source": [
    "import tensorflow.contrib.learn as skflow\n",
    "from sklearn import datasets, metrics, preprocessing\n",
    "\n",
    "boston = datasets.load_boston()\n",
    "X = preprocessing.StandardScaler().fit_transform(boston.data)\n",
    "regressor = skflow.LinearRegressor()\n",
    "regressor.fit(X, boston.target)\n",
    "score = metrics.mean_squared_error(regressor.predict(X), boston.target)\n",
    "print (\"MSE: %f\" % score)"
   ]
  },
  {
   "cell_type": "code",
   "execution_count": null,
   "metadata": {},
   "outputs": [],
   "source": [
    "import tensorflow.contrib.learn as skflow\n",
    "from sklearn import datasets, metrics\n",
    "\n",
    "iris = datasets.load_iris()\n",
    "classifier = skflow.DNNClassifier(hidden_units=[10, 20, 10], n_classes=3)\n",
    "classifier.fit(iris.data, iris.target)\n",
    "score = metrics.accuracy_score(iris.target, classifier.predict(iris.data))\n",
    "print(\"Accuracy: %f\" % score)"
   ]
  },
  {
   "cell_type": "code",
   "execution_count": null,
   "metadata": {},
   "outputs": [],
   "source": [
    "import tensorflow.contrib.learn as skflow\n",
    "from sklearn import datasets, metrics\n",
    "\n",
    "iris = datasets.load_iris()\n",
    "\n",
    "def my_model(X, y):\n",
    "    \"\"\"This is DNN with 10, 20, 10 hidden layers, and dropout of 0.5 probability.\"\"\"\n",
    "    layers = skflow.ops.dnn(X, [10, 20, 10])\n",
    "    return skflow.models.logistic_regression(layers, y)\n",
    "\n",
    "classifier = skflow.TensorFlowEstimator(model_fn=my_model, n_classes=3)\n",
    "classifier.fit(iris.data, iris.target)\n",
    "score = metrics.accuracy_score(iris.target, classifier.predict(iris.data))\n",
    "print(\"Accuracy: %f\" % score)"
   ]
  }
 ],
 "metadata": {
  "colab": {
   "include_colab_link": true,
   "name": "tensorflow.ipynb",
   "provenance": [],
   "toc_visible": true,
   "version": "0.3.2"
  },
  "kernelspec": {
   "display_name": "Python 3",
   "language": "python",
   "name": "python3"
  },
  "language_info": {
   "codemirror_mode": {
    "name": "ipython",
    "version": 3
   },
   "file_extension": ".py",
   "mimetype": "text/x-python",
   "name": "python",
   "nbconvert_exporter": "python",
   "pygments_lexer": "ipython3",
   "version": "3.6.8"
  },
  "toc": {
   "base_numbering": 1,
   "nav_menu": {},
   "number_sections": true,
   "sideBar": true,
   "skip_h1_title": false,
   "title_cell": "Table of Contents",
   "title_sidebar": "Contents",
   "toc_cell": false,
   "toc_position": {},
   "toc_section_display": true,
   "toc_window_display": false
  }
 },
 "nbformat": 4,
 "nbformat_minor": 1
}
