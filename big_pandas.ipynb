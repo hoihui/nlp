{
 "cells": [
  {
   "cell_type": "code",
   "execution_count": 1,
   "metadata": {},
   "outputs": [
    {
     "name": "stdout",
     "output_type": "stream",
     "text": [
      "total 188K\n",
      "-rw-rw-r-- 1 hoi hoi 186K Jul 27 11:21 data.csv\n",
      "c0,c1,c2,c3,c4,c5,c6,c7,c8,c9\n",
      "0.22551347137290423,0.9846257837040508,0.6730060970271642,0.003080832908103126,0.9411013885380247,0.47059299115851905,0.10939316897201612,0.0020296052284569654,0.2604777726569246,0.003516160658127654\n"
     ]
    }
   ],
   "source": [
    "import numpy as np\n",
    "import pandas as pd\n",
    "import os, tempfile\n",
    "os.chdir(tempfile.mkdtemp())\n",
    "pd.DataFrame(np.random.random((987,10)),columns=[f'c{i}' for i in range(10)]).to_csv('data.csv',index=False)\n",
    "!ls -hl\n",
    "!head -2 data.csv"
   ]
  },
  {
   "cell_type": "markdown",
   "metadata": {},
   "source": [
    "# sql\n",
    "## create db"
   ]
  },
  {
   "cell_type": "code",
   "execution_count": 2,
   "metadata": {},
   "outputs": [],
   "source": [
    "from sqlalchemy import create_engine\n",
    "engine = create_engine('sqlite:///database1.db')  #in memory: 'sqlite:///:memory:'\n",
    "for df in pd.read_csv('data.csv',chunksize=1000,iterator=True):\n",
    "    df.to_sql('table1',engine,if_exists='append')\n",
    "    (df+.1).to_sql('table2',engine,if_exists='append')"
   ]
  },
  {
   "cell_type": "code",
   "execution_count": 3,
   "metadata": {},
   "outputs": [
    {
     "data": {
      "text/html": [
       "<div>\n",
       "<style scoped>\n",
       "    .dataframe tbody tr th:only-of-type {\n",
       "        vertical-align: middle;\n",
       "    }\n",
       "\n",
       "    .dataframe tbody tr th {\n",
       "        vertical-align: top;\n",
       "    }\n",
       "\n",
       "    .dataframe thead th {\n",
       "        text-align: right;\n",
       "    }\n",
       "</style>\n",
       "<table border=\"1\" class=\"dataframe\">\n",
       "  <thead>\n",
       "    <tr style=\"text-align: right;\">\n",
       "      <th></th>\n",
       "      <th>c2</th>\n",
       "      <th>c8</th>\n",
       "    </tr>\n",
       "  </thead>\n",
       "  <tbody>\n",
       "    <tr>\n",
       "      <th>0</th>\n",
       "      <td>0.972368</td>\n",
       "      <td>0.135409</td>\n",
       "    </tr>\n",
       "    <tr>\n",
       "      <th>1</th>\n",
       "      <td>0.641813</td>\n",
       "      <td>0.281087</td>\n",
       "    </tr>\n",
       "    <tr>\n",
       "      <th>2</th>\n",
       "      <td>0.856883</td>\n",
       "      <td>0.438412</td>\n",
       "    </tr>\n",
       "  </tbody>\n",
       "</table>\n",
       "</div>"
      ],
      "text/plain": [
       "         c2        c8\n",
       "0  0.972368  0.135409\n",
       "1  0.641813  0.281087\n",
       "2  0.856883  0.438412"
      ]
     },
     "execution_count": 3,
     "metadata": {},
     "output_type": "execute_result"
    }
   ],
   "source": [
    "df = pd.read_sql_query('SELECT c2,c8 '\n",
    "                       'FROM table1 '\n",
    "                       'WHERE c5>0.9 '\n",
    "                       'LIMIT 3', engine)\n",
    "df.head()"
   ]
  },
  {
   "cell_type": "markdown",
   "metadata": {},
   "source": [
    "## merge"
   ]
  },
  {
   "cell_type": "code",
   "execution_count": 4,
   "metadata": {},
   "outputs": [],
   "source": [
    "from sqlalchemy import create_engine\n",
    "df=pd.read_sql_query(\"SELECT a.c1,b.c2,a.c3,b.c4 \"\n",
    "                     \"FROM table1 a, table2 b \"\n",
    "                     \"WHERE ABS(a.c3-b.c4)<0.01 AND \"\n",
    "                     \"a.c5 > b.c6 and \"\n",
    "                     \"a.c7 < b.c8 \"\n",
    "                     \"LIMIT 10000\",\n",
    "                     engine)"
   ]
  },
  {
   "cell_type": "code",
   "execution_count": 5,
   "metadata": {},
   "outputs": [
    {
     "name": "stdout",
     "output_type": "stream",
     "text": [
      "(4002, 4)\n"
     ]
    },
    {
     "data": {
      "text/html": [
       "<div>\n",
       "<style scoped>\n",
       "    .dataframe tbody tr th:only-of-type {\n",
       "        vertical-align: middle;\n",
       "    }\n",
       "\n",
       "    .dataframe tbody tr th {\n",
       "        vertical-align: top;\n",
       "    }\n",
       "\n",
       "    .dataframe thead th {\n",
       "        text-align: right;\n",
       "    }\n",
       "</style>\n",
       "<table border=\"1\" class=\"dataframe\">\n",
       "  <thead>\n",
       "    <tr style=\"text-align: right;\">\n",
       "      <th></th>\n",
       "      <th>c1</th>\n",
       "      <th>c2</th>\n",
       "      <th>c3</th>\n",
       "      <th>c4</th>\n",
       "    </tr>\n",
       "  </thead>\n",
       "  <tbody>\n",
       "    <tr>\n",
       "      <th>0</th>\n",
       "      <td>0.389376</td>\n",
       "      <td>0.483499</td>\n",
       "      <td>0.70721</td>\n",
       "      <td>0.704169</td>\n",
       "    </tr>\n",
       "    <tr>\n",
       "      <th>1</th>\n",
       "      <td>0.389376</td>\n",
       "      <td>0.128157</td>\n",
       "      <td>0.70721</td>\n",
       "      <td>0.699534</td>\n",
       "    </tr>\n",
       "    <tr>\n",
       "      <th>2</th>\n",
       "      <td>0.389376</td>\n",
       "      <td>0.445102</td>\n",
       "      <td>0.70721</td>\n",
       "      <td>0.698638</td>\n",
       "    </tr>\n",
       "    <tr>\n",
       "      <th>3</th>\n",
       "      <td>0.389376</td>\n",
       "      <td>0.808863</td>\n",
       "      <td>0.70721</td>\n",
       "      <td>0.709839</td>\n",
       "    </tr>\n",
       "    <tr>\n",
       "      <th>4</th>\n",
       "      <td>0.389376</td>\n",
       "      <td>1.077202</td>\n",
       "      <td>0.70721</td>\n",
       "      <td>0.705761</td>\n",
       "    </tr>\n",
       "  </tbody>\n",
       "</table>\n",
       "</div>"
      ],
      "text/plain": [
       "         c1        c2       c3        c4\n",
       "0  0.389376  0.483499  0.70721  0.704169\n",
       "1  0.389376  0.128157  0.70721  0.699534\n",
       "2  0.389376  0.445102  0.70721  0.698638\n",
       "3  0.389376  0.808863  0.70721  0.709839\n",
       "4  0.389376  1.077202  0.70721  0.705761"
      ]
     },
     "execution_count": 5,
     "metadata": {},
     "output_type": "execute_result"
    }
   ],
   "source": [
    "print(df.shape)\n",
    "df.head()https://www.google.com/search?client=ubuntu&channel=fs&q=compare+cinema+ticket+prices&ie=utf-8&oe=utf-8"
   ]
  },
  {
   "cell_type": "markdown",
   "metadata": {},
   "source": [
    "# dask"
   ]
  },
  {
   "cell_type": "code",
   "execution_count": 4,
   "metadata": {},
   "outputs": [
    {
     "name": "stdout",
     "output_type": "stream",
     "text": [
      "dask.array<amin-aggregate, shape=(), dtype=float64, chunksize=()>\n",
      "7.220128436546958e-05\n"
     ]
    }
   ],
   "source": [
    "import dask.array as da\n",
    "a2 = da.from_array(np.random.random((1000,100)), chunks=200)\n",
    "print((a2*4).min())\n",
    "print((a2*4).min().compute())"
   ]
  },
  {
   "cell_type": "code",
   "execution_count": 6,
   "metadata": {},
   "outputs": [
    {
     "data": {
      "text/html": [
       "<div><strong>Dask DataFrame Structure:</strong></div>\n",
       "<div>\n",
       "<style scoped>\n",
       "    .dataframe tbody tr th:only-of-type {\n",
       "        vertical-align: middle;\n",
       "    }\n",
       "\n",
       "    .dataframe tbody tr th {\n",
       "        vertical-align: top;\n",
       "    }\n",
       "\n",
       "    .dataframe thead th {\n",
       "        text-align: right;\n",
       "    }\n",
       "</style>\n",
       "<table border=\"1\" class=\"dataframe\">\n",
       "  <thead>\n",
       "    <tr style=\"text-align: right;\">\n",
       "      <th></th>\n",
       "      <th>c1</th>\n",
       "      <th>c5</th>\n",
       "    </tr>\n",
       "    <tr>\n",
       "      <th>npartitions=1</th>\n",
       "      <th></th>\n",
       "      <th></th>\n",
       "    </tr>\n",
       "  </thead>\n",
       "  <tbody>\n",
       "    <tr>\n",
       "      <th></th>\n",
       "      <td>float64</td>\n",
       "      <td>float64</td>\n",
       "    </tr>\n",
       "    <tr>\n",
       "      <th></th>\n",
       "      <td>...</td>\n",
       "      <td>...</td>\n",
       "    </tr>\n",
       "  </tbody>\n",
       "</table>\n",
       "</div>\n",
       "<div>Dask Name: from-delayed, 3 tasks</div>"
      ],
      "text/plain": [
       "Dask DataFrame Structure:\n",
       "                    c1       c5\n",
       "npartitions=1                  \n",
       "               float64  float64\n",
       "                   ...      ...\n",
       "Dask Name: from-delayed, 3 tasks"
      ]
     },
     "execution_count": 6,
     "metadata": {},
     "output_type": "execute_result"
    }
   ],
   "source": [
    "from dask import dataframe as dd\n",
    "data = dd.read_csv('data.csv', usecols=['c1','c5'])\n",
    "data"
   ]
  },
  {
   "cell_type": "code",
   "execution_count": 9,
   "metadata": {},
   "outputs": [
    {
     "name": "stdout",
     "output_type": "stream",
     "text": [
      "dd.Scalar<series-..., dtype=int64>\n",
      "(100,)\n",
      "0.0011506127139453315\n"
     ]
    }
   ],
   "source": [
    "print(data.c5.count())\n",
    "print(dd.compute(data.c5.count()))\n",
    "print((data.c5*data.c1).min().compute())"
   ]
  },
  {
   "cell_type": "markdown",
   "metadata": {},
   "source": [
    "# datatable"
   ]
  },
  {
   "cell_type": "code",
   "execution_count": null,
   "metadata": {},
   "outputs": [],
   "source": [
    "import datatable as dt\n",
    "print(dt.__version__)"
   ]
  },
  {
   "cell_type": "code",
   "execution_count": null,
   "metadata": {},
   "outputs": [],
   "source": [
    "df = dt.fread(\"data.csv\")\n",
    "df.to_numpy()\n",
    "df.to_pandas()"
   ]
  },
  {
   "cell_type": "code",
   "execution_count": null,
   "metadata": {},
   "outputs": [],
   "source": [
    "df.shape\n",
    "df.names # list of column names\n",
    "df.stypes # list of column types\n",
    "df.head(10)"
   ]
  },
  {
   "cell_type": "code",
   "execution_count": null,
   "metadata": {},
   "outputs": [],
   "source": [
    "df.sum()\n",
    "df.sd()\n",
    "df.mode()\n",
    "df.nmodal()\n",
    "df.nunique()\n",
    "df.max()\n",
    "df.min()\n",
    "df.mean()"
   ]
  },
  {
   "cell_type": "code",
   "execution_count": null,
   "metadata": {},
   "outputs": [],
   "source": [
    "df[:,'column_name']\n",
    "df[:5,:3]\n",
    "df.sort('column_name')\n",
    "df[dt.f.loan_amnt>dt.f.funded_amnt,\"loan_amnt\"]"
   ]
  },
  {
   "cell_type": "code",
   "execution_count": null,
   "metadata": {},
   "outputs": [],
   "source": [
    "del df[:,'column_name']"
   ]
  },
  {
   "cell_type": "code",
   "execution_count": null,
   "metadata": {},
   "outputs": [],
   "source": [
    "# groupby\n",
    "for i in range(100):\n",
    "    df[:, dt.sum(dt.f.funded_amnt), dt.by(dt.f.grade)]\n",
    "    \n",
    "## equiv pandas command\n",
    "for i in range(100):\n",
    "    pandas_df.groupby(\"grade\")[\"funded_amnt\"].sum()"
   ]
  },
  {
   "cell_type": "code",
   "execution_count": null,
   "metadata": {},
   "outputs": [],
   "source": [
    "df.to_csv('filename.csv')"
   ]
  }
 ],
 "metadata": {
  "kernelspec": {
   "display_name": "Python 3",
   "language": "python",
   "name": "python3"
  },
  "language_info": {
   "codemirror_mode": {
    "name": "ipython",
    "version": 3
   },
   "file_extension": ".py",
   "mimetype": "text/x-python",
   "name": "python",
   "nbconvert_exporter": "python",
   "pygments_lexer": "ipython3",
   "version": "3.7.3"
  },
  "toc": {
   "base_numbering": 1,
   "nav_menu": {},
   "number_sections": true,
   "sideBar": true,
   "skip_h1_title": false,
   "title_cell": "Table of Contents",
   "title_sidebar": "Contents",
   "toc_cell": false,
   "toc_position": {},
   "toc_section_display": true,
   "toc_window_display": false
  }
 },
 "nbformat": 4,
 "nbformat_minor": 2
}
