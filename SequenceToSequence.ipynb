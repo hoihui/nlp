{
  "nbformat": 4,
  "nbformat_minor": 0,
  "metadata": {
    "colab": {
      "name": "SequenceToSequence.ipynb",
      "version": "0.3.2",
      "provenance": [],
      "include_colab_link": true
    },
    "language_info": {
      "codemirror_mode": {
        "name": "ipython",
        "version": 3
      },
      "file_extension": ".py",
      "mimetype": "text/x-python",
      "name": "python",
      "nbconvert_exporter": "python",
      "pygments_lexer": "ipython3",
      "version": "3.6.8"
    },
    "kernelspec": {
      "name": "python3",
      "display_name": "Python 3"
    },
    "accelerator": "GPU"
  },
  "cells": [
    {
      "cell_type": "markdown",
      "metadata": {
        "id": "view-in-github",
        "colab_type": "text"
      },
      "source": [
        "<a href=\"https://colab.research.google.com/github/hoihui/tutorial/blob/master/SequenceToSequence.ipynb\" target=\"_parent\"><img src=\"https://colab.research.google.com/assets/colab-badge.svg\" alt=\"Open In Colab\"/></a>"
      ]
    },
    {
      "cell_type": "code",
      "metadata": {
        "id": "eQ8wLh-qzK4M",
        "colab_type": "code",
        "colab": {}
      },
      "source": [
        "import numpy as np, random\n",
        "import matplotlib.pyplot as plt\n",
        "%matplotlib inline"
      ],
      "execution_count": 0,
      "outputs": []
    },
    {
      "cell_type": "code",
      "metadata": {
        "id": "949NKsnqzK4g",
        "colab_type": "code",
        "colab": {
          "base_uri": "https://localhost:8080/",
          "height": 384
        },
        "outputId": "80617697-4a61-4aff-d2c8-ab55d5312862"
      },
      "source": [
        "!pip3 install tensorflow==2.0.0-alpha0\n",
        "import tensorflow as tf\n",
        "from tensorflow import keras\n",
        "tf.__version__,keras.__version__,tf.test.is_gpu_available()"
      ],
      "execution_count": 4,
      "outputs": [
        {
          "output_type": "stream",
          "text": [
            "Requirement already satisfied: tensorflow==2.0.0-alpha0 in /usr/local/lib/python3.6/dist-packages (2.0.0a0)\n",
            "Requirement already satisfied: keras-preprocessing>=1.0.5 in /usr/local/lib/python3.6/dist-packages (from tensorflow==2.0.0-alpha0) (1.0.9)\n",
            "Requirement already satisfied: protobuf>=3.6.1 in /usr/local/lib/python3.6/dist-packages (from tensorflow==2.0.0-alpha0) (3.7.1)\n",
            "Requirement already satisfied: tf-estimator-nightly<1.14.0.dev2019030116,>=1.14.0.dev2019030115 in /usr/local/lib/python3.6/dist-packages (from tensorflow==2.0.0-alpha0) (1.14.0.dev2019030115)\n",
            "Requirement already satisfied: six>=1.10.0 in /usr/local/lib/python3.6/dist-packages (from tensorflow==2.0.0-alpha0) (1.12.0)\n",
            "Requirement already satisfied: google-pasta>=0.1.2 in /usr/local/lib/python3.6/dist-packages (from tensorflow==2.0.0-alpha0) (0.1.7)\n",
            "Requirement already satisfied: grpcio>=1.8.6 in /usr/local/lib/python3.6/dist-packages (from tensorflow==2.0.0-alpha0) (1.15.0)\n",
            "Requirement already satisfied: gast>=0.2.0 in /usr/local/lib/python3.6/dist-packages (from tensorflow==2.0.0-alpha0) (0.2.2)\n",
            "Requirement already satisfied: absl-py>=0.7.0 in /usr/local/lib/python3.6/dist-packages (from tensorflow==2.0.0-alpha0) (0.7.1)\n",
            "Requirement already satisfied: termcolor>=1.1.0 in /usr/local/lib/python3.6/dist-packages (from tensorflow==2.0.0-alpha0) (1.1.0)\n",
            "Requirement already satisfied: numpy<2.0,>=1.14.5 in /usr/local/lib/python3.6/dist-packages (from tensorflow==2.0.0-alpha0) (1.16.4)\n",
            "Requirement already satisfied: keras-applications>=1.0.6 in /usr/local/lib/python3.6/dist-packages (from tensorflow==2.0.0-alpha0) (1.0.7)\n",
            "Requirement already satisfied: astor>=0.6.0 in /usr/local/lib/python3.6/dist-packages (from tensorflow==2.0.0-alpha0) (0.8.0)\n",
            "Requirement already satisfied: wheel>=0.26 in /usr/local/lib/python3.6/dist-packages (from tensorflow==2.0.0-alpha0) (0.33.4)\n",
            "Requirement already satisfied: tb-nightly<1.14.0a20190302,>=1.14.0a20190301 in /usr/local/lib/python3.6/dist-packages (from tensorflow==2.0.0-alpha0) (1.14.0a20190301)\n",
            "Requirement already satisfied: setuptools in /usr/local/lib/python3.6/dist-packages (from protobuf>=3.6.1->tensorflow==2.0.0-alpha0) (41.0.1)\n",
            "Requirement already satisfied: h5py in /usr/local/lib/python3.6/dist-packages (from keras-applications>=1.0.6->tensorflow==2.0.0-alpha0) (2.8.0)\n",
            "Requirement already satisfied: werkzeug>=0.11.15 in /usr/local/lib/python3.6/dist-packages (from tb-nightly<1.14.0a20190302,>=1.14.0a20190301->tensorflow==2.0.0-alpha0) (0.15.4)\n",
            "Requirement already satisfied: markdown>=2.6.8 in /usr/local/lib/python3.6/dist-packages (from tb-nightly<1.14.0a20190302,>=1.14.0a20190301->tensorflow==2.0.0-alpha0) (3.1.1)\n"
          ],
          "name": "stdout"
        },
        {
          "output_type": "execute_result",
          "data": {
            "text/plain": [
              "('2.0.0-alpha0', '2.2.4-tf', False)"
            ]
          },
          "metadata": {
            "tags": []
          },
          "execution_count": 4
        }
      ]
    },
    {
      "cell_type": "markdown",
      "metadata": {
        "id": "KQ0E4QRFzK4y",
        "colab_type": "text"
      },
      "source": [
        "# Test Integer Sequences"
      ]
    },
    {
      "cell_type": "markdown",
      "metadata": {
        "id": "0KFuQlPGzK42",
        "colab_type": "text"
      },
      "source": [
        "https://machinelearningmastery.com/encoder-decoder-attention-sequence-to-sequence-prediction-keras/\n",
        "\n",
        "- Input: sequence of 5 integers\n",
        "- Output: the first two integers, then padded with 0; or other criterions"
      ]
    },
    {
      "cell_type": "code",
      "metadata": {
        "id": "GDvdNSEozK45",
        "colab_type": "code",
        "colab": {}
      },
      "source": [
        "seqlen = 5\n",
        "maxint = 60\n",
        "batchsize = 32"
      ],
      "execution_count": 0,
      "outputs": []
    },
    {
      "cell_type": "markdown",
      "metadata": {
        "id": "JAnCISxOzK5F",
        "colab_type": "text"
      },
      "source": [
        "## Generate Data"
      ]
    },
    {
      "cell_type": "code",
      "metadata": {
        "id": "d4XRuFwmzK5H",
        "colab_type": "code",
        "colab": {
          "base_uri": "https://localhost:8080/",
          "height": 86
        },
        "outputId": "e6a46dd1-ef0f-4af0-95db-90cdf19386cb"
      },
      "source": [
        "one_hot_decode = lambda X: np.argmax(X,axis=X.ndim-1)\n",
        " \n",
        "def gen_pairs(batchsize=2, onehot=True):\n",
        "    while True:\n",
        "        X = np.random.randint(0, maxint-1,(batchsize,seqlen),dtype=int)\n",
        "#         y = np.hstack((y[:,:2],np.zeros((batchsize,3),dtype=int)))  # original: first 2 integers\n",
        "#         y = np.sort(maxint*np.sin(X/maxint),axis=1).astype(int)\n",
        "#         y = np.sort(np.cumsum(X,1).astype(int)%maxint)\n",
        "        y = (np.cumsum(X,1)/np.tile(X.sum(1),(seqlen,1)).T*(maxint-1)).astype(int)\n",
        "        \n",
        "        if onehot: #https://stackoverflow.com/a/49217762\n",
        "            I = np.eye(maxint)\n",
        "            X = I[X.reshape(-1)].reshape(*X.shape,maxint)\n",
        "            y = I[y.reshape(-1)].reshape(*y.shape,maxint)\n",
        "        \n",
        "        yield X,y\n",
        "\n",
        "X,y = next(gen_pairs(2,True))\n",
        "print(X.shape,y.shape)    \n",
        "X,y = next(gen_pairs(2,False))\n",
        "X,y"
      ],
      "execution_count": 6,
      "outputs": [
        {
          "output_type": "stream",
          "text": [
            "(2, 5, 60) (2, 5, 60)\n"
          ],
          "name": "stdout"
        },
        {
          "output_type": "execute_result",
          "data": {
            "text/plain": [
              "(array([[34, 38, 39, 54, 50],\n",
              "        [ 8,  6, 23, 29,  1]]), array([[ 9, 19, 30, 45, 59],\n",
              "        [ 7, 12, 32, 58, 59]]))"
            ]
          },
          "metadata": {
            "tags": []
          },
          "execution_count": 6
        }
      ]
    },
    {
      "cell_type": "markdown",
      "metadata": {
        "id": "oUHTBBzOzK5T",
        "colab_type": "text"
      },
      "source": [
        "## Keras Models"
      ]
    },
    {
      "cell_type": "markdown",
      "metadata": {
        "id": "BhjhmGBSzK5W",
        "colab_type": "text"
      },
      "source": [
        "### Without Attention"
      ]
    },
    {
      "cell_type": "code",
      "metadata": {
        "scrolled": true,
        "id": "AX1hhgQlzK5Z",
        "colab_type": "code",
        "colab": {
          "base_uri": "https://localhost:8080/",
          "height": 260
        },
        "outputId": "6ac5d72c-b78b-42e0-9a5a-cf8d107e8639"
      },
      "source": [
        "# w/o Attention Accuracy: 0.662\n",
        "cellSize = 32\n",
        "model = tf.keras.models.Sequential()\n",
        "# model.add(keras.layers.LSTM(cellSize, input_shape=(seqlen, maxint)))  #original\n",
        "# model.add(keras.layers.RepeatVector(seqlen))                          #original\n",
        "# model.add(keras.layers.LSTM(cellSize, return_sequences=True))         #original\n",
        "model.add(keras.layers.Bidirectional(keras.layers.LSTM(cellSize, return_sequences=True), input_shape=(seqlen, maxint)))\n",
        "model.add(keras.layers.Bidirectional(keras.layers.LSTM(cellSize, return_sequences=True)))\n",
        "model.add(keras.layers.TimeDistributed(keras.layers.Dense(maxint,\n",
        "                                                          activation='softmax')\n",
        "                                      ))\n",
        "model.compile(loss='categorical_crossentropy', optimizer='adam', metrics=['acc'])\n",
        "model.summary()"
      ],
      "execution_count": 8,
      "outputs": [
        {
          "output_type": "stream",
          "text": [
            "Model: \"sequential_1\"\n",
            "_________________________________________________________________\n",
            "Layer (type)                 Output Shape              Param #   \n",
            "=================================================================\n",
            "bidirectional_2 (Bidirection (None, 5, 64)             23808     \n",
            "_________________________________________________________________\n",
            "bidirectional_3 (Bidirection (None, 5, 64)             24832     \n",
            "_________________________________________________________________\n",
            "time_distributed_1 (TimeDist (None, 5, 60)             3900      \n",
            "=================================================================\n",
            "Total params: 52,540\n",
            "Trainable params: 52,540\n",
            "Non-trainable params: 0\n",
            "_________________________________________________________________\n"
          ],
          "name": "stdout"
        }
      ]
    },
    {
      "cell_type": "markdown",
      "metadata": {
        "id": "73u2zPLazK5n",
        "colab_type": "text"
      },
      "source": [
        "### With Attention"
      ]
    },
    {
      "cell_type": "markdown",
      "metadata": {
        "id": "-y-9ao6xzK5u",
        "colab_type": "text"
      },
      "source": [
        "<img src=\"data:image/png;base64,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\" width=\"500px\"/>"
      ]
    },
    {
      "cell_type": "code",
      "metadata": {
        "scrolled": true,
        "id": "OKXaPva-zK5w",
        "colab_type": "code",
        "colab": {
          "base_uri": "https://localhost:8080/",
          "height": 1927
        },
        "outputId": "3a60556c-c524-4be1-d048-338fe6205835"
      },
      "source": [
        "# https://www.cnblogs.com/hezhiyao/p/8747019.html Accuracy: 0.556\n",
        "cellSize1 = 32\n",
        "cellSize2 = 52  #chosen to have similar number of trainable parameters as above\n",
        "X = tf.keras.Input(shape=(seqlen, maxint))           #(bs,seqlen,maxint)\n",
        "# h0 = tf.keras.Input(shape=(cellSize2, ), name='h0')  # original codes for 2nd LSTM\n",
        "# c0 = tf.keras.Input(shape=(cellSize2, ), name='c0')\n",
        "\n",
        "a = tf.keras.layers.Bidirectional(keras.layers.LSTM(cellSize1,\n",
        "                                                    return_sequences = True))(X) #(bs,seqlen,2*cellSize1)\n",
        "\n",
        "# define trainable layers here so that weights are shared over the output layer\n",
        "dense1 = tf.keras.layers.Dense(10, activation = \"tanh\")\n",
        "dense2 = tf.keras.layers.Dense(1, activation = \"relu\")\n",
        "lstm = tf.keras.layers.LSTM(cellSize2, return_state = True)\n",
        "dense = tf.keras.layers.Dense(maxint, activation='softmax')\n",
        "\n",
        "outputs = []\n",
        "for t in range(seqlen):\n",
        "    if t==0:\n",
        "        context = tf.keras.backend.sum(a,axis=1)/seqlen\n",
        "        context = tf.expand_dims(context,1)\n",
        "        _, h, c = lstm(context)                                 #(bs,cellSize2)*3\n",
        "    else:\n",
        "        prevh = tf.keras.layers.RepeatVector(seqlen)(h)          #(bs,seqlen,cellSize2)\n",
        "        concat = tf.keras.layers.concatenate([a,prevh], axis=-1) #(bs,seqlen,2*cellSize1+cellSize2)\n",
        "        e = dense1(concat)                                       #(bs,seqlen,10) \n",
        "        e = dense2(e)                                            #(bs,seqlen,1)  \n",
        "        attn = tf.nn.softmax(e,axis=1)                           #(bs,seqlen,1)  #softmax applied on 2nd dim\n",
        "        context = tf.keras.layers.dot([attn,a],axes=1)           #(bs,1,2*cellSize1) = sum_t' alpha_tt'*a_t'\n",
        "        _, h, c = lstm(context, initial_state = [h, c])          #(bs,cellSize2)*3\n",
        "         \n",
        "    out = dense(h)                                               #(bs,maxint)\n",
        "    outputs.append(out)                                          #eventually (seqlen,bs,maxint)\n",
        "\n",
        "outputs = tf.stack(outputs, axis=1)                              #(bs,seqlen,maxint)\n",
        "model = tf.keras.Model(inputs=X, outputs=outputs)\n",
        "\n",
        "model.compile(loss='categorical_crossentropy', optimizer='adam', metrics=['acc'])\n",
        "model.summary(line_length=125)"
      ],
      "execution_count": 18,
      "outputs": [
        {
          "output_type": "stream",
          "text": [
            "Model: \"model_6\"\n",
            "_____________________________________________________________________________________________________________________________\n",
            "Layer (type)                             Output Shape               Param #        Connected to                              \n",
            "=============================================================================================================================\n",
            "input_8 (InputLayer)                     [(None, 5, 60)]            0                                                        \n",
            "_____________________________________________________________________________________________________________________________\n",
            "bidirectional_11 (Bidirectional)         (None, 5, 64)              23808          input_8[0][0]                             \n",
            "_____________________________________________________________________________________________________________________________\n",
            "Sum_7 (TensorFlowOpLayer)                [(None, 64)]               0              bidirectional_11[0][0]                    \n",
            "_____________________________________________________________________________________________________________________________\n",
            "truediv_7 (TensorFlowOpLayer)            [(None, 64)]               0              Sum_7[0][0]                               \n",
            "_____________________________________________________________________________________________________________________________\n",
            "ExpandDims_7 (TensorFlowOpLayer)         [(None, 1, 64)]            0              truediv_7[0][0]                           \n",
            "_____________________________________________________________________________________________________________________________\n",
            "unified_lstm_19 (UnifiedLSTM)            [(None, 52), (None, 52), ( 24336          ExpandDims_7[0][0]                        \n",
            "                                                                                   dot_24[0][0]                              \n",
            "                                                                                   unified_lstm_19[0][1]                     \n",
            "                                                                                   unified_lstm_19[0][2]                     \n",
            "                                                                                   dot_25[0][0]                              \n",
            "                                                                                   unified_lstm_19[1][1]                     \n",
            "                                                                                   unified_lstm_19[1][2]                     \n",
            "                                                                                   dot_26[0][0]                              \n",
            "                                                                                   unified_lstm_19[2][1]                     \n",
            "                                                                                   unified_lstm_19[2][2]                     \n",
            "                                                                                   dot_27[0][0]                              \n",
            "                                                                                   unified_lstm_19[3][1]                     \n",
            "                                                                                   unified_lstm_19[3][2]                     \n",
            "_____________________________________________________________________________________________________________________________\n",
            "repeat_vector_24 (RepeatVector)          (None, 5, 52)              0              unified_lstm_19[0][1]                     \n",
            "_____________________________________________________________________________________________________________________________\n",
            "concatenate_24 (Concatenate)             (None, 5, 116)             0              bidirectional_11[0][0]                    \n",
            "                                                                                   repeat_vector_24[0][0]                    \n",
            "_____________________________________________________________________________________________________________________________\n",
            "dense_23 (Dense)                         (None, 5, 10)              1170           concatenate_24[0][0]                      \n",
            "                                                                                   concatenate_25[0][0]                      \n",
            "                                                                                   concatenate_26[0][0]                      \n",
            "                                                                                   concatenate_27[0][0]                      \n",
            "_____________________________________________________________________________________________________________________________\n",
            "dense_24 (Dense)                         (None, 5, 1)               11             dense_23[0][0]                            \n",
            "                                                                                   dense_23[1][0]                            \n",
            "                                                                                   dense_23[2][0]                            \n",
            "                                                                                   dense_23[3][0]                            \n",
            "_____________________________________________________________________________________________________________________________\n",
            "transpose_48 (TensorFlowOpLayer)         [(None, None, None)]       0              dense_24[0][0]                            \n",
            "_____________________________________________________________________________________________________________________________\n",
            "Softmax_24 (TensorFlowOpLayer)           [(None, None, None)]       0              transpose_48[0][0]                        \n",
            "_____________________________________________________________________________________________________________________________\n",
            "transpose_49 (TensorFlowOpLayer)         [(None, 5, 1)]             0              Softmax_24[0][0]                          \n",
            "_____________________________________________________________________________________________________________________________\n",
            "dot_24 (Dot)                             (None, 1, 64)              0              transpose_49[0][0]                        \n",
            "                                                                                   bidirectional_11[0][0]                    \n",
            "_____________________________________________________________________________________________________________________________\n",
            "repeat_vector_25 (RepeatVector)          (None, 5, 52)              0              unified_lstm_19[1][1]                     \n",
            "_____________________________________________________________________________________________________________________________\n",
            "concatenate_25 (Concatenate)             (None, 5, 116)             0              bidirectional_11[0][0]                    \n",
            "                                                                                   repeat_vector_25[0][0]                    \n",
            "_____________________________________________________________________________________________________________________________\n",
            "transpose_50 (TensorFlowOpLayer)         [(None, None, None)]       0              dense_24[1][0]                            \n",
            "_____________________________________________________________________________________________________________________________\n",
            "Softmax_25 (TensorFlowOpLayer)           [(None, None, None)]       0              transpose_50[0][0]                        \n",
            "_____________________________________________________________________________________________________________________________\n",
            "transpose_51 (TensorFlowOpLayer)         [(None, 5, 1)]             0              Softmax_25[0][0]                          \n",
            "_____________________________________________________________________________________________________________________________\n",
            "dot_25 (Dot)                             (None, 1, 64)              0              transpose_51[0][0]                        \n",
            "                                                                                   bidirectional_11[0][0]                    \n",
            "_____________________________________________________________________________________________________________________________\n",
            "repeat_vector_26 (RepeatVector)          (None, 5, 52)              0              unified_lstm_19[2][1]                     \n",
            "_____________________________________________________________________________________________________________________________\n",
            "concatenate_26 (Concatenate)             (None, 5, 116)             0              bidirectional_11[0][0]                    \n",
            "                                                                                   repeat_vector_26[0][0]                    \n",
            "_____________________________________________________________________________________________________________________________\n",
            "transpose_52 (TensorFlowOpLayer)         [(None, None, None)]       0              dense_24[2][0]                            \n",
            "_____________________________________________________________________________________________________________________________\n",
            "Softmax_26 (TensorFlowOpLayer)           [(None, None, None)]       0              transpose_52[0][0]                        \n",
            "_____________________________________________________________________________________________________________________________\n",
            "transpose_53 (TensorFlowOpLayer)         [(None, 5, 1)]             0              Softmax_26[0][0]                          \n",
            "_____________________________________________________________________________________________________________________________\n",
            "dot_26 (Dot)                             (None, 1, 64)              0              transpose_53[0][0]                        \n",
            "                                                                                   bidirectional_11[0][0]                    \n",
            "_____________________________________________________________________________________________________________________________\n",
            "repeat_vector_27 (RepeatVector)          (None, 5, 52)              0              unified_lstm_19[3][1]                     \n",
            "_____________________________________________________________________________________________________________________________\n",
            "concatenate_27 (Concatenate)             (None, 5, 116)             0              bidirectional_11[0][0]                    \n",
            "                                                                                   repeat_vector_27[0][0]                    \n",
            "_____________________________________________________________________________________________________________________________\n",
            "transpose_54 (TensorFlowOpLayer)         [(None, None, None)]       0              dense_24[3][0]                            \n",
            "_____________________________________________________________________________________________________________________________\n",
            "Softmax_27 (TensorFlowOpLayer)           [(None, None, None)]       0              transpose_54[0][0]                        \n",
            "_____________________________________________________________________________________________________________________________\n",
            "transpose_55 (TensorFlowOpLayer)         [(None, 5, 1)]             0              Softmax_27[0][0]                          \n",
            "_____________________________________________________________________________________________________________________________\n",
            "dot_27 (Dot)                             (None, 1, 64)              0              transpose_55[0][0]                        \n",
            "                                                                                   bidirectional_11[0][0]                    \n",
            "_____________________________________________________________________________________________________________________________\n",
            "dense_25 (Dense)                         (None, 60)                 3180           unified_lstm_19[0][1]                     \n",
            "                                                                                   unified_lstm_19[1][1]                     \n",
            "                                                                                   unified_lstm_19[2][1]                     \n",
            "                                                                                   unified_lstm_19[3][1]                     \n",
            "                                                                                   unified_lstm_19[4][1]                     \n",
            "_____________________________________________________________________________________________________________________________\n",
            "stack_6 (TensorFlowOpLayer)              [(None, 5, 60)]            0              dense_25[0][0]                            \n",
            "                                                                                   dense_25[1][0]                            \n",
            "                                                                                   dense_25[2][0]                            \n",
            "                                                                                   dense_25[3][0]                            \n",
            "                                                                                   dense_25[4][0]                            \n",
            "=============================================================================================================================\n",
            "Total params: 52,505\n",
            "Trainable params: 52,505\n",
            "Non-trainable params: 0\n",
            "_____________________________________________________________________________________________________________________________\n"
          ],
          "name": "stdout"
        }
      ]
    },
    {
      "cell_type": "code",
      "metadata": {
        "id": "KT94EvmBzK56",
        "colab_type": "code",
        "colab": {}
      },
      "source": [
        "# https://github.com/tensorflow/addons/tree/master/tensorflow_addons/seq2seq"
      ],
      "execution_count": 0,
      "outputs": []
    },
    {
      "cell_type": "markdown",
      "metadata": {
        "id": "H3iw2b9vzK6N",
        "colab_type": "text"
      },
      "source": [
        "## Train and Evaluate"
      ]
    },
    {
      "cell_type": "code",
      "metadata": {
        "id": "-wMLvE-SzK6S",
        "colab_type": "code",
        "colab": {
          "base_uri": "https://localhost:8080/",
          "height": 208
        },
        "outputId": "e8a60ec2-c1ad-4cb9-e295-4347818923d6"
      },
      "source": [
        "# Train\n",
        "import tempfile\n",
        "_,weightsfile=tempfile.mkstemp()\n",
        "from tensorflow.keras.callbacks import EarlyStopping,ModelCheckpoint\n",
        "es=EarlyStopping(monitor='val_acc', patience=3, verbose=1)\n",
        "mc=ModelCheckpoint(weightsfile,monitor='val_acc',save_best_only=True,save_weights_only=True,verbose=0)\n",
        "\n",
        "model.fit_generator(gen_pairs(32, True), steps_per_epoch=2000, epochs=1000,callbacks=[es,mc],\n",
        "                    validation_data=gen_pairs(128, True),validation_steps=100)\n",
        "model.load_weights(weightsfile)"
      ],
      "execution_count": 19,
      "outputs": [
        {
          "output_type": "stream",
          "text": [
            "2000/2000 [==============================] - 26s 13ms/step - loss: 0.3255 - acc: 0.8770 - val_loss: 0.3293 - val_acc: 0.8750\n",
            "Epoch 30/1000\n",
            "2000/2000 [==============================] - 25s 13ms/step - loss: 0.3192 - acc: 0.8790 - val_loss: 0.3033 - val_acc: 0.8875\n",
            "Epoch 31/1000\n",
            "2000/2000 [==============================] - 25s 13ms/step - loss: 0.3162 - acc: 0.8799 - val_loss: 0.3127 - val_acc: 0.8820\n",
            "Epoch 32/1000\n",
            "2000/2000 [==============================] - 26s 13ms/step - loss: 0.3121 - acc: 0.8811 - val_loss: 0.3187 - val_acc: 0.8769\n",
            "Epoch 33/1000\n",
            "2000/2000 [==============================] - 26s 13ms/step - loss: 0.3061 - acc: 0.8835 - val_loss: 0.3134 - val_acc: 0.8844\n",
            "Epoch 00033: early stopping\n"
          ],
          "name": "stdout"
        },
        {
          "output_type": "execute_result",
          "data": {
            "text/plain": [
              "<tensorflow.python.training.tracking.util.CheckpointLoadStatus at 0x7faa83f68cf8>"
            ]
          },
          "metadata": {
            "tags": []
          },
          "execution_count": 19
        }
      ]
    },
    {
      "cell_type": "code",
      "metadata": {
        "id": "PLxaMOJlzK6a",
        "colab_type": "code",
        "colab": {
          "base_uri": "https://localhost:8080/",
          "height": 208
        },
        "outputId": "274ec857-7d6f-4db9-af4a-3c0e28845826"
      },
      "source": [
        "# Evaluate\n",
        "X,y = next(gen_pairs(100000,True))\n",
        "yhat = model.predict(X, verbose=0)\n",
        "wrong = list(map(np.any, one_hot_decode(y)-one_hot_decode(yhat))) #np.any returns true (1) if any element is nonzero\n",
        "print(f'Accuracy: {1-sum(wrong)/y.shape[0]}%') # different from acc during training as we count the WHOLE sequence as right/wrong here\n",
        "\n",
        "for i in np.where(wrong)[0][:10]:   # output examples that are wrong\n",
        "    print(f'True:{one_hot_decode(y[i])}, Prediction:{one_hot_decode(yhat[i])}')"
      ],
      "execution_count": 20,
      "outputs": [
        {
          "output_type": "stream",
          "text": [
            "Accuracy: 0.55623%\n",
            "True:[12 20 26 43 59], Prediction:[12 19 26 43 59]\n",
            "True:[14 29 40 51 59], Prediction:[14 29 41 51 59]\n",
            "True:[ 2  9 25 34 59], Prediction:[ 2  9 24 34 59]\n",
            "True:[ 2 10 31 44 59], Prediction:[ 2 10 32 44 59]\n",
            "True:[ 7  9 35 54 59], Prediction:[ 7  9 35 53 59]\n",
            "True:[ 2 12 29 39 59], Prediction:[ 1 12 29 39 59]\n",
            "True:[14 27 30 46 59], Prediction:[14 27 30 47 59]\n",
            "True:[ 3 20 30 48 59], Prediction:[ 3 21 30 48 59]\n",
            "True:[11 28 46 54 59], Prediction:[12 28 46 54 59]\n",
            "True:[16 33 33 44 59], Prediction:[16 33 33 43 59]\n"
          ],
          "name": "stdout"
        }
      ]
    },
    {
      "cell_type": "markdown",
      "metadata": {
        "id": "uhk1AVvEzK6j",
        "colab_type": "text"
      },
      "source": [
        "# Translate dates to standard format"
      ]
    },
    {
      "cell_type": "markdown",
      "metadata": {
        "id": "OcbTjfZfzK6l",
        "colab_type": "text"
      },
      "source": [
        "* https://www.coursera.org/learn/nlp-sequence-models/notebook/npjGi/neural-machine-translation-with-attention\n",
        "* https://www.cnblogs.com/hezhiyao/p/8747019.html"
      ]
    },
    {
      "cell_type": "markdown",
      "metadata": {
        "id": "A-HSdj0rzK6n",
        "colab_type": "text"
      },
      "source": [
        "## Generate Data"
      ]
    },
    {
      "cell_type": "code",
      "metadata": {
        "id": "nhfiDKol6XQR",
        "colab_type": "code",
        "colab": {
          "base_uri": "https://localhost:8080/",
          "height": 225
        },
        "outputId": "37feef2d-bb6b-44b5-ea7e-bb378ae8ef72"
      },
      "source": [
        "dict(enumerate('01234567890/'))"
      ],
      "execution_count": 22,
      "outputs": [
        {
          "output_type": "execute_result",
          "data": {
            "text/plain": [
              "{0: '0',\n",
              " 1: '1',\n",
              " 2: '2',\n",
              " 3: '3',\n",
              " 4: '4',\n",
              " 5: '5',\n",
              " 6: '6',\n",
              " 7: '7',\n",
              " 8: '8',\n",
              " 9: '9',\n",
              " 10: '0',\n",
              " 11: '/'}"
            ]
          },
          "metadata": {
            "tags": []
          },
          "execution_count": 22
        }
      ]
    },
    {
      "cell_type": "code",
      "metadata": {
        "id": "kJifFb1_zK6s",
        "colab_type": "code",
        "colab": {}
      },
      "source": [
        "one_hot_decode = lambda X: np.argmax(X,axis=X.ndim-1)\n",
        " \n",
        "def gen_pairs(batchsize=2, onehot=True):\n",
        "    while True:\n",
        "        X = np.random.randint(0, maxint-1,(batchsize,seqlen),dtype=int)\n",
        "#         y = np.hstack((y[:,:2],np.zeros((batchsize,3),dtype=int)))  # original: first 2 integers\n",
        "#         y = np.sort(maxint*np.sin(X/maxint),axis=1).astype(int)\n",
        "#         y = np.sort(np.cumsum(X,1).astype(int)%maxint)\n",
        "        y = (np.cumsum(X,1)/np.tile(X.sum(1),(seqlen,1)).T*(maxint-1)).astype(int)\n",
        "        \n",
        "        if onehot: #https://stackoverflow.com/a/49217762\n",
        "            I = np.eye(maxint)\n",
        "            X = I[X.reshape(-1)].reshape(*X.shape,maxint)\n",
        "            y = I[y.reshape(-1)].reshape(*y.shape,maxint)\n",
        "        \n",
        "        yield X,y\n",
        "\n",
        "X,y = next(gen_pairs(2,True))\n",
        "print(X.shape,y.shape)    \n",
        "X,y = next(gen_pairs(2,False))\n",
        "X,y"
      ],
      "execution_count": 0,
      "outputs": []
    },
    {
      "cell_type": "markdown",
      "metadata": {
        "id": "sigNwGc1zK60",
        "colab_type": "text"
      },
      "source": [
        "# Encoder-Decoder"
      ]
    },
    {
      "cell_type": "markdown",
      "metadata": {
        "id": "Sl1yhSq7zK62",
        "colab_type": "text"
      },
      "source": [
        "https://www.tensorflow.org/alpha/tutorials/text/nmt_with_attention"
      ]
    },
    {
      "cell_type": "code",
      "metadata": {
        "id": "vWVzMr5uzK64",
        "colab_type": "code",
        "colab": {}
      },
      "source": [
        "import urllib, os, tempfile, zipfile\n",
        "os.chdir(tempfile.gettempdir())\n",
        "urllib.request.urlretrieve('http://storage.googleapis.com/download.tensorflow.org/data/spa-eng.zip','spa-eng.zip')\n",
        "zipfile.ZipFile('spa-eng.zip').extractall()\n",
        "# ./spa-eng/spa.txt"
      ],
      "execution_count": 0,
      "outputs": []
    },
    {
      "cell_type": "code",
      "metadata": {
        "id": "2ZFWfvSezK6_",
        "colab_type": "code",
        "colab": {},
        "outputId": "c6a621ea-68c0-44fa-8975-4fe75006859f"
      },
      "source": [
        "import unicodedata, re\n",
        "\n",
        "def unicode_to_ascii(s):\n",
        "    return ''.join(c for c in unicodedata.normalize('NFD', s)\n",
        "        if unicodedata.category(c) != 'Mn')\n",
        "\n",
        "def preprocess_sentence(w):\n",
        "    w = unicode_to_ascii(w.lower().strip())\n",
        "\n",
        "    # \"he is a boy.\" => \"he is a boy .\" (https://stackoverflow.com/questions/3645931/python-padding-punctuation-with-white-spaces-keeping-punctuation)\n",
        "    w = re.sub(r\"([?.!,¿])\", r\" \\1 \", w)\n",
        "    w = re.sub(r'[\" \"]+', \" \", w)\n",
        "\n",
        "    w = re.sub(r\"[^a-zA-Z?.!,¿]+\", \" \", w)\n",
        "    w = w.rstrip().strip()\n",
        "    w = '<start> ' + w + ' <end>'\n",
        "    return w\n",
        "\n",
        "print(preprocess_sentence(\"May I borrow this book?\"))\n",
        "print(preprocess_sentence(\"¿Puedo tomar prestado este libro?\").encode('utf-8'))"
      ],
      "execution_count": 0,
      "outputs": [
        {
          "output_type": "stream",
          "text": [
            "<start> may i borrow this book ? <end>\n",
            "b'<start> \\xc2\\xbf puedo tomar prestado este libro ? <end>'\n"
          ],
          "name": "stdout"
        }
      ]
    },
    {
      "cell_type": "code",
      "metadata": {
        "id": "ZdMAFGoJzK7J",
        "colab_type": "code",
        "colab": {}
      },
      "source": [
        ""
      ],
      "execution_count": 0,
      "outputs": []
    }
  ]
}