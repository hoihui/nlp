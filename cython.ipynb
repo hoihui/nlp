{
 "cells": [
  {
   "cell_type": "code",
   "execution_count": 1,
   "metadata": {},
   "outputs": [],
   "source": [
    "%load_ext Cython"
   ]
  },
  {
   "cell_type": "markdown",
   "metadata": {},
   "source": [
    "# Compilation"
   ]
  },
  {
   "cell_type": "markdown",
   "metadata": {},
   "source": [
    "Without C libraries: put codeblocks starting with `%%cython` into a file `cythoncode.pyx`\n",
    "create `setup.py` with code:\n",
    "```python\n",
    "from distutils.core import setup\n",
    "from Cython.Build import cythonize\n",
    "setup( name=\"cythoncode\", ext_modules = cythonize(\"cythoncode.pyx\") )\n",
    "```\n",
    "run `python setup.py build_ext --inplace`;\n",
    "\n",
    "in main program, `from cythoncode import *`"
   ]
  },
  {
   "cell_type": "markdown",
   "metadata": {},
   "source": [
    "With `cimport numpy`:\n",
    "```python\n",
    "import os\n",
    "import numpy\n",
    "from distutils.core import setup\n",
    "from distutils.extension import Extension\n",
    "from Cython.Distutils import build_ext\n",
    "\n",
    "setup(cmdclass = {'build_ext': build_ext},\n",
    "      name=\"cythoncode\",\n",
    "      ext_modules=[Extension(\"cythoncode\",\n",
    "                             sources=[\"cythoncode.pyx\"])],\n",
    "      include_dirs=[numpy.get_include(),\n",
    "                    os.path.join(numpy.get_include(), 'numpy')])\n",
    "```"
   ]
  },
  {
   "cell_type": "markdown",
   "metadata": {},
   "source": [
    "With custom C compilation flags:\n",
    "```python\n",
    "from distutils.core import setup\n",
    "from distutils.extension import Extension\n",
    "from Cython.Distutils import build_ext\n",
    "\n",
    "setup(  name = \"cythoncode\",\n",
    "        cmdclass = {\"build_ext\": build_ext},\n",
    "        ext_modules = [ Extension(\"cythoncode\",\n",
    "                                  sources=[\"cythoncode.pyx\"],\n",
    "                                  libraries=[\"m\"],  #for using C's math lib\n",
    "                                  extra_compile_args = [\"-ffast-math\"])])\n",
    "```"
   ]
  },
  {
   "cell_type": "markdown",
   "metadata": {},
   "source": [
    "# using C/C++ libraries"
   ]
  },
  {
   "cell_type": "markdown",
   "metadata": {},
   "source": [
    "for standard [C libraries](https://github.com/cython/cython/tree/master/Cython/Includes/libc) or [C++ libraries](https://github.com/cython/cython/tree/master/Cython/Includes/libcpp):\n",
    "```python \n",
    "from libc.math cimport sqrt```"
   ]
  },
  {
   "cell_type": "markdown",
   "metadata": {},
   "source": [
    "For custom library (in header file `custom.h`):\n",
    "```cython\n",
    "cdef extern from \"custom.h\":\n",
    "    double sin(double x)\n",
    "```\n",
    "To allow it to be used by other python codes, add `cpdef` before `double sin`"
   ]
  },
  {
   "cell_type": "markdown",
   "metadata": {},
   "source": [
    "# Using [Numpy](http://cython.readthedocs.io/en/latest/src/userguide/numpy_tutorial.html)"
   ]
  },
  {
   "cell_type": "markdown",
   "metadata": {},
   "source": [
    "```cython\n",
    "cimport numpy as np```"
   ]
  },
  {
   "cell_type": "markdown",
   "metadata": {},
   "source": [
    "# Timing"
   ]
  },
  {
   "cell_type": "code",
   "execution_count": 2,
   "metadata": {},
   "outputs": [],
   "source": [
    "def fib(n):\n",
    "    if n <= 1: return n\n",
    "    else: return fib(n-1) + fib(n-2)"
   ]
  },
  {
   "cell_type": "code",
   "execution_count": 3,
   "metadata": {
    "scrolled": true
   },
   "outputs": [],
   "source": [
    "%%cython\n",
    "def fibc(n):\n",
    "    if n <= 1: return n\n",
    "    else: return fibc(n-1) + fibc(n-2)"
   ]
  },
  {
   "cell_type": "code",
   "execution_count": 4,
   "metadata": {},
   "outputs": [
    {
     "name": "stdout",
     "output_type": "stream",
     "text": [
      "36.9 µs ± 594 ns per loop (mean ± std. dev. of 7 runs, 10000 loops each)\n",
      "12.5 µs ± 711 ns per loop (mean ± std. dev. of 7 runs, 100000 loops each)\n"
     ]
    }
   ],
   "source": [
    "%timeit fib(12)\n",
    "%timeit fibc(12)"
   ]
  },
  {
   "cell_type": "markdown",
   "metadata": {},
   "source": [
    "# `cdef` local variables"
   ]
  },
  {
   "cell_type": "code",
   "execution_count": 14,
   "metadata": {
    "collapsed": true
   },
   "outputs": [],
   "source": [
    "%%cython\n",
    "def fibx(int n):\n",
    "    cdef int i, a, b\n",
    "    a, b = 1, 1\n",
    "    for i in range(n):\n",
    "        a, b = a + b, a\n",
    "    return a"
   ]
  },
  {
   "cell_type": "markdown",
   "metadata": {},
   "source": [
    "# `cython` function that works even if `gcc` compilation fails"
   ]
  },
  {
   "cell_type": "code",
   "execution_count": null,
   "metadata": {
    "collapsed": true
   },
   "outputs": [],
   "source": [
    "%%cython\n",
    "import cython\n",
    "@cython.locals(n=cython.int)\n",
    "def fib_pure_python(n):\n",
    "    cython.declare(a=cython.int, b=cython.int, i=cython.int)\n",
    "    a, b = 1, 1\n",
    "    for i in range(n):\n",
    "        a, b = a + b, a\n",
    "    return a"
   ]
  },
  {
   "cell_type": "markdown",
   "metadata": {},
   "source": [
    "# Pairwise Distances (numpy list)"
   ]
  },
  {
   "cell_type": "code",
   "execution_count": 5,
   "metadata": {},
   "outputs": [],
   "source": [
    "import numpy as np\n",
    "X = np.random.random((500, 3))"
   ]
  },
  {
   "cell_type": "code",
   "execution_count": 6,
   "metadata": {},
   "outputs": [],
   "source": [
    "def pairwise_v1(X):\n",
    "    X = np.asarray(X)    \n",
    "    n_samples, n_dim = X.shape\n",
    "    D = np.empty((n_samples, n_samples))\n",
    "\n",
    "    for i in range(n_samples):\n",
    "        for j in range(n_samples):\n",
    "            D[i, j] = np.sqrt(np.sum((X[i] - X[j]) ** 2))\n",
    "    return D"
   ]
  },
  {
   "cell_type": "code",
   "execution_count": 7,
   "metadata": {},
   "outputs": [],
   "source": [
    "%%cython\n",
    "import numpy as np\n",
    "cimport numpy as np\n",
    "from libc.math cimport sqrt\n",
    "cimport cython\n",
    "\n",
    "#no bounds check for array; disable negative (count from end) indexing\n",
    "@cython.boundscheck(False)\n",
    "@cython.wraparound(False)\n",
    "def pairwise_v2(np.ndarray[double, ndim=2, mode='c'] X not None): #mode='c' indicates C-ordered (contiguous in memory)\n",
    "    \n",
    "    cdef np.intp_t i, j, n_samples, N # np.intp: Integer used for indexing (unsigned). _t means the type of it\n",
    "    cdef double tmp, d    \n",
    "    n_samples = X.shape[0]\n",
    "    N = X.shape[1]\n",
    "\n",
    "    cdef np.ndarray[double, ndim=2, mode='c'] D = np.empty((n_samples, n_samples))\n",
    "    for i in range(n_samples):\n",
    "        for j in range(n_samples):\n",
    "            d = 0\n",
    "            for k in range(N):\n",
    "                tmp = X[i,k] - X[j,k]\n",
    "                d += tmp * tmp\n",
    "            D[i, j] = sqrt(d)\n",
    "\n",
    "    return D"
   ]
  },
  {
   "cell_type": "markdown",
   "metadata": {},
   "source": [
    "[Typed Memoryview](http://cython.readthedocs.io/en/latest/src/userguide/memoryviews.html) - faster passing arrays as arguments"
   ]
  },
  {
   "cell_type": "code",
   "execution_count": 8,
   "metadata": {},
   "outputs": [],
   "source": [
    "%%cython\n",
    "import numpy as np\n",
    "cimport numpy as np\n",
    "from libc.math cimport sqrt\n",
    "cimport cython\n",
    "\n",
    "@cython.boundscheck(False)\n",
    "@cython.wraparound(False)\n",
    "def pairwise_v3(double[:, ::1] X not None): # ::1 means 2nd dim inc one element apart in memory. can be replaced by : since np array is of this form\n",
    "    \n",
    "    cdef np.intp_t i, j, n_samples, N\n",
    "    cdef double tmp, d    \n",
    "    n_samples = X.shape[0]\n",
    "    N = X.shape[1]\n",
    "\n",
    "    cdef double[:, ::1] D = np.empty((n_samples, n_samples))\n",
    "    for i in range(n_samples):\n",
    "        for j in range(n_samples):\n",
    "            d = 0\n",
    "            for k in range(N):\n",
    "                tmp = X[i,k] - X[j,k]\n",
    "                d += tmp * tmp\n",
    "            D[i, j] = sqrt(d)\n",
    "\n",
    "    return np.asarray(D)  #convert from memory view back to ordinary numpy array"
   ]
  },
  {
   "cell_type": "code",
   "execution_count": 9,
   "metadata": {},
   "outputs": [
    {
     "name": "stdout",
     "output_type": "stream",
     "text": [
      "1.46 s ± 23.3 ms per loop (mean ± std. dev. of 7 runs, 1 loop each)\n",
      "667 µs ± 20.1 µs per loop (mean ± std. dev. of 7 runs, 1000 loops each)\n",
      "618 µs ± 5.12 µs per loop (mean ± std. dev. of 7 runs, 1000 loops each)\n"
     ]
    }
   ],
   "source": [
    "%timeit pairwise_v1(X)\n",
    "%timeit pairwise_v2(X)\n",
    "%timeit pairwise_v3(X)"
   ]
  },
  {
   "cell_type": "code",
   "execution_count": null,
   "metadata": {
    "collapsed": true
   },
   "outputs": [],
   "source": []
  }
 ],
 "metadata": {
  "kernelspec": {
   "display_name": "Python 3",
   "language": "python",
   "name": "python3"
  },
  "language_info": {
   "codemirror_mode": {
    "name": "ipython",
    "version": 3
   },
   "file_extension": ".py",
   "mimetype": "text/x-python",
   "name": "python",
   "nbconvert_exporter": "python",
   "pygments_lexer": "ipython3",
   "version": "3.7.3"
  },
  "toc": {
   "base_numbering": 1,
   "nav_menu": {},
   "number_sections": true,
   "sideBar": true,
   "skip_h1_title": false,
   "title_cell": "Table of Contents",
   "title_sidebar": "Contents",
   "toc_cell": false,
   "toc_position": {},
   "toc_section_display": true,
   "toc_window_display": false
  }
 },
 "nbformat": 4,
 "nbformat_minor": 2
}
