{
 "cells": [
  {
   "cell_type": "code",
   "execution_count": 1,
   "metadata": {},
   "outputs": [
    {
     "data": {
      "text/plain": [
       "(57, '/var/folders/r7/n9dny1wj46q8njz2gds66kqr0000gp/T/tmp_g68zgzx')"
      ]
     },
     "execution_count": 1,
     "metadata": {},
     "output_type": "execute_result"
    }
   ],
   "source": [
    "%load_ext Cython\n",
    "import os,tempfile\n",
    "os.chdir(tempfile.mkdtemp())\n",
    "tempfile.mkstemp()"
   ]
  },
  {
   "cell_type": "markdown",
   "metadata": {},
   "source": [
    "# pyx compilation"
   ]
  },
  {
   "cell_type": "markdown",
   "metadata": {},
   "source": [
    "put Cython codes into a file `cythoncode.pyx`\n",
    "\n",
    "create `setup.py`, either\n",
    "1. with default `cythonize`:\n",
    "\n",
    "```python\n",
    "from distutils.core import setup\n",
    "from Cython.Build import cythonize\n",
    "setup( name=\"cythoncode\", ext_modules = cythonize(\"cythoncode.pyx\") )\n",
    "```\n",
    "\n",
    "2. With custom C compilation flags:\n",
    "\n",
    "```python\n",
    "from distutils.core import setup\n",
    "from distutils.extension import Extension\n",
    "from Cython.Distutils import build_ext\n",
    "\n",
    "setup(  name = \"cythoncode\",\n",
    "        cmdclass = {\"build_ext\": build_ext},\n",
    "        ext_modules = [ Extension(\"cythoncode\",\n",
    "                                  sources=[\"cythoncode.pyx\"],\n",
    "                                  language='c++',   #using C++\n",
    "                                  libraries=[\"m\"],  #for using C's math lib\n",
    "                                  extra_compile_args = [\"-ffast-math\"])])\n",
    "```\n",
    "\n",
    "3. With `cimport numpy`:\n",
    "\n",
    "```python\n",
    "import os\n",
    "import numpy\n",
    "from distutils.core import setup\n",
    "from distutils.extension import Extension\n",
    "from Cython.Distutils import build_ext\n",
    "\n",
    "setup(cmdclass = {'build_ext': build_ext},\n",
    "      name=\"cythoncode\",\n",
    "      ext_modules=[Extension(\"cythoncode\",\n",
    "                             sources=[\"cythoncode.pyx\"])],\n",
    "      include_dirs=[numpy.get_include(),\n",
    "                    os.path.join(numpy.get_include(), 'numpy')])\n",
    "```\n",
    "\n",
    "To compile, either\n",
    "1. in commandline, run `python setup.py build_ext --inplace`;\n",
    "2. in main program, `import pyximport; pyximport.install()` (don't need `setup.py`)\n",
    "\n",
    "To load the built module in the main program, `from cythoncode import *`"
   ]
  },
  {
   "cell_type": "code",
   "execution_count": 5,
   "metadata": {},
   "outputs": [
    {
     "name": "stdout",
     "output_type": "stream",
     "text": [
      "Overwriting cythoncode.pyx\n"
     ]
    }
   ],
   "source": [
    "%%file cythoncode.pyx\n",
    "# cython: language_level=3, boundscheck=False\n",
    "## directives above: indicate python3 syntax, disable boundscheck for arrays\n",
    "from libc.math cimport pow, log\n",
    "\n",
    "cdef double square_and_add (double x): #cdef function can only be called from Cython, but not from Python.\n",
    "    return log(x)\n",
    "\n",
    "cpdef print_result (double x):         #cpdef function can be called from Python; def only python\n",
    "    print(f\"({x} ^ 2) + {x} = {square_and_add(x)}\")"
   ]
  },
  {
   "cell_type": "code",
   "execution_count": 6,
   "metadata": {},
   "outputs": [
    {
     "name": "stdout",
     "output_type": "stream",
     "text": [
      "Overwriting setup.py\n"
     ]
    }
   ],
   "source": [
    "%%file setup.py\n",
    "from distutils.core import Extension, setup\n",
    "from Cython.Build import cythonize\n",
    "from Cython.Distutils import build_ext\n",
    "ext = Extension(name=\"cythoncode\", sources=[\"cythoncode.pyx\"])  # define an extension that will be cythonized and compiled\n",
    "setup(\n",
    "#     ext_modules=cythonize(ext)\n",
    "    ext_modules=[ ext ],cmdclass = {'build_ext': build_ext}\n",
    "     )"
   ]
  },
  {
   "cell_type": "code",
   "execution_count": 8,
   "metadata": {
    "scrolled": true
   },
   "outputs": [
    {
     "name": "stdout",
     "output_type": "stream",
     "text": [
      "running build_ext\n",
      "cythoning cythoncode.pyx to cythoncode.c\n",
      "building 'cythoncode' extension\n",
      "creating build\n",
      "creating build/temp.macosx-10.7-x86_64-3.7\n",
      "gcc -Wno-unused-result -Wsign-compare -Wunreachable-code -DNDEBUG -g -fwrapv -O3 -Wall -Wstrict-prototypes -I/Users/hoi/opt/include -arch x86_64 -I/Users/hoi/opt/include -arch x86_64 -I/Users/hoi/opt/include/python3.7m -c cythoncode.c -o build/temp.macosx-10.7-x86_64-3.7/cythoncode.o\n",
      "gcc -bundle -undefined dynamic_lookup -L/Users/hoi/opt/lib -arch x86_64 -L/Users/hoi/opt/lib -arch x86_64 -arch x86_64 build/temp.macosx-10.7-x86_64-3.7/cythoncode.o -o /private/var/folders/r7/n9dny1wj46q8njz2gds66kqr0000gp/T/tmphur_clfu/cythoncode.cpython-37m-darwin.so\n",
      "(3.0 ^ 2) + 3.0 = 1.0986122886681098\n"
     ]
    }
   ],
   "source": [
    "# import pyximport; pyximport.install()  #either this\n",
    "!python3 setup.py build_ext --inplace    #or this\n",
    "from cythoncode import print_result\n",
    "print_result(3)"
   ]
  },
  {
   "cell_type": "markdown",
   "metadata": {},
   "source": [
    "## `pxd` header file\n",
    "if the code is to be `cimport`ed by another cython file, need to put declarations (of `cpdef` and `cdef` methods/variables) in a same-name pxd file and implementation only in pyx"
   ]
  },
  {
   "cell_type": "code",
   "execution_count": null,
   "metadata": {},
   "outputs": [],
   "source": [
    "%%file mcts.pxd\n",
    "# cython: language_level=3\n",
    "cdef class Node:\n",
    "    cdef public int visits\n",
    "    cdef public double wins\n",
    "    cdef public dict childNodes # {move:nextnode} the move that get *into* next node\n",
    "    cdef public int viewpoint\n",
    "    cpdef int UCTSelectChild(self,double explore=?)\n",
    "    cpdef void AddChild(self, int move, n)\n",
    "    cpdef void Update(self, double result)"
   ]
  },
  {
   "cell_type": "code",
   "execution_count": null,
   "metadata": {},
   "outputs": [],
   "source": [
    "%%file mcts.pyx\n",
    "\n",
    "cdef class Node:\n",
    "    def __init__(self, Game game):\n",
    "        self.wins = 0. \n",
    "        self.visits = 0\n",
    "        self.childNodes={}\n",
    "        self.viewpoint = 3-game.playerToMove\n",
    "        \n",
    "    cpdef int UCTSelectChild(self,double explore=1):\n",
    "        return bestmove\n",
    "    \n",
    "    cpdef void AddChild(self, int move, n):\n",
    "        self.childNodes[move] = n\n",
    "    \n",
    "    cpdef void Update(self, double result):\n",
    "        self.visits += 1\n",
    "        self.wins += result # game results in the range [0.0, 1.0]"
   ]
  },
  {
   "cell_type": "markdown",
   "metadata": {},
   "source": [
    "## [in notebook](https://cython.readthedocs.io/en/latest/src/userguide/source_files_and_compilation.html#compiling-with-a-jupyter-notebook)"
   ]
  },
  {
   "cell_type": "markdown",
   "metadata": {},
   "source": [
    "* add `%%cython` in cell defining cython functions (those in `.pyx`), then the functions can be used as normal (treat each cell with `%%cython` as a file)\n",
    "* `%%cython -+` for codes in C++"
   ]
  },
  {
   "cell_type": "markdown",
   "metadata": {},
   "source": [
    "## `cython` function that works even if `gcc` compilation fails"
   ]
  },
  {
   "cell_type": "code",
   "execution_count": 83,
   "metadata": {},
   "outputs": [
    {
     "name": "stdout",
     "output_type": "stream",
     "text": [
      "Writing particle_extern.cpp\n"
     ]
    }
   ],
   "source": [
    "%%file particle_extern.cpp\n",
    "#include \"particle_extern.h\"\n",
    "\n",
    "Particle::Particle(float m, float c, float *p, float *v) :\n",
    "    mass(m), charge(c) \n",
    "{\n",
    "    for (int i=0; i<3; ++i) {\n",
    "        pos[i] = p[i]; vel[i] = v[i];\n",
    "    }\n",
    "}\n",
    "\n",
    "void Particle::applyImpulse(float *f, float t)\n",
    "{\n",
    "    float newvi;\n",
    "    for(int i=0; i<3; ++i) {\n",
    "        newvi = vel[i] + t / mass * f[i];\n",
    "        pos[i] = (newvi + vel[i]) * t / 2.;\n",
    "        vel[i] = newvi;\n",
    "    }\n",
    "}\n"
   ]
  },
  {
   "cell_type": "code",
   "execution_count": 2,
   "metadata": {},
   "outputs": [],
   "source": [
    "%%cython\n",
    "import cython\n",
    "@cython.locals(n=cython.int)\n",
    "def fib_pure_python(n):\n",
    "    cython.declare(a=cython.int, b=cython.int, i=cython.int)\n",
    "    a, b = 1, 1\n",
    "    for i in range(n):\n",
    "        a, b = a + b, a\n",
    "    return a"
   ]
  },
  {
   "cell_type": "markdown",
   "metadata": {},
   "source": [
    "# using C/C++ libraries\n",
    "for standard [C libraries](https://github.com/cython/cython/tree/master/Cython/Includes/libc) or [C++ libraries](https://github.com/cython/cython/tree/master/Cython/Includes/libcpp):\n",
    "```python \n",
    "from libc.math cimport sqrt```\n",
    "\n",
    "For custom library (in header file `custom.h`):\n",
    "```cython\n",
    "cdef extern from \"custom.h\":\n",
    "    double sin(double x)\n",
    "```\n",
    "To allow it to be used by other python codes, add `cpdef` before `double sin`\n",
    "\n",
    "\n",
    "\n",
    "*    `def` - Python, Cython \n",
    "*    `cdef` - faster, Cython only, can use pointers\n",
    "*    `cpdef` - faster, Python, Cython, no pointers\n"
   ]
  },
  {
   "cell_type": "markdown",
   "metadata": {},
   "source": [
    "## [Using std C functions](https://cython.readthedocs.io/en/latest/src/tutorial/external.html)"
   ]
  },
  {
   "cell_type": "code",
   "execution_count": 61,
   "metadata": {},
   "outputs": [],
   "source": [
    "%%cython\n",
    "from libc.stdlib cimport atoi\n",
    "cdef parse_charptr_to_py_int(char* s):\n",
    "    assert s is not NULL, \"byte string value is NULL\"\n",
    "    return atoi(s)  # note: atoi() has no error detection!"
   ]
  },
  {
   "cell_type": "markdown",
   "metadata": {},
   "source": [
    "access C code function:"
   ]
  },
  {
   "cell_type": "code",
   "execution_count": 69,
   "metadata": {},
   "outputs": [],
   "source": [
    "%%cython\n",
    "cdef extern from \"math.h\":\n",
    "    cpdef double sin(double)"
   ]
  },
  {
   "cell_type": "code",
   "execution_count": 70,
   "metadata": {},
   "outputs": [
    {
     "data": {
      "text/plain": [
       "cython_function_or_method"
      ]
     },
     "execution_count": 70,
     "metadata": {},
     "output_type": "execute_result"
    }
   ],
   "source": [
    "type(sin)"
   ]
  },
  {
   "cell_type": "markdown",
   "metadata": {},
   "source": [
    "Given name to the signature declaration allows calling the function with keyword arguments (cdef function):"
   ]
  },
  {
   "cell_type": "code",
   "execution_count": 81,
   "metadata": {},
   "outputs": [],
   "source": [
    "%%cython\n",
    "cdef extern from \"string.h\":\n",
    "    char* strstr(const char *haystack, const char *needle)\n",
    "\n",
    "cdef char* data = \"hfvcakdfagbcffvschvxcdfgccbcfhvgcsnfxjh\"\n",
    "\n",
    "cdef char* pos = strstr(needle='akd', haystack=data)\n",
    "print(pos is not NULL)"
   ]
  },
  {
   "cell_type": "markdown",
   "metadata": {},
   "source": [
    "## STL"
   ]
  },
  {
   "cell_type": "markdown",
   "metadata": {},
   "source": [
    "template argument in the [] brackets"
   ]
  },
  {
   "cell_type": "code",
   "execution_count": null,
   "metadata": {},
   "outputs": [],
   "source": [
    "%%cython -I . -+ -a\n",
    "cdef extern from \"<algorithm>\" namespace \"std\":\n",
    "    iter std_find \"std::find\" [iter, T](iter first, iter last, const T& val)\n",
    "cdef extern from \"<algorithm>\" namespace \"std\":\n",
    "    iter std_random_shuffle \"std::random_shuffle\" [iter](iter first, iter last)\n",
    "# std_find[vector[int].iterator, int](vec.begin(), vec.end(), m)\n",
    "# std_random_shuffle[vector[int].iterator]( vec.begin(), vec.end() )"
   ]
  },
  {
   "cell_type": "markdown",
   "metadata": {},
   "source": [
    "## [Using self-defined C classes (externs)](https://cython.readthedocs.io/en/latest/src/userguide/wrapping_CPlusPlus.html)"
   ]
  },
  {
   "cell_type": "code",
   "execution_count": null,
   "metadata": {},
   "outputs": [],
   "source": [
    "https://cython.readthedocs.io/en/latest/src/tutorial/cdef_classes.html"
   ]
  },
  {
   "cell_type": "markdown",
   "metadata": {},
   "source": [
    "## [define class in cython](https://cython.readthedocs.io/en/latest/src/tutorial/cdef_classes.html)\n",
    "*        All attributes must be pre-declared at compile-time\n",
    "*        Attributes are by default only accessible from Cython (typed access)\n",
    "*        Properties can be declared to expose dynamic attributes to Python-space\n",
    "\n",
    "If you don’t do anything special, a function declared with cdef that does not return a Python object has no way of reporting Python exceptions to its caller. If an exception is detected in such a function, a warning message is printed and the exception is ignored.\n",
    "\n",
    "*  ```cython\n",
    "cdef int spam() except -1: ...\n",
    "``` \n",
    "indicates that if -1 is returned by `spam`, an error has occured \n",
    "*  ```cython\n",
    "cdef int spam() except? -1: ...\n",
    "``` \n",
    "indicates that if -1 is returned by `spam`, Cython should call `PyErr_Occurred()` to make sure it really is an error.\n",
    "*  ```cython\n",
    "cdef void spam() except *: ...\n",
    "``` \n",
    "indicates Cython should call `PyErr_Occurred()` after every call, to make sure it really is an error.\n",
    "*  ```cython\n",
    "cdef int spam() except +\n",
    "```\n",
    "for external C++ function that may raise an exception"
   ]
  },
  {
   "cell_type": "code",
   "execution_count": 58,
   "metadata": {},
   "outputs": [],
   "source": [
    "%%cython -+\n",
    "from libc.math cimport sin\n",
    "\n",
    "cdef class Function_cy:\n",
    "    cpdef double evaluate(self, double x) except *:\n",
    "        return 0\n",
    "\n",
    "cdef class SinOfSquareFunction_cy(Function_cy):             #inherits just to demonstrate overriding\n",
    "    cpdef double evaluate(self, double x) except *:\n",
    "        return sin(x ** 2)\n",
    "    \n",
    "def integrate_cy(Function_cy f, double a, double b, int N):\n",
    "    cdef int i\n",
    "    cdef double s, dx\n",
    "    dx = (b - a) / N\n",
    "    if f is None: raise ValueError(\"f cannot be None\") #Since the argument is typed, we need to check whether it is None. In Python, this would have resulted in an AttributeError when the evaluate method was looked up, but Cython would instead try to access the (incompatible) internal structure of None as if it were a Function, leading to a crash or data corruption.\n",
    "    s = 0\n",
    "    for i in range(N):\n",
    "        s += f.evaluate(a + i * dx)\n",
    "    return s * dx"
   ]
  },
  {
   "cell_type": "code",
   "execution_count": 59,
   "metadata": {},
   "outputs": [],
   "source": [
    "from math import sin\n",
    "class SinOfSquareFunction(Function_cy):  #must interit from this to pass to integrate_cy\n",
    "    def evaluate(self, x):\n",
    "        return sin(x ** 2)\n",
    "    \n",
    "def integrate(f, a, b, N):\n",
    "    dx = (b - a) / N\n",
    "    s=0\n",
    "    for i in range(N):\n",
    "        s += f.evaluate(a + i * dx)\n",
    "    return s * dx"
   ]
  },
  {
   "cell_type": "code",
   "execution_count": 60,
   "metadata": {
    "scrolled": true
   },
   "outputs": [
    {
     "name": "stdout",
     "output_type": "stream",
     "text": [
      "131 µs ± 8.54 µs per loop (mean ± std. dev. of 7 runs, 10000 loops each)\n",
      "1.82 ms ± 250 µs per loop (mean ± std. dev. of 7 runs, 1000 loops each)\n",
      "1.34 ms ± 95.4 µs per loop (mean ± std. dev. of 7 runs, 1000 loops each)\n",
      "2.39 ms ± 143 µs per loop (mean ± std. dev. of 7 runs, 100 loops each)\n"
     ]
    }
   ],
   "source": [
    "%timeit integrate_cy(SinOfSquareFunction_cy(), 0, 1, 10000)\n",
    "%timeit integrate_cy(SinOfSquareFunction(), 0, 1, 10000)   # pass python-function to cython integrate\n",
    "%timeit integrate(SinOfSquareFunction_cy(), 0, 1, 10000)   # pass Cy-function to python integrate\n",
    "%timeit integrate(SinOfSquareFunction(), 0, 1, 10000)"
   ]
  },
  {
   "cell_type": "markdown",
   "metadata": {},
   "source": [
    "public/private attributes:"
   ]
  },
  {
   "cell_type": "code",
   "execution_count": null,
   "metadata": {},
   "outputs": [],
   "source": [
    "%%cython\n",
    "cdef class WaveFunction(Function):\n",
    "\n",
    "    # Not available in Python-space:\n",
    "    cdef double offset\n",
    "\n",
    "    # Available in Python-space:\n",
    "    cdef public double freq\n",
    "\n",
    "    # Available in Python-space, but only for reading:\n",
    "    cdef readonly double scale\n",
    "\n",
    "    # Available in Python-space:\n",
    "    @property\n",
    "    def period(self):\n",
    "        return 1.0 / self.freq\n",
    "    @period.setter\n",
    "    def period(self, value):\n",
    "        self.freq = 1.0 / value"
   ]
  },
  {
   "cell_type": "markdown",
   "metadata": {},
   "source": [
    "# Examples"
   ]
  },
  {
   "cell_type": "markdown",
   "metadata": {},
   "source": [
    "* [Compiler directives](https://cython.readthedocs.io/en/latest/src/userguide/source_files_and_compilation.html#compiler-directives): add `@cython.xxx(False)` to turn on/off checks (must `cimport cython` first)\n",
    "* `from libc.math cimport pow` for importing C's lib; `from libcpp.vector cimport vector` for importing C++'s lib"
   ]
  },
  {
   "cell_type": "code",
   "execution_count": 2,
   "metadata": {},
   "outputs": [],
   "source": [
    "%%cython\n",
    "cimport cython\n",
    "@cython.cdivision(False)\n",
    "def primes_c(int nb_primes):\n",
    "    cdef int n=2, len_p=0, i   #variales defined in cdef are C's objects (cannot be returned)\n",
    "    cdef int p[1000]           #C-static array (cannot be p[nb_primes])\n",
    "\n",
    "    while len_p < nb_primes:\n",
    "        for i in p[:len_p]:\n",
    "            if n % i == 0:\n",
    "                break\n",
    "        else:\n",
    "            p[len_p] = n\n",
    "            len_p += 1\n",
    "        n += 1\n",
    "\n",
    "    return [prime for prime in p[:len_p]]    #  return as python list\n",
    "#     return result_as_list"
   ]
  },
  {
   "cell_type": "code",
   "execution_count": 3,
   "metadata": {
    "scrolled": false
   },
   "outputs": [],
   "source": [
    "%%cython -+\n",
    "from libcpp.vector cimport vector\n",
    "cimport cython\n",
    "\n",
    "def primes_cpp(unsigned int nb_primes):\n",
    "    cdef int n=2, i\n",
    "    cdef vector[int] p\n",
    "    p.reserve(nb_primes)\n",
    "\n",
    "    while p.size() < nb_primes:\n",
    "        for i in p:\n",
    "            if n % i == 0:\n",
    "                break\n",
    "        else:\n",
    "            p.push_back(n)\n",
    "        n += 1\n",
    "    return p"
   ]
  },
  {
   "cell_type": "code",
   "execution_count": 44,
   "metadata": {},
   "outputs": [],
   "source": [
    "%%cython\n",
    "def primes_cy(nb_primes):  #cythonize a python code without adapting variables to C\n",
    "    p=[]\n",
    "    n=2\n",
    "    while len(p) < nb_primes:\n",
    "        for i in p:\n",
    "            if n % i == 0:\n",
    "                break\n",
    "        else:\n",
    "            p+=n,\n",
    "        n += 1\n",
    "    return p"
   ]
  },
  {
   "cell_type": "code",
   "execution_count": 45,
   "metadata": {
    "scrolled": true
   },
   "outputs": [
    {
     "name": "stdout",
     "output_type": "stream",
     "text": [
      "1.61 ms ± 12 µs per loop (mean ± std. dev. of 7 runs, 1000 loops each)\n",
      "1.63 ms ± 30.3 µs per loop (mean ± std. dev. of 7 runs, 1000 loops each)\n",
      "11.9 ms ± 48 µs per loop (mean ± std. dev. of 7 runs, 100 loops each)\n",
      "20.7 ms ± 94 µs per loop (mean ± std. dev. of 7 runs, 10 loops each)\n"
     ]
    }
   ],
   "source": [
    "def primes(nb_primes):\n",
    "    p=[]\n",
    "    n=2\n",
    "    while len(p) < nb_primes:\n",
    "        for i in p:\n",
    "            if n % i == 0:\n",
    "                break\n",
    "        else:\n",
    "            p+=n,\n",
    "        n += 1\n",
    "    return p\n",
    "%timeit primes_c(1000)\n",
    "%timeit primes_cpp(1000)\n",
    "%timeit primes_cy(1000)\n",
    "%timeit primes(1000)"
   ]
  },
  {
   "cell_type": "code",
   "execution_count": 9,
   "metadata": {},
   "outputs": [],
   "source": [
    "%%cython\n",
    "from libc.stdlib cimport rand\n",
    "cpdef int test():\n",
    "    return rand()"
   ]
  },
  {
   "cell_type": "code",
   "execution_count": 10,
   "metadata": {},
   "outputs": [
    {
     "data": {
      "text/plain": [
       "596516649"
      ]
     },
     "execution_count": 10,
     "metadata": {},
     "output_type": "execute_result"
    }
   ],
   "source": [
    "test()"
   ]
  },
  {
   "cell_type": "markdown",
   "metadata": {},
   "source": [
    "# openmp"
   ]
  },
  {
   "cell_type": "code",
   "execution_count": 13,
   "metadata": {},
   "outputs": [
    {
     "name": "stdout",
     "output_type": "stream",
     "text": [
      "-2023233221\n"
     ]
    }
   ],
   "source": [
    "%%cython\n",
    "\n",
    "from cython.parallel import prange\n",
    "\n",
    "cdef int i\n",
    "cdef int n = 12345678\n",
    "cdef int sum = 0\n",
    "\n",
    "for i in prange(n, nogil=True):\n",
    "    sum += i\n",
    "\n",
    "print(sum)"
   ]
  },
  {
   "cell_type": "markdown",
   "metadata": {},
   "source": [
    "# Using [Numpy](http://cython.readthedocs.io/en/latest/src/userguide/numpy_tutorial.html)"
   ]
  },
  {
   "cell_type": "markdown",
   "metadata": {},
   "source": [
    "```cython\n",
    "cimport numpy as np```\n",
    "\n",
    "in `setup.py`\n",
    "```python\n",
    "import os\n",
    "import numpy\n",
    "from distutils.core import setup\n",
    "from distutils.extension import Extension\n",
    "from Cython.Distutils import build_ext\n",
    "\n",
    "setup(cmdclass = {'build_ext': build_ext},\n",
    "      name=\"cythoncode\",\n",
    "      ext_modules=[Extension(\"cythoncode\",\n",
    "                             sources=[\"cythoncode.pyx\"])],\n",
    "      include_dirs=[numpy.get_include(),\n",
    "                    os.path.join(numpy.get_include(), 'numpy')])\n",
    "```"
   ]
  },
  {
   "cell_type": "markdown",
   "metadata": {},
   "source": [
    "## Pairwise Distances (numpy list)"
   ]
  },
  {
   "cell_type": "code",
   "execution_count": 3,
   "metadata": {},
   "outputs": [],
   "source": [
    "import numpy as np\n",
    "X = np.random.random((500, 3))"
   ]
  },
  {
   "cell_type": "code",
   "execution_count": 4,
   "metadata": {},
   "outputs": [],
   "source": [
    "def pairwise_v1(X):\n",
    "    X = np.asarray(X)    \n",
    "    n_samples, n_dim = X.shape\n",
    "    D = np.empty((n_samples, n_samples))\n",
    "\n",
    "    for i in range(n_samples):\n",
    "        for j in range(n_samples):\n",
    "            D[i, j] = np.sqrt(np.sum((X[i] - X[j]) ** 2))\n",
    "    return D"
   ]
  },
  {
   "cell_type": "code",
   "execution_count": 5,
   "metadata": {},
   "outputs": [],
   "source": [
    "%%cython\n",
    "import numpy as np\n",
    "cimport numpy as np\n",
    "from libc.math cimport sqrt\n",
    "cimport cython\n",
    "\n",
    "#no bounds check for array; disable negative (count from end) indexing\n",
    "@cython.boundscheck(False)\n",
    "@cython.wraparound(False)\n",
    "def pairwise_v2(np.ndarray[double, ndim=2, mode='c'] X not None): #mode='c' indicates C-ordered (contiguous in memory)\n",
    "    \n",
    "    cdef np.intp_t i, j, n_samples, N # np.intp: Integer used for indexing (unsigned). _t means the type of it\n",
    "    cdef double tmp, d    \n",
    "    n_samples = X.shape[0]\n",
    "    N = X.shape[1]\n",
    "\n",
    "    cdef np.ndarray[double, ndim=2, mode='c'] D = np.empty((n_samples, n_samples))\n",
    "    for i in range(n_samples):\n",
    "        for j in range(n_samples):\n",
    "            d = 0\n",
    "            for k in range(N):\n",
    "                tmp = X[i,k] - X[j,k]\n",
    "                d += tmp * tmp\n",
    "            D[i, j] = sqrt(d)\n",
    "\n",
    "    return D"
   ]
  },
  {
   "cell_type": "markdown",
   "metadata": {},
   "source": [
    "[Typed Memoryview](http://cython.readthedocs.io/en/latest/src/userguide/memoryviews.html) - faster passing arrays as arguments"
   ]
  },
  {
   "cell_type": "code",
   "execution_count": 6,
   "metadata": {},
   "outputs": [],
   "source": [
    "%%cython\n",
    "import numpy as np\n",
    "cimport numpy as np\n",
    "from libc.math cimport sqrt\n",
    "cimport cython\n",
    "\n",
    "@cython.boundscheck(False)\n",
    "@cython.wraparound(False)\n",
    "def pairwise_v3(double[:, ::1] X not None): # ::1 means 2nd dim inc one element apart in memory. can be replaced by : since np array is of this form\n",
    "    \n",
    "    cdef np.intp_t i, j, n_samples, N\n",
    "    cdef double tmp, d    \n",
    "    n_samples = X.shape[0]\n",
    "    N = X.shape[1]\n",
    "\n",
    "    cdef double[:, ::1] D = np.empty((n_samples, n_samples))\n",
    "    for i in range(n_samples):\n",
    "        for j in range(n_samples):\n",
    "            d = 0\n",
    "            for k in range(N):\n",
    "                tmp = X[i,k] - X[j,k]\n",
    "                d += tmp * tmp\n",
    "            D[i, j] = sqrt(d)\n",
    "\n",
    "    return np.asarray(D)  #convert from memory view back to ordinary numpy array"
   ]
  },
  {
   "cell_type": "code",
   "execution_count": 7,
   "metadata": {},
   "outputs": [
    {
     "name": "stdout",
     "output_type": "stream",
     "text": [
      "1.61 s ± 106 ms per loop (mean ± std. dev. of 7 runs, 1 loop each)\n",
      "870 µs ± 35.5 µs per loop (mean ± std. dev. of 7 runs, 1000 loops each)\n",
      "771 µs ± 29.4 µs per loop (mean ± std. dev. of 7 runs, 1000 loops each)\n"
     ]
    }
   ],
   "source": [
    "%timeit pairwise_v1(X)\n",
    "%timeit pairwise_v2(X)\n",
    "%timeit pairwise_v3(X)"
   ]
  },
  {
   "cell_type": "code",
   "execution_count": null,
   "metadata": {
    "collapsed": true
   },
   "outputs": [],
   "source": []
  }
 ],
 "metadata": {
  "kernelspec": {
   "display_name": "Python 3",
   "language": "python",
   "name": "python3"
  },
  "language_info": {
   "codemirror_mode": {
    "name": "ipython",
    "version": 3
   },
   "file_extension": ".py",
   "mimetype": "text/x-python",
   "name": "python",
   "nbconvert_exporter": "python",
   "pygments_lexer": "ipython3",
   "version": "3.7.3"
  },
  "toc": {
   "base_numbering": 1,
   "nav_menu": {},
   "number_sections": true,
   "sideBar": true,
   "skip_h1_title": false,
   "title_cell": "Table of Contents",
   "title_sidebar": "Contents",
   "toc_cell": false,
   "toc_position": {},
   "toc_section_display": true,
   "toc_window_display": false
  }
 },
 "nbformat": 4,
 "nbformat_minor": 2
}
