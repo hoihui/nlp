{
 "cells": [
  {
   "cell_type": "code",
   "execution_count": 5,
   "metadata": {},
   "outputs": [],
   "source": [
    "import numpy as np\n",
    "import matplotlib.pyplot as plt\n",
    "%matplotlib inline"
   ]
  },
  {
   "cell_type": "code",
   "execution_count": 7,
   "metadata": {},
   "outputs": [
    {
     "data": {
      "text/plain": [
       "('2.2.4-tf', '2.0.0-beta1', False)"
      ]
     },
     "execution_count": 7,
     "metadata": {},
     "output_type": "execute_result"
    }
   ],
   "source": [
    "# !pip install tensorflow==2.0.0-beta1\n",
    "import tensorflow as tf\n",
    "from tensorflow import keras\n",
    "keras.__version__,tf.__version__,tf.test.is_gpu_available()"
   ]
  },
  {
   "cell_type": "markdown",
   "metadata": {},
   "source": [
    "# Tensors"
   ]
  },
  {
   "cell_type": "markdown",
   "metadata": {},
   "source": [
    "## Numbers"
   ]
  },
  {
   "cell_type": "code",
   "execution_count": 80,
   "metadata": {},
   "outputs": [
    {
     "data": {
      "text/plain": [
       "<tf.Tensor: id=1241, shape=(2, 3), dtype=float32, numpy=\n",
       "array([[1., 1., 1.],\n",
       "       [1., 1., 1.]], dtype=float32)>"
      ]
     },
     "execution_count": 80,
     "metadata": {},
     "output_type": "execute_result"
    }
   ],
   "source": [
    "x=tf.Variable(1,dtype=float)    #init scalar\n",
    "tf.zeros([2,3])\n",
    "tf.ones([2,3])"
   ]
  },
  {
   "cell_type": "code",
   "execution_count": null,
   "metadata": {},
   "outputs": [],
   "source": [
    "x.assign(2.)       # so that memory location is overwritten in-place\n",
    "x.assign_add(0.1)  # add a number from current val\n",
    "x.assign_sub(0.1)  # subtract a number from current val"
   ]
  },
  {
   "cell_type": "code",
   "execution_count": 65,
   "metadata": {},
   "outputs": [
    {
     "data": {
      "text/plain": [
       "<tf.Tensor: id=950, shape=(), dtype=int32, numpy=2>"
      ]
     },
     "execution_count": 65,
     "metadata": {},
     "output_type": "execute_result"
    }
   ],
   "source": [
    "tf.add([1, 2], [3, 4])\n",
    "tf.square(5)\n",
    "tf.reduce_sum([1, 2, 3],axis=None)   #  sum of elements across dimensions\n",
    "tf.reduce_mean([1, 2, 3],axis=None)  # mean of elements across dimensions\n",
    "# x, x.item()            # convert to python scalar"
   ]
  },
  {
   "cell_type": "code",
   "execution_count": null,
   "metadata": {},
   "outputs": [],
   "source": [
    "intTensor / 2.0             # would raise error since they are of different types\n",
    "tf.cast(intTensor, tf.float32) # typecasting"
   ]
  },
  {
   "cell_type": "markdown",
   "metadata": {},
   "source": [
    "## Linear Alegra"
   ]
  },
  {
   "cell_type": "code",
   "execution_count": 4,
   "metadata": {},
   "outputs": [
    {
     "data": {
      "text/plain": [
       "<tf.Tensor: id=2, shape=(1, 2), dtype=int32, numpy=array([[2, 3]], dtype=int32)>"
      ]
     },
     "execution_count": 4,
     "metadata": {},
     "output_type": "execute_result"
    }
   ],
   "source": [
    "tf.matmul([[1]], [[2, 3]])"
   ]
  },
  {
   "cell_type": "code",
   "execution_count": 5,
   "metadata": {},
   "outputs": [
    {
     "name": "stdout",
     "output_type": "stream",
     "text": [
      "tf.Tensor(\n",
      "[[-0.1822676  -0.28430012 -0.07924211 -1.2497768   1.7792954 ]\n",
      " [-0.34286293  0.49567658  0.8082687  -0.9986611  -1.5563369 ]], shape=(2, 5), dtype=float32)\n"
     ]
    }
   ],
   "source": [
    "features = tf.random.normal((2,5)) #tensor of size (2,5)\n",
    "# weights = \n",
    "# bias = tf.randn((1,1))\n",
    "print(features)"
   ]
  },
  {
   "cell_type": "code",
   "execution_count": null,
   "metadata": {},
   "outputs": [],
   "source": [
    "M[tf.newaxis,...]   # add a new dim=1 dimension at the first dim"
   ]
  },
  {
   "cell_type": "markdown",
   "metadata": {},
   "source": [
    "## Functions"
   ]
  },
  {
   "cell_type": "code",
   "execution_count": 121,
   "metadata": {
    "scrolled": false
   },
   "outputs": [
    {
     "data": {
      "text/plain": [
       "<tf.Tensor: id=335063, shape=(), dtype=float32, numpy=0.1717741>"
      ]
     },
     "execution_count": 121,
     "metadata": {},
     "output_type": "execute_result"
    }
   ],
   "source": [
    "1/(1 + tf.exp(tf.reduce_sum(features)))"
   ]
  },
  {
   "cell_type": "code",
   "execution_count": 122,
   "metadata": {},
   "outputs": [
    {
     "data": {
      "text/plain": [
       "<tf.Tensor: id=335065, shape=(2, 5), dtype=float32, numpy=\n",
       "array([[0.05733178, 0.13426073, 0.32917118, 0.06783855, 0.41139778],\n",
       "       [0.2680354 , 0.0566752 , 0.1565293 , 0.4928032 , 0.02595693]],\n",
       "      dtype=float32)>"
      ]
     },
     "execution_count": 122,
     "metadata": {},
     "output_type": "execute_result"
    }
   ],
   "source": [
    "tf.nn.softmax(features)"
   ]
  },
  {
   "cell_type": "code",
   "execution_count": 11,
   "metadata": {},
   "outputs": [
    {
     "data": {
      "text/plain": [
       "<tf.Tensor: id=133, shape=(), dtype=int32, numpy=45>"
      ]
     },
     "execution_count": 11,
     "metadata": {},
     "output_type": "execute_result"
    }
   ],
   "source": [
    "tf.add_n([tf.Variable(i) for i in range(10)])"
   ]
  },
  {
   "cell_type": "code",
   "execution_count": null,
   "metadata": {},
   "outputs": [],
   "source": [
    "# self-defined function\n",
    "@tf.function   # decorator to compile the function\n",
    "def fn(inp):\n",
    "    ..."
   ]
  },
  {
   "cell_type": "markdown",
   "metadata": {},
   "source": [
    "## Autograd"
   ]
  },
  {
   "cell_type": "code",
   "execution_count": 15,
   "metadata": {},
   "outputs": [
    {
     "name": "stdout",
     "output_type": "stream",
     "text": [
      "[[-0.4605462  -0.00614119]\n",
      " [ 0.335452   -0.43601644]] [[-1.8421848  -0.02456475]\n",
      " [ 1.341808   -1.7440658 ]]\n"
     ]
    }
   ],
   "source": [
    "x = tf.random.normal((2,2))\n",
    "print(x.numpy()/2,x.numpy()*2)\n",
    "with tf.GradientTape(persistent=True) as tape:  #persistent=True so that t.gradient can be called multiple times\n",
    "    tape.watch(x)\n",
    "    y = x*x\n",
    "    z = tf.reduce_mean(y)"
   ]
  },
  {
   "cell_type": "markdown",
   "metadata": {},
   "source": [
    "To prove $\n",
    "\\frac{\\partial z}{\\partial x} = \\frac{\\partial}{\\partial x}\\left[\\frac{1}{n}\\sum_i^n x_i^2\\right] = \\frac{x}{2}\n",
    "$ and $\\frac{\\partial y}{\\partial x} = 2x$:"
   ]
  },
  {
   "cell_type": "code",
   "execution_count": 16,
   "metadata": {
    "scrolled": true
   },
   "outputs": [
    {
     "name": "stdout",
     "output_type": "stream",
     "text": [
      "tf.Tensor(\n",
      "[[-0.4605462  -0.00614119]\n",
      " [ 0.335452   -0.43601644]], shape=(2, 2), dtype=float32)\n",
      "tf.Tensor(\n",
      "[[-1.8421848  -0.02456475]\n",
      " [ 1.341808   -1.7440658 ]], shape=(2, 2), dtype=float32)\n",
      "[<tf.Tensor: id=122, shape=(2, 2), dtype=float32, numpy=\n",
      "array([[-0.4605462 , -0.00614119],\n",
      "       [ 0.335452  , -0.43601644]], dtype=float32)>, <tf.Tensor: id=119, shape=(2, 2), dtype=float32, numpy=\n",
      "array([[0.25, 0.25],\n",
      "       [0.25, 0.25]], dtype=float32)>]\n"
     ]
    }
   ],
   "source": [
    "print(tape.gradient(z,x))  #=dz/dx\n",
    "print(tape.gradient(y,x))  #=dy/dx\n",
    "print(tape.gradient(z,[x,y]))  # can differentiate wrt multiple variables\n",
    "del tape  # if persistent=True, remember to release the ref"
   ]
  },
  {
   "cell_type": "code",
   "execution_count": 79,
   "metadata": {},
   "outputs": [
    {
     "name": "stdout",
     "output_type": "stream",
     "text": [
      "29.608767 29.608765416240203\n",
      "18.84954 18.84954071044922\n"
     ]
    }
   ],
   "source": [
    "# Higher order gradients using multiple GradientTape's\n",
    "x = tf.Variable(3.14159)\n",
    "\n",
    "with tf.GradientTape() as t:\n",
    "    with tf.GradientTape() as t2:\n",
    "        y = x * x * x\n",
    "    dy_dx = t2.gradient(y, x)\n",
    "d2y_dx2 = t.gradient(dy_dx, x)\n",
    "\n",
    "print(dy_dx.numpy(), 3*x.numpy()**2) #d(x^3)/dx=3x^2\n",
    "print(d2y_dx2.numpy(), 6*x.numpy())  #d(3x^2)/dx=6x"
   ]
  },
  {
   "cell_type": "markdown",
   "metadata": {},
   "source": [
    "## To/from Numpy"
   ]
  },
  {
   "cell_type": "markdown",
   "metadata": {},
   "source": [
    "Is memory shared?"
   ]
  },
  {
   "cell_type": "code",
   "execution_count": 47,
   "metadata": {},
   "outputs": [
    {
     "name": "stdout",
     "output_type": "stream",
     "text": [
      "tf.Tensor(\n",
      "[[0.07790517 0.87036976]\n",
      " [0.05034188 0.88710919]], shape=(2, 2), dtype=float64)\n",
      "[[0.07790517 0.87036976]\n",
      " [0.05034188 0.88710919]]\n"
     ]
    }
   ],
   "source": [
    "import numpy as np\n",
    "a = np.random.rand(2,2)\n",
    "b = tf.add(a,0)\n",
    "print(b)\n",
    "print(b.numpy())"
   ]
  },
  {
   "cell_type": "code",
   "execution_count": 48,
   "metadata": {
    "scrolled": true
   },
   "outputs": [
    {
     "data": {
      "text/plain": [
       "array([[0.07790517, 0.87036976],\n",
       "       [0.05034188, 0.88710919]])"
      ]
     },
     "execution_count": 48,
     "metadata": {},
     "output_type": "execute_result"
    }
   ],
   "source": [
    "b*=2 # inplace multiplication\n",
    "a # shows that memory is shared"
   ]
  },
  {
   "cell_type": "markdown",
   "metadata": {},
   "source": [
    "## [TF function and AutoGraph](https://www.tensorflow.org/alpha/tutorials/eager/tf_function)"
   ]
  },
  {
   "cell_type": "code",
   "execution_count": null,
   "metadata": {},
   "outputs": [],
   "source": []
  },
  {
   "cell_type": "markdown",
   "metadata": {},
   "source": [
    "# Datasets"
   ]
  },
  {
   "cell_type": "markdown",
   "metadata": {},
   "source": [
    "## [Keras.datasets](https://keras.io/datasets/) "
   ]
  },
  {
   "cell_type": "markdown",
   "metadata": {},
   "source": [
    "all uint8:\n",
    "* `mnist`: X.shape is (N, 28, 28); y.shape is (N,) from 0 to 9\n",
    "* `fashion_mnist`: same as above\n",
    "* `boston_housing`\n",
    "* `cifar10`: X.shape is (N, 3, 32, 32); y.shape is (N,) from 0 to 9\n",
    "* `cifar100`: X.shape is (N, 3, 32, 32); y.shape is (N,) of string labels\n",
    " * label_mode: `fine` or `coarse`.\n",
    "* `imdb`\n",
    "* `reuters`"
   ]
  },
  {
   "cell_type": "code",
   "execution_count": 82,
   "metadata": {},
   "outputs": [
    {
     "name": "stderr",
     "output_type": "stream",
     "text": [
      "Using TensorFlow backend.\n"
     ]
    }
   ],
   "source": [
    "(X_train, y_train), (X_test, y_test) = keras.datasets.mnist.load_data()\n",
    "\n",
    "from keras.utils import np_utils\n",
    "Y_train = np_utils.to_categorical(y_train, 10)# convert class vectors to binary class matrices\n",
    "\n",
    "# Conform with Convolution2D's requirements\n",
    "X_train_ = X_train.reshape(X_train.shape[0], img_rows, img_cols, 1)\n",
    "X_test_ = X_test.reshape(X_test.shape[0], img_rows, img_cols, 1)\n",
    "input_shape = (img_rows, img_cols, 1)"
   ]
  },
  {
   "cell_type": "markdown",
   "metadata": {},
   "source": [
    "## [tensorflow_datasets](https://www.tensorflow.org/datasets/datasets)"
   ]
  },
  {
   "cell_type": "code",
   "execution_count": null,
   "metadata": {},
   "outputs": [],
   "source": [
    "# !pip install tensorflow_datasets\n",
    "# https://www.tensorflow.org/alpha/tutorials/images/transfer_learning"
   ]
  },
  {
   "cell_type": "code",
   "execution_count": 14,
   "metadata": {},
   "outputs": [
    {
     "name": "stdout",
     "output_type": "stream",
     "text": [
      "<_OptionsDataset shapes: ((None, None, 3), ()), types: (tf.uint8, tf.int64)> <_OptionsDataset shapes: ((None, None, 3), ()), types: (tf.uint8, tf.int64)> <_OptionsDataset shapes: ((None, None, 3), ()), types: (tf.uint8, tf.int64)>\n"
     ]
    }
   ],
   "source": [
    "import tensorflow_datasets as tfds\n",
    "splits = tfds.Split.TRAIN.subsplit(weighted=(8, 1, 1))  #(train, validation, test) with 80%, 10%, 10%\n",
    "\n",
    "(raw_train, raw_validation, raw_test), metadata = tfds.load('cats_vs_dogs', split=(splits),\n",
    "                                                            with_info=True, as_supervised=True)\n",
    "\n",
    "print(raw_train, raw_validation, raw_test)"
   ]
  },
  {
   "cell_type": "code",
   "execution_count": 18,
   "metadata": {},
   "outputs": [
    {
     "data": {
      "image/png": "[encoded data removed]",
      "text/plain": [
       "<Figure size 432x288 with 1 Axes>"
      ]
     },
     "metadata": {
      "needs_background": "light"
     },
     "output_type": "display_data"
    }
   ],
   "source": [
    "import matplotlib.pyplot as plt\n",
    "%matplotlib inline\n",
    "\n",
    "for image, label in raw_train.take(1):    ## .take()\n",
    "    plt.figure()\n",
    "    plt.imshow(image)\n",
    "    plt.title(metadata.features['label'].int2str(label))  ##.int2str()"
   ]
  },
  {
   "cell_type": "markdown",
   "metadata": {},
   "source": [
    "Resize (and others) by `tf.image`"
   ]
  },
  {
   "cell_type": "code",
   "execution_count": 20,
   "metadata": {},
   "outputs": [],
   "source": [
    "def formatting(image, label):\n",
    "    image = tf.cast(image, tf.float32)\n",
    "    image = (image/127.5) - 1\n",
    "    image = tf.image.resize(image, (160, 160))\n",
    "    return image, label\n",
    "train = raw_train.map(formatting)\n",
    "validation = raw_validation.map(formatting)\n",
    "test = raw_test.map(formatting)"
   ]
  },
  {
   "cell_type": "code",
   "execution_count": 22,
   "metadata": {},
   "outputs": [
    {
     "name": "stdout",
     "output_type": "stream",
     "text": [
      "(32, 160, 160, 3) (32,)\n"
     ]
    }
   ],
   "source": [
    "train_batches = train.shuffle(1000).batch(32)  #shuffle's buffer size and batching\n",
    "validation_batches = validation.batch(32)\n",
    "test_batches = test.batch(32)\n",
    "for image_batch, label_batch in train_batches.take(1):\n",
    "    print(image_batch.shape, label_batch.shape)"
   ]
  },
  {
   "cell_type": "markdown",
   "metadata": {},
   "source": [
    "## Transformation (Augmentation)"
   ]
  },
  {
   "cell_type": "markdown",
   "metadata": {},
   "source": [
    "Generators to transform image"
   ]
  },
  {
   "cell_type": "code",
   "execution_count": 86,
   "metadata": {},
   "outputs": [],
   "source": [
    "from tensorflow.keras.preprocessing.image import ImageDataGenerator\n",
    "train_datagen = ImageDataGenerator(rescale=1/255,\n",
    "                                   rotation_range=40,     #randomly rotate 0-40 degrees\n",
    "                                   width_shift_range=0.2, #randomly...\n",
    "                                   height_shift_range=0.2,\n",
    "                                   shear_range=0.2,\n",
    "                                   zoon_range=0.2,       # up to 20%\n",
    "                                   horizontal_flip=True, #randomly flipped/not flipped\n",
    "                                  )  # can do the same for validation\n",
    "train_generator = train_datagen.flow_from_directory(\n",
    "                    '/path/to/dir'\n",
    "                    target_size=(300, 300),  # All images will be resized to 300x300\n",
    "                    batch_size=128,\n",
    "                    class_mode='binary')     # binary labels"
   ]
  },
  {
   "cell_type": "markdown",
   "metadata": {},
   "source": [
    "## Custom Dataset"
   ]
  },
  {
   "cell_type": "markdown",
   "metadata": {},
   "source": [
    "https://www.tensorflow.org/guide/datasets"
   ]
  },
  {
   "cell_type": "code",
   "execution_count": 12,
   "metadata": {},
   "outputs": [
    {
     "name": "stdout",
     "output_type": "stream",
     "text": [
      "each loop output tuples of shapes:  [TensorShape([10, 3, 8]), TensorShape([10, 5, 9]), TensorShape([10])]\n"
     ]
    }
   ],
   "source": [
    "raw=(np.random.rand(100,3,8),np.random.rand(100,5,9),np.random.rand(100))\n",
    "data=tf.data.Dataset.from_tensor_slices(raw).shuffle(buffer_size=100).batch(10)\n",
    "for d in data:\n",
    "    print('each loop output tuples of shapes: ',list(map(lambda a:a.shape,d)))\n",
    "    break"
   ]
  },
  {
   "cell_type": "code",
   "execution_count": 14,
   "metadata": {},
   "outputs": [
    {
     "name": "stdout",
     "output_type": "stream",
     "text": [
      "tf.Tensor([1 9], shape=(2,), dtype=int32)\n",
      "tf.Tensor([16 25], shape=(2,), dtype=int32)\n",
      "tf.Tensor([ 4 36], shape=(2,), dtype=int32)\n"
     ]
    }
   ],
   "source": [
    "# transformation .map/.batch/.shuffle\n",
    "ds_tensors = tf.data.Dataset.from_tensor_slices([1, 2, 3, 4, 5, 6])\n",
    "ds_tensors = ds_tensors.map(tf.square).shuffle(2).batch(2)\n",
    "for x in ds_tensors:    print(x)"
   ]
  },
  {
   "cell_type": "code",
   "execution_count": 15,
   "metadata": {},
   "outputs": [
    {
     "name": "stdout",
     "output_type": "stream",
     "text": [
      "\n",
      "Elements in ds_file:\n",
      "tf.Tensor([b'Line 1' b'Line 2'], shape=(2,), dtype=string)\n",
      "tf.Tensor([b'Line 3' b'  '], shape=(2,), dtype=string)\n"
     ]
    }
   ],
   "source": [
    "import tempfile\n",
    "_, filename = tempfile.mkstemp()\n",
    "with open(filename, 'w') as f:    f.write(\"\"\"Line 1\\nLine 2\\nLine 3\\n  \"\"\")\n",
    "ds_file = tf.data.TextLineDataset(filename)\n",
    "ds_file = ds_file.batch(2)  #loader\n",
    "print('\\nElements in ds_file:')\n",
    "for x in ds_file:    print(x)"
   ]
  },
  {
   "cell_type": "markdown",
   "metadata": {},
   "source": [
    "## images Loader"
   ]
  },
  {
   "cell_type": "code",
   "execution_count": null,
   "metadata": {},
   "outputs": [],
   "source": [
    "from keras.preprocessing import image  # single\n",
    "image.load_img(path, target_size=(300, 300))\n",
    "x = image.img_to_array(img)\n",
    "x = np.expand_dims(x, axis=0)    # 1*300*300"
   ]
  },
  {
   "cell_type": "code",
   "execution_count": null,
   "metadata": {},
   "outputs": [],
   "source": [
    "train_dataset = tf.data.Dataset.list_files('path/to/folder/*.jpg')\n",
    "train_dataset = train_dataset.shuffle(BUFFER_SIZE)\n",
    "train_dataset = train_dataset.map(fn)  #fn takes in 1 tensor and outputs 2\n",
    "train_dataset = train_dataset.batch(32)"
   ]
  },
  {
   "cell_type": "markdown",
   "metadata": {},
   "source": [
    "## Download csv"
   ]
  },
  {
   "cell_type": "code",
   "execution_count": 97,
   "metadata": {},
   "outputs": [
    {
     "name": "stdout",
     "output_type": "stream",
     "text": [
      "Local copy of the dataset file: /Users/hoi/.keras/datasets/iris_training.csv\n"
     ]
    }
   ],
   "source": [
    "import os\n",
    "url = \"https://storage.googleapis.com/download.tensorflow.org/data/iris_training.csv\"\n",
    "\n",
    "train_fp = keras.utils.get_file(fname=os.path.basename(train_dataset_url),\n",
    "                                origin=train_dataset_url)\n",
    "\n",
    "print(\"Local copy of the dataset file: {}\".format(train_fp))"
   ]
  },
  {
   "cell_type": "code",
   "execution_count": 105,
   "metadata": {},
   "outputs": [],
   "source": [
    "#lazy loader\n",
    "train_Xy = tf.data.experimental.make_csv_dataset(\n",
    "    train_fp,\n",
    "    batch_size=5,\n",
    "    column_names=['sepal_length', 'sepal_width', 'petal_length', 'petal_width', 'species'],\n",
    "    label_name='species',\n",
    "    num_epochs=1)"
   ]
  },
  {
   "cell_type": "code",
   "execution_count": 107,
   "metadata": {
    "scrolled": true
   },
   "outputs": [
    {
     "name": "stdout",
     "output_type": "stream",
     "text": [
      "OrderedDict([('sepal_length', <tf.Tensor: id=83673, shape=(5,), dtype=float32, numpy=array([4.7, 4.9, 7.7, 6. , 5.8], dtype=float32)>), ('sepal_width', <tf.Tensor: id=83674, shape=(5,), dtype=float32, numpy=array([3.2, 2.4, 3.8, 2.7, 2.6], dtype=float32)>), ('petal_length', <tf.Tensor: id=83671, shape=(5,), dtype=float32, numpy=array([1.6, 3.3, 6.7, 5.1, 4. ], dtype=float32)>), ('petal_width', <tf.Tensor: id=83672, shape=(5,), dtype=float32, numpy=array([0.2, 1. , 2.2, 1.6, 1.2], dtype=float32)>)]) \n",
      " tf.Tensor([0 1 2 1 1], shape=(5,), dtype=int32)\n"
     ]
    }
   ],
   "source": [
    "# sample\n",
    "X, y = next(iter(train_Xy))  #returns a batch\n",
    "print(X,'\\n',y)"
   ]
  },
  {
   "cell_type": "code",
   "execution_count": 113,
   "metadata": {},
   "outputs": [
    {
     "name": "stdout",
     "output_type": "stream",
     "text": [
      "tf.Tensor(\n",
      "[[4.7 3.2 1.6 0.2]\n",
      " [4.9 2.4 3.3 1. ]\n",
      " [7.7 3.8 6.7 2.2]\n",
      " [6.  2.7 5.1 1.6]\n",
      " [5.8 2.6 4.  1.2]], shape=(5, 4), dtype=float32) \n",
      " tf.Tensor([0 1 2 1 1], shape=(5,), dtype=int32)\n"
     ]
    }
   ],
   "source": [
    "# Convert from OrderedDict to a tensor\n",
    "train_Xy = train_Xy.map(lambda X,y: (tf.stack(list(X.values()), axis=1),y) )\n",
    "X, y = next(iter(train_Xy))  #returns a batch\n",
    "print(X,'\\n',y)"
   ]
  },
  {
   "cell_type": "markdown",
   "metadata": {},
   "source": [
    "# Constructing Network"
   ]
  },
  {
   "cell_type": "markdown",
   "metadata": {},
   "source": [
    "## Prebuilt <a href=\"https://www.tensorflow.org/api_docs/python/tf/keras/layers\">Layers</a>"
   ]
  },
  {
   "cell_type": "code",
   "execution_count": 24,
   "metadata": {
    "scrolled": true
   },
   "outputs": [
    {
     "data": {
      "text/plain": [
       "(<tf.Variable 'dense_5/kernel:0' shape=(5, 10) dtype=float32, numpy=\n",
       " array([[-0.23853138, -0.47463644, -0.40410075,  0.3337345 ,  0.05842251,\n",
       "         -0.2110303 , -0.37228498, -0.52343273, -0.1935311 ,  0.31415182],\n",
       "        [-0.47757697,  0.1872893 ,  0.36996263,  0.53191036, -0.41023302,\n",
       "         -0.36609358, -0.62482274, -0.32694978, -0.46359128, -0.11053449],\n",
       "        [ 0.5979156 , -0.6117383 ,  0.52128893, -0.20676479, -0.3525084 ,\n",
       "          0.2735374 , -0.5580343 , -0.06586772,  0.1952563 ,  0.3177566 ],\n",
       "        [-0.04371983,  0.25442594,  0.5144964 ,  0.03669256, -0.4263901 ,\n",
       "         -0.47154313,  0.18181372, -0.14908463, -0.6010451 ,  0.37639374],\n",
       "        [-0.60666305,  0.17177355, -0.03292   , -0.6297653 , -0.30985603,\n",
       "          0.22744763,  0.08481169,  0.03695041, -0.4091086 ,  0.21218657]],\n",
       "       dtype=float32)>,\n",
       " <tf.Variable 'dense_5/bias:0' shape=(10,) dtype=float32, numpy=array([0., 0., 0., 0., 0., 0., 0., 0., 0., 0.], dtype=float32)>)"
      ]
     },
     "execution_count": 24,
     "metadata": {},
     "output_type": "execute_result"
    }
   ],
   "source": [
    "layer = tf.keras.layers.Dense(10)\n",
    "layer(tf.zeros([10, 5]))  #forward an input tensor\n",
    "layer.variables # ==.weights; outputs both \"weights\" and biases\n",
    "layer.kernel, layer.bias"
   ]
  },
  {
   "cell_type": "markdown",
   "metadata": {},
   "source": [
    "## Custom Layer"
   ]
  },
  {
   "cell_type": "code",
   "execution_count": 11,
   "metadata": {
    "scrolled": true
   },
   "outputs": [
    {
     "data": {
      "text/plain": [
       "[<tf.Variable 'my_dense_layer_5/kernel:0' shape=(5, 10) dtype=float32, numpy=\n",
       " array([[-0.4540418 , -0.2990369 , -0.49267218,  0.5920151 ,  0.5552302 ,\n",
       "         -0.33874014, -0.4846565 ,  0.45683295,  0.06221515,  0.09293061],\n",
       "        [ 0.55107707, -0.19835633,  0.1947149 ,  0.40248817, -0.12899184,\n",
       "          0.5836112 , -0.22081095,  0.22574902,  0.2857204 , -0.2629867 ],\n",
       "        [ 0.49847072,  0.4431873 ,  0.48922926, -0.10104519, -0.43269324,\n",
       "         -0.36508268,  0.25309986,  0.12925327, -0.27615872, -0.5912008 ],\n",
       "        [ 0.2552206 , -0.35639197, -0.06904668, -0.22563031,  0.23116064,\n",
       "         -0.43270576,  0.01370054, -0.12687927,  0.5277557 ,  0.60341734],\n",
       "        [-0.4205001 ,  0.24687624,  0.55920273, -0.6234937 , -0.19329903,\n",
       "          0.4769693 ,  0.10170698, -0.24372715, -0.02214068, -0.11421496]],\n",
       "       dtype=float32)>]"
      ]
     },
     "execution_count": 11,
     "metadata": {},
     "output_type": "execute_result"
    }
   ],
   "source": [
    "class MyDenseLayer(tf.keras.layers.Layer):\n",
    "    def __init__(self, num_outputs): # does not know the input shape yet\n",
    "        super(MyDenseLayer, self).__init__()\n",
    "        self.num_outputs = num_outputs\n",
    "\n",
    "    def build(self, input_shape):    # called before call() during the first forwarding; knows input shape incl batchsize\n",
    "        self.kernel = self.add_variable(\"kernel\",   # add .kernel variable\n",
    "                                        shape=[int(input_shape[-1]),\n",
    "                                               self.num_outputs])\n",
    "\n",
    "    def call(self, inp):             # called 2nd when forwarding\n",
    "        return tf.matmul(inp, self.kernel)\n",
    "\n",
    "layer = MyDenseLayer(10)\n",
    "layer(tf.zeros([10, 5]))  # forwarding: first call .build(), then call .call()\n",
    "layer.trainable_variables"
   ]
  },
  {
   "cell_type": "code",
   "execution_count": 7,
   "metadata": {},
   "outputs": [
    {
     "name": "stdout",
     "output_type": "stream",
     "text": [
      "tf.Tensor(\n",
      "[[[[0. 0. 0.]\n",
      "   [0. 0. 0.]\n",
      "   [0. 0. 0.]]\n",
      "\n",
      "  [[0. 0. 0.]\n",
      "   [0. 0. 0.]\n",
      "   [0. 0. 0.]]]], shape=(1, 2, 3, 3), dtype=float32)\n",
      "['resnet_identity_block/conv2d/kernel:0', 'resnet_identity_block/conv2d/bias:0', 'resnet_identity_block/batch_normalization_v2/gamma:0', 'resnet_identity_block/batch_normalization_v2/beta:0', 'resnet_identity_block/conv2d_1/kernel:0', 'resnet_identity_block/conv2d_1/bias:0', 'resnet_identity_block/batch_normalization_v2_1/gamma:0', 'resnet_identity_block/batch_normalization_v2_1/beta:0', 'resnet_identity_block/conv2d_2/kernel:0', 'resnet_identity_block/conv2d_2/bias:0', 'resnet_identity_block/batch_normalization_v2_2/gamma:0', 'resnet_identity_block/batch_normalization_v2_2/beta:0']\n"
     ]
    }
   ],
   "source": [
    "# composing multiple layers to a usable layer\n",
    "class ResnetIdentityBlock(tf.keras.Model):\n",
    "    def __init__(self, kernel_size, filters):\n",
    "        super(ResnetIdentityBlock, self).__init__(name='')\n",
    "        filters1, filters2, filters3 = filters\n",
    "\n",
    "        self.conv2a = tf.keras.layers.Conv2D(filters1, (1, 1))\n",
    "        self.bn2a = tf.keras.layers.BatchNormalization()\n",
    "\n",
    "        self.conv2b = tf.keras.layers.Conv2D(filters2, kernel_size, padding='same')\n",
    "        self.bn2b = tf.keras.layers.BatchNormalization()\n",
    "\n",
    "        self.conv2c = tf.keras.layers.Conv2D(filters3, (1, 1))\n",
    "        self.bn2c = tf.keras.layers.BatchNormalization()\n",
    "\n",
    "    def call(self, input_tensor, training=False):\n",
    "        x = self.conv2a(input_tensor)\n",
    "        x = self.bn2a(x, training=training)\n",
    "        x = tf.nn.relu(x)\n",
    "\n",
    "        x = self.conv2b(x)\n",
    "        x = self.bn2b(x, training=training)\n",
    "        x = tf.nn.relu(x)\n",
    "\n",
    "        x = self.conv2c(x)\n",
    "        x = self.bn2c(x, training=training)\n",
    "\n",
    "        x += input_tensor\n",
    "        return tf.nn.relu(x)\n",
    "\n",
    "block = ResnetIdentityBlock(1, [1, 2, 3])\n",
    "print(block(tf.zeros([1, 2, 3, 3])))\n",
    "print([x.name for x in block.trainable_variables])"
   ]
  },
  {
   "cell_type": "markdown",
   "metadata": {},
   "source": [
    "## Sequential Building"
   ]
  },
  {
   "cell_type": "code",
   "execution_count": null,
   "metadata": {},
   "outputs": [],
   "source": [
    "from keras.models import Sequential\n",
    "model = Sequential()"
   ]
  },
  {
   "cell_type": "code",
   "execution_count": null,
   "metadata": {},
   "outputs": [],
   "source": [
    "from keras.layers import Dense\n",
    "model.add(Dense(512, input_shape=(96,96)))"
   ]
  },
  {
   "cell_type": "markdown",
   "metadata": {},
   "source": [
    "<a href=\"https://keras.io/layers/core/#dense\">Dense</a>(output_dim, input_shape, init, W_regularizer)\n",
    "* output_dim: Linear channel's length\n",
    "* input_shape: only necessary on first layer; otherwise is inferred internally\n",
    "* init: \"glorot_normal\"\n",
    "* W_regularizer=l2(0.1) [from keras.regularizers import l2]\n",
    "* activation: if specified, equiv to addling the Activation layer as the next item\n",
    "\n",
    "<a href=\"https://keras.io/layers/core/#activation\">Activation</a>(<a href=\"https://keras.io/activations/\">activation</a>)\n",
    "* 'relu', 'softplus', 'softsign', 'tanh', 'sigmoid', 'hard_sigmoid', 'linear', 'softmax'(3dim or 2dim)\n",
    "* custom function with 1 input & 1 output\n",
    "\n",
    "<a href=\"https://keras.io/layers/convolutional/#convolution2d\">Convolution2D</a>(nb_filter, nb_row, nb_col, init='glorot_uniform', activation='linear', weights=None, border_mode='valid', subsample=(1, 1), dim_ordering='default', W_regularizer=None, b_regularizer=None, activity_regularizer=None, W_constraint=None, b_constraint=None, bias=True)\n",
    "* Input shape: 4D tensor with shape: (samples, channels, rows, cols) if dim_ordering='th' or 4D tensor with shape: (samples, rows, cols, channels) if dim_ordering='tf'.\n",
    "\n",
    "MaxPooling2D(pool_size=pool_size)\n",
    "\n",
    "merge([tower_1, tower_2, tower_3], mode='concat', concat_axis=1)\n",
    "\n",
    "Flatten()\n",
    "\n",
    "<a href=\"https://keras.io/layers/wrappers/#timedistributed\">TimeDistributed</a>(Dense(10,input_shape))\n",
    "* input must be at least 3D (batchSize x timeSteps x DenseInput)"
   ]
  },
  {
   "cell_type": "markdown",
   "metadata": {},
   "source": [
    "## Functional API build step by step as walkthrough"
   ]
  },
  {
   "cell_type": "markdown",
   "metadata": {},
   "source": [
    "https://keras.io/getting-started/functional-api-guide/"
   ]
  },
  {
   "cell_type": "code",
   "execution_count": null,
   "metadata": {},
   "outputs": [],
   "source": [
    "from keras.layers import Input, TimeDistributed\n",
    "from keras.layers import Dense, ..."
   ]
  },
  {
   "cell_type": "code",
   "execution_count": null,
   "metadata": {},
   "outputs": [],
   "source": [
    "inputs = Input(shape=(100,), dtype='int32') #to specify input shape (excluding the first dim which is always batchsize)\n",
    "x = Dense(64, activation='relu')(inputs)\n",
    "x = Dense(64, activation='relu')(x)\n",
    "predictions = Dense(10, activation='softmax')(x)\n",
    "model = Model(input=inputs, output=predictions)"
   ]
  },
  {
   "cell_type": "code",
   "execution_count": null,
   "metadata": {},
   "outputs": [],
   "source": [
    "x = Input(shape=(dim1, dim2, dim3))\n",
    "a = TimeDistributed(LSTM(output_dim=10))(x) #apply \"LSTM\" model to each of dim1's elements\n",
    "b = LSTM(col_hidden)(a)\n",
    "prediction = Dense(nb_classes, activation='softmax')(b)\n",
    "model = Model(input=x, output=prediction)"
   ]
  },
  {
   "cell_type": "code",
   "execution_count": null,
   "metadata": {},
   "outputs": [],
   "source": [
    "model = Model(input=[main_input, auxiliary_input], output=[main_output, auxiliary_output]) #multi-input/outputs\n",
    "model.compile(optimizer='rmsprop', loss='binary_crossentropy', loss_weights=[1., 0.2])\n",
    "model.fit([headline_data, additional_data], [labels, labels],nb_epoch=50, batch_size=32)\n",
    "# if names are provided for the inputs/outputs:\n",
    "model.compile(optimizer='rmsprop',loss={'main_output': 'binary_crossentropy', 'aux_output': 'binary_crossentropy'},\n",
    "                          loss_weights={'main_output': 1., 'aux_output': 0.2})\n",
    "model.fit({'main_input': headline_data, 'aux_input': additional_data},\n",
    "          {'main_output': labels, 'aux_output': labels},\n",
    "          nb_epoch=50, batch_size=32)"
   ]
  },
  {
   "cell_type": "markdown",
   "metadata": {},
   "source": [
    "## Common Model Properties"
   ]
  },
  {
   "cell_type": "code",
   "execution_count": null,
   "metadata": {},
   "outputs": [],
   "source": [
    "model.summary()  #human-readable\n",
    "model.output_shape # shape of output\n",
    "model.trainable_variables  #list of trainable variables"
   ]
  },
  {
   "cell_type": "code",
   "execution_count": null,
   "metadata": {},
   "outputs": [],
   "source": [
    "from keras.models import model_from_json\n",
    "model.save_weights(\"model.h5\", overwrite=True)\n",
    "with open(\"model.json\", \"w\") as outfile:  #uncompiled\n",
    "    json.dump(model.to_json(), outfile)\n",
    "with open(\"model.json\", \"r\") as jfile:\n",
    "    model = model_from_json(json.load(jfile))\n",
    "model.load_weights(\"model.h5\")"
   ]
  },
  {
   "cell_type": "code",
   "execution_count": null,
   "metadata": {},
   "outputs": [],
   "source": [
    "model.add(Dense(64, activation='relu', name=\"dense_one\"))\n",
    "model.get_layer(\"dense_one\")  #get layer by name"
   ]
  },
  {
   "cell_type": "markdown",
   "metadata": {},
   "source": [
    "## Common Layer Properties"
   ]
  },
  {
   "cell_type": "code",
   "execution_count": null,
   "metadata": {},
   "outputs": [],
   "source": [
    "layer = model.layers[0]  #extract the first layer from the list of model's layers\n",
    "layer.get_weights()[0] # For \"Dense\": 0 for weights, 1 for bias\n",
    "layer.set_weights(weights) # sets the weights of the layer from a list of Numpy arrays \n",
    "layer.get_config()# returns a dictionary containing the configuration of the layer. "
   ]
  },
  {
   "cell_type": "markdown",
   "metadata": {},
   "source": [
    "If a layer has a single node (i.e. if it isn't a shared layer), you can get its input tensor, output tensor, input shape and output shape via:\n",
    "\n",
    "    layer.input\n",
    "    layer.output\n",
    "    layer.input_shape\n",
    "    layer.output_shape\n",
    "\n",
    "If the layer has multiple nodes (see: the concept of layer node and shared layers), you can use the following methods:\n",
    "\n",
    "    layer.get_input_at(node_index)\n",
    "    layer.get_output_at(node_index)\n",
    "    layer.get_input_shape_at(node_index)\n",
    "    layer.get_output_shape_at(node_index)"
   ]
  },
  {
   "cell_type": "markdown",
   "metadata": {},
   "source": [
    "## Composite model specifying inputs/outputs"
   ]
  },
  {
   "cell_type": "markdown",
   "metadata": {},
   "source": [
    "Use `keras.Model(inputs = ..., outputs = ...)` to build custom model that outputs intermediate outputs:"
   ]
  },
  {
   "cell_type": "code",
   "execution_count": null,
   "metadata": {},
   "outputs": [],
   "source": [
    "activation = keras.Model(inputs = model.input, outputs = [layer.output for layer in model.layers] )   # all intermediate outputs\n",
    "activation.predict(BatchData)  # returns len([outputs])*batchsize*height*width*convolution_Depth"
   ]
  },
  {
   "cell_type": "markdown",
   "metadata": {},
   "source": [
    "Example: Video question/answer https://www.youtube.com/watch?v=UeheTiBJ0Io"
   ]
  },
  {
   "cell_type": "code",
   "execution_count": null,
   "metadata": {},
   "outputs": [],
   "source": [
    "video = keras.layers.Input(shape=(None,100,100,3))\n",
    "cnn = keras.applications.InceptionV3(weights='imagenet',\n",
    "                                        include_top=False,\n",
    "                                        pool='avg')\n",
    "cnn.trainable = False\n",
    "encoded_frames = keras.layers.TimeDistributed(cnn)(video)\n",
    "encoded_vid = tf.layers.LSTM(256)(encoded_frames)\n",
    "\n",
    "question = keras.layers.Input(shape=100, dtype='int32')\n",
    "x = keras.layers.Embedding(10000, 256, mask_zero=True)(question) #vocab_size*embed_dim\n",
    "encoded_q = keras.layers.LSTM(128)(x)\n",
    "\n",
    "x = keras.layers.concat([encoded_vid, encoded_q])\n",
    "x = keras.layers.Dense(128, activation=tf.nn.relu)(x)\n",
    "outputs = keras.layers.Dense(1000)(x) #possible answers\n",
    "\n",
    "model = keras.Model(inputs = [video, question], outputs)\n",
    "model.compile(optimizer=tf.AdamOptimizer(),\n",
    "              loss=tf.softmax_crossentropy_with_logits)"
   ]
  },
  {
   "cell_type": "markdown",
   "metadata": {},
   "source": [
    "# Training Network"
   ]
  },
  {
   "cell_type": "markdown",
   "metadata": {},
   "source": [
    "## Custom Training"
   ]
  },
  {
   "cell_type": "code",
   "execution_count": null,
   "metadata": {
    "collapsed": true
   },
   "outputs": [],
   "source": [
    "# compute d(loss)/d(param)\n",
    "with tf.GradientTape() as tape:\n",
    "    loss = loss(model(inputs), outputs)                # forward pass with gradients recorded\n",
    "grads = tape.gradient(loss, model.trainable_variables)  # differentiate loss wrt parameters\n",
    "\n",
    "##################EITHER######################\n",
    "for i, param in enumerate(model.trainable_variables):\n",
    "    param.assign_sub(learning_alpha * grads[i])  # simple gradient descent\n",
    "##################OR##########################\n",
    "optimizer.apply_gradients(zip(grads, model.trainable_variables))"
   ]
  },
  {
   "cell_type": "markdown",
   "metadata": {},
   "source": [
    "Example:"
   ]
  },
  {
   "cell_type": "code",
   "execution_count": 114,
   "metadata": {},
   "outputs": [
    {
     "name": "stdout",
     "output_type": "stream",
     "text": [
      "2.9692693 1.9745175\n"
     ]
    }
   ],
   "source": [
    "class Model(object):                     # simple linear model y=wx+b\n",
    "    def __init__(self):\n",
    "        self.w = tf.Variable(5.0)\n",
    "        self.b = tf.Variable(0.0)\n",
    "    def __call__(self, x):               # defines behavior for model()\n",
    "        return self.w * x + self.b\n",
    "model = Model()\n",
    " \n",
    "def loss(pred, true):                    # simple mean square error\n",
    "    return tf.reduce_mean(tf.square(pred - true))\n",
    "\n",
    "inputs  = tf.random.normal(shape=[1000])\n",
    "noise   = tf.random.normal(shape=[1000])\n",
    "outputs = 3. * inputs + 2. + noise       # correct w & b\n",
    "\n",
    "for _ in range(1000):\n",
    "    with tf.GradientTape() as t:\n",
    "        train_loss = loss(model(inputs), outputs)\n",
    "    dlossdw, dlossdb = t.gradient(train_loss, [model.w, model.b])\n",
    "    model.w.assign_sub(.01 * dlossdw)    # simple gradient descent\n",
    "    model.b.assign_sub(.01 * dlossdb)\n",
    "    \n",
    "print(model.w.numpy(), model.b.numpy())"
   ]
  },
  {
   "cell_type": "markdown",
   "metadata": {},
   "source": [
    "## Custom grad + [Keras Optimizer](https://keras.io/optimizers/)"
   ]
  },
  {
   "cell_type": "code",
   "execution_count": null,
   "metadata": {},
   "outputs": [],
   "source": [
    "optimizer = keras.optimizers.RMSprop(learning_rate=0.01)\n",
    "optimizer.apply_gradients(zip(grads, [model.w, model.b]))"
   ]
  },
  {
   "cell_type": "markdown",
   "metadata": {},
   "source": [
    "Example:"
   ]
  },
  {
   "cell_type": "code",
   "execution_count": 117,
   "metadata": {},
   "outputs": [
    {
     "name": "stdout",
     "output_type": "stream",
     "text": [
      "2.974263 1.9795204\n"
     ]
    }
   ],
   "source": [
    "optimizer = keras.optimizers.RMSprop(learning_rate=0.01)\n",
    "\n",
    "class Model(object):                     # simple linear model y=wx+b\n",
    "    def __init__(self):\n",
    "        self.w = tf.Variable(5.0)\n",
    "        self.b = tf.Variable(0.0)\n",
    "    def __call__(self, x):               # defines behavior for model()\n",
    "        return self.w * x + self.b\n",
    "model = Model()\n",
    " \n",
    "def loss(pred, true):                    # simple mean square error\n",
    "    return tf.reduce_mean(tf.square(pred - true))\n",
    "\n",
    "for _ in range(1000):\n",
    "    with tf.GradientTape() as t:\n",
    "        train_loss = loss(model(inputs), outputs)\n",
    "    grads = t.gradient(train_loss, [model.w, model.b])\n",
    "    optimizer.apply_gradients(zip(grads, [model.w, model.b]))\n",
    "    \n",
    "print(model.w.numpy(), model.b.numpy())"
   ]
  },
  {
   "cell_type": "markdown",
   "metadata": {},
   "source": [
    "## Keras Loss & Optimizer"
   ]
  },
  {
   "cell_type": "code",
   "execution_count": null,
   "metadata": {},
   "outputs": [],
   "source": [
    "model.compile(loss='categorical_crossentropy',\n",
    "              optimizer=keras.optimizers.RMSprop(),\n",
    "              metrics=['accuracy']) "
   ]
  },
  {
   "cell_type": "markdown",
   "metadata": {},
   "source": [
    "[Compilation parameters](https://keras.io/models/model/):\n",
    "* [loss](https://keras.io/losses/):\n",
    "  * `categorical_crossentropy`: model output after softmax activation. y of shape (N,nclass), i.e. one-hot encoded\n",
    "  * `sparse_categorical_crossentropy`: model output after softmax activation. y of shape (N,), i.e. non-one-hot encoded\n",
    "  * `tf.keras.losses.BinaryCrossentropy(from_logits=True)`: same as above, but before softmax\n",
    "  * `tf.nn.softmax_cross_entropy_with_logits`: model output before softmax\n",
    "  * `binary_crossentropy`: model output after sigmoid activation. y is a single number\n",
    "  * `tf.nn.sigmoid_cross_entropy_with_logits`: model output before sigmoid\n",
    "  * 'mse' (mean_squared_error)\n",
    "  * 'mae'\n",
    "  * 'mape', squared_hinge, hinge, , kld (kullback_leibler_divergence),\n",
    "  * 'poisson' [Mean of (predictions - targets * log(predictions))]\n",
    "  * 'cosine_proximity'\n",
    "* [optimizer](https://keras.io/optimizers/): common parameters are clipnorm (max allowed gradient 2-norm) and clipvalue (max allowed gradient 1-norm)\n",
    "  * 'sgd' or SGD(lr=0.01, momentum=0.0, decay=0.0, nesterov=False)\n",
    "  * 'adagrad' or Adagrad(lr=0.01, epsilon=1e-08, decay=0.0)\n",
    "  * 'rmsprop' or RMSprop(lr=0.001, rho=0.9, epsilon=1e-08, decay=0.0)\n",
    "  * 'adadelta' or Adadelta(lr=1.0, rho=0.95, epsilon=1e-08, decay=0.0)\n",
    "  * 'adam' or Adam(lr=0.001, beta_1=0.9, beta_2=0.999, epsilon=1e-08, decay=0.0)\n",
    "  * 'adamax' or Adamax(lr=0.002, beta_1=0.9, beta_2=0.999, epsilon=1e-08, decay=0.0)\n",
    "  * 'nadam' or Nadam(lr=0.002, beta_1=0.9, beta_2=0.999, epsilon=1e-08, schedule_decay=0.004)\n",
    "* [metrics](https://keras.io/metrics/): list of metrics to be evaluated by the model during training and testing\n",
    "  * 'accuracy'\n",
    "* sample_weight_mode: If you need to do timestep-wise sample weighting (2D weights), set this to \"temporal\".  None defaults to sample-wise weights (1D). If the model has multiple outputs, you can use a different  sample_weight_mode on each output by passing a dictionary or a list of modes."
   ]
  },
  {
   "cell_type": "code",
   "execution_count": null,
   "metadata": {},
   "outputs": [],
   "source": [
    "# with early stopping...\n",
    "import tempfile\n",
    "_,weightsfile=tempfile.mkstemp()\n",
    "from tensorflow.keras.callbacks import EarlyStopping,ModelCheckpoint\n",
    "es=EarlyStopping(monitor='val_loss', patience=patience, verbose=1)\n",
    "mc=ModelCheckpoint(weightsfile,monitor='val_loss',save_best_only=True,save_weights_only=True,verbose=0)\n",
    "\n",
    "history = model.fit(x,y,batch_size=32, epochs=10,      # or .fit_generator() with x a generator\n",
    "                    callbacks=[es,mc], verbose=1,\n",
    "#                     validation_split=0.0,              # either this line or next line\n",
    "                    validation_data=(X_val, y_val),    # or generator yielding a tuple\n",
    "                    shuffle=True, class_weight=None, sample_weight=None)\n",
    "# loss = model.train_on_batch(xbatch,ybatch)  #returns loss\n",
    "model.load_weights(weightsfile)"
   ]
  },
  {
   "cell_type": "markdown",
   "metadata": {},
   "source": [
    "[Parameters](https://keras.io/models/model/):\n",
    "\n",
    "* `x`: Numpy array of training data, or list of Numpy arrays if the model has multiple inputs. If all inputs in the model are named, you can also pass a dictionary mapping input names to Numpy arrays.\n",
    "* `y`: Numpy array of target data, or list of Numpy arrays if the model has multiple outputs. If all outputs in the model are named, you can also pass a dictionary mapping output names to Numpy arrays.\n",
    "* `batch_size`: integer. Number of samples per gradient update.\n",
    "* `epochs`: integer, the number of times to iterate over the training data arrays.\n",
    "* `verbose`: 0, 1, or 2. Verbosity mode. 0 = silent, 1 = verbose, 2 = one log line per epoch.\n",
    "* `validation_split`: float between 0 and 1: fraction of the training data to be used as validation data. The model will set apart this fraction of the training data, will not train on it, and will evaluate the loss and any model metrics on this data at the end of each epoch.\n",
    "* `validation_data`: data on which to evaluate the loss and any model metrics at the end of each epoch. The model will not be trained on this data. This could be a tuple (x_val, y_val) or a tuple (val_x, val_y, val_sample_weights).\n",
    "* `shuffle`: boolean, whether to shuffle the training data before each epoch.\n",
    "* `class_weight`: optional dictionary mapping class indices (integers) to a weight (float) to apply to the model's loss for the samples from this class during training. This can be useful to tell the model to \"pay more attention\" to samples from an under-represented class.\n",
    "* `sample_weight`: optional array of the same length as x, containing weights to apply to the model's loss for each sample. In the case of temporal data, you can pass a 2D array with shape (samples, sequence_length), to apply a different weight to every timestep of every sample. In this case you should make sure to specify sample_weight_mode=\"temporal\" in compile().\n",
    "* `callbacks`: list of callbacks to be called during training. See callbacks."
   ]
  },
  {
   "cell_type": "code",
   "execution_count": null,
   "metadata": {},
   "outputs": [],
   "source": [
    "# General model() class\n",
    "# https://keras.io/models/model/\n",
    "evaluate(self, x, y, batch_size=32, verbose=1, sample_weight=None)   # returns  loss, metric\n",
    "predict(self, x, batch_size=32, verbose=0)\n",
    "train_on_batch(self, x, y, sample_weight=None, class_weight=None)\n",
    "test_on_batch(self, x, y, sample_weight=None)\n",
    "predict_on_batch(self, x)\n",
    "fit_generator(self, generator, steps_per_epoch,  #for infinite generator, steps_per_epoch\n",
    "              nb_epoch, verbose=1, callbacks=[], validation_data=None, nb_val_samples=None, class_weight={}, max_q_size=10, nb_worker=1, pickle_safe=False)\n",
    "evaluate_generator(self, generator, val_samples, max_q_size=10, nb_worker=1, pickle_safe=False)\n",
    "predict_generator(self, generator, val_samples, max_q_size=10, nb_worker=1, pickle_safe=False)\n",
    "get_layer(self, name=None, index=None)"
   ]
  },
  {
   "cell_type": "code",
   "execution_count": null,
   "metadata": {},
   "outputs": [],
   "source": [
    "# Sequential() only ?\n",
    "# https://keras.io/models/sequential/\n",
    "predict_classes(self, x, batch_size=32, verbose=1)\n",
    "predict_proba(self, x, batch_size=32, verbose=1)"
   ]
  },
  {
   "cell_type": "markdown",
   "metadata": {},
   "source": [
    "### Sample callbacks"
   ]
  },
  {
   "cell_type": "markdown",
   "metadata": {},
   "source": [
    "usage: `model.fit(..., callbacks=[myCallback()])`"
   ]
  },
  {
   "cell_type": "code",
   "execution_count": null,
   "metadata": {},
   "outputs": [],
   "source": [
    "#stop training once loss<.4\n",
    "class myCallback(tf.keras.callbacks.Callback):  \n",
    "    def on_epoch_end(self, epoch, logs={}):\n",
    "        if(logs.get('loss')<0.4):\n",
    "            self.model.stop_training = True"
   ]
  },
  {
   "cell_type": "code",
   "execution_count": null,
   "metadata": {},
   "outputs": [],
   "source": [
    "#log the loss and accuracy of each batch individually, instead of the epoch average\n",
    "class CollectBatchStats(tf.keras.callbacks.Callback):\n",
    "    def __init__(self):\n",
    "        self.batch_losses = []\n",
    "        self.batch_acc = []\n",
    "    def on_train_batch_end(self, batch, logs=None):\n",
    "        self.batch_losses.append(logs['loss'])\n",
    "        self.batch_acc.append(logs['acc'])\n",
    "        self.model.reset_metrics()\n",
    "    # after training, fetch history with <inst>.batch_losses"
   ]
  },
  {
   "cell_type": "markdown",
   "metadata": {},
   "source": [
    "can directly use TensorBoard, or customize methods:"
   ]
  },
  {
   "cell_type": "code",
   "execution_count": 6,
   "metadata": {},
   "outputs": [],
   "source": [
    "class ModifiedTensorBoard(tf.keras.callbacks.TensorBoard):\n",
    "\n",
    "    # Overriding init to set initial step and writer (we want one log file for all .fit() calls)\n",
    "    def __init__(self, **kwargs): # default log_dir=./logs\n",
    "        super().__init__(**kwargs)\n",
    "        self.step = 1\n",
    "        self.writer = tf.summary.FileWriter(self.log_dir)\n",
    "\n",
    "    # Overriding this method to stop creating default log writer\n",
    "    def set_model(self, model):\n",
    "        pass\n",
    "\n",
    "    # Overrided, saves logs with our step number\n",
    "    # (otherwise every .fit() will start writing from 0th step)\n",
    "    def on_epoch_end(self, epoch, logs=None):\n",
    "        self.update_stats(**logs)\n",
    "\n",
    "    # Override as we train for one batch only, no need to save anything at epoch end\n",
    "    def on_batch_end(self, batch, logs=None):\n",
    "        pass\n",
    "\n",
    "    # Overrided, so won't close writer\n",
    "    def on_train_end(self, _):\n",
    "        pass\n",
    "\n",
    "    # Custom method for saving own metrics\n",
    "    # Creates writer, writes custom metrics and closes writer\n",
    "    def update_stats(self, **stats):\n",
    "        self._write_logs(stats, self.step)\n",
    "\n",
    "# visualize history with $ tensorboard --logdir=./logs"
   ]
  },
  {
   "cell_type": "markdown",
   "metadata": {},
   "source": [
    "# Save / load"
   ]
  },
  {
   "cell_type": "markdown",
   "metadata": {},
   "source": [
    "If some custom layers in the model to be saved/loaded, add kw arg e.g. `custom_objects={'AttentionLayer': AttentionLayer}`, where `AttentionLayer` is a class object"
   ]
  },
  {
   "cell_type": "code",
   "execution_count": null,
   "metadata": {},
   "outputs": [],
   "source": [
    "#architecture + weights + optimizer state\n",
    "model.save('filepath') #single HDF5 file which will contain:\n",
    "model = keras.models.load_model('filepath') "
   ]
  },
  {
   "cell_type": "code",
   "execution_count": null,
   "metadata": {},
   "outputs": [],
   "source": [
    "#architecture only\n",
    "jstr = model.to_json()\n",
    "model = model_from_json(jstr)"
   ]
  },
  {
   "cell_type": "code",
   "execution_count": null,
   "metadata": {},
   "outputs": [],
   "source": [
    "#weights only\n",
    "model.save_weights('my_model_weights.h5')\n",
    "model.load_weights('my_model_weights.h5')\n",
    "model.load_weights('my_model_weights.h5', by_name=True) #into a different architecture, with some layers in common)"
   ]
  },
  {
   "cell_type": "markdown",
   "metadata": {},
   "source": [
    "Using `tensorflow`'s object-based saving:"
   ]
  },
  {
   "cell_type": "code",
   "execution_count": null,
   "metadata": {},
   "outputs": [],
   "source": [
    "ckpt = tf.train.Checkpoint(generator_optimizer=generator_optimizer,  #use kw to pass-in objects to be saved\n",
    "                           discriminator_optimizer=discriminator_optimizer,\n",
    "                           generator=generator,\n",
    "                           discriminator=discriminator)\n",
    "#\n",
    "ckpt.save(file_prefix = 'path/to/folder/file.pt')\n",
    "ckpt.restore(tf.train.latest_checkpoint('path/to/folder/'))\n",
    "# or\n",
    "ckpt_manager = tf.train.CheckpointManager(ckpt, '/path/to/folder', max_to_keep=5)\n",
    "if ckpt_manager.latest_checkpoint:# if a checkpoint exists, restore the latest checkpoint to resume\n",
    "    ckpt.restore(ckpt_manager.latest_checkpoint)"
   ]
  },
  {
   "cell_type": "markdown",
   "metadata": {},
   "source": [
    "## Pretrained models from Built-in "
   ]
  },
  {
   "cell_type": "code",
   "execution_count": null,
   "metadata": {
    "scrolled": true
   },
   "outputs": [],
   "source": [
    "basemodel = keras.applications.MobileNetV2(input_shape=(160,160,3), #width*height*channels\n",
    "                                           include_top=False,  #exlucde top layer (load only feature extraction layer)\n",
    "                                           weights='imagenet')\n",
    "print(basemodel.summary())"
   ]
  },
  {
   "cell_type": "code",
   "execution_count": 31,
   "metadata": {
    "scrolled": true
   },
   "outputs": [
    {
     "name": "stdout",
     "output_type": "stream",
     "text": [
      "2\n",
      "Model: \"sequential_4\"\n",
      "_________________________________________________________________\n",
      "Layer (type)                 Output Shape              Param #   \n",
      "=================================================================\n",
      "mobilenetv2_1.00_160 (Model) (None, 5, 5, 1280)        2257984   \n",
      "_________________________________________________________________\n",
      "global_average_pooling2d_4 ( (None, 1280)              0         \n",
      "_________________________________________________________________\n",
      "dense_4 (Dense)              (None, 1)                 1281      \n",
      "=================================================================\n",
      "Total params: 2,259,265\n",
      "Trainable params: 1,281\n",
      "Non-trainable params: 2,257,984\n",
      "_________________________________________________________________\n"
     ]
    }
   ],
   "source": [
    "basemodel.trainable = False                   # Freeze parameters of the feature detector\n",
    "    \n",
    "# stack with custom classifier on the top\n",
    "model = tf.keras.Sequential([\n",
    "  basemodel,\n",
    "  keras.layers.GlobalAveragePooling2D(),\n",
    "  keras.layers.Dense(1)                   # no activation    \n",
    "])    \n",
    "print(len(model.trainable_variables))     # weights & bias of two layers\n",
    "# model.compile(...)\n",
    "# model.fit(...)\n",
    "model.summary()"
   ]
  },
  {
   "cell_type": "code",
   "execution_count": null,
   "metadata": {},
   "outputs": [],
   "source": [
    "# fine-tuning: train some part (mostly top layers) of the feature extractor\n",
    "for layer in basemodel.layers[100:]:\n",
    "    layer.trainable = True\n",
    "# model.compile(...)\n",
    "# model.fit(...)"
   ]
  },
  {
   "cell_type": "markdown",
   "metadata": {},
   "source": [
    "## Pretrained models from TFHub"
   ]
  },
  {
   "cell_type": "markdown",
   "metadata": {},
   "source": [
    "https://www.tensorflow.org/alpha/tutorials/images/hub_with_keras"
   ]
  },
  {
   "cell_type": "code",
   "execution_count": 38,
   "metadata": {},
   "outputs": [
    {
     "data": {
      "image/png": "[encoded data removed]",
      "text/plain": [
       "<Figure size 432x288 with 1 Axes>"
      ]
     },
     "metadata": {
      "needs_background": "light"
     },
     "output_type": "display_data"
    }
   ],
   "source": [
    "import tensorflow_hub as hub\n",
    "url =\"https://tfhub.dev/google/tf2-preview/mobilenet_v2/classification/2\" #@param {type:\"string\"}\n",
    "\n",
    "classifier = tf.keras.Sequential([\n",
    "    hub.KerasLayer(url, input_shape=(224,224, 3))\n",
    "])\n",
    "# example\n",
    "import numpy as np\n",
    "import PIL.Image as Image\n",
    "img=keras.utils.get_file('image.jpg','https://storage.googleapis.com/download.tensorflow.org/example_images/grace_hopper.jpg')\n",
    "img=Image.open(img).resize((224,224))\n",
    "img=np.array(img)/255.0\n",
    "result = classifier.predict(img[np.newaxis, ...])  #before softmax\n",
    "\n",
    "#fetch labels & show\n",
    "import matplotlib.pylab as plt\n",
    "%matplotlib inline\n",
    "labels = tf.keras.utils.get_file('ImageNetLabels.txt','https://storage.googleapis.com/download.tensorflow.org/data/ImageNetLabels.txt')\n",
    "labels = np.array(open(labels).read().splitlines())\n",
    "plt.imshow(img)\n",
    "plt.axis('off')\n",
    "predicted_class_name = labels[np.argmax(result[0], axis=-1)]\n",
    "_ = plt.title(\"Prediction: \" + predicted_class_name.title())"
   ]
  },
  {
   "cell_type": "code",
   "execution_count": null,
   "metadata": {},
   "outputs": [],
   "source": [
    "# headless - without classification layer\n",
    "url = \"https://tfhub.dev/google/tf2-preview/mobilenet_v2/feature_vector/2\" #@param {type:\"string\"}\n",
    "feature_extractor_layer = hub.KerasLayer(url, input_shape=(224,224,3))\n",
    "feature_extractor_layer.trainable = False\n",
    "\n",
    "# stack with custom classification layer\n",
    "model = tf.keras.Sequential([\n",
    "  feature_extractor_layer,\n",
    "  layers.Dense(10, activation='softmax')   # 10 is number of classes of dataset\n",
    "])\n",
    "\n",
    "model.compile(\n",
    "  optimizer=keras.optimizers.Adam(),\n",
    "  loss='categorical_crossentropy',\n",
    "  metrics=['acc'])"
   ]
  },
  {
   "cell_type": "markdown",
   "metadata": {},
   "source": [
    "# Custom Evaluation"
   ]
  },
  {
   "cell_type": "code",
   "execution_count": null,
   "metadata": {},
   "outputs": [],
   "source": [
    "y_hat = model.predict_classes(x) #Sequential() only\n",
    "pandas.crosstab(y_hat, y_test)"
   ]
  },
  {
   "cell_type": "markdown",
   "metadata": {},
   "source": [
    "# sklearn-style interface ?"
   ]
  },
  {
   "cell_type": "code",
   "execution_count": 146,
   "metadata": {},
   "outputs": [
    {
     "name": "stderr",
     "output_type": "stream",
     "text": [
      "W0521 18:30:53.955404 4691105216 estimator.py:1799] Using temporary folder as model directory: /var/folders/r7/n9dny1wj46q8njz2gds66kqr0000gp/T/tmpsr2239n8\n"
     ]
    }
   ],
   "source": [
    "from sklearn import datasets, metrics\n",
    "\n",
    "iris = datasets.load_iris()\n",
    "\n",
    "def train_input_fn(features, labels, batch_size):\n",
    "    dataset = tf.data.Dataset.from_tensor_slices((dict(features), labels))\n",
    "    return dataset.shuffle(1000).repeat().batch(batch_size)\n",
    "train_x = {\n",
    "    '0': iris.data[:, 0],\n",
    "    '1': iris.data[:, 1],\n",
    "    '2': iris.data[:, 2],\n",
    "    '3': iris.data[:, 3],\n",
    "}\n",
    "\n",
    "my_feature_columns = []\n",
    "for key in train_x.keys():\n",
    "    my_feature_columns.append(tf.feature_column.numeric_column(key=key))\n",
    "\n",
    "clf = tf.estimator.DNNClassifier(\n",
    "    feature_columns=my_feature_columns,\n",
    "    hidden_units=[5],    # 1 hidden layers of 5 nodes\n",
    "    n_classes=3)\n",
    "\n",
    "# clf.train(input_fn=lambda: train_input_fn(train_x, iris.target, 32), steps=10000)"
   ]
  },
  {
   "cell_type": "code",
   "execution_count": null,
   "metadata": {},
   "outputs": [],
   "source": [
    "eval_result = clf.evaluate(\n",
    "    input_fn=lambda:train_input_fn(train_x, iris.target, 32))"
   ]
  },
  {
   "cell_type": "code",
   "execution_count": null,
   "metadata": {},
   "outputs": [],
   "source": [
    "print('Test set accuracy: {accuracy:0.3f}'.format(**eval_result))"
   ]
  },
  {
   "cell_type": "code",
   "execution_count": null,
   "metadata": {},
   "outputs": [],
   "source": []
  }
 ],
 "metadata": {
  "kernelspec": {
   "display_name": "Python 3",
   "language": "python",
   "name": "python3"
  },
  "language_info": {
   "codemirror_mode": {
    "name": "ipython",
    "version": 3
   },
   "file_extension": ".py",
   "mimetype": "text/x-python",
   "name": "python",
   "nbconvert_exporter": "python",
   "pygments_lexer": "ipython3",
   "version": "3.7.3"
  },
  "toc": {
   "base_numbering": 1,
   "nav_menu": {},
   "number_sections": true,
   "sideBar": true,
   "skip_h1_title": false,
   "title_cell": "Table of Contents",
   "title_sidebar": "Contents",
   "toc_cell": false,
   "toc_position": {
    "height": "calc(100% - 180px)",
    "left": "10px",
    "top": "150px",
    "width": "192px"
   },
   "toc_section_display": true,
   "toc_window_display": true
  }
 },
 "nbformat": 4,
 "nbformat_minor": 2
}
