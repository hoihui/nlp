{
 "cells": [
  {
   "cell_type": "code",
   "execution_count": 2,
   "metadata": {},
   "outputs": [],
   "source": [
    "import gym\n",
    "from gym import wrappers\n",
    "import numpy as np\n",
    "import io, base64\n",
    "from IPython.display import HTML"
   ]
  },
  {
   "cell_type": "code",
   "execution_count": 12,
   "metadata": {},
   "outputs": [],
   "source": [
    "env = gym.make('SpaceInvaders-v0')\n",
    "env = wrappers.Monitor(env, \"./gym-results\", force=True)\n",
    "env.reset()\n",
    "for _ in range(1000):\n",
    "    action = env.action_space.sample()\n",
    "    observation, reward, done, info = env.step(action)\n",
    "    if done: breakenv.close()\n",
    "\n",
    "\n",
    "video = io.open('./gym-results/openaigym.video.%s.video000000.mp4' % env.file_infix, 'r+b').read()\n",
    "encoded = base64.b64encode(video)\n",
    "HTML(data='''\n",
    "    <video width=\"360\" height=\"auto\" alt=\"test\" controls><source src=\"data:video/mp4;base64,{0}\" type=\"video/mp4\" /></video>'''\n",
    ".format(encoded.decode('ascii')))"
   ]
  },
  {
   "cell_type": "markdown",
   "metadata": {},
   "source": [
    "# Built-in"
   ]
  },
  {
   "cell_type": "markdown",
   "metadata": {},
   "source": [
    "## Mountain Car"
   ]
  },
  {
   "cell_type": "code",
   "execution_count": 9,
   "metadata": {},
   "outputs": [],
   "source": [
    "LR = 0.1\n",
    "DISCOUNT = 0.95\n",
    "EPISODES = 2000\n",
    "SHOW_EVERY = 500\n",
    "\n",
    "EPSILON = 0.5  # exploration\n",
    "START_EPSILON_DECAY = 1\n",
    "END_EPSILON_DECAY = EPISODES // 2  # no exploration after this many episodes"
   ]
  },
  {
   "cell_type": "code",
   "execution_count": null,
   "metadata": {
    "scrolled": true
   },
   "outputs": [],
   "source": [
    "# https://pythonprogramming.net/q-learning-reinforcement-learning-python-tutorial/\n",
    "env = gym.make('MountainCar-v0')\n",
    "\n",
    "print(env.observation_space.high) # ranges of observation & action\n",
    "print(env.observation_space.low)\n",
    "print(env.action_space.n)\n",
    "\n",
    "n_states = [20]*len(env.observation_space.high)  #discretize the observation space so each value takes this many possible states\n",
    "q_table = np.random.uniform(low=-2, high=0, size=(n_states+[env.action_space.n])) # (n_state, n_state, env.action_space.n)\n",
    "\n",
    "def get_discrete_state(state):\n",
    "    dis = (state-env.observation_space.low)/(env.observation_space.high-env.observation_space.low) * n_states\n",
    "    return tuple(dis.astype(np.int))  #usable to index q_table\n",
    "\n",
    "for e in range(EPISODES):\n",
    "    if e%SHOW_EVERY==0: print(e)\n",
    "    state = env.reset()                         #returns the init state\n",
    "    dis_state = get_discrete_state(state)\n",
    "    done = False\n",
    "    while not done:\n",
    "        action = np.argmax(q_table[dis_state]) if np.random.random()>EPSILON else np.random.randint(0,env.action_space.n)\n",
    "        ind =  dis_state+(action,)# tuple of 3\n",
    "        new_state, reward, done, _ = env.step(action)  # each episode, sum up rewards for all steps to judge the quality of Q table\n",
    "        new_dis_state = get_discrete_state(new_state)\n",
    "        if e%SHOW_EVERY==0: env.render()               # whether to render graphics\n",
    "\n",
    "        if not done:        # Q-learning algorithm\n",
    "            max_future_q = np.max(q_table[new_dis_state])\n",
    "            cur_q = q_table[ind] \n",
    "            new_q = (1 - LR) * cur_q + LR * (reward + DISCOUNT * max_future_q)\n",
    "            q_table[ind] = new_q\n",
    "        elif new_state[0] >= env.goal_position:\n",
    "            print(f'succedded at {e}')\n",
    "            q_table[ind] = 0\n",
    "\n",
    "        dis_state = new_dis_state\n",
    "    if e < END_EPSILON_DECAY:\n",
    "        EPSILON -= EPSILON/END_EPSILON_DECAY\n",
    "env.close()"
   ]
  },
  {
   "cell_type": "code",
   "execution_count": null,
   "metadata": {},
   "outputs": [],
   "source": []
  }
 ],
 "metadata": {
  "kernelspec": {
   "display_name": "Python 3",
   "language": "python",
   "name": "python3"
  },
  "language_info": {
   "codemirror_mode": {
    "name": "ipython",
    "version": 3
   },
   "file_extension": ".py",
   "mimetype": "text/x-python",
   "name": "python",
   "nbconvert_exporter": "python",
   "pygments_lexer": "ipython3",
   "version": "3.6.5"
  },
  "toc": {
   "base_numbering": 1,
   "nav_menu": {},
   "number_sections": true,
   "sideBar": true,
   "skip_h1_title": false,
   "title_cell": "Table of Contents",
   "title_sidebar": "Contents",
   "toc_cell": false,
   "toc_position": {},
   "toc_section_display": true,
   "toc_window_display": false
  }
 },
 "nbformat": 4,
 "nbformat_minor": 2
}
