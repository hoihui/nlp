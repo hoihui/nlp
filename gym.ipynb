{
 "cells": [
  {
   "cell_type": "code",
   "execution_count": 1,
   "metadata": {},
   "outputs": [],
   "source": [
    "import gym\n",
    "from gym import wrappers\n",
    "import numpy as np\n",
    "import io, base64"
   ]
  },
  {
   "cell_type": "code",
   "execution_count": 2,
   "metadata": {},
   "outputs": [
    {
     "name": "stdout",
     "output_type": "stream",
     "text": [
      "859\n"
     ]
    }
   ],
   "source": [
    "print(len(gym.envs.registry.all()))"
   ]
  },
  {
   "cell_type": "markdown",
   "metadata": {},
   "source": [
    "# Basics"
   ]
  },
  {
   "cell_type": "code",
   "execution_count": null,
   "metadata": {},
   "outputs": [],
   "source": [
    "env = gym.make('MountainCar-v0') #SpaceInvaders-v0, ...\n",
    "env._max_episode_steps = 200   # set how many steps to terminate the simulation (default 200)\n",
    "initstate = env.reset()      #returns the init state\n",
    "\n",
    "env.render() #to applet\n",
    "screen = env.render(mode='rgb_array')          #to numpy array (height, width, RGB)\n",
    "observation, reward, done, info = env.step(1)\n",
    "env.close()                                                #will close the rendered graphics"
   ]
  },
  {
   "cell_type": "code",
   "execution_count": 5,
   "metadata": {},
   "outputs": [
    {
     "name": "stdout",
     "output_type": "stream",
     "text": [
      "2\n",
      "Box(2,)\n",
      "False\n",
      "[-1.2  -0.07] [0.6  0.07]\n"
     ]
    },
    {
     "data": {
      "text/plain": [
       "(2,)"
      ]
     },
     "execution_count": 5,
     "metadata": {},
     "output_type": "execute_result"
    }
   ],
   "source": [
    "print(initstate.size)\n",
    "print(env.observation_space)\n",
    "print(isinstance(env.observation_space,gym.spaces.discrete.Discrete)) #test if states are discrete\n",
    "print(env.observation_space.low, env.observation_space.high) # ranges of observation & action\n",
    "env.observation_space.shape"
   ]
  },
  {
   "cell_type": "code",
   "execution_count": 4,
   "metadata": {},
   "outputs": [
    {
     "name": "stdout",
     "output_type": "stream",
     "text": [
      "Discrete(3)\n",
      "True\n",
      "3\n"
     ]
    }
   ],
   "source": [
    "print(env.action_space)\n",
    "print(isinstance(env.action_space,gym.spaces.discrete.Discrete)) #test if actions allowed are discrete\n",
    "print(env.action_space.n)  #number of possible actions\n",
    "action = env.action_space.sample()# take a random action"
   ]
  },
  {
   "cell_type": "markdown",
   "metadata": {},
   "source": [
    "## [Environment](http://gym.openai.com/envs/)-specific"
   ]
  },
  {
   "cell_type": "code",
   "execution_count": null,
   "metadata": {},
   "outputs": [],
   "source": [
    "# MountainCar-v0\n",
    "env.goal_position"
   ]
  },
  {
   "cell_type": "markdown",
   "metadata": {},
   "source": [
    "# Wrapper"
   ]
  },
  {
   "cell_type": "code",
   "execution_count": null,
   "metadata": {},
   "outputs": [],
   "source": [
    "env = wrappers.Monitor(env, \"~/gym-results\", force=True)  #record video. env has all its usual methods\n",
    "video = io.open('./gym-results/openaigym.video.%s.video000000.mp4' % env.file_infix, 'r+b').read()\n",
    "encoded = base64.b64encode(video)\n",
    "HTML(data='''\n",
    "    <video width=\"360\" height=\"auto\" alt=\"test\" controls><source src=\"data:video/mp4;base64,{0}\" type=\"video/mp4\" /></video>'''\n",
    ".format(encoded.decode('ascii')))"
   ]
  },
  {
   "cell_type": "code",
   "execution_count": 13,
   "metadata": {},
   "outputs": [
    {
     "data": {
      "text/plain": [
       "True"
      ]
     },
     "execution_count": 13,
     "metadata": {},
     "output_type": "execute_result"
    }
   ],
   "source": [
    "env = env.unwrapped  # undo the above"
   ]
  },
  {
   "cell_type": "markdown",
   "metadata": {},
   "source": [
    "# Custom environment"
   ]
  },
  {
   "cell_type": "markdown",
   "metadata": {},
   "source": [
    "must provide `reset`, `step` and `render` methods"
   ]
  },
  {
   "cell_type": "code",
   "execution_count": 13,
   "metadata": {},
   "outputs": [
    {
     "name": "stdout",
     "output_type": "stream",
     "text": [
      "None\n"
     ]
    }
   ],
   "source": [
    "#### must use the following for action_space and observation_space###\n",
    "# print(gym.spaces.Box.__doc__)\n",
    "# print(gym.spaces.Dict.__doc__)\n",
    "# print(gym.spaces.Discrete.__doc__)\n",
    "print(gym.spaces.MultiBinary.__doc__)\n",
    "# print(gym.spaces.MultiDiscrete.__doc__)\n",
    "# print(gym.spaces.Space.__doc__)\n",
    "# print(gym.spaces.Tuple.__doc__)"
   ]
  },
  {
   "cell_type": "code",
   "execution_count": 26,
   "metadata": {},
   "outputs": [],
   "source": [
    "import numpy as np\n",
    "class Catch(gym.Env):   # 1 game is 1 fruit dropped from top to bottom. agent at bottom row to catch it\n",
    "    metadata = {'render.modes': ['human']}\n",
    "\n",
    "    def __init__(self, grid_size=10,basket_size=1):\n",
    "        super(Catch, self).__init__()\n",
    "        \n",
    "        self.action_space = gym.spaces.Discrete(3)\n",
    "        self.observation_space = gym.spaces.MultiBinary(grid_size*grid_size)  # each pixel is 0 or 1\n",
    "        \n",
    "        self.grid_size = grid_size\n",
    "        self.basket_size = basket_size\n",
    "\n",
    "    def reset(self):           # Reset the state of the environment to an initial state\n",
    "        n = np.random.randint(0, self.grid_size-1)                # starting fruit_col\n",
    "        m = np.random.randint(0, self.grid_size-self.basket_size)  # starting basket col\n",
    "        self.state = np.asarray([0, n, m])                        # [fruit_row, fruit_col, basket's left end]\n",
    "        return self._observe()\n",
    "    \n",
    "    def step(self, action):    # Execute one time step within the environment\n",
    "        if action == 0:   action = -1 # move left\n",
    "        elif action == 1: action =  0 # stay\n",
    "        else:             action =  1 # move right\n",
    "        f0, f1, basket_left = self.state\n",
    "        new_basket_left = min(max(0, basket_left + action), self.grid_size-self.basket_size)\n",
    "        f0 += 1                       # fruit dropped by one pixel\n",
    "        out = np.asarray([f0, f1, new_basket_left])\n",
    "        self.state = out\n",
    "        \n",
    "        return self._observe(), self._get_reward(), self._is_over(), None # returns whole canvas, R, done?, info\n",
    "    \n",
    "    def render(self, mode='human', close=False):        # Render the environment to the screen or other forms of output\n",
    "        print(state)\n",
    "    #############################helper methods---not required by gym.env##################################\n",
    "    def _get_reward(self):   # inc/dec score only if fruit has dropped to bottom\n",
    "        fruit_row, fruit_col, basket_left = self.state\n",
    "        if fruit_row == self.grid_size-1 and basket_left <= fruit_col < basket_left+self.basket_size:\n",
    "            return 1.\n",
    "        else:\n",
    "            return 0.\n",
    "\n",
    "    def _is_over(self):    # game over if fruit dropped to bottom\n",
    "        return (self.state[0] == self.grid_size-1)\n",
    "    \n",
    "    def _observe(self):\n",
    "        im_size = (self.grid_size, self.grid_size)\n",
    "        state = self.state\n",
    "        canvas = np.zeros(im_size)\n",
    "        canvas[self.state[0], self.state[1]] = 1                          # draw fruit\n",
    "        canvas[-1, self.state[2]:self.state[2] + self.basket_size+1] = 1  # draw basket\n",
    "        return canvas.flatten()"
   ]
  },
  {
   "cell_type": "code",
   "execution_count": null,
   "metadata": {},
   "outputs": [],
   "source": []
  }
 ],
 "metadata": {
  "kernelspec": {
   "display_name": "Python 3",
   "language": "python",
   "name": "python3"
  },
  "language_info": {
   "codemirror_mode": {
    "name": "ipython",
    "version": 3
   },
   "file_extension": ".py",
   "mimetype": "text/x-python",
   "name": "python",
   "nbconvert_exporter": "python",
   "pygments_lexer": "ipython3",
   "version": "3.7.3"
  },
  "toc": {
   "base_numbering": 1,
   "nav_menu": {},
   "number_sections": true,
   "sideBar": true,
   "skip_h1_title": false,
   "title_cell": "Table of Contents",
   "title_sidebar": "Contents",
   "toc_cell": false,
   "toc_position": {},
   "toc_section_display": true,
   "toc_window_display": false
  }
 },
 "nbformat": 4,
 "nbformat_minor": 2
}
