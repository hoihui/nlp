{
 "cells": [
  {
   "cell_type": "code",
   "execution_count": 2,
   "metadata": {},
   "outputs": [],
   "source": [
    "import os,tempfile\n",
    "os.chdir(tempfile.gettempdir())"
   ]
  },
  {
   "cell_type": "markdown",
   "metadata": {},
   "source": [
    "# [sqlite3](https://www.sqlite.org/docs.html)"
   ]
  },
  {
   "cell_type": "markdown",
   "metadata": {},
   "source": [
    "[datetime](https://www.sqlite.org/lang_datefunc.html)"
   ]
  },
  {
   "cell_type": "code",
   "execution_count": 34,
   "metadata": {},
   "outputs": [
    {
     "name": "stdout",
     "output_type": "stream",
     "text": [
      "[(123, -85.4, 'txt'), (123, -85.4, 'txt'), (123, -85.4, 'txt'), (123, -85.4, 'txt'), (123, -85.4, 'txt'), (123, -85.4, 'txt'), (123, -85.4, 'txt'), (123, -85.4, 'txt'), (123, -85.4, 'txt'), (123, -85.4, 'txt'), (154, 234.435, 'text')]\n"
     ]
    }
   ],
   "source": [
    "import sqlite3\n",
    "\n",
    "conn = sqlite3.connect('tutorial.db')  #can use ':memory:'\n",
    "c = conn.cursor()\n",
    "\n",
    "def create_table():\n",
    "    c.execute(\"CREATE TABLE IF NOT EXISTS t1(nullcol NULL, intcol INTEGER, realcol REAL, textcol TEXT, blob BLOB)\") #Only 5 dtypes supported\n",
    "\n",
    "def data_entry():\n",
    "    c.execute(\"INSERT INTO t1(nullcol, intcol, realcol, textcol) VALUES(null,123,4.56,'txtstring')\")  # can change the order of columns, or with missing\n",
    "    conn.commit()\n",
    "    \n",
    "def dynamic_data_entry():\n",
    "    c.execute(\"INSERT INTO t1(nullcol, intcol, realcol, textcol, blob) VALUES (?, ?, ?, ?, ?)\", # by iterable\n",
    "              (None, 123, 4.56, 'txt','(7,8,9)'))\n",
    "    c.execute(\"INSERT INTO t1(intcol, realcol, textcol) VALUES (:i,:r,:t)\", # by dict\n",
    "              {'i':154,'r':234.435,'t':'text'})\n",
    "    conn.commit()\n",
    "\n",
    "def del_and_update():\n",
    "    c.execute('DELETE FROM t1 WHERE textcol = ?',('txtstring',))\n",
    "    c.execute('UPDATE t1 SET realcol = -85.4 WHERE intcol = 123')\n",
    "    conn.commit()\n",
    "    \n",
    "def read_from_db():\n",
    "    c.execute('SELECT intcol, realcol,textcol FROM t1 WHERE realcol > ?', (-100,))\n",
    "    data = c.fetchall()\n",
    "    print(data)\n",
    "\n",
    "\n",
    "create_table()\n",
    "data_entry()\n",
    "dynamic_data_entry()\n",
    "del_and_update()\n",
    "read_from_db()\n",
    "\n",
    "c.close()\n",
    "conn.close()"
   ]
  },
  {
   "cell_type": "markdown",
   "metadata": {},
   "source": [
    "# MySQL\n",
    "* https://dev.mysql.com/downloads/mysql/\n",
    "* https://www.w3schools.com/python/python_mysql_getstarted.asp"
   ]
  },
  {
   "cell_type": "code",
   "execution_count": null,
   "metadata": {},
   "outputs": [],
   "source": [
    "!conda install mysql"
   ]
  },
  {
   "cell_type": "code",
   "execution_count": null,
   "metadata": {},
   "outputs": [],
   "source": [
    "!pip install mysql-connector\n",
    "import mysql.connector"
   ]
  },
  {
   "cell_type": "code",
   "execution_count": null,
   "metadata": {},
   "outputs": [],
   "source": [
    "import mysql.connector\n",
    "\n",
    "mydb = mysql.connector.connect(\n",
    "  host=\"localhost\",\n",
    "  user=\"u\",\n",
    "  passwd=\"kpj0%!4lDc(R\"\n",
    ")\n",
    "\n",
    "print(mydb) "
   ]
  },
  {
   "cell_type": "code",
   "execution_count": 25,
   "metadata": {},
   "outputs": [
    {
     "name": "stdout",
     "output_type": "stream",
     "text": [
      "Requirement already satisfied: PyMySQL in /Users/hoi/opt/lib/python3.7/site-packages (0.9.3)\r\n"
     ]
    }
   ],
   "source": [
    "!pip install PyMySQL\n",
    "import pymysql.cursors"
   ]
  },
  {
   "cell_type": "markdown",
   "metadata": {},
   "source": [
    "# MongoDB\n",
    "* https://www.w3schools.com/python/python_mongodb_getstarted.asp\n",
    "* https://api.mongodb.com/python/current/tutorial.html"
   ]
  },
  {
   "cell_type": "code",
   "execution_count": 42,
   "metadata": {},
   "outputs": [
    {
     "data": {
      "text/plain": [
       "0"
      ]
     },
     "execution_count": 42,
     "metadata": {},
     "output_type": "execute_result"
    }
   ],
   "source": [
    "# !conda install -y mongodb\n",
    "os.system(f'mongod -dbpath {tempfile.mkdtemp()} &')"
   ]
  },
  {
   "cell_type": "code",
   "execution_count": 2,
   "metadata": {},
   "outputs": [],
   "source": [
    "# !pip install pymongo\n",
    "import pymongo\n",
    "from pymongo import MongoClient\n",
    "client = MongoClient('localhost', 27017)  #default -- could leave empty"
   ]
  },
  {
   "cell_type": "code",
   "execution_count": 3,
   "metadata": {},
   "outputs": [],
   "source": [
    "db = client['test_database']\n",
    "collection = db['test_collection']"
   ]
  }
 ],
 "metadata": {
  "kernelspec": {
   "display_name": "Python 3",
   "language": "python",
   "name": "python3"
  },
  "language_info": {
   "codemirror_mode": {
    "name": "ipython",
    "version": 3
   },
   "file_extension": ".py",
   "mimetype": "text/x-python",
   "name": "python",
   "nbconvert_exporter": "python",
   "pygments_lexer": "ipython3",
   "version": "3.7.4"
  },
  "toc": {
   "base_numbering": 1,
   "nav_menu": {},
   "number_sections": true,
   "sideBar": true,
   "skip_h1_title": false,
   "title_cell": "Table of Contents",
   "title_sidebar": "Contents",
   "toc_cell": false,
   "toc_position": {},
   "toc_section_display": true,
   "toc_window_display": false
  }
 },
 "nbformat": 4,
 "nbformat_minor": 2
}
